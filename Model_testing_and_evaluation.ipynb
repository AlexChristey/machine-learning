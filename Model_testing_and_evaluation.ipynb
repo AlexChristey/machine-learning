{
 "cells": [
  {
   "cell_type": "code",
   "execution_count": null,
   "id": "80344a6b",
   "metadata": {},
   "outputs": [
    {
     "ename": "",
     "evalue": "",
     "output_type": "error",
     "traceback": [
      "\u001b[1;31mFailed to start the Kernel. \n",
      "\u001b[1;31mUnable to start Kernel 'anaconda3 (Python 3.8.8)' due to connection timeout. \n",
      "\u001b[1;31mView Jupyter <a href='command:jupyter.viewOutput'>log</a> for further details."
     ]
    }
   ],
   "source": []
  },
  {
   "cell_type": "code",
   "execution_count": null,
   "id": "1b206550",
   "metadata": {},
   "outputs": [
    {
     "ename": "",
     "evalue": "",
     "output_type": "error",
     "traceback": [
      "\u001b[1;31mFailed to start the Kernel. \n",
      "\u001b[1;31mUnable to start Kernel 'anaconda3 (Python 3.8.8)' due to connection timeout. \n",
      "\u001b[1;31mView Jupyter <a href='command:jupyter.viewOutput'>log</a> for further details."
     ]
    }
   ],
   "source": [
    "# import libraries\n",
    "from numpy import mean\n",
    "from numpy import std\n",
    "from numpy import hstack\n",
    "import numpy as np\n",
    "import matplotlib.pyplot as plt\n",
    "import pandas as pd\n",
    "from sklearn.model_selection import cross_val_score\n",
    "from sklearn.model_selection import RepeatedStratifiedKFold\n",
    "from sklearn.dummy import DummyClassifier\n",
    "from sklearn.model_selection import train_test_split\n",
    "\n",
    "# reading csv files\n",
    "df =  pd.read_csv('adult.data', sep=\",\", header=None, skipinitialspace=True)\n",
    "df2 = pd.read_csv('adult.test', sep=\",\", header=None, skipinitialspace=True)\n",
    "\n",
    "# Join the data and test files together\n",
    "df = pd.concat([df, df2])\n",
    "\n",
    "# Shuffle the rows\n",
    "df = df.sample(frac=1).reset_index(drop=True)\n",
    "\n",
    "# Replace all of ? with None\n",
    "df = df.replace(['?'], [None])\n",
    "# Drop all rows with None in them\n",
    "df = df.dropna(axis=0)\n",
    "\n",
    "# Check no None values remain\n",
    "df.isnull().sum()\n",
    "\n",
    "#Adding column headers to our data \n",
    "df.columns = [\"Age\", \"Workclass\", \"Fnlwgt\", \"Education\", \"Education-num\", \"Marital-status\", \"Occupation\", \"Relationship\", \"Race\", \"Sex\", \"Capital-gain\", \"Capital-loss\", \"Hours-per-week\", \"Native-country\", \"Income\"]\n",
    "# Workclass, Fnlwgt, Race and Native-country are not worth using.\n",
    "# Education = Education num, so drop Education\n",
    "df = df.drop(columns=['Workclass', 'Race', 'Fnlwgt', 'Native-country', 'Education'])\n"
   ]
  },
  {
   "cell_type": "code",
   "execution_count": null,
   "id": "e89e44f3",
   "metadata": {},
   "outputs": [
    {
     "ename": "",
     "evalue": "",
     "output_type": "error",
     "traceback": [
      "\u001b[1;31mFailed to start the Kernel. \n",
      "\u001b[1;31mUnable to start Kernel 'anaconda3 (Python 3.8.8)' due to connection timeout. \n",
      "\u001b[1;31mView Jupyter <a href='command:jupyter.viewOutput'>log</a> for further details."
     ]
    }
   ],
   "source": [
    "#Numerically encoding occupation: Occupaiton is grouped into white collar and blue collar \n",
    "occupation_mapping_dict = {\n",
    "    \"Tech-support\" : 0,\n",
    "    \"Craft-repair\" : 1, \n",
    "    \"Other-service\" : 1, #Wasn't sure about blue or white collar for other services \n",
    "    \"Sales\" : 0, \n",
    "    \"Exec-managerial\" : 0, \n",
    "    \"Prof-specialty\" : 0, \n",
    "    \"Handlers-cleaners\" : 1, \n",
    "    \"Machine-op-inspct\" : 1, \n",
    "    \"Adm-clerical\" : 0, \n",
    "    \"Farming-fishing\" : 1, \n",
    "    \"Transport-moving\" : 1, \n",
    "    \"Priv-house-serv\" : 1, \n",
    "    \"Protective-serv\" : 1, \n",
    "    \"Armed-Forces\" : 1\n",
    "    }\n",
    "\n",
    "df[\"Occupation\"] = df[\"Occupation\"].map(occupation_mapping_dict)\n",
    "\n",
    "\n",
    "#Numerically encoding the sex variable \n",
    "sex_mapping_dict = {\n",
    "    \"Male\" : 0,\n",
    "    \"Female\" : 1\n",
    "    }\n",
    "\n",
    "df[\"Sex\"] = df[\"Sex\"].map(sex_mapping_dict)\n",
    "\n",
    "\n",
    "#Encoding income variable\n",
    "income_mapping_dict = {\n",
    "    \"<=50K\" : 0,\n",
    "    \">50K\" : 1, \n",
    "    \"<=50K.\" : 0, \n",
    "    \">50K.\" : 1\n",
    "    }\n",
    "\n",
    "df[\"Income\"] = df[\"Income\"].map(income_mapping_dict)\n",
    "df\n"
   ]
  },
  {
   "cell_type": "code",
   "execution_count": null,
   "id": "a3c8a98d",
   "metadata": {},
   "outputs": [
    {
     "ename": "",
     "evalue": "",
     "output_type": "error",
     "traceback": [
      "\u001b[1;31mFailed to start the Kernel. \n",
      "\u001b[1;31mUnable to start Kernel 'anaconda3 (Python 3.8.8)' due to connection timeout. \n",
      "\u001b[1;31mView Jupyter <a href='command:jupyter.viewOutput'>log</a> for further details."
     ]
    }
   ],
   "source": [
    "#Will now employ one-hot encoding for :  Marital Status and Relationship ; no order in their values\n",
    "df = pd.get_dummies(df, columns = ['Relationship', 'Marital-status'])"
   ]
  },
  {
   "cell_type": "code",
   "execution_count": null,
   "id": "9c7e4a4b",
   "metadata": {},
   "outputs": [
    {
     "ename": "",
     "evalue": "",
     "output_type": "error",
     "traceback": [
      "\u001b[1;31mFailed to start the Kernel. \n",
      "\u001b[1;31mUnable to start Kernel 'anaconda3 (Python 3.8.8)' due to connection timeout. \n",
      "\u001b[1;31mView Jupyter <a href='command:jupyter.viewOutput'>log</a> for further details."
     ]
    }
   ],
   "source": [
    "df['Capital-gain'].value_counts()\n",
    "# 229 values have 99,999 which is ALOT. Is this cap value? or error?"
   ]
  },
  {
   "cell_type": "code",
   "execution_count": null,
   "id": "0a2f38de",
   "metadata": {},
   "outputs": [
    {
     "ename": "",
     "evalue": "",
     "output_type": "error",
     "traceback": [
      "\u001b[1;31mFailed to start the Kernel. \n",
      "\u001b[1;31mUnable to start Kernel 'anaconda3 (Python 3.8.8)' due to connection timeout. \n",
      "\u001b[1;31mView Jupyter <a href='command:jupyter.viewOutput'>log</a> for further details."
     ]
    }
   ],
   "source": [
    "# Visualizing before feature scaling\n",
    "df['Capital-loss'].value_counts().values\n",
    "df['Capital-loss'].value_counts().index.tolist()\n",
    "\n",
    "# Capital-gain\tCapital-loss\n",
    "\n",
    "# Plotting the number of occurences of each age within the data\n",
    "plt.scatter(df['Capital-loss'].value_counts().index.tolist(), df['Capital-loss'].value_counts().values, color='black')\n",
    "plt.xlabel(\"Capital-loss\")\n",
    "plt.ylabel(\"Number of occurences\")\n",
    "plt.show()"
   ]
  },
  {
   "cell_type": "code",
   "execution_count": null,
   "id": "2395724d",
   "metadata": {},
   "outputs": [
    {
     "ename": "",
     "evalue": "",
     "output_type": "error",
     "traceback": [
      "\u001b[1;31mFailed to start the Kernel. \n",
      "\u001b[1;31mUnable to start Kernel 'anaconda3 (Python 3.8.8)' due to connection timeout. \n",
      "\u001b[1;31mView Jupyter <a href='command:jupyter.viewOutput'>log</a> for further details."
     ]
    }
   ],
   "source": [
    "# Will now do feature scaling on Capital-gaine and Capital-loss\n",
    "col_names = ['Capital-gain', 'Capital-loss']\n",
    "features = df[col_names]\n",
    "\n",
    "from sklearn.preprocessing import MinMaxScaler\n",
    "from sklearn.preprocessing import StandardScaler\n",
    "from sklearn.preprocessing import MaxAbsScaler\n",
    "from sklearn.preprocessing import RobustScaler\n",
    "from sklearn.preprocessing import QuantileTransformer\n",
    "from sklearn.preprocessing import Normalizer\n",
    "scaler = Normalizer(norm = 'l2')\n",
    "# scaler = QuantileTransformer()\n",
    "# scaler = RobustScaler()\n",
    "# scaler = MaxAbsScaler()\n",
    "# scaler = StandardScaler()\n",
    "# scaler = MinMaxScaler()\n",
    "df[col_names] = scaler.fit_transform(features.values)\n",
    "df\n"
   ]
  },
  {
   "cell_type": "code",
   "execution_count": null,
   "id": "4c76b39c",
   "metadata": {},
   "outputs": [
    {
     "ename": "",
     "evalue": "",
     "output_type": "error",
     "traceback": [
      "\u001b[1;31mFailed to start the Kernel. \n",
      "\u001b[1;31mUnable to start Kernel 'anaconda3 (Python 3.8.8)' due to connection timeout. \n",
      "\u001b[1;31mView Jupyter <a href='command:jupyter.viewOutput'>log</a> for further details."
     ]
    }
   ],
   "source": [
    "# Visualizing after feature scaling\n",
    "\n",
    "df['Capital-loss'].value_counts().values\n",
    "df['Capital-loss'].value_counts().index.tolist()\n",
    "\n",
    "# Capital-gain\tCapital-loss\n",
    "\n",
    "# Plotting the number of occurences of each age within the data\n",
    "plt.scatter(df['Capital-loss'].value_counts().index.tolist(), df['Capital-loss'].value_counts().values, color='black')\n",
    "plt.xlabel(\"Capital-loss\")\n",
    "plt.ylabel(\"Number of occurences\")\n",
    "plt.show()"
   ]
  },
  {
   "cell_type": "code",
   "execution_count": null,
   "id": "28434df9",
   "metadata": {},
   "outputs": [
    {
     "ename": "",
     "evalue": "",
     "output_type": "error",
     "traceback": [
      "\u001b[1;31mFailed to start the Kernel. \n",
      "\u001b[1;31mUnable to start Kernel 'anaconda3 (Python 3.8.8)' due to connection timeout. \n",
      "\u001b[1;31mView Jupyter <a href='command:jupyter.viewOutput'>log</a> for further details."
     ]
    }
   ],
   "source": [
    "# Split X and y\n",
    "X = df.iloc[:, [0,1,2, 3, 4, 5, 6,8,9,10,11,12,13,14,15,16,17,18,19,20]]\n",
    "y = df.iloc[:, [7]]\n",
    "\n",
    "# Split into train and test\n",
    "X_train, X_test, y_train, y_test = train_test_split(X, y.values, test_size=0.20)"
   ]
  },
  {
   "cell_type": "code",
   "execution_count": null,
   "id": "c430418b",
   "metadata": {},
   "outputs": [
    {
     "ename": "",
     "evalue": "",
     "output_type": "error",
     "traceback": [
      "\u001b[1;31mFailed to start the Kernel. \n",
      "\u001b[1;31mUnable to start Kernel 'anaconda3 (Python 3.8.8)' due to connection timeout. \n",
      "\u001b[1;31mView Jupyter <a href='command:jupyter.viewOutput'>log</a> for further details."
     ]
    }
   ],
   "source": []
  },
  {
   "cell_type": "code",
   "execution_count": null,
   "id": "ecb1d7c0",
   "metadata": {},
   "outputs": [
    {
     "ename": "",
     "evalue": "",
     "output_type": "error",
     "traceback": [
      "\u001b[1;31mFailed to start the Kernel. \n",
      "\u001b[1;31mUnable to start Kernel 'anaconda3 (Python 3.8.8)' due to connection timeout. \n",
      "\u001b[1;31mView Jupyter <a href='command:jupyter.viewOutput'>log</a> for further details."
     ]
    }
   ],
   "source": [
    "#Import Random Forest Model\n",
    "from sklearn.ensemble import RandomForestClassifier\n",
    "#Create a Classifier\n",
    "sgd_clf_7=RandomForestClassifier(n_estimators=100)\n",
    "\n",
    "# Use cross-validation\n",
    "from sklearn.model_selection import cross_val_predict\n",
    "# Use 3-fold cross-validation to make “clean” predictions on our training data\n",
    "train_data_predictions = cross_val_predict(sgd_clf_7, X_train, y_train.ravel(), cv=3)\n",
    "train_data_predictions\n",
    "\n",
    "from sklearn.metrics import confusion_matrix\n",
    "# Show confusion matrix for our classifier’s predictions\n",
    "confusion_matrix(y_train, train_data_predictions)\n"
   ]
  },
  {
   "cell_type": "code",
   "execution_count": null,
   "id": "11957c7b",
   "metadata": {},
   "outputs": [
    {
     "ename": "",
     "evalue": "",
     "output_type": "error",
     "traceback": [
      "\u001b[1;31mFailed to start the Kernel. \n",
      "\u001b[1;31mUnable to start Kernel 'anaconda3 (Python 3.8.8)' due to connection timeout. \n",
      "\u001b[1;31mView Jupyter <a href='command:jupyter.viewOutput'>log</a> for further details."
     ]
    }
   ],
   "source": [
    "from sklearn.metrics import precision_score, recall_score\n",
    "\n",
    "# Calculate and print precision and recall as percentages\n",
    "print(\"Precision: \" + str(round(precision_score(y_train, train_data_predictions)*100,1))+\"%\")\n",
    "print(\"Recall: \" + str(round(recall_score(y_train, train_data_predictions)*100,1))+\"%\")"
   ]
  },
  {
   "cell_type": "code",
   "execution_count": null,
   "id": "aa71739e",
   "metadata": {},
   "outputs": [
    {
     "ename": "",
     "evalue": "",
     "output_type": "error",
     "traceback": [
      "\u001b[1;31mFailed to start the Kernel. \n",
      "\u001b[1;31mUnable to start Kernel 'anaconda3 (Python 3.8.8)' due to connection timeout. \n",
      "\u001b[1;31mView Jupyter <a href='command:jupyter.viewOutput'>log</a> for further details."
     ]
    }
   ],
   "source": [
    "# Use cross_val_predict to get our model's decision scores for each digit it has predicted\n",
    "train_data_decision_scores = cross_val_predict(sgd_clf_7, X_train, y_train.ravel(), cv=3)\n",
    "\n",
    "from sklearn.metrics import precision_recall_curve\n",
    "\n",
    "# Obtain possible combinations of precisions, recalls, and thresholds\n",
    "precisions, recalls, thresholds = precision_recall_curve(y_train, train_data_decision_scores)"
   ]
  },
  {
   "cell_type": "code",
   "execution_count": null,
   "id": "8b624eb1",
   "metadata": {},
   "outputs": [
    {
     "ename": "",
     "evalue": "",
     "output_type": "error",
     "traceback": [
      "\u001b[1;31mFailed to start the Kernel. \n",
      "\u001b[1;31mUnable to start Kernel 'anaconda3 (Python 3.8.8)' due to connection timeout. \n",
      "\u001b[1;31mView Jupyter <a href='command:jupyter.viewOutput'>log</a> for further details."
     ]
    }
   ],
   "source": [
    "# Plotting Precision-Recall tradeoff\n",
    "\n",
    "fig, ax = plt.subplots(figsize=(11,9))\n",
    "\n",
    "# Plot decision and recall curves\n",
    "ax.plot(thresholds, precisions[:-1], label=\"Precision\")\n",
    "ax.plot(thresholds, recalls[:-1], label=\"Recall\")\n",
    "\n",
    "# Add legend to distinguish lines\n",
    "ax.legend(loc=\"center left\", fontsize=16)\n",
    "\n",
    "# Add x- and y-axis labels\n",
    "ax.set_xlabel(\"Threshold\", labelpad=20, fontsize=20)\n",
    "ax.set_ylabel(\"Precision/Recall\", labelpad=20, fontsize=20)\n",
    "\n",
    "# Set appropriate x- and y-axis limits\n",
    "ax.axis([-1000000,1000000,0,1.01])\n",
    "\n",
    "# Add title\n",
    "ax.text(x = 0, y = 1.05, s = \"Precision–recall tradeoff\", fontsize = 26, alpha = .75, ha=\"center\")\n",
    "\n",
    "# Remove gridlines\n",
    "ax.grid(False)\n",
    "\n",
    "# Set font sizes and padding for tick labels\n",
    "ax.tick_params(axis=\"x\", labelsize=14, pad=15)\n",
    "ax.tick_params(axis=\"y\", labelsize=14, pad=15)\n",
    "\n",
    "# Format y-axis to show percentages rather than decimals\n",
    "vals = ax.get_yticks()\n",
    "ax.set_yticklabels(['{:,.0%}'.format(x) for x in vals])\n",
    "\n",
    "# Plot precision and recall when threshold is equal to zero\n",
    "ax.plot([0, 0], [0.0, 0.889], \"slateblue\", linestyle=\"dashed\")\n",
    "ax.plot([-1000000, 0], [0.889, 0.889], \"slateblue\", linestyle=\"dashed\")\n",
    "ax.plot([-1000000, 0], [0.832, 0.832], \"slateblue\", linestyle=\"dashed\")\n",
    "\n",
    "# Add labels for these values\n",
    "ax.text(x = -970000, y = 0.785, s = \"Precision: 83.2%\", fontsize = 14, alpha = .75, ha=\"left\")\n",
    "ax.text(x = -970000, y = 0.91, s = \"Recall: 88.9%\", fontsize = 14, alpha = .75, ha=\"left\")\n",
    "ax.text(x = -30000, y = 0.03, s = \"Our model from earlier\\n(threshold of 0)\", fontsize = 14, alpha = .75, ha=\"right\")\n",
    "\n",
    "# Set tight layout\n",
    "plt.tight_layout()\n"
   ]
  },
  {
   "cell_type": "code",
   "execution_count": null,
   "id": "9488ec77",
   "metadata": {},
   "outputs": [
    {
     "ename": "",
     "evalue": "",
     "output_type": "error",
     "traceback": [
      "\u001b[1;31mFailed to start the Kernel. \n",
      "\u001b[1;31mUnable to start Kernel 'anaconda3 (Python 3.8.8)' due to connection timeout. \n",
      "\u001b[1;31mView Jupyter <a href='command:jupyter.viewOutput'>log</a> for further details."
     ]
    }
   ],
   "source": [
    "# Plotting precision-recall tradeoff\n",
    "\n",
    "# Set up plotting area\n",
    "fig, ax = plt.subplots(figsize=(12,9))\n",
    "\n",
    "# Plot pairs of precision and recall for differing thresholds\n",
    "ax.plot(recalls, precisions, linewidth=2)\n",
    "\n",
    "# Add x- and y-axis labels\n",
    "ax.set_xlabel(\"Recall\", labelpad=20, fontsize=20)\n",
    "ax.set_ylabel(\"Precision\", labelpad=20, fontsize=20)\n",
    "\n",
    "# Set x- and y-axis limits\n",
    "ax.axis([0, 1.005, 0, 1.005])\n",
    "\n",
    "# Remove gridlines\n",
    "ax.grid(False)\n",
    "\n",
    "# Set font sizes and padding for tick labels\n",
    "ax.tick_params(axis=\"x\", labelsize=14, pad=15)\n",
    "ax.tick_params(axis=\"y\", labelsize=14, pad=15)\n",
    "\n",
    "# Plot on the precision and recall for our SGD model with threshold of zeros\n",
    "plt.plot([0.889, 0.889], [0., 0.832], \"slateblue\", linestyle=\"dashed\")\n",
    "plt.plot([0.0, 0.889], [0.832, 0.832], \"slateblue\", linestyle=\"dashed\")\n",
    "\n",
    "# Add title\n",
    "ax.text(x = 0.5, y = 1.05, s = \"Precision–recall tradeoff\", fontsize = 26, alpha = .75, ha=\"center\")\n",
    "\n",
    "# Format axes to show percentages rather than decimals\n",
    "x_vals = ax.get_xticks()\n",
    "y_vals = ax.get_yticks()\n",
    "ax.set_xticklabels(['{:,.0%}'.format(x) for x in x_vals])\n",
    "ax.set_yticklabels(['{:,.0%}'.format(y) for y in y_vals])\n",
    "\n",
    "# Add labels for the values of precision and recall for our particular SGD model\n",
    "ax.text(x = 0.02, y = 0.785, s = \"Precision: 83.2%\", fontsize = 14, alpha = .75, ha=\"left\")\n",
    "ax.text(x = 0.74, y = 0.02, s = \"Recall: 88.9%\", fontsize = 14, alpha = .75, ha=\"left\")\n",
    "\n",
    "# Set tight layout\n",
    "plt.tight_layout()\n",
    "\n",
    "# Save figure to .png image"
   ]
  },
  {
   "cell_type": "code",
   "execution_count": null,
   "id": "ee528cbe",
   "metadata": {},
   "outputs": [
    {
     "ename": "",
     "evalue": "",
     "output_type": "error",
     "traceback": [
      "\u001b[1;31mFailed to start the Kernel. \n",
      "\u001b[1;31mUnable to start Kernel 'anaconda3 (Python 3.8.8)' due to connection timeout. \n",
      "\u001b[1;31mView Jupyter <a href='command:jupyter.viewOutput'>log</a> for further details."
     ]
    }
   ],
   "source": [
    "# Finding F1 score\n",
    "\n",
    "from sklearn.metrics import f1_score\n",
    "\n",
    "# Obtain and print F1 score as a percentage\n",
    "print(\"F1 score: \" + str(round(f1_score(y_train, train_data_predictions)*100,1))+\"%\")"
   ]
  },
  {
   "cell_type": "code",
   "execution_count": null,
   "id": "b4192d3f",
   "metadata": {},
   "outputs": [
    {
     "ename": "",
     "evalue": "",
     "output_type": "error",
     "traceback": [
      "\u001b[1;31mFailed to start the Kernel. \n",
      "\u001b[1;31mUnable to start Kernel 'anaconda3 (Python 3.8.8)' due to connection timeout. \n",
      "\u001b[1;31mView Jupyter <a href='command:jupyter.viewOutput'>log</a> for further details."
     ]
    }
   ],
   "source": [
    "# Plotting ROC curve\n",
    "\n",
    "from sklearn.metrics import roc_curve\n",
    "\n",
    "# Set up plotting area\n",
    "fig, ax = plt.subplots(figsize=(9,9))\n",
    "\n",
    "# Obtain possible combinations of true/false positive rates and thresholds\n",
    "fpr, tpr, thresholds = roc_curve(y_train, train_data_decision_scores)\n",
    "\n",
    "# Remove gridlines\n",
    "ax.grid(False)\n",
    "\n",
    "# Set font sizes and padding for tick labels\n",
    "ax.tick_params(axis=\"x\", labelsize=14, pad=15)\n",
    "ax.tick_params(axis=\"y\", labelsize=14, pad=15)\n",
    "\n",
    "# Plot random guess, 50/50 classifier\n",
    "ax.plot([0,1], [0,1], \"k--\", alpha=0.5, label=\"Randomly guessing\") \n",
    "\n",
    "# Plot perfect, omniscient classifier\n",
    "ax.plot([0.002,0.002], [0,0.998], \"slateblue\", label=\"Perfect classifier\")\n",
    "ax.plot([0.001,1], [0.998,0.998], \"slateblue\")\n",
    "\n",
    "# Plot our SGD classifier with threshold of zero\n",
    "ax.plot(fpr, tpr, label=\"Our SGD classifier\")\n",
    "\n",
    "# Set x- and y-axis limits\n",
    "ax.axis([-0.001,1.001,-0.001,1.001])\n",
    "\n",
    "# Add legend to identify each of the three models\n",
    "ax.legend(loc=\"center right\", fontsize=16)\n",
    "\n",
    "# Set x- and y-axis labels\n",
    "ax.set_xlabel(\"False Positive rate\", labelpad=20, fontsize=20)\n",
    "ax.set_ylabel(\"True Positive rate\", labelpad=20, fontsize=20)\n",
    "\n",
    "# Format axes to show percentages rather than decimals\n",
    "x_vals = ax.get_xticks()\n",
    "y_vals = ax.get_yticks()\n",
    "ax.set_xticklabels(['{:,.0%}'.format(x) for x in x_vals])\n",
    "ax.set_yticklabels(['{:,.0%}'.format(y) for y in y_vals])\n",
    "\n",
    "# Add title\n",
    "ax.text(x = 0.5, y = 1.05, s = \"ROC curve\", fontsize = 26, alpha = .75, ha=\"center\")\n",
    "\n",
    "# Add annotation\n",
    "ax.text(x = 0.3, y = 0.8, s = \"Closer to upper left\\nindicates a better model\", fontsize = 16, alpha = .75, ha=\"center\")\n",
    "\n",
    "# Set tight layout\n",
    "plt.tight_layout()\n",
    "\n",
    "# Save figure to .png image\n"
   ]
  },
  {
   "cell_type": "code",
   "execution_count": null,
   "id": "a8d7aa61",
   "metadata": {},
   "outputs": [
    {
     "ename": "",
     "evalue": "",
     "output_type": "error",
     "traceback": [
      "\u001b[1;31mFailed to start the Kernel. \n",
      "\u001b[1;31mUnable to start Kernel 'anaconda3 (Python 3.8.8)' due to connection timeout. \n",
      "\u001b[1;31mView Jupyter <a href='command:jupyter.viewOutput'>log</a> for further details."
     ]
    }
   ],
   "source": [
    "# Obtaining AUC value\n",
    "\n",
    "from sklearn.metrics import roc_auc_score\n",
    "\n",
    "# Obtain and print AUC\n",
    "print(\"Area Under Curve (AUC): \" + str(round(roc_auc_score(y_train, train_data_predictions),3)))\n",
    "\n"
   ]
  },
  {
   "cell_type": "code",
   "execution_count": null,
   "id": "75db6325",
   "metadata": {},
   "outputs": [
    {
     "ename": "",
     "evalue": "",
     "output_type": "error",
     "traceback": [
      "\u001b[1;31mFailed to start the Kernel. \n",
      "\u001b[1;31mUnable to start Kernel 'anaconda3 (Python 3.8.8)' due to connection timeout. \n",
      "\u001b[1;31mView Jupyter <a href='command:jupyter.viewOutput'>log</a> for further details."
     ]
    }
   ],
   "source": [
    "# With ['Age', 'Education', 'Occupation', 'Race', 'Sex', 'Hours-per-week', 'Native-country']:\n",
    "# Area Under Curve (AUC): 0.687\n",
    "# F1 score: 53.4%\n",
    "# Precision: 61.4%\n",
    "# Recall: 47.2%\n",
    "# Confusion matrix:\n",
    "# array([[24582,  2656],\n",
    "#        [ 4719,  4220]])"
   ]
  },
  {
   "cell_type": "code",
   "execution_count": null,
   "id": "afc103a5",
   "metadata": {},
   "outputs": [
    {
     "ename": "",
     "evalue": "",
     "output_type": "error",
     "traceback": [
      "\u001b[1;31mFailed to start the Kernel. \n",
      "\u001b[1;31mUnable to start Kernel 'anaconda3 (Python 3.8.8)' due to connection timeout. \n",
      "\u001b[1;31mView Jupyter <a href='command:jupyter.viewOutput'>log</a> for further details."
     ]
    }
   ],
   "source": [
    "# With new features determined from correlation heatmap (NO FEATURE SCALING)\n",
    "# Area Under Curve (AUC): 0.765\n",
    "# F1 score: 65.6%\n",
    "# Precision: 70.2%\n",
    "# Recall: 61.5%\n",
    "# Confusion matrix:\n",
    "# array([[24849,  2348],\n",
    "#        [ 3454,  5526]])"
   ]
  },
  {
   "cell_type": "code",
   "execution_count": null,
   "id": "703a19af",
   "metadata": {},
   "outputs": [
    {
     "ename": "",
     "evalue": "",
     "output_type": "error",
     "traceback": [
      "\u001b[1;31mFailed to start the Kernel. \n",
      "\u001b[1;31mUnable to start Kernel 'anaconda3 (Python 3.8.8)' due to connection timeout. \n",
      "\u001b[1;31mView Jupyter <a href='command:jupyter.viewOutput'>log</a> for further details."
     ]
    }
   ],
   "source": [
    "# With new features determined from correlation heatmap (MINMAX SCALING)\n",
    "# Area Under Curve (AUC): 0.762\n",
    "# F1 score: 65.2%\n",
    "# Precision: 69.8%\n",
    "# Recall: 61.1%\n",
    "# Confusion matrix:\n",
    "# array([[24782,  2382],\n",
    "#        [ 3504,  5509]])\n",
    "\n",
    "# Therefore, performed worse than without feature scaling"
   ]
  },
  {
   "cell_type": "code",
   "execution_count": null,
   "id": "5ca3a185",
   "metadata": {},
   "outputs": [
    {
     "ename": "",
     "evalue": "",
     "output_type": "error",
     "traceback": [
      "\u001b[1;31mFailed to start the Kernel. \n",
      "\u001b[1;31mUnable to start Kernel 'anaconda3 (Python 3.8.8)' due to connection timeout. \n",
      "\u001b[1;31mView Jupyter <a href='command:jupyter.viewOutput'>log</a> for further details."
     ]
    }
   ],
   "source": [
    "# With new features determined from correlation heatmap (Standard SCALING)\n",
    "# Area Under Curve (AUC): 0.769\n",
    "# F1 score: 66.2%\n",
    "# Precision: 70.5%\n",
    "# Recall: 62.4%\n",
    "# Confusion matrix:\n",
    "# array([[24864,  2340],\n",
    "#        [ 3377,  5596]])\n",
    "\n",
    "# Therefore, performed better than without feature scaling"
   ]
  },
  {
   "cell_type": "code",
   "execution_count": null,
   "id": "5d771528",
   "metadata": {},
   "outputs": [
    {
     "ename": "",
     "evalue": "",
     "output_type": "error",
     "traceback": [
      "\u001b[1;31mFailed to start the Kernel. \n",
      "\u001b[1;31mUnable to start Kernel 'anaconda3 (Python 3.8.8)' due to connection timeout. \n",
      "\u001b[1;31mView Jupyter <a href='command:jupyter.viewOutput'>log</a> for further details."
     ]
    }
   ],
   "source": [
    "# With new features determined from correlation heatmap (MaxAbs SCALING)\n",
    "# Area Under Curve (AUC): 0.764\n",
    "# F1 score: 65.5%\n",
    "# Precision: 69.6%\n",
    "# Recall: 61.8%\n",
    "# Confusion matrix:\n",
    "# array([[24731,  2434],\n",
    "#        [ 3444,  5568]])\n",
    "\n",
    "# Therefore, performed worse than Standard scaling"
   ]
  },
  {
   "cell_type": "code",
   "execution_count": null,
   "id": "8ae30f65",
   "metadata": {},
   "outputs": [
    {
     "ename": "",
     "evalue": "",
     "output_type": "error",
     "traceback": [
      "\u001b[1;31mFailed to start the Kernel. \n",
      "\u001b[1;31mUnable to start Kernel 'anaconda3 (Python 3.8.8)' due to connection timeout. \n",
      "\u001b[1;31mView Jupyter <a href='command:jupyter.viewOutput'>log</a> for further details."
     ]
    }
   ],
   "source": [
    "# Robust not as well\n",
    "# Quantile transformer not as well\n",
    "# Normalizer not as well\n",
    "\n",
    "\n",
    "\n",
    "\n",
    "# https://www.analyticsvidhya.com/blog/2020/07/types-of-feature-transformation-and-scaling/"
   ]
  },
  {
   "cell_type": "code",
   "execution_count": null,
   "id": "78b5e1fb",
   "metadata": {},
   "outputs": [
    {
     "ename": "",
     "evalue": "",
     "output_type": "error",
     "traceback": [
      "\u001b[1;31mFailed to start the Kernel. \n",
      "\u001b[1;31mUnable to start Kernel 'anaconda3 (Python 3.8.8)' due to connection timeout. \n",
      "\u001b[1;31mView Jupyter <a href='command:jupyter.viewOutput'>log</a> for further details."
     ]
    }
   ],
   "source": [
    "#Logistic regression    \n",
    "#Currently have dataset split into X_train, X_test, y_train, y_test\n",
    "#Going to test different combinations of degree of dimensionality reduction, penalty, solver method, and inverse regularisation strength (C)\n"
   ]
  },
  {
   "cell_type": "code",
   "execution_count": null,
   "id": "d1c2d867",
   "metadata": {},
   "outputs": [
    {
     "ename": "",
     "evalue": "",
     "output_type": "error",
     "traceback": [
      "\u001b[1;31mFailed to start the Kernel. \n",
      "\u001b[1;31mUnable to start Kernel 'anaconda3 (Python 3.8.8)' due to connection timeout. \n",
      "\u001b[1;31mView Jupyter <a href='command:jupyter.viewOutput'>log</a> for further details."
     ]
    }
   ],
   "source": [
    "#Importing necessary modules\n",
    "from sklearn.model_selection import RepeatedStratifiedKFold\n",
    "from sklearn.model_selection import GridSearchCV\n",
    "from sklearn.linear_model import LogisticRegression\n",
    "from sklearn.preprocessing import StandardScaler\n",
    "#Defining our model \n",
    "model = LogisticRegression()\n",
    "\n",
    "#Initialising scaler\n",
    "scaler = StandardScaler()\n",
    "\n",
    "#For logistic regresion, need to scale our data\n",
    "X_train = scaler.fit_transform(X_train)\n",
    "X_test = scaler.fit_transform(X_test\n",
    ")\n",
    "\n",
    "#Define all of our hyperparameters \n",
    "solvers = ['newton-cg', 'liblinear', 'lbfgs','newton-cholesky', 'sag', 'saga']\n",
    "penalty = ['l1', 'l2', 'elasticnet']\n",
    "c_values = [1000, 10, 1, 0.1, 0.001, 0.001]\n",
    "\n",
    "#Defining our search space \n",
    "space = dict(solver = solvers, penalty = penalty, C = c_values)\n",
    "\n",
    "#Defining our cross validation\n",
    "cv = RepeatedStratifiedKFold(n_splits = 10, n_repeats = 3, random_state = 1)\n",
    "\n",
    "#Initialising our grid search\n",
    "grid_search = GridSearchCV(estimator = model, param_grid = space, n_jobs = -1,cv=cv, scoring='accuracy',error_score=0)\n",
    "grid_result = grid_search.fit(X_train, y_train)\n",
    "\n",
    "# summarize results\n",
    "print(\"Best: %f using %s\" % (grid_result.best_score_, grid_result.best_params_))\n",
    "means = grid_result.cv_results_['mean_test_score']\n",
    "stds = grid_result.cv_results_['std_test_score']\n",
    "params = grid_result.cv_results_['params']\n",
    "for mean, stdev, param in zip(means, stds, params):\n",
    "    print(\"%f (%f) with: %r\" % (mean, stdev, param))"
   ]
  }
 ],
 "metadata": {
  "kernelspec": {
   "display_name": "Python 3",
   "language": "python",
   "name": "python3"
  },
  "language_info": {
   "codemirror_mode": {
    "name": "ipython",
    "version": 3
   },
   "file_extension": ".py",
   "mimetype": "text/x-python",
   "name": "python",
   "nbconvert_exporter": "python",
   "pygments_lexer": "ipython3",
   "version": "3.8.8 (default, Apr 13 2021, 12:59:45) \n[Clang 10.0.0 ]"
  },
  "vscode": {
   "interpreter": {
    "hash": "40d3a090f54c6569ab1632332b64b2c03c39dcf918b08424e98f38b5ae0af88f"
   }
  }
 },
 "nbformat": 4,
 "nbformat_minor": 5
}
