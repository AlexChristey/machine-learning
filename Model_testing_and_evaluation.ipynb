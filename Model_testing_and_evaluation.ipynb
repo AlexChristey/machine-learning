{
 "cells": [
  {
   "cell_type": "code",
   "execution_count": null,
   "id": "80344a6b",
   "metadata": {},
   "outputs": [],
   "source": []
  },
  {
   "cell_type": "code",
<<<<<<< HEAD
   "execution_count": 1,
=======
   "execution_count": 75,
>>>>>>> origin/master
   "id": "1b206550",
   "metadata": {},
   "outputs": [],
   "source": [
    "# import libraries\n",
    "from numpy import mean\n",
    "from numpy import std\n",
    "from numpy import hstack\n",
    "import numpy as np\n",
    "import matplotlib.pyplot as plt\n",
    "import pandas as pd\n",
    "from sklearn.model_selection import cross_val_score\n",
    "from sklearn.model_selection import RepeatedStratifiedKFold\n",
    "from sklearn.dummy import DummyClassifier\n",
    "from sklearn.model_selection import train_test_split\n",
    "from sklearn.metrics import classification_report, confusion_matrix, accuracy_score\n",
    "\n",
    "# reading csv files\n",
    "df =  pd.read_csv('adult.data', sep=\",\", header=None, skipinitialspace=True)\n",
    "df2 = pd.read_csv('adult.test', sep=\",\", header=None, skipinitialspace=True)\n",
    "\n",
    "# Join the data and test files together\n",
    "df = pd.concat([df, df2])\n",
    "\n",
    "# Shuffle the rows\n",
    "df = df.sample(frac=1).reset_index(drop=True)\n",
    "\n",
    "# Replace all of ? with None\n",
    "df = df.replace(['?'], [None])\n",
    "# Drop all rows with None in them\n",
    "df = df.dropna(axis=0)\n",
    "\n",
    "# Check no None values remain\n",
    "df.isnull().sum()\n",
    "\n",
    "#Adding column headers to our data \n",
    "df.columns = [\"Age\", \"Workclass\", \"Fnlwgt\", \"Education\", \"Education-num\", \"Marital-status\", \"Occupation\", \"Relationship\", \"Race\", \"Sex\", \"Capital-gain\", \"Capital-loss\", \"Hours-per-week\", \"Native-country\", \"Income\"]\n",
    "# Workclass, Fnlwgt, Race and Native-country are not worth using.\n",
    "# Education = Education num, so drop Education\n",
    "df = df.drop(columns=['Workclass', 'Race', 'Fnlwgt', 'Native-country', 'Education'])\n"
   ]
  },
  {
   "cell_type": "code",
<<<<<<< HEAD
   "execution_count": 2,
=======
   "execution_count": 76,
>>>>>>> origin/master
   "id": "e89e44f3",
   "metadata": {},
   "outputs": [
    {
     "data": {
      "text/html": [
       "<div>\n",
       "<style scoped>\n",
       "    .dataframe tbody tr th:only-of-type {\n",
       "        vertical-align: middle;\n",
       "    }\n",
       "\n",
       "    .dataframe tbody tr th {\n",
       "        vertical-align: top;\n",
       "    }\n",
       "\n",
       "    .dataframe thead th {\n",
       "        text-align: right;\n",
       "    }\n",
       "</style>\n",
       "<table border=\"1\" class=\"dataframe\">\n",
       "  <thead>\n",
       "    <tr style=\"text-align: right;\">\n",
       "      <th></th>\n",
       "      <th>Age</th>\n",
       "      <th>Education-num</th>\n",
       "      <th>Marital-status</th>\n",
       "      <th>Occupation</th>\n",
       "      <th>Relationship</th>\n",
       "      <th>Sex</th>\n",
       "      <th>Capital-gain</th>\n",
       "      <th>Capital-loss</th>\n",
       "      <th>Hours-per-week</th>\n",
       "      <th>Income</th>\n",
       "    </tr>\n",
       "  </thead>\n",
       "  <tbody>\n",
       "    <tr>\n",
<<<<<<< HEAD
       "      <th>0</th>\n",
       "      <td>43</td>\n",
       "      <td>13</td>\n",
       "      <td>Married-civ-spouse</td>\n",
       "      <td>0</td>\n",
       "      <td>Wife</td>\n",
=======
       "      <th>1</th>\n",
       "      <td>23</td>\n",
       "      <td>9</td>\n",
       "      <td>Never-married</td>\n",
>>>>>>> origin/master
       "      <td>1</td>\n",
       "      <td>Not-in-family</td>\n",
       "      <td>0</td>\n",
       "      <td>0</td>\n",
       "      <td>0</td>\n",
       "      <td>35</td>\n",
       "      <td>0</td>\n",
       "    </tr>\n",
       "    <tr>\n",
<<<<<<< HEAD
       "      <th>1</th>\n",
       "      <td>38</td>\n",
       "      <td>14</td>\n",
       "      <td>Married-civ-spouse</td>\n",
=======
       "      <th>2</th>\n",
       "      <td>29</td>\n",
       "      <td>9</td>\n",
       "      <td>Never-married</td>\n",
       "      <td>1</td>\n",
       "      <td>Unmarried</td>\n",
>>>>>>> origin/master
       "      <td>0</td>\n",
       "      <td>Husband</td>\n",
       "      <td>0</td>\n",
       "      <td>0</td>\n",
<<<<<<< HEAD
=======
       "      <td>45</td>\n",
>>>>>>> origin/master
       "      <td>0</td>\n",
       "      <td>50</td>\n",
       "      <td>1</td>\n",
       "    </tr>\n",
       "    <tr>\n",
<<<<<<< HEAD
       "      <th>2</th>\n",
       "      <td>27</td>\n",
       "      <td>9</td>\n",
       "      <td>Married-civ-spouse</td>\n",
       "      <td>0</td>\n",
       "      <td>Wife</td>\n",
       "      <td>1</td>\n",
       "      <td>0</td>\n",
       "      <td>1887</td>\n",
=======
       "      <th>3</th>\n",
       "      <td>59</td>\n",
       "      <td>9</td>\n",
       "      <td>Married-civ-spouse</td>\n",
       "      <td>1</td>\n",
       "      <td>Husband</td>\n",
       "      <td>0</td>\n",
       "      <td>0</td>\n",
       "      <td>0</td>\n",
>>>>>>> origin/master
       "      <td>40</td>\n",
       "      <td>1</td>\n",
       "    </tr>\n",
       "    <tr>\n",
<<<<<<< HEAD
       "      <th>3</th>\n",
       "      <td>38</td>\n",
       "      <td>4</td>\n",
       "      <td>Married-civ-spouse</td>\n",
       "      <td>1</td>\n",
       "      <td>Husband</td>\n",
       "      <td>0</td>\n",
       "      <td>0</td>\n",
       "      <td>0</td>\n",
       "      <td>40</td>\n",
       "      <td>0</td>\n",
       "    </tr>\n",
       "    <tr>\n",
       "      <th>4</th>\n",
       "      <td>41</td>\n",
       "      <td>12</td>\n",
       "      <td>Divorced</td>\n",
=======
       "      <th>4</th>\n",
       "      <td>55</td>\n",
       "      <td>13</td>\n",
       "      <td>Widowed</td>\n",
       "      <td>0</td>\n",
       "      <td>Not-in-family</td>\n",
       "      <td>1</td>\n",
       "      <td>0</td>\n",
       "      <td>0</td>\n",
       "      <td>48</td>\n",
       "      <td>0</td>\n",
       "    </tr>\n",
       "    <tr>\n",
       "      <th>5</th>\n",
       "      <td>41</td>\n",
       "      <td>9</td>\n",
       "      <td>Divorced</td>\n",
       "      <td>1</td>\n",
       "      <td>Unmarried</td>\n",
>>>>>>> origin/master
       "      <td>0</td>\n",
       "      <td>Not-in-family</td>\n",
       "      <td>0</td>\n",
       "      <td>0</td>\n",
<<<<<<< HEAD
       "      <td>0</td>\n",
=======
>>>>>>> origin/master
       "      <td>40</td>\n",
       "      <td>0</td>\n",
       "    </tr>\n",
       "    <tr>\n",
       "      <th>...</th>\n",
       "      <td>...</td>\n",
       "      <td>...</td>\n",
       "      <td>...</td>\n",
       "      <td>...</td>\n",
       "      <td>...</td>\n",
       "      <td>...</td>\n",
       "      <td>...</td>\n",
       "      <td>...</td>\n",
       "      <td>...</td>\n",
       "      <td>...</td>\n",
       "    </tr>\n",
       "    <tr>\n",
       "      <th>48837</th>\n",
<<<<<<< HEAD
       "      <td>41</td>\n",
       "      <td>14</td>\n",
       "      <td>Married-civ-spouse</td>\n",
=======
       "      <td>29</td>\n",
       "      <td>9</td>\n",
       "      <td>Separated</td>\n",
       "      <td>0</td>\n",
       "      <td>Unmarried</td>\n",
       "      <td>1</td>\n",
>>>>>>> origin/master
       "      <td>0</td>\n",
       "      <td>Husband</td>\n",
       "      <td>0</td>\n",
<<<<<<< HEAD
=======
       "      <td>40</td>\n",
>>>>>>> origin/master
       "      <td>0</td>\n",
       "      <td>0</td>\n",
       "      <td>55</td>\n",
       "      <td>1</td>\n",
       "    </tr>\n",
       "    <tr>\n",
       "      <th>48838</th>\n",
<<<<<<< HEAD
       "      <td>21</td>\n",
       "      <td>6</td>\n",
       "      <td>Divorced</td>\n",
       "      <td>1</td>\n",
       "      <td>Not-in-family</td>\n",
=======
       "      <td>18</td>\n",
       "      <td>9</td>\n",
       "      <td>Never-married</td>\n",
>>>>>>> origin/master
       "      <td>0</td>\n",
       "      <td>Own-child</td>\n",
       "      <td>1</td>\n",
       "      <td>0</td>\n",
       "      <td>0</td>\n",
       "      <td>20</td>\n",
       "      <td>0</td>\n",
       "    </tr>\n",
       "    <tr>\n",
       "      <th>48839</th>\n",
<<<<<<< HEAD
       "      <td>32</td>\n",
       "      <td>9</td>\n",
=======
       "      <td>37</td>\n",
       "      <td>10</td>\n",
>>>>>>> origin/master
       "      <td>Married-civ-spouse</td>\n",
       "      <td>1</td>\n",
       "      <td>Husband</td>\n",
       "      <td>0</td>\n",
<<<<<<< HEAD
       "      <td>0</td>\n",
       "      <td>0</td>\n",
       "      <td>45</td>\n",
=======
       "      <td>5178</td>\n",
>>>>>>> origin/master
       "      <td>0</td>\n",
       "      <td>75</td>\n",
       "      <td>1</td>\n",
       "    </tr>\n",
       "    <tr>\n",
       "      <th>48840</th>\n",
<<<<<<< HEAD
       "      <td>53</td>\n",
       "      <td>13</td>\n",
       "      <td>Never-married</td>\n",
       "      <td>0</td>\n",
       "      <td>Not-in-family</td>\n",
=======
       "      <td>33</td>\n",
       "      <td>10</td>\n",
       "      <td>Married-civ-spouse</td>\n",
>>>>>>> origin/master
       "      <td>0</td>\n",
       "      <td>Wife</td>\n",
       "      <td>1</td>\n",
       "      <td>0</td>\n",
<<<<<<< HEAD
       "      <td>0</td>\n",
       "      <td>42</td>\n",
=======
>>>>>>> origin/master
       "      <td>0</td>\n",
       "      <td>40</td>\n",
       "      <td>1</td>\n",
       "    </tr>\n",
       "    <tr>\n",
       "      <th>48841</th>\n",
<<<<<<< HEAD
       "      <td>18</td>\n",
       "      <td>7</td>\n",
=======
       "      <td>34</td>\n",
       "      <td>9</td>\n",
>>>>>>> origin/master
       "      <td>Never-married</td>\n",
       "      <td>1</td>\n",
       "      <td>Not-in-family</td>\n",
       "      <td>1</td>\n",
       "      <td>0</td>\n",
       "      <td>0</td>\n",
<<<<<<< HEAD
       "      <td>15</td>\n",
=======
       "      <td>25</td>\n",
>>>>>>> origin/master
       "      <td>0</td>\n",
       "    </tr>\n",
       "  </tbody>\n",
       "</table>\n",
       "<p>45222 rows × 10 columns</p>\n",
       "</div>"
      ],
      "text/plain": [
       "       Age  Education-num      Marital-status  Occupation   Relationship  Sex  \\\n",
<<<<<<< HEAD
       "0       43             13  Married-civ-spouse           0           Wife    1   \n",
       "1       38             14  Married-civ-spouse           0        Husband    0   \n",
       "2       27              9  Married-civ-spouse           0           Wife    1   \n",
       "3       38              4  Married-civ-spouse           1        Husband    0   \n",
       "4       41             12            Divorced           0  Not-in-family    0   \n",
       "...    ...            ...                 ...         ...            ...  ...   \n",
       "48837   41             14  Married-civ-spouse           0        Husband    0   \n",
       "48838   21              6            Divorced           1  Not-in-family    0   \n",
       "48839   32              9  Married-civ-spouse           1        Husband    0   \n",
       "48840   53             13       Never-married           0  Not-in-family    0   \n",
       "48841   18              7       Never-married           1      Own-child    1   \n",
       "\n",
       "       Capital-gain  Capital-loss  Hours-per-week  Income  \n",
       "0                 0             0              35       0  \n",
       "1                 0             0              50       1  \n",
       "2                 0          1887              40       1  \n",
       "3                 0             0              40       0  \n",
       "4                 0             0              40       0  \n",
       "...             ...           ...             ...     ...  \n",
       "48837             0             0              55       1  \n",
       "48838             0             0              40       0  \n",
       "48839             0             0              45       0  \n",
       "48840             0             0              42       0  \n",
       "48841             0             0              15       0  \n",
=======
       "1       23              9       Never-married           1  Not-in-family    0   \n",
       "2       29              9       Never-married           1      Unmarried    0   \n",
       "3       59              9  Married-civ-spouse           1        Husband    0   \n",
       "4       55             13             Widowed           0  Not-in-family    1   \n",
       "5       41              9            Divorced           1      Unmarried    0   \n",
       "...    ...            ...                 ...         ...            ...  ...   \n",
       "48837   29              9           Separated           0      Unmarried    1   \n",
       "48838   18              9       Never-married           0      Own-child    1   \n",
       "48839   37             10  Married-civ-spouse           1        Husband    0   \n",
       "48840   33             10  Married-civ-spouse           0           Wife    1   \n",
       "48841   34              9       Never-married           1  Not-in-family    1   \n",
       "\n",
       "       Capital-gain  Capital-loss  Hours-per-week  Income  \n",
       "1                 0             0              40       0  \n",
       "2                 0             0              45       0  \n",
       "3                 0             0              40       1  \n",
       "4                 0             0              48       0  \n",
       "5                 0             0              40       0  \n",
       "...             ...           ...             ...     ...  \n",
       "48837             0             0              40       0  \n",
       "48838             0             0              20       0  \n",
       "48839          5178             0              75       1  \n",
       "48840             0             0              40       1  \n",
       "48841             0             0              25       0  \n",
>>>>>>> origin/master
       "\n",
       "[45222 rows x 10 columns]"
      ]
     },
<<<<<<< HEAD
     "execution_count": 2,
=======
     "execution_count": 76,
>>>>>>> origin/master
     "metadata": {},
     "output_type": "execute_result"
    }
   ],
   "source": [
    "#Numerically encoding occupation: Occupaiton is grouped into white collar and blue collar \n",
    "occupation_mapping_dict = {\n",
    "    \"Tech-support\" : 0,\n",
    "    \"Craft-repair\" : 1, \n",
    "    \"Other-service\" : 1, #Wasn't sure about blue or white collar for other services \n",
    "    \"Sales\" : 0, \n",
    "    \"Exec-managerial\" : 0, \n",
    "    \"Prof-specialty\" : 0, \n",
    "    \"Handlers-cleaners\" : 1, \n",
    "    \"Machine-op-inspct\" : 1, \n",
    "    \"Adm-clerical\" : 0, \n",
    "    \"Farming-fishing\" : 1, \n",
    "    \"Transport-moving\" : 1, \n",
    "    \"Priv-house-serv\" : 1, \n",
    "    \"Protective-serv\" : 1, \n",
    "    \"Armed-Forces\" : 1\n",
    "    }\n",
    "\n",
    "df[\"Occupation\"] = df[\"Occupation\"].map(occupation_mapping_dict)\n",
    "\n",
    "\n",
    "#Numerically encoding the sex variable \n",
    "sex_mapping_dict = {\n",
    "    \"Male\" : 0,\n",
    "    \"Female\" : 1\n",
    "    }\n",
    "\n",
    "df[\"Sex\"] = df[\"Sex\"].map(sex_mapping_dict)\n",
    "\n",
    "\n",
    "#Encoding income variable\n",
    "income_mapping_dict = {\n",
    "    \"<=50K\" : 0,\n",
    "    \">50K\" : 1, \n",
    "    \"<=50K.\" : 0, \n",
    "    \">50K.\" : 1\n",
    "    }\n",
    "\n",
    "df[\"Income\"] = df[\"Income\"].map(income_mapping_dict)\n",
    "\n",
    "\n",
    "# FOR MODELS\n",
    "# Group ages into discrete bins for models\n",
    "bins = [10,20,30,40,50,60,70,80,90]\n",
    "names = ['0', '1', '2', '3', '4', '5', '6', '7']\n",
    "df['Age'] = pd.cut(df['Age'], bins, labels = names)\n",
    "\n",
    "\n",
    "\n",
    "df\n"
   ]
  },
  {
   "cell_type": "code",
<<<<<<< HEAD
   "execution_count": 3,
=======
   "execution_count": 77,
>>>>>>> origin/master
   "id": "a3c8a98d",
   "metadata": {},
   "outputs": [],
   "source": [
    "#Will now employ one-hot encoding for :  Marital Status and Relationship ; no order in their values\n",
    "df = pd.get_dummies(df, columns = ['Relationship', 'Marital-status'])"
   ]
  },
  {
   "cell_type": "code",
<<<<<<< HEAD
   "execution_count": 4,
   "id": "9c7e4a4b",
=======
   "execution_count": 78,
   "id": "a872cd88",
>>>>>>> origin/master
   "metadata": {},
   "outputs": [
    {
     "data": {
      "text/plain": [
       "0        41432\n",
       "15024      498\n",
       "7688       391\n",
       "7298       351\n",
       "99999      229\n",
       "         ...  \n",
       "7262         1\n",
       "1639         1\n",
       "2387         1\n",
       "1731         1\n",
       "22040        1\n",
       "Name: Capital-gain, Length: 121, dtype: int64"
      ]
     },
<<<<<<< HEAD
     "execution_count": 4,
=======
     "execution_count": 78,
>>>>>>> origin/master
     "metadata": {},
     "output_type": "execute_result"
    }
   ],
   "source": [
    "df['Capital-gain'].value_counts()\n",
    "# 229 values have 99,999 which is ALOT. Is this cap value? or error?"
   ]
  },
  {
   "cell_type": "code",
<<<<<<< HEAD
   "execution_count": 5,
   "id": "0a2f38de",
=======
   "execution_count": 79,
   "id": "bd0ab950",
>>>>>>> origin/master
   "metadata": {},
   "outputs": [
    {
     "data": {
      "image/png": "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",
      "text/plain": [
       "<Figure size 432x288 with 1 Axes>"
      ]
     },
     "metadata": {
      "needs_background": "light"
     },
     "output_type": "display_data"
    }
   ],
   "source": [
    "# Visualizing before feature scaling\n",
    "df['Capital-loss'].value_counts().values\n",
    "df['Capital-loss'].value_counts().index.tolist()\n",
    "\n",
    "# Capital-gain\tCapital-loss\n",
    "\n",
    "# Plotting the number of occurences of each age within the data\n",
    "plt.scatter(df['Capital-loss'].value_counts().index.tolist(), df['Capital-loss'].value_counts().values, color='black')\n",
    "plt.xlabel(\"Capital-loss\")\n",
    "plt.ylabel(\"Number of occurences\")\n",
    "plt.show()"
   ]
  },
  {
   "cell_type": "code",
<<<<<<< HEAD
   "execution_count": 6,
   "id": "2395724d",
=======
   "execution_count": 80,
   "id": "aac044f8",
>>>>>>> origin/master
   "metadata": {},
   "outputs": [
    {
     "data": {
      "text/html": [
       "<div>\n",
       "<style scoped>\n",
       "    .dataframe tbody tr th:only-of-type {\n",
       "        vertical-align: middle;\n",
       "    }\n",
       "\n",
       "    .dataframe tbody tr th {\n",
       "        vertical-align: top;\n",
       "    }\n",
       "\n",
       "    .dataframe thead th {\n",
       "        text-align: right;\n",
       "    }\n",
       "</style>\n",
       "<table border=\"1\" class=\"dataframe\">\n",
       "  <thead>\n",
       "    <tr style=\"text-align: right;\">\n",
       "      <th></th>\n",
       "      <th>Age</th>\n",
       "      <th>Education-num</th>\n",
       "      <th>Occupation</th>\n",
       "      <th>Sex</th>\n",
       "      <th>Capital-gain</th>\n",
       "      <th>Capital-loss</th>\n",
       "      <th>Hours-per-week</th>\n",
       "      <th>Income</th>\n",
       "      <th>Relationship_Husband</th>\n",
       "      <th>Relationship_Not-in-family</th>\n",
       "      <th>...</th>\n",
       "      <th>Relationship_Own-child</th>\n",
       "      <th>Relationship_Unmarried</th>\n",
       "      <th>Relationship_Wife</th>\n",
       "      <th>Marital-status_Divorced</th>\n",
       "      <th>Marital-status_Married-AF-spouse</th>\n",
       "      <th>Marital-status_Married-civ-spouse</th>\n",
       "      <th>Marital-status_Married-spouse-absent</th>\n",
       "      <th>Marital-status_Never-married</th>\n",
       "      <th>Marital-status_Separated</th>\n",
       "      <th>Marital-status_Widowed</th>\n",
       "    </tr>\n",
       "  </thead>\n",
       "  <tbody>\n",
       "    <tr>\n",
<<<<<<< HEAD
       "      <th>0</th>\n",
       "      <td>43</td>\n",
       "      <td>13</td>\n",
       "      <td>0</td>\n",
       "      <td>1</td>\n",
       "      <td>0.0</td>\n",
       "      <td>0.0</td>\n",
       "      <td>35</td>\n",
=======
       "      <th>1</th>\n",
       "      <td>23</td>\n",
       "      <td>9</td>\n",
       "      <td>1</td>\n",
>>>>>>> origin/master
       "      <td>0</td>\n",
       "      <td>-0.146733</td>\n",
       "      <td>-0.21878</td>\n",
       "      <td>40</td>\n",
       "      <td>0</td>\n",
       "      <td>0</td>\n",
       "      <td>1</td>\n",
       "      <td>...</td>\n",
       "      <td>0</td>\n",
       "      <td>0</td>\n",
       "      <td>1</td>\n",
       "      <td>0</td>\n",
       "      <td>0</td>\n",
       "      <td>1</td>\n",
       "      <td>0</td>\n",
       "      <td>0</td>\n",
       "      <td>0</td>\n",
<<<<<<< HEAD
       "      <td>0</td>\n",
       "    </tr>\n",
       "    <tr>\n",
       "      <th>1</th>\n",
       "      <td>38</td>\n",
       "      <td>14</td>\n",
       "      <td>0</td>\n",
       "      <td>0</td>\n",
       "      <td>0.0</td>\n",
       "      <td>0.0</td>\n",
       "      <td>50</td>\n",
       "      <td>1</td>\n",
       "      <td>1</td>\n",
       "      <td>0</td>\n",
       "      <td>...</td>\n",
=======
       "      <td>1</td>\n",
       "      <td>0</td>\n",
       "      <td>0</td>\n",
       "    </tr>\n",
       "    <tr>\n",
       "      <th>2</th>\n",
       "      <td>29</td>\n",
       "      <td>9</td>\n",
       "      <td>1</td>\n",
       "      <td>0</td>\n",
       "      <td>-0.146733</td>\n",
       "      <td>-0.21878</td>\n",
       "      <td>45</td>\n",
       "      <td>0</td>\n",
       "      <td>0</td>\n",
       "      <td>0</td>\n",
       "      <td>...</td>\n",
       "      <td>0</td>\n",
       "      <td>1</td>\n",
>>>>>>> origin/master
       "      <td>0</td>\n",
       "      <td>0</td>\n",
       "      <td>0</td>\n",
       "      <td>0</td>\n",
       "      <td>0</td>\n",
       "      <td>1</td>\n",
       "      <td>0</td>\n",
       "      <td>0</td>\n",
       "      <td>0</td>\n",
       "      <td>0</td>\n",
       "    </tr>\n",
       "    <tr>\n",
<<<<<<< HEAD
       "      <th>2</th>\n",
       "      <td>27</td>\n",
       "      <td>9</td>\n",
       "      <td>0</td>\n",
       "      <td>1</td>\n",
       "      <td>0.0</td>\n",
       "      <td>1.0</td>\n",
       "      <td>40</td>\n",
       "      <td>1</td>\n",
       "      <td>0</td>\n",
       "      <td>0</td>\n",
       "      <td>...</td>\n",
       "      <td>0</td>\n",
       "      <td>0</td>\n",
       "      <td>1</td>\n",
=======
       "      <th>3</th>\n",
       "      <td>59</td>\n",
       "      <td>9</td>\n",
       "      <td>1</td>\n",
       "      <td>0</td>\n",
       "      <td>-0.146733</td>\n",
       "      <td>-0.21878</td>\n",
       "      <td>40</td>\n",
       "      <td>1</td>\n",
       "      <td>1</td>\n",
       "      <td>0</td>\n",
       "      <td>...</td>\n",
       "      <td>0</td>\n",
       "      <td>0</td>\n",
       "      <td>0</td>\n",
>>>>>>> origin/master
       "      <td>0</td>\n",
       "      <td>0</td>\n",
       "      <td>1</td>\n",
       "      <td>0</td>\n",
       "      <td>0</td>\n",
       "      <td>0</td>\n",
       "      <td>0</td>\n",
       "    </tr>\n",
       "    <tr>\n",
<<<<<<< HEAD
       "      <th>3</th>\n",
       "      <td>38</td>\n",
       "      <td>4</td>\n",
       "      <td>1</td>\n",
       "      <td>0</td>\n",
       "      <td>0.0</td>\n",
       "      <td>0.0</td>\n",
       "      <td>40</td>\n",
=======
       "      <th>4</th>\n",
       "      <td>55</td>\n",
       "      <td>13</td>\n",
       "      <td>0</td>\n",
       "      <td>1</td>\n",
       "      <td>-0.146733</td>\n",
       "      <td>-0.21878</td>\n",
       "      <td>48</td>\n",
       "      <td>0</td>\n",
>>>>>>> origin/master
       "      <td>0</td>\n",
       "      <td>1</td>\n",
       "      <td>...</td>\n",
       "      <td>0</td>\n",
       "      <td>0</td>\n",
       "      <td>0</td>\n",
       "      <td>0</td>\n",
       "      <td>0</td>\n",
       "      <td>0</td>\n",
       "      <td>0</td>\n",
       "      <td>0</td>\n",
       "      <td>0</td>\n",
       "      <td>1</td>\n",
       "    </tr>\n",
       "    <tr>\n",
<<<<<<< HEAD
       "      <th>4</th>\n",
       "      <td>41</td>\n",
       "      <td>12</td>\n",
       "      <td>0</td>\n",
       "      <td>0</td>\n",
       "      <td>0.0</td>\n",
       "      <td>0.0</td>\n",
       "      <td>40</td>\n",
       "      <td>0</td>\n",
       "      <td>0</td>\n",
       "      <td>1</td>\n",
=======
       "      <th>5</th>\n",
       "      <td>41</td>\n",
       "      <td>9</td>\n",
       "      <td>1</td>\n",
       "      <td>0</td>\n",
       "      <td>-0.146733</td>\n",
       "      <td>-0.21878</td>\n",
       "      <td>40</td>\n",
       "      <td>0</td>\n",
       "      <td>0</td>\n",
       "      <td>0</td>\n",
>>>>>>> origin/master
       "      <td>...</td>\n",
       "      <td>0</td>\n",
       "      <td>1</td>\n",
       "      <td>0</td>\n",
       "      <td>1</td>\n",
       "      <td>0</td>\n",
       "      <td>1</td>\n",
       "      <td>0</td>\n",
       "      <td>0</td>\n",
       "      <td>0</td>\n",
       "      <td>0</td>\n",
       "      <td>0</td>\n",
       "      <td>0</td>\n",
       "    </tr>\n",
       "    <tr>\n",
       "      <th>...</th>\n",
       "      <td>...</td>\n",
       "      <td>...</td>\n",
       "      <td>...</td>\n",
       "      <td>...</td>\n",
       "      <td>...</td>\n",
       "      <td>...</td>\n",
       "      <td>...</td>\n",
       "      <td>...</td>\n",
       "      <td>...</td>\n",
       "      <td>...</td>\n",
       "      <td>...</td>\n",
       "      <td>...</td>\n",
       "      <td>...</td>\n",
       "      <td>...</td>\n",
       "      <td>...</td>\n",
       "      <td>...</td>\n",
       "      <td>...</td>\n",
       "      <td>...</td>\n",
       "      <td>...</td>\n",
       "      <td>...</td>\n",
       "      <td>...</td>\n",
       "    </tr>\n",
       "    <tr>\n",
       "      <th>48837</th>\n",
<<<<<<< HEAD
       "      <td>41</td>\n",
       "      <td>14</td>\n",
       "      <td>0</td>\n",
=======
       "      <td>29</td>\n",
       "      <td>9</td>\n",
>>>>>>> origin/master
       "      <td>0</td>\n",
       "      <td>0.0</td>\n",
       "      <td>0.0</td>\n",
       "      <td>55</td>\n",
       "      <td>1</td>\n",
<<<<<<< HEAD
       "      <td>1</td>\n",
       "      <td>0</td>\n",
       "      <td>...</td>\n",
=======
       "      <td>-0.146733</td>\n",
       "      <td>-0.21878</td>\n",
       "      <td>40</td>\n",
>>>>>>> origin/master
       "      <td>0</td>\n",
       "      <td>0</td>\n",
       "      <td>0</td>\n",
       "      <td>...</td>\n",
       "      <td>0</td>\n",
       "      <td>1</td>\n",
       "      <td>0</td>\n",
       "      <td>0</td>\n",
       "      <td>1</td>\n",
       "      <td>0</td>\n",
       "      <td>0</td>\n",
       "      <td>0</td>\n",
       "      <td>0</td>\n",
<<<<<<< HEAD
       "    </tr>\n",
       "    <tr>\n",
       "      <th>48838</th>\n",
       "      <td>21</td>\n",
       "      <td>6</td>\n",
=======
       "      <td>1</td>\n",
       "      <td>0</td>\n",
       "    </tr>\n",
       "    <tr>\n",
       "      <th>48838</th>\n",
       "      <td>18</td>\n",
       "      <td>9</td>\n",
       "      <td>0</td>\n",
>>>>>>> origin/master
       "      <td>1</td>\n",
       "      <td>-0.146733</td>\n",
       "      <td>-0.21878</td>\n",
       "      <td>20</td>\n",
       "      <td>0</td>\n",
       "      <td>0</td>\n",
       "      <td>0</td>\n",
       "      <td>...</td>\n",
       "      <td>1</td>\n",
       "      <td>0</td>\n",
       "      <td>1</td>\n",
       "      <td>0</td>\n",
       "      <td>0</td>\n",
       "      <td>0</td>\n",
       "      <td>0</td>\n",
       "      <td>0</td>\n",
       "      <td>0</td>\n",
       "      <td>0</td>\n",
       "    </tr>\n",
       "    <tr>\n",
       "      <th>48839</th>\n",
<<<<<<< HEAD
       "      <td>32</td>\n",
       "      <td>9</td>\n",
       "      <td>1</td>\n",
       "      <td>0</td>\n",
       "      <td>0.0</td>\n",
       "      <td>0.0</td>\n",
       "      <td>45</td>\n",
       "      <td>0</td>\n",
=======
       "      <td>37</td>\n",
       "      <td>10</td>\n",
       "      <td>1</td>\n",
       "      <td>0</td>\n",
       "      <td>0.543083</td>\n",
       "      <td>-0.21878</td>\n",
       "      <td>75</td>\n",
       "      <td>1</td>\n",
>>>>>>> origin/master
       "      <td>1</td>\n",
       "      <td>0</td>\n",
       "      <td>...</td>\n",
       "      <td>0</td>\n",
       "      <td>0</td>\n",
       "      <td>0</td>\n",
       "      <td>0</td>\n",
       "      <td>0</td>\n",
       "      <td>1</td>\n",
       "      <td>0</td>\n",
       "      <td>0</td>\n",
       "      <td>0</td>\n",
       "      <td>0</td>\n",
       "    </tr>\n",
       "    <tr>\n",
       "      <th>48840</th>\n",
<<<<<<< HEAD
       "      <td>53</td>\n",
       "      <td>13</td>\n",
       "      <td>0</td>\n",
       "      <td>0</td>\n",
       "      <td>0.0</td>\n",
       "      <td>0.0</td>\n",
       "      <td>42</td>\n",
=======
       "      <td>33</td>\n",
       "      <td>10</td>\n",
       "      <td>0</td>\n",
       "      <td>1</td>\n",
       "      <td>-0.146733</td>\n",
       "      <td>-0.21878</td>\n",
       "      <td>40</td>\n",
       "      <td>1</td>\n",
>>>>>>> origin/master
       "      <td>0</td>\n",
       "      <td>0</td>\n",
       "      <td>1</td>\n",
       "      <td>...</td>\n",
       "      <td>0</td>\n",
       "      <td>0</td>\n",
<<<<<<< HEAD
       "      <td>0</td>\n",
=======
       "      <td>1</td>\n",
>>>>>>> origin/master
       "      <td>0</td>\n",
       "      <td>0</td>\n",
       "      <td>1</td>\n",
       "      <td>0</td>\n",
       "      <td>0</td>\n",
       "      <td>1</td>\n",
       "      <td>0</td>\n",
       "      <td>0</td>\n",
       "    </tr>\n",
       "    <tr>\n",
       "      <th>48841</th>\n",
<<<<<<< HEAD
       "      <td>18</td>\n",
       "      <td>7</td>\n",
       "      <td>1</td>\n",
       "      <td>1</td>\n",
       "      <td>0.0</td>\n",
       "      <td>0.0</td>\n",
       "      <td>15</td>\n",
=======
       "      <td>34</td>\n",
       "      <td>9</td>\n",
       "      <td>1</td>\n",
       "      <td>1</td>\n",
       "      <td>-0.146733</td>\n",
       "      <td>-0.21878</td>\n",
       "      <td>25</td>\n",
>>>>>>> origin/master
       "      <td>0</td>\n",
       "      <td>0</td>\n",
       "      <td>1</td>\n",
       "      <td>...</td>\n",
       "      <td>0</td>\n",
       "      <td>0</td>\n",
       "      <td>0</td>\n",
       "      <td>0</td>\n",
       "      <td>0</td>\n",
       "      <td>0</td>\n",
       "      <td>0</td>\n",
       "      <td>1</td>\n",
       "      <td>0</td>\n",
       "      <td>0</td>\n",
       "    </tr>\n",
       "  </tbody>\n",
       "</table>\n",
       "<p>45222 rows × 21 columns</p>\n",
       "</div>"
      ],
      "text/plain": [
       "       Age  Education-num  Occupation  Sex  Capital-gain  Capital-loss  \\\n",
<<<<<<< HEAD
       "0       43             13           0    1           0.0           0.0   \n",
       "1       38             14           0    0           0.0           0.0   \n",
       "2       27              9           0    1           0.0           1.0   \n",
       "3       38              4           1    0           0.0           0.0   \n",
       "4       41             12           0    0           0.0           0.0   \n",
       "...    ...            ...         ...  ...           ...           ...   \n",
       "48837   41             14           0    0           0.0           0.0   \n",
       "48838   21              6           1    0           0.0           0.0   \n",
       "48839   32              9           1    0           0.0           0.0   \n",
       "48840   53             13           0    0           0.0           0.0   \n",
       "48841   18              7           1    1           0.0           0.0   \n",
       "\n",
       "       Hours-per-week  Income  Relationship_Husband  \\\n",
       "0                  35       0                     0   \n",
       "1                  50       1                     1   \n",
       "2                  40       1                     0   \n",
       "3                  40       0                     1   \n",
       "4                  40       0                     0   \n",
       "...               ...     ...                   ...   \n",
       "48837              55       1                     1   \n",
       "48838              40       0                     0   \n",
       "48839              45       0                     1   \n",
       "48840              42       0                     0   \n",
       "48841              15       0                     0   \n",
       "\n",
       "       Relationship_Not-in-family  ...  Relationship_Own-child  \\\n",
       "0                               0  ...                       0   \n",
       "1                               0  ...                       0   \n",
       "2                               0  ...                       0   \n",
       "3                               0  ...                       0   \n",
       "4                               1  ...                       0   \n",
       "...                           ...  ...                     ...   \n",
       "48837                           0  ...                       0   \n",
       "48838                           1  ...                       0   \n",
       "48839                           0  ...                       0   \n",
       "48840                           1  ...                       0   \n",
       "48841                           0  ...                       1   \n",
       "\n",
       "       Relationship_Unmarried  Relationship_Wife  Marital-status_Divorced  \\\n",
       "0                           0                  1                        0   \n",
       "1                           0                  0                        0   \n",
       "2                           0                  1                        0   \n",
       "3                           0                  0                        0   \n",
       "4                           0                  0                        1   \n",
       "...                       ...                ...                      ...   \n",
       "48837                       0                  0                        0   \n",
       "48838                       0                  0                        1   \n",
       "48839                       0                  0                        0   \n",
       "48840                       0                  0                        0   \n",
       "48841                       0                  0                        0   \n",
       "\n",
       "       Marital-status_Married-AF-spouse  Marital-status_Married-civ-spouse  \\\n",
       "0                                     0                                  1   \n",
       "1                                     0                                  1   \n",
       "2                                     0                                  1   \n",
=======
       "1       23              9           1    0     -0.146733      -0.21878   \n",
       "2       29              9           1    0     -0.146733      -0.21878   \n",
       "3       59              9           1    0     -0.146733      -0.21878   \n",
       "4       55             13           0    1     -0.146733      -0.21878   \n",
       "5       41              9           1    0     -0.146733      -0.21878   \n",
       "...    ...            ...         ...  ...           ...           ...   \n",
       "48837   29              9           0    1     -0.146733      -0.21878   \n",
       "48838   18              9           0    1     -0.146733      -0.21878   \n",
       "48839   37             10           1    0      0.543083      -0.21878   \n",
       "48840   33             10           0    1     -0.146733      -0.21878   \n",
       "48841   34              9           1    1     -0.146733      -0.21878   \n",
       "\n",
       "       Hours-per-week  Income  Relationship_Husband  \\\n",
       "1                  40       0                     0   \n",
       "2                  45       0                     0   \n",
       "3                  40       1                     1   \n",
       "4                  48       0                     0   \n",
       "5                  40       0                     0   \n",
       "...               ...     ...                   ...   \n",
       "48837              40       0                     0   \n",
       "48838              20       0                     0   \n",
       "48839              75       1                     1   \n",
       "48840              40       1                     0   \n",
       "48841              25       0                     0   \n",
       "\n",
       "       Relationship_Not-in-family  ...  Relationship_Own-child  \\\n",
       "1                               1  ...                       0   \n",
       "2                               0  ...                       0   \n",
       "3                               0  ...                       0   \n",
       "4                               1  ...                       0   \n",
       "5                               0  ...                       0   \n",
       "...                           ...  ...                     ...   \n",
       "48837                           0  ...                       0   \n",
       "48838                           0  ...                       1   \n",
       "48839                           0  ...                       0   \n",
       "48840                           0  ...                       0   \n",
       "48841                           1  ...                       0   \n",
       "\n",
       "       Relationship_Unmarried  Relationship_Wife  Marital-status_Divorced  \\\n",
       "1                           0                  0                        0   \n",
       "2                           1                  0                        0   \n",
       "3                           0                  0                        0   \n",
       "4                           0                  0                        0   \n",
       "5                           1                  0                        1   \n",
       "...                       ...                ...                      ...   \n",
       "48837                       1                  0                        0   \n",
       "48838                       0                  0                        0   \n",
       "48839                       0                  0                        0   \n",
       "48840                       0                  1                        0   \n",
       "48841                       0                  0                        0   \n",
       "\n",
       "       Marital-status_Married-AF-spouse  Marital-status_Married-civ-spouse  \\\n",
       "1                                     0                                  0   \n",
       "2                                     0                                  0   \n",
>>>>>>> origin/master
       "3                                     0                                  1   \n",
       "4                                     0                                  0   \n",
       "5                                     0                                  0   \n",
       "...                                 ...                                ...   \n",
<<<<<<< HEAD
       "48837                                 0                                  1   \n",
=======
       "48837                                 0                                  0   \n",
>>>>>>> origin/master
       "48838                                 0                                  0   \n",
       "48839                                 0                                  1   \n",
       "48840                                 0                                  1   \n",
       "48841                                 0                                  0   \n",
       "\n",
       "       Marital-status_Married-spouse-absent  Marital-status_Never-married  \\\n",
<<<<<<< HEAD
       "0                                         0                             0   \n",
       "1                                         0                             0   \n",
       "2                                         0                             0   \n",
       "3                                         0                             0   \n",
       "4                                         0                             0   \n",
       "...                                     ...                           ...   \n",
       "48837                                     0                             0   \n",
       "48838                                     0                             0   \n",
=======
       "1                                         0                             1   \n",
       "2                                         0                             1   \n",
       "3                                         0                             0   \n",
       "4                                         0                             0   \n",
       "5                                         0                             0   \n",
       "...                                     ...                           ...   \n",
       "48837                                     0                             0   \n",
       "48838                                     0                             1   \n",
>>>>>>> origin/master
       "48839                                     0                             0   \n",
       "48840                                     0                             1   \n",
       "48841                                     0                             1   \n",
       "\n",
       "       Marital-status_Separated  Marital-status_Widowed  \n",
<<<<<<< HEAD
       "0                             0                       0  \n",
=======
>>>>>>> origin/master
       "1                             0                       0  \n",
       "2                             0                       0  \n",
       "3                             0                       0  \n",
       "4                             0                       1  \n",
       "5                             0                       0  \n",
       "...                         ...                     ...  \n",
<<<<<<< HEAD
       "48837                         0                       0  \n",
=======
       "48837                         1                       0  \n",
>>>>>>> origin/master
       "48838                         0                       0  \n",
       "48839                         0                       0  \n",
       "48840                         0                       0  \n",
       "48841                         0                       0  \n",
       "\n",
       "[45222 rows x 21 columns]"
      ]
     },
<<<<<<< HEAD
     "execution_count": 6,
=======
     "execution_count": 80,
>>>>>>> origin/master
     "metadata": {},
     "output_type": "execute_result"
    }
   ],
   "source": [
    "# Will now do feature scaling on Capital-gaine and Capital-loss\n",
    "col_names = ['Capital-gain', 'Capital-loss']\n",
    "features = df[col_names]\n",
    "\n",
    "from sklearn.preprocessing import MinMaxScaler\n",
    "from sklearn.preprocessing import StandardScaler\n",
    "from sklearn.preprocessing import MaxAbsScaler\n",
    "from sklearn.preprocessing import RobustScaler\n",
    "from sklearn.preprocessing import QuantileTransformer\n",
    "from sklearn.preprocessing import Normalizer\n",
    "# scaler = Normalizer(norm = 'l2')\n",
    "# scaler = QuantileTransformer()\n",
    "# scaler = RobustScaler()\n",
    "# scaler = MaxAbsScaler()\n",
    "scaler = StandardScaler()\n",
    "# scaler = MinMaxScaler()\n",
    "df[col_names] = scaler.fit_transform(features.values)\n",
    "df\n"
   ]
  },
  {
   "cell_type": "code",
<<<<<<< HEAD
   "execution_count": 7,
   "id": "4c76b39c",
=======
   "execution_count": 81,
   "id": "9114562b",
>>>>>>> origin/master
   "metadata": {},
   "outputs": [
    {
     "data": {
<<<<<<< HEAD
      "image/png": "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",
=======
      "image/png": "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\n",
>>>>>>> origin/master
      "text/plain": [
       "<Figure size 432x288 with 1 Axes>"
      ]
     },
     "metadata": {
      "needs_background": "light"
     },
     "output_type": "display_data"
    }
   ],
   "source": [
    "# Visualizing after feature scaling\n",
    "\n",
    "df['Capital-loss'].value_counts().values\n",
    "df['Capital-loss'].value_counts().index.tolist()\n",
    "\n",
    "# Capital-gain\tCapital-loss\n",
    "\n",
    "# Plotting the number of occurences of each age within the data\n",
    "plt.scatter(df['Capital-loss'].value_counts().index.tolist(), df['Capital-loss'].value_counts().values, color='black')\n",
    "plt.xlabel(\"Capital-loss\")\n",
    "plt.ylabel(\"Number of occurences\")\n",
    "plt.show()"
   ]
  },
  {
   "cell_type": "code",
<<<<<<< HEAD
   "execution_count": 8,
=======
   "execution_count": 82,
>>>>>>> origin/master
   "id": "28434df9",
   "metadata": {},
   "outputs": [],
   "source": [
    "# Split X and y\n",
    "X = df.iloc[:, [0,1,2, 3, 4, 5, 6,8,9,10,11,12,13,14,15,16,17,18,19,20]]\n",
    "y = df.iloc[:, [7]]\n",
    "\n",
    "# Split into train and test\n",
    "X_train, X_test, y_train, y_test = train_test_split(X, y.values, test_size=0.20)"
   ]
  },
  {
   "cell_type": "code",
   "execution_count": null,
   "id": "a7d03471",
   "metadata": {},
   "outputs": [],
   "source": []
  },
  {
   "cell_type": "code",
<<<<<<< HEAD
   "execution_count": 9,
=======
   "execution_count": 83,
>>>>>>> origin/master
   "id": "ecb1d7c0",
   "metadata": {},
   "outputs": [
    {
     "name": "stderr",
     "output_type": "stream",
     "text": [
      "<ipython-input-83-32309ca34e74>:9: DataConversionWarning: A column-vector y was passed when a 1d array was expected. Please change the shape of y to (n_samples,), for example using ravel().\n",
      "  model=sgd_clf_7.fit(X_train, y_train)\n"
     ]
    },
    {
     "data": {
      "text/plain": [
<<<<<<< HEAD
       "array([[24392,  2832],\n",
       "       [ 3824,  5129]])"
      ]
     },
     "execution_count": 9,
=======
       "array([[24824,  2410],\n",
       "       [ 3453,  5490]])"
      ]
     },
     "execution_count": 83,
>>>>>>> origin/master
     "metadata": {},
     "output_type": "execute_result"
    }
   ],
   "source": [
    "#Import Random Forest Model\n",
    "from sklearn.ensemble import RandomForestClassifier\n",
    "#Create a Classifier\n",
    "sgd_clf_7=RandomForestClassifier(n_estimators=100)\n",
    "\n",
    "# Use cross-validation\n",
    "from sklearn.model_selection import cross_val_predict\n",
    "# Use 3-fold cross-validation to make “clean” predictions on our training data\n",
    "model=sgd_clf_7.fit(X_train, y_train)\n",
    "\n",
    "train_data_predictions = cross_val_predict(model, X_train, y_train.ravel(), cv=3)\n",
    "# train_data_predictions\n",
    "\n",
    "# Use train because it already sets a validation set. We will test our model after tuning parameters later on using test sets.\n",
    "\n",
    "from sklearn.metrics import confusion_matrix\n",
    "# Show confusion matrix for our classifier’s predictions\n",
    "confusion_matrix(y_train, train_data_predictions)\n",
    "\n"
   ]
  },
  {
   "cell_type": "code",
<<<<<<< HEAD
   "execution_count": 10,
=======
   "execution_count": 84,
   "id": "9195a054",
   "metadata": {},
   "outputs": [],
   "source": [
    "# model.get_params()"
   ]
  },
  {
   "cell_type": "code",
   "execution_count": null,
   "id": "e4b340d1",
   "metadata": {},
   "outputs": [],
   "source": []
  },
  {
   "cell_type": "code",
   "execution_count": 85,
>>>>>>> origin/master
   "id": "11957c7b",
   "metadata": {},
   "outputs": [
    {
     "name": "stdout",
     "output_type": "stream",
     "text": [
<<<<<<< HEAD
      "Precision: 64.4%\n",
      "Recall: 57.3%\n"
=======
      "Precision: 69.5%\n",
      "Recall: 61.4%\n"
>>>>>>> origin/master
     ]
    }
   ],
   "source": [
    "from sklearn.metrics import precision_score, recall_score\n",
    "\n",
    "# Calculate and print precision and recall as percentages\n",
    "print(\"Precision: \" + str(round(precision_score(y_train, train_data_predictions)*100,1))+\"%\")\n",
    "print(\"Recall: \" + str(round(recall_score(y_train, train_data_predictions)*100,1))+\"%\")\n",
    "\n",
    "\n",
    "\n",
    "\n",
    "# 50\n",
    "# Precision: 66.8%\n",
    "# Recall: 58.2%\n",
    "\n",
    "# 10\n",
    "# Precision: 66.8%\n",
    "# Recall: 58.2%\n",
    "\n",
    "# 200\n",
    "# Precision: 67.2%\n",
    "# Recall: 58.6%"
   ]
  },
  {
   "cell_type": "code",
<<<<<<< HEAD
   "execution_count": 11,
=======
   "execution_count": 86,
>>>>>>> origin/master
   "id": "aa71739e",
   "metadata": {},
   "outputs": [],
   "source": [
    "# Use cross_val_predict to get our model's decision scores for each digit it has predicted\n",
    "train_data_decision_scores = cross_val_predict(model, X_train, y_train.ravel(), cv=3)\n",
    "\n",
    "from sklearn.metrics import precision_recall_curve\n",
    "\n",
    "# Obtain possible combinations of precisions, recalls, and thresholds\n",
    "precisions, recalls, thresholds = precision_recall_curve(y_train, train_data_decision_scores)"
   ]
  },
  {
   "cell_type": "code",
<<<<<<< HEAD
   "execution_count": 12,
=======
   "execution_count": 87,
>>>>>>> origin/master
   "id": "8b624eb1",
   "metadata": {},
   "outputs": [
    {
     "name": "stderr",
     "output_type": "stream",
     "text": [
<<<<<<< HEAD
      "/var/folders/tn/fw1cv27j6bsf_4j55pn72ls80000gn/T/ipykernel_49417/2568276842.py:31: UserWarning: FixedFormatter should only be used together with FixedLocator\n",
=======
      "<ipython-input-87-bfbdb607f331>:31: UserWarning: FixedFormatter should only be used together with FixedLocator\n",
>>>>>>> origin/master
      "  ax.set_yticklabels(['{:,.0%}'.format(x) for x in vals])\n"
     ]
    },
    {
     "data": {
<<<<<<< HEAD
      "image/png": "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",
=======
      "image/png": "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\n",
>>>>>>> origin/master
      "text/plain": [
       "<Figure size 792x648 with 1 Axes>"
      ]
     },
     "metadata": {
      "needs_background": "light"
     },
     "output_type": "display_data"
    }
   ],
   "source": [
    "# Plotting Precision-Recall tradeoff\n",
    "\n",
    "fig, ax = plt.subplots(figsize=(11,9))\n",
    "\n",
    "# Plot decision and recall curves\n",
    "ax.plot(thresholds, precisions[:-1], label=\"Precision\")\n",
    "ax.plot(thresholds, recalls[:-1], label=\"Recall\")\n",
    "\n",
    "# Add legend to distinguish lines\n",
    "ax.legend(loc=\"center left\", fontsize=16)\n",
    "\n",
    "# Add x- and y-axis labels\n",
    "ax.set_xlabel(\"Threshold\", labelpad=20, fontsize=20)\n",
    "ax.set_ylabel(\"Precision/Recall\", labelpad=20, fontsize=20)\n",
    "\n",
    "# Set appropriate x- and y-axis limits\n",
    "ax.axis([-1000000,1000000,0,1.01])\n",
    "\n",
    "# Add title\n",
    "ax.text(x = 0, y = 1.05, s = \"Precision–recall tradeoff\", fontsize = 26, alpha = .75, ha=\"center\")\n",
    "\n",
    "# Remove gridlines\n",
    "ax.grid(False)\n",
    "\n",
    "# Set font sizes and padding for tick labels\n",
    "ax.tick_params(axis=\"x\", labelsize=14, pad=15)\n",
    "ax.tick_params(axis=\"y\", labelsize=14, pad=15)\n",
    "\n",
    "# Format y-axis to show percentages rather than decimals\n",
    "vals = ax.get_yticks()\n",
    "ax.set_yticklabels(['{:,.0%}'.format(x) for x in vals])\n",
    "\n",
    "# Plot precision and recall when threshold is equal to zero\n",
    "ax.plot([0, 0], [0.0, 0.889], \"slateblue\", linestyle=\"dashed\")\n",
    "ax.plot([-1000000, 0], [0.889, 0.889], \"slateblue\", linestyle=\"dashed\")\n",
    "ax.plot([-1000000, 0], [0.832, 0.832], \"slateblue\", linestyle=\"dashed\")\n",
    "\n",
    "# Add labels for these values\n",
    "ax.text(x = -970000, y = 0.785, s = \"Precision: 83.2%\", fontsize = 14, alpha = .75, ha=\"left\")\n",
    "ax.text(x = -970000, y = 0.91, s = \"Recall: 88.9%\", fontsize = 14, alpha = .75, ha=\"left\")\n",
    "ax.text(x = -30000, y = 0.03, s = \"Our model from earlier\\n(threshold of 0)\", fontsize = 14, alpha = .75, ha=\"right\")\n",
    "\n",
    "# Set tight layout\n",
    "plt.tight_layout()\n"
   ]
  },
  {
   "cell_type": "code",
<<<<<<< HEAD
   "execution_count": 13,
=======
   "execution_count": 88,
>>>>>>> origin/master
   "id": "9488ec77",
   "metadata": {},
   "outputs": [
    {
     "name": "stderr",
     "output_type": "stream",
     "text": [
<<<<<<< HEAD
      "/var/folders/tn/fw1cv27j6bsf_4j55pn72ls80000gn/T/ipykernel_49417/97550506.py:33: UserWarning: FixedFormatter should only be used together with FixedLocator\n",
      "  ax.set_xticklabels(['{:,.0%}'.format(x) for x in x_vals])\n",
      "/var/folders/tn/fw1cv27j6bsf_4j55pn72ls80000gn/T/ipykernel_49417/97550506.py:34: UserWarning: FixedFormatter should only be used together with FixedLocator\n",
=======
      "<ipython-input-88-cc83b002d325>:33: UserWarning: FixedFormatter should only be used together with FixedLocator\n",
      "  ax.set_xticklabels(['{:,.0%}'.format(x) for x in x_vals])\n",
      "<ipython-input-88-cc83b002d325>:34: UserWarning: FixedFormatter should only be used together with FixedLocator\n",
>>>>>>> origin/master
      "  ax.set_yticklabels(['{:,.0%}'.format(y) for y in y_vals])\n"
     ]
    },
    {
     "data": {
<<<<<<< HEAD
      "image/png": "iVBORw0KGgoAAAANSUhEUgAAA1gAAAKBCAYAAABK2Qr7AAAAOXRFWHRTb2Z0d2FyZQBNYXRwbG90bGliIHZlcnNpb24zLjQuMywgaHR0cHM6Ly9tYXRwbG90bGliLm9yZy/MnkTPAAAACXBIWXMAAAsTAAALEwEAmpwYAACN3ElEQVR4nOzdd3hU1drG4d9KBxJa6DWhSxeClFAUpdgVG9jBduyKR7Gdo+d8eMQK9k6xgL2gqAiolATpvZeETqgJoaWu7489gRADJGGSPck893XlmszsMu/OZGCerLXfbay1iIiIiIiIyJkLcLsAERERERGRskIBS0RERERExEsUsERERERERLxEAUtERERERMRLFLBERERERES8RAFLRERERETES4LcLkBEpDgZY24FbslnURaQCiQCccAka+2RkqvMO4wxf3i+fcFa+6uv7lOK16leM2PM40A/YIm19qGSrs0txpjPgZrAOGvtWJfL+RtjTDBwHXAeUBcI9Sx6y1r7da71zgcuAxoBFQADxFlrny7ZikWkoBSwRMRfBQKVgfaeryuNMcOstVtdrEnE5yhwF5t/A91PtYIx5irgvpIpR0S8RQFLRPzJrcAuz/dBOH81HgT0BOoAw40xt1lrs9wpT0T8gTGmAcfD1XfAF8ABz/2MXKte77ldArwGJAEWZwReRHyUApaI+JO0PNMAVwPPGGNeBjoCDYEewJ8u1FYk1trzSsM+ReQEjXJ9/5G19lDeFYwxlYGqnrtfWWsTSqIwETlzanIhIgKf5Pq+o2tViIi/yDnfivzCVd51gJOtIyI+SCNYIiJOo4sc1XO+ydUgI8laO9AY0xi4FuecrarAJmvt7bnWN8C5wAVAc6AScARYD0wGfrPW2pMV4dm+F9AbaIFzjthhnGmNqzzbr8izzSnPjzHGdAMuzlVPOpAM7ADmA79ba3fl2ea059wYY5oCV+X6WaQDW4BZwDfW2qMn2e6ExgPGmHOBK3H+oh/s2ccvwPfW2uz89lFYxpj+wDBwRueMMbVxmgucA1QD0q21l+TZphNwEdASqAKkAZuA34GJ1trM0zxnDNAfaIXz80kDdgPrcH7mc/OsXwnoAnQDmgGRQDawD2d62LfW2nVF/BEUiTFmFNAu10PDjDHD8qw2yFq707N+3te2P3AhEAVUJFfzBmNMNSAW55gb4/yMM3F+1xfhjNhsO019lYGbcH5mkThT7JYAnxf0Z2WMicD5Pe7C8UYT+4DFwJfW2o2n2b5Q74NcDUdyP/ZHrrtLgF/x/L7mMtL558GhUWYR36aAJSLifJA9JWNMT+BpnBCQ3/KKwP8BbfMsigDO9nxdYIz5d37dCj0fFv8LtMmzqJLnqynQGRh4ulpz7fMR4JI8DwcB5XHOOeuI86H2awrBGHMDcBtON7McwTihsAVwmTHmUWvt5tPs52Gc7mi5NQHuxwk2wwtTV0EYY1oDI3C6seVIz7U8FHgCJ+jmFowTlloBF3oaouzLZ/9hwJM4U01zC8H5XWiE8wE77wfkl3GOPa/anq++xpjXrLUTT3mAvsEYY57B+WPDyYwBwvM8FgQ08Hz1N8b811obf5IniAZexfkjRI5InD9O9DDG/KcARcYAz+RTR02c1yjnZ/7DSbb3yvtARMoeBSwREecDXY69+SyPAB4HNgOjgZU4H5ijAYwxQcALOB+qUoHPgL9w/hJeCaeJxs1ADPBPnCB2jDEmBHgRJ0RZ4GecUZytOFO5G+CEq7MLekCeD4854ep34HtgO06YqIwzShLLiSfUF2S/fYGcUbu1wIc4ozLlcD5Q3wLUAF4yxgw5xfSnvkAt4FtgEs7oTi3gLpzgd74xZqq19q/C1FcAz+CMdIzEGaUAZ3Qvx1M44Sgdp/HAdJxRlfI4oxy34QSh/xhjHsw9yuYZgXwW57UCmInTwCAR53Wtg/M7cGE+de0E5gBLcX4W+zzP2QAYgDPa9oAxZlUJjmQNw/n9+9lz/1Vgap518hupvAhnZHAi8BNOY4YaedZJBOYCK3Dec/txRrlyRolbAk8ZY2611u7OvaEnxP4P5/c4DRiL8zodwQnA/8B5v56UMaY58DzO56CVwOc4o8RpOD/zQTjvjweNMTvyGXEs6vvgFZxmFRcAQ3P9vHJk4/zRY7pn+7Gexx/H+d0QkVJAAUtE5HinLjj+oTu38jjTw+7PM/qUM7XuKo6Hq3vytHpPBcYbY9bgjFL0NsZ8Za1dnWud63DCFcBL1tpf8jz/fmCJMSawEMd0jud2nbX2//IsS8WZxjStEPvLCYL3eO6uBx6w1qZ57icDE4wxG3FGiGoANwDvn2R3tYF3rbVf5K7LGPMUzjlx1XFGEbwdsIKAu/KMPsUDGGN64YSrTGBonumYqcAPxpilwLtAa5zg/GeudS7geLj62Fo7Js9zJwMrjTGf5S3KWvuvfGpNwZnKOccY8zRwPk74eO70h3nmcl7bXFPTMgp4rbhq/P34D+RewVp7fz7bHQC2GmNm4gTgtjgjnB/lWW8AThgHyDvKFWeMWQF84KnjbzxBeBjO70Ic8O8801FXAE8bY57A+UPA3caYeTnTe8/kfWCtzQAyjDHH/rBxkp/pEWNMWq77eRv0iIgPU5MLEfFLxphAY0xDY8xjOOdwgPOX9j9PssnoU3zAGeC5HX+y62hZaxfgnFsCzgfxnDoMcIXn7px8wlXufRSmNXNOGMtvRK6ouuGMyIETjtLyrmCtnYMnsOBMpTN51/FIAr7MZ/s0nL/egxNavW1CflP7PHJex0l5z3XL4enklhNML8izOGf7BI6PPOS3j6K02J7iue1QhG1L2gFObBxTKJ6w87vnbn7Hm3MO06L8phBaa5OBT0/xFO1xRp+zgZGnONcvJ9hF4Yys5fDm+0BEyiCNYImIP5lwis85+4CnPX9hzssC8/LbyBhTj+PTnxYbY8qd4vk34Ezzyz0lrSHHWzH/doptC2u957azMWYA8PPJGk8UQs75YQeBhadY70+cD6GVgfo4UyvzWnCKhh85IbVK4Us8rTn5Peg596ql5+7pXsecxgfHXkdjTPlc96eeqpnJyRhjGuGM2LTBGaEpx4nn9wBUNcaUt9YeLuz+S9DC0zUBgWPnw12MM62vGhDG34+3fp5tIjg+pXfWKXY/E3joJMtyOoVuBA6f4rVOxRmRqozz2ua8p7z5PhCRMkgBS0T8WQbOuSDxOF3aDpxkvZRTjF7l/gD4TgGft3Ku7+vk+n5DAbcviCk43fma4jSNuMszdWoJzjTIZUXo0lfTc7v5NAEiMdf3Ncj/g+WpRtZyRgRyt6nOOdct3yYjeZ3i9dp5ksfrcPz/xGcK8hyc+DrW4ng4KPTraIy5BufcoYLMLKmA013SV53sZ3yMMeYe4JoC7KtCnvu1cn1/0sBird1njDmUz/Zw/D3bhOPnl51O5Vzfe/N9ICJlkAKWiPiTWzl+3lSWtTb9FOvm9rcpQLnk9wHudHKHhPK5vvfah2ZrbaYx5iGc8z8uwvmAmNPNEGCf51yg7wox2pLzl/7TnQuS+zjKn2SdorRgvxGneUBB5NvGOr/pXB5FeR1z/x9a5NfRGNOG4+f0rMPp6rgW59y7nN/Rtjjn9MDx6Z++6lTvF4wxfTgerhbhNMPYiDNalDOC3Ad4mL8HzrBc359uRPYI+b+uZ/qe9eb7QETKIAUsEfEnxXGieO79XW+t3VHI7YvtQ5hnGtkHxpgPcdqDt8Y5/6QLzrTE+3GaSbxXwF3mHOupps/lXe7LIy255X4dh1prF510zfydyeuY06p+B3BffsHfGFOgkbtSIud4lwGP5BfwPY0k8pM7VIWdZJ0cJ/s9zXmtl1prHzzNPk61fVl8H4iIFyhgiYicmdyBqnae+wWR+2KqjXC6FXqV5wPsBs/XD57zWIbjjIpcbYz5pIDn9ORM/WpgjDGnGPmKyvV9UhHL/htr7VhO0TziDCXhnGtncF7HwgasnTijcgE4r2O+53qdRCPPbdwpRlWjC1mPL8s53umn+B062fHmnn7YAOdi2X9jjKnKyUeqct6jtU9V5Cm4+j4QEd+nLoIiImcmAadBBpxkWtppbOb4+Uh9vVLRaVhrU4GvPHeDgLoF3HSZ5zacU1+TK+civckcb1jh06y1B4Gc1vmFfh09ATVn+wsK2TUuZ7Qm3/+TPfvqXdiavCin66G3PjOc7nhDge75LfP87uacy5TvOgVYlhPKqhtjWp1ivZMps+8DEfEOBSwRkTPg+et1Tli5yBjT+VTrG2PKG2Mi82z/veduF88FTE+2bYHPvTHG1D/NKrmba6QUcLfxOB8WAf7h+SCc93k7cfzD7S9F6abnopy28THGmEtOtaIxJsQYUzPPw995bhsBN51i27yvY86ISidPI4+8BnLiaEhJy2n+EnnKtQou53i7nmT53TgXHT6ZyZ7bs40x3fIuNMZU5hQ/f5yOoIme7x/xjOieVD7vpbL+PhCRM6SAJSJy5r7GuThpAPA/Y8zDxpi2xpjKxpgIY0w9Y0wvzzW3vsI5Fyq3L3CaGwA8box5xBjT0hhT0bOPNsaY24A3ClHTI8aY0caYGzy1RHpqaWiMuQG43bPeCmvtrlPtKIenhX1Op8SmwChjTIwxppIxprYxZiCQc1HjXcDfLqjry6y1f3L8OmiPGGP+7Tm+SGNMuOcYuxpj7sd5zc7Ns4tpHJ8aONgY84wx5mzPa1jJGNPC87PPe42onOesDzxnjDnLs34jT6OSOymGqaOFsNZz289TW5jnOnJFbbbxp+f2bGPMk8aYJp7f9RbGmGeAyzn18X7L8Wl6/zbGDDTG1PL8nGNx3idhOG3U/8YTdp7HaSASDXxkjBngeW9EGGOqeGq5whjzKnnOUSzr7wMROXM6B0tE5Ax5OvY9DjyF00DiMo6fyJ+fE661Za3N8ISv53CuxXSJ5yuvwp7HEc3xIJWfHcD/CrNDa+1vxpjqwG04FwJ+KZ/VdgGPWWsPFWbfPuJ/OE0MLsSZKniq6YJ5X0drjHkW+BfO9Y/O5e8hLD+/ep4nBjjH85XbCpwL5z5fgH0Vh++AzjhTSd/OvcAYM8hae9q27HlMwPn5NMbpFtgnz/KZwGzgsfw2ttYeNcY8BbyC0x3zLs9XjkzgWZwmLuEn2cdaY8yjOC35q3vWPZnUfLYv6+8DETkDClgiIl7gOYfnCWNMDNAP5+KpVXFaah8AtgBLgRnW2vX5bJ9sjLkPOB+4AGgGROB8uNuNc0HTaYUo6XmgE85FVaNwpneVBw7hTI+aBUw8Rdvyk7LWfmaMmQdcBbTzHGeG5xhn4lxTzNvdGkuEZ3TiRWPMRJyQ2w7nZxeCMyKyFSfwzLTWLs9n+6PAU8aYrkB/nMBcGaeL3B6c83em5dkm2xjzBHAtznl4dXBGV7Z61v2Ov496lhhr7RxPfVfhjNhEcAYzYKy1R4wxD+BcQuBcnGtEHcH5vfwFJ3D2O80+NhpjBgM344S1SJz32VJggidAnSo0Ya1d6hlRvBiIxfmDRAROQNuN0zp+PsdH3PJuX2bfByJyZoymBYuIiIiIiHiHzsESERERERHxEgUsERERERERL1HAEhERERER8RIFLBERERERES9RwBIREREREfESBSwREREREREvUcASERERERHxEgUsERERERERL1HAEhERERER8RIFLBERERERES9RwBIREREREfESBSwREREREREvUcASERERERHxEgUsERERERERL1HAEhERERER8RIFLBERERERES9RwBIREREREfESBSwREREREREvUcASERERERHxEgUsERERERERLyn1AcsY09MYM9EYs80YY40xt+ZZbowxzxpjthtjjhhj/jTGtMqzThVjzCfGmBTP1yfGmMq5lkcZY2YYYw55bqPybP+NMebOYjxMEREREREpBYLcLsALwoHlwMeer7weAx4BbgXWAP8GphhjmltrUz3rjAcaAP099z8EPgEu9dx/BdgG3AYMB14GrgYwxlwBVAc+8OIxHVOtWjUbFRVVHLsWEREREfFLCxYs2GOtrV4c+zbW2uLYryuMMQeB+6y1Yz33DbAdeNNa+5znsXLALuCf1tr3jDFnASuB7tbaOM863YGZQAtr7RpjzEpgqLX2V2PMhcDL1tpWxpiKwCLgYmvt6uI4pjbtOthlSxYWx65FRERERPySMWaBtTamOPZd6qcInkY0UAv4LecBa+0RYAbQzfNQV+AgEJ9ruzjgUK51lgAXGGMCgL7AUs/jI4CxxRWuANbuSuXm0XP5Y80usrPLThgWERERESmLynrAquW5TcrzeFKuZbWA3TbXUJ7n+1251vkn0AJIBJoC/zTGdAN6AO8YYz4zxmw0xoz3jGqdEWPMncaY+caY+QaYsXY3g8fM44KR0/nkr00cTs8806cQEREREZFiUNYDlldYa7dZay+x1jaw1l4C7AbeA+4CHgcygWZANvAvLzzf+9baGGttzFm1KzKsfwtqVwpj4+5D/Ov75XT53zSe/2UV25KPnOlTiYiIiIiIF5X1gLXTc1szz+M1cy3bCVT3nK8FHDt3q0audfJ6HJhhrY0HegNfWmszgQme+14TGGC4+9zGzHjsPN4YdDYdGlTmwNFM3pu+kZ4v/sG94xeyYNN+ytK5dCIiIiIipVVZ6CJ4Kgk4IakPMA/AGBOGM7XvUc86s3E6EXbl+HlYXYEKnHheFp7tWwC3AGd7HgoAgj3fhwCB3j4IgODAAC5tV4dL29Vh0eb9jIlL5OdlO5i01PlqV78yQ2KjuKhNbYIDy3puFhERERHxTaW+i6AxJhxo4rkbj9N4YiKwz1q72RgzDHgSGAysBZ4GegLH2rQbY34B6gE517J6H0i01l5KLp6RrenAK9baHzyPvel5/geBN4C11tr7vHV8MTExdv78+fku25FyhE9mb2L83M0kH84AoGbFUG7uGsWgcxpQtUKIt8oQERERESkzirOLYFkIWOcCf+SzaJy19lZPKHoG53ypKsAc4F5r7fJc+6iCE44u8zw0Eafde3Ke57oL6GutvSrXY9VwrpnVHaf74I3W2j1eOThOHbByHEnP4rtF2xgdl8D6XQcBCA0KYECHugyOjaZZzQhvlSMiIiIiUuopYPmxggSsHNZaZq7bw+i4BP5cs/vY4z2aVmNIbDS9mlUnIMCcYg8iIiIiImWfApYfK0zAym39roOMi0/k6wVbOZKRBUCjahUYHBvFgA71qBBa1k+/ExERERHJnwKWHytqwMqRcjiDz+dtZlx8IttTjgJQMSyIQec04OZuUdStXM5bpYqIiIiIlAoKWH7sTANWjsysbCavSGJ0XAILNu0HnBbw/VrVZEhsNB0bViFXp3oRERERkTJLAcuPeStg5bZ4SzJj4hKYtHQHmdnO69+2XiWGxEZzUZvahASpzbuIiIiIlF0KWH6sOAJWjp0pR/nkr0TGz9nMfk+b9xoRodzctSHXd26oNu8iIiIiUiYpYPmx4gxYOY5mZPG9p8372qTjbd6vPNtp8968ltq8i4iIiEjZoYDlx0oiYOWw1hK3fi+j4xL4ffWuY493b1KNId2jOLdZDbV5FxEREZFSTwHLj5VkwMpt4+6DjI1P5Kv5x9u8R1erwK3dori6o9q8i4iIiEjppYDlx9wKWDlSDmfwxfzNjIvfxLbkIwBEhAUxsFN9bu4aRf2q5V2rTURERESkKBSw/JjbAStHZlY2U1Y6bd7nJTpt3gMM9GtViyHdo4lRm3cRERERKSUUsPyYrwSs3JZuTWZMXCI/Ltl+rM17m7qVGNI9iovb1FGbdxERERHxaQpYfswXA1aOpANH+fSvTXw2ZzP7DqUDUD0ilJu6NOT6zg2oFh7qcoUiIiIiIn+ngOXHfDlg5TiakcUPi7cxelYia5JSAQgJCuCK9nUYHBvNWbUrulyhiIiIiMhxClh+rDQErBzWWuI37GX0rASm5Wrz3q1xJENio+ndQm3eRURERMR9Clh+rDQFrNwS9hxiXHwiX87fwuF0p817VGR5p817TH3C1eZdRERERFyigOXHSmvAypFyJIOv5m9hTFzi8TbvoUFc16k+t3RTm3cRERERKXkKWH6stAesHJlZ2UxdlcToWYnMTdwHOG3e+7SsyZDYaM6Jrqo27yIiIiJSIhSw/FhZCVi5Lduawpi4BH5cup2MLOf3r1WdigyJjeaSdrUJDQp0uUIRERERKcsUsPxYWQxYOXYdOMqnczbz2V+b2Otp814t3GnzfkMXtXkXERERkeKhgOXHynLAynE0I4uJS7YzelYCq3d62rwHBnC5p817yzpq8y4iIiIi3qOA5cf8IWDlsNYye+NeRs9KZNrqJHJ+Nbs2imRId6fNe6DavIuIiIjIGVLA8mP+FLByS9xziLHxiXw1fwuHPG3eG1R12rxfE1OPiLBglysUERERkdJKAcuP+WvAynHgaAZfztvC2PhEtu532ryHhwZxbUx9bu0WRYNItXkXERERkcJRwPJj/h6wcmRlW0+b9wTmJDht3o2BPmfVZEj3aDqrzbuIiIiIFJAClh9TwPq75dtSGBOXyI9LtpOelQ1Ay9oVGdI9mkvV5l1ERERETkMBy48pYJ3crtSjfPbXZj6bs4k9B3PavIdwY5eG3NC5IdUj1OZdRERERP5OAcuPKWCd3tGMLH5csp3RcYms2nEAcNq8X9quDkO6R9GqTiWXKxQRERERX6KA5ccUsArOWstfG/cxOi6BqauOt3nvHF2VId2jueCsmmrzLiIiIiLFGrCCimOnIm4wxtC1cSRdG0eyae8hxsVv4sv5W5iTsI85CfuoX7Uct3aL5lq1eRcRERGRYqIRLB+nEawzk3o0g6/mb2VsfCKb9x0GnDbv18TU49ZuUTSMrOByhSIiIiJS0jRF0I8pYHlHVrZl2qokRscl8NfG423eLzirJkNio+nSSG3eRURERPyFApYfU8DyvhXbnTbvExcfb/PeolYEQ7pHc1m7OoQFq827iIiISFmmgOXHFLCKz+7UND6bs4lP/zre5j2yQgg3dGnIjV0aUCMizOUKRURERKQ4KGD5MQWs4peWmcVPS3bw0awEVnravAcHGqfNe2w0reuqzbuIiIhIWaKA5ccUsEqOtZa5CU6b999WHm/zfk50VYbERtOnpdq8i4iIiJQFatMuUgKMMXRuFEnnRpFs3nuYcbMT+WLeFuYm7GNuwj7qVSnHrd2iuLZTfSqqzbuIiIiI5EMjWD5OI1juSj2awdcLnDbvm/Y6bd4rhARyTUx9bu0WRVQ1tXkXERERKW00RdCPKWD5hqxsy++rdzF6VgKzN+4FnDbv57eowZDYaLo2jlSbdxEREZFSQgHLjylg+Z5VOw4wJi6B7xdvJz0zV5v32Ggua6827yIiIiK+TgHLjylg+a49B9MYP2czH8/exJ6DaYCnzXvnBtzYpSE1KqrNu4iIiIgvUsDyYwpYvi8tM4tJS5027yu2H2/zfklbp817m3pq8y4iIiLiSxSw/JgCVulhrWVe4n5Gz0rgt5U7yfa8tTpFVTnW5j0oMMDdIkVEREREbdpFSgNjDOdEV+Wc6Kps2XeYj2cn8vncLcxL3M+8xP3UrXy8zXulcmrzLiIiIlIWaQTLx2kEq3Q7mJbJNwu2MiYugURPm/fyIYFc07Eet8ZGE6027yIiIiIlTlME/ZgCVtmQnW35Y80uRsclELf+eJv33s1rMKR7NN3U5l1ERESkxChg+TEFrLJn9c4DjJmVyHeLtx1r8968ZgSDY6O44uy6avMuIiIiUswUsPyYAlbZtdfT5v2TvzaxK9Vp816lfDA3dG7ITV0bUlNt3kVERESKhQKWH1PAKvvSM7P5eZnT5n3ZthQAggIMl7StzZDu0bStV9ndAkVERETKGAUsP6aA5T+stSzYtJ/RcQn8uvx4m/eYhlUY0j2avmrzLiIiIuIVatMu4geMMcREVSUmqipb9x/m49mbmDB3M/M37Wf+JqfN+y3dGnJdTAMqlVebdxERERFfpBEsH6cRLP92KC2TbxZuZUxcIgl7DgFQLjiQqzvW49bYKBpXD3e5QhEREZHSR1ME/ZgCloDT5v3PtbsYPSuRWev3HHv8vObVGdI9mu5NqqnNu4iIiEgBKWD5MQUsyWvNzlTGxifw7cJtpHnavDerGc7g2GiuVJt3ERERkdNSwPJjClhyMvsOpTNh7mbGxSee0Ob9+s4NuKlLFLUqqc27iIiISH4UsPyYApacTnpmNr8sd9q8L916vM37xW1rMzg2mvb1K7tboIiIiIiPUcDyYwpYUlDWWhZu3s/oWYn8snzHsTbvHRpUZkj3aPq3qqU27yIiIiIoYPk1BSwpiq37D/OJp837gaOZANSpFMbN3aIY2Kk+lcuHuFyhiIiIiHsUsPyYApacicPpmXyzcBtjZiWwMVeb96s61uXWbtE0qaE27yIiIuJ/FLD8mAKWeEN2tmX6ut2MnpXAzHXH27yf27w6Q2Kj6dFUbd5FRETEfyhg+TEFLPG2tUmpjIlL5NuFW4+1eW9SI5whnjbv5ULU5l1ERETKNgUsP6aAJcVl/6F0xs/dzMezE0k64LR5r1w+mEHnNODmrg2pXamcyxWKiIiIFA8FLD+mgCXFLSMrm5+X7WB0XCJLtiQDEBhguKhNbYbERnF2gyruFigiIiLiZQpYfkwBS0qS0+Y9gV+W7yTL0+f97AaVGRIbTf/WtQhWm3cREREpAxSw/JgClrhhe/IRPva0eU85kgFA7Uph3Nw1ikHnqM27iIiIlG4KWH5MAUvcdDg9k28XbmNMXAIbdjtt3sOCAxjQoR5DYqNoUiPC5QpFRERECk8By48pYIkvyM62zFi3m9FxicxYu/vY4z2bVWdIbBQ9m1YnIEBt3kVERKR0UMDyYwpY4mvWJaUyJt5p8340w2nz3rh6BQbHRjOgQ13KhwS5XKGIiIjIqSlg+TEFLPFVyYfTmTB3Cx/PTmRHylEAKpU73ua9TmW1eRcRERHfpIDlxxSwxNdlZGXz6/KdjI5LYNHmZMBp835h61oM6R5NB7V5FxERER+jgOXHFLCkNFm4eT9j4hL5edmOY23e29WvzJDYKC5qU1tt3kVERMQnKGD5MQUsKY12pBxv85582GnzXqtiGDd1bcj15zSgSgW1eRcRERH3KGD5MQUsKc2OpGfx3aJtjI5LYP2ug4DT5v3Ks502701rqs27iIiIlDwFLD+mgCVlgbWWmev2MDougT/XHG/z3qNpNYZ0j6aX2ryLiIhICVLA8mMKWFLWrN91kLHxCXyzYBtHMrIAaORp836V2ryLiIhICVDA8mMKWFJWJR9O5/N5WxgXf7zNe8WwIKfNe7co6qrNu4iIiBQTBSw/poAlZV1GVjaTV+xkTFwiCzbtB5w27/1b1WJI9yg6NKiCMZo+KCIiIt6jgOXHFLDEnyzeksyYuAQmLd1BZk6b93qVGNI9mgtb1yYkSG3eRURE5MwpYPkxBSzxRztTjvLJX4l8Nud4m/eaFUO5uWsUg85pQFW1eRcREZEzoIDlx+rXbW0fufvbEx7r0LkKPftUJz0tm7dfWv+3bTr3iKRrr0gOpmby4Wsb/7a8x/nV6Ni1Kvv3pjPuncS/LT//ohq06VCZpO1HmTB689+W97+iFi1aV2RL4mG++XTr35Zfdm0dGjULZ+Pag0z8cvvfll91Yz3qR5Vn9fID/Pr9zr8tHzSkATXrhLFsYTLTft71t+W33B1FlcgQFszex8xpe/62/PYHGxEeEcTs6XuZM3Pv35bf82gTQkIDmDFlNwvn7P/b8oeebgbA1ElJLF+UcsKy4OAA7h3WBIBfvtvBmhWpJyyvEB7EHQ81AuCHz7eRsP7QCcsrVw3m1nuiAfj6ky1s3XTkhOU1aoVy/e0NARj/4SZ27Uw7YXm9huW4+qb6AIx9O4HkfRknLI9uUoHLB9YF4INRGzl0MPOE5c1bRXDhlbUBeOuF9WRkZJ+wvPXZlbjg4poAjBq+lrxK+ncvK9uy52AaO1OOciQji3UVD3IwPJPLoutQZVMI5UMCT9hev3v63dO/e/rd0+/eifS7V3Z+93J+VuIdxRmwNN9GRHxWYIChZsUw2tarTItaFWlfrzJpmc45W0u3JrNqxwH2H05HfycSEZGybOumw/mGMPFNGsHycZoiKHKiDbsPMjYuka8XbD3W5j26WgUGx0ZxVYd6VAhVm3cRESlbcsKVRrG8R1ME/ZgClkj+Ug5n8MX8zYyL38S2ZGfaR0ROm/euDalXpbzLFYqIiHjHL9/tADg25VDOnAKWH1PAEjm1zKxsfluZxOhZCcz3tHkPMNC/dS0Gx0YT01Bt3kVEROREClh+TAFLpOCWeNq8/5SrzXubupUY0j2Ki9vUUZt3ERERARSw/JoClkjhJR04yiezN/HZnE3s97R5rxERyk1dGnJ95wZEhoe6XKGIiEjBvfWC08Eyp6uinDl1ERQRKYSaFcP4Z7/mzH7ifEYMaEPzmhHsSk3jlSlr6Trid4Z9vZTVOw+4XaaIiEiBZGRk/63Nu/gutdsSkTIrLDiQgec04LpO9YnfsJfRsxKYtnoXX8zfwhfztxDbJJIhsdGc17wGAQE6T0tERETOnAKWiJR5xhhim1Qjtkk1Nu4+yLj4RL5asJW49XuJW7+XqMjyDI6N5qqO9QhXm3cRERE5A5oiKCJ+pVH1cP5zeWtmP3E+T110FnUrlyNx72GembiCrv+bxvCfVrJl32G3yxQREZFSSk0ufJyaXIgUr8ysbKasTGJ0XALzEo+3ee/bshZDukfTKUpt3kVExF1TJyUBcMHFNV2upOxQF0E/poAlUnKWbk1mTFwiPy3dTkaW829j67oVGRIbzcVtaxMaFOhyhSIiIuIN6iJ4BowxgcaY/zPGJBhjjnpuhxtjgnKtY4wxzxpjthtjjhhj/jTGtMq1PNQY84kx5oAxZq0x5oI8z3G/MWZ8SR6XiHhf23qVGXlde+KG9eaB3k2oWiGE5dsOMPTLJXR/4Q9en7aOPQfT3C5TREREfFiZD1jAMOBe4AGgBfCg5/4TudZ5DHgEuB/oBOwCphhjIjzL7wQ6Al2B94HxxjNnyBhT37PtQ8V9IKXJiBEjeOKJJ06/IrB48WLOO+88UlJSirkqkYKpUTGMoX2bE/94b168qi0takWwOzWNV6espduI33ns6yWs2qE27yIiUjJGDV/LqOFr3S5DCqjMTxE0xvwE7LXW3pLrsXFApLX2Ek9Q2g68aa19zrO8HE7I+qe19j1jzNvAAWvt455lh4Ea1trdxpgfgW+stWOLo/4znSI4YsQIJk+eDEBgYCA1atSgR48eDB48mLCwMG+V+TeHDh3CWkt4ePhp183MzOTAgQNUqVLy57pkZ2czduxYpkyZwt69e4mMjOSCCy7g1ltvJTDQmQ42evRo/vzzT3bt2kVwcDBNmzbltttuo1WrVifd78yZM5k4cSLr1q0jPT2dhg0bctNNN9GtW7dj68yfP5/XXnuNffv2ERsby2OPPUZQkDOweuTIEe644w7+7//+j+jo6OL9IchpWWuZvWEvo+OcNu85/2x2bRTJkO7R9G5Rg0C1eRcRkWKSE64eerqZy5WUHcU5RdAf+hHPAu4xxrSw1q42xrQEegPPe5ZHA7WA33I2sNYeMcbMALoB7wFLgJs84aofsAPYY4y5FihXXOHKWzp27MiTTz5JZmYmy5Yt46WXXuLo0aM8/PDDf1s3KyuLgICAMw46FSpUKPC6QUFBVK1a9Yyer6gmTJjA999/z+OPP06jRo3YuHEjzz//PMHBwdx8880A1K9fn4ceeojatWuTlpbGV199xWOPPcann35KlSpV8t3v4sWLOfvss7ntttuIiIhg6tSpPP3004waNYq2bdtirWX48OHccMMNdOrUiWeeeYYff/yRK6+8EoCPPvqI3r17K1z5CGMM3ZpUo1uTaiTuOcTY+ES+mr+F2Rv3MnvjXhpGlufWblFcE1Nfbd5FRET8nD98EngBiABWGmOycI75OWvt257ltTy3SXm2SwLqer4fDbQFVgJ7gGuBSsAIoK8x5hngBmAncKe1dvWZFGyMuRNnWiINGjQ4k10BEBwcfCzAnH/++SxatIhZs2bx8MMPM3bsWKZPn851113Hxx9/zM6dO5k0aRLZ2dm8++67zJo1i7S0NJo2bco999xD8+bNj+135cqVfPjhh6xcuZLAwECaN2/OU089RWRkJCNGjCAlJYXnn3dy7NKlS3n33XdJSEggICCABg0a8NhjjxEdHc3ixYt5+OGH+f7776lUqRLgjACNGTOGLVu2UKVKFS677DJuuOGGY8Fv4MCBXHzxxezatYvff/+d8uXLc9VVVzFw4MBC/WyWL19O165dj40s1apVi27durFq1apj6/Tp0+eEbe69915+/vln1q9fT6dOnfLd7/3333/C/VtuuYW//vqLWbNm0bZtW1JSUkhJSeHyyy8nJCSEbt26sWnTJgBWr17N/Pnz+eCDDwp1LFIyoqpV4NnLWjG0bzO+nLeFsfGJbNp7mP/8uJJXf1vLtZ3qc2u3KOpXLe92qSIiIuICfzgH6zrgZuB6oIPn+3uMMbcVdAfW2gxr7b3W2mhrbSdr7SzgJZzzsVp4nqMj8CnwyZkWbK1931obY62NqV69+pnu7m9CQ0PJzMw8dn/Hjh1MmzaN//znP3z00UcEBwfz+OOPs3v3bp5//nk++OAD2rVrx9ChQ9m7dy8AGzZs4OGHH6Zu3bq8+eabvP3225x33nlkZWX97fmysrJ46qmnaNOmDR999BHvvPMOV199NQEB+f/6rV27lmeeeYYePXowZswY7rzzTj777DO+++67E9b76quvaNSoEe+//z6DBg3ivffeY8WKFceWjxgx4rSBq02bNixevJjNmzcDsGnTJhYtWkSXLl3yXT8zM5Mff/yR8uXL06RJk1PuO6/Dhw8TEeGc1lepUiUiIyOZP38+aWlpLFu2jMaNG5OVlcXLL7/M0KFDCQ4OLtT+pWRVDAvm9h6NmP7oebx7Y0fOia5KalomH81KoNdLf3DXJ/OZs3EvZX0atoiIiJzIH0awXgJettZ+7rm/zBjTEKfJxUc4o04ANYHNubarmWvZCYwxvYAY4G7gRWCStTbVGPMZ8J4xJsJam+r9Qzlzq1evZurUqXTo0OHYY5mZmTz55JPHprstWrSI9evX8/333xMaGgrAkCFDiI+PZ8qUKQwcOJAJEybQpEkTHnnkkWP7adiwYb7PefjwYQ4ePEi3bt2oU6cOcOqRuS+//JL27dszePBgAOrVq8fWrVuZMGECAwYMOLZep06djk2pGzBgAN9++y0LFy48dm5UZGTksec7mUGDBnH48GFuvfVWAgICyMrK4sYbb+Tyyy8/Yb3Zs2fz3//+l7S0NKpWrcorr7xy0umB+fn+++/ZvXs3ffv2BZwpZ8888wxvvfUWb7zxBp07d+bCCy/k888/p0WLFlSuXJkHH3yQvXv3HjsnTHxTYIChf+ta9G9di+XbUhgdl8CPS7YzeUUSk1ck0apORQbHRnNpO7V5FxGRounQueCfOcR9/hCwygN5h1WyOD56l4ATpPoA8wCMMWFAD+DRvDszxoQC7wC3WGszjTEBufYV4rn1qU9Rc+fO5cILLyQrK4vMzEy6d+/Ogw8+eGx59erVTwgLa9asIS0tjSuuuOKE/aSnp7Nt2zYA1q9fT/fu3Qv0/BEREfTv359HH32UDh060LFjR3r16kWNGjXyXX/z5s1/G0Fq06YN48aN4/Dhw5Qv70y9atSo0QnrREZGkpycfOz+HXfccdra/vjjD3777TeefvppoqKiWL9+PW+++Sa1a9fmoosuOrbe2WefzYcffkhKSgo//fQTzz77LG+99RaRkZGnfY4ZM2bw7rvv8u9//5uaNY9fILBNmza8++67x+5v27aNSZMm8f777/PII49w+eWXc+655/KPf/yDFi1anHRUTXxH67qVePXa9jx+YQs+/Wszn/21iRXbD/DPr5Yw4pfV3NilATd0bkj1iFC3SxURkVKkZx/vz2iS4uMPAetH4HFjTAKwAjgbGAp8DGCttcaYUcCTxpjVwFrgaeAgkN+1rf4FTLbWzvPcnwWMNMaMxTk3a4W1NrnYjqYI2rVrxyOPPEJQUBCRkZHHOtXlyNtN0FpLlSpVeP311/+2r8I0r8ht2LBhXH311cydO5e4uDg+/PBDhg8fftJzmAoi73EYY8jOzi7UPt59912uu+46evfuDTihLSkpic8+++yEgBUWFkbdunWpW7cuLVu25MYbb2TSpEnHGmGczPTp03n++ed54oknTuggmJ9XXnmFO++8k4CAANauXUvv3r0JCwujW7duLFy4UAGrFKkREcbQPs2459zGTFyyndGzEli9M5VRU9fx9h8buKx9HQbHRtGqTiW3SxURkVIgPc35fBMS6g9n95R+/hCw7gf+D3gbqIHTAfAD4L+51nkRKAe8BVQB5gB9807zM8a0xjnfqn2uh7/FGe36A9gG3IKPCQ0NpW7duqdf0aNp06bs37+fgIAAateune86TZo0YdGiRYWqo3HjxjRu3JhBgwYxbNgwJk+enG/AatCgAcuXLz/hsWXLllG9evVjo1fecvTo0b+dCxYQEHDa82ays7PJyMg45Tp//vnnsXDVq1evU677yy+/UK5cOc4991wOHjwIcOw8uYyMjBJvXy/eERYcyLUx9bmmYz3+2riP0XEJTF2VxNcLtvL1gq10aVSVIbHRnH9WTbV5FxGRk3r7pfWA2rSXFmU+BltrU621D1lrG1pry1lrG1lrn7TWHs21jrXWPmutrW2tDbPW9rLWLs9nX8uttU2ttYdyPZZtrX3QWlvFWtvaWrugpI6tuHTs2JHWrVvz1FNPMWfOHHbs2MGKFSsYM2YMS5cuBZwufuvWreOVV15hw4YNbNmyhUmTJrFr166/7W/Hjh28//77rFixgqSkJBYtWsSGDRtOes7Wddddx+LFixk7dixbt25l6tSpfPnll4XuEPjBBx8wdOjQU67TrVs3xo8fz19//cXOnTuZOXMmX3311bHpj4cPH+ajjz5i1apV7Nq1i7Vr1/Liiy+ye/duzjvvvGP7ef755491TAT4/fffGT58OHfeeSdt27Zl37597Nu3j9TUv5+al5yczLhx43jooYcACA8PJyoqii+//JJ169Yxffp02rRpU6hjF99ijKFr40g+uDmGP/95LoNjo6gQEshfG/dx5ycLOO/lP/loVgKpR08d2kVERMT3+cMIlhSSMYYRI0bw0Ucf8fLLL5OcnEyVKlVo3bo1/fr1A5wRrFdeeYUPP/yQe+65h+DgYJo3b57vNLawsDC2bt3KM888Q0pKClWrVqVPnz4MGjQo3+dv2rQp//nPfxgzZgyfffYZVapU4frrrz/W0KKg9u7dy/bt20+5zgMPPMDo0aMZOXIkycnJREZGcskllxyb+hcYGEhiYiK//PILKSkpVKpUiebNm/P666+fcA5YUtKJXf4nTpxIVlYWb775Jm+++eaxx9u1a8eoUaNOWPeNN97g2muvJXfHyCeeeIIRI0bw7bff0q9fP3r27FmoYxff1TCyAs9c2oqH+zTjq/lbGRufwOZ9h/m/n1Yycsparompx63domgYWbTpuCIiIuIuoxbCvi0mJsbOnz/f7TJEpJhkZVumrkpi9KwE5iTsA8AYuOCsmgyJjaZLo6qaIioi4udGDV8LaIqgNxljFlhrY4pj3xrBEhFxUWCAoV+rWvRrVYsV21MYE5fIxMXbmbIyiSkrkzirdkWGxEZxabs6hAX7VINSERERyYdGsHycRrBE/M/u1DQ+m7OJT//axJ6D6QBUCw/hhs4NuaFLA2pEhJ1mDyIiUpbMnr4XgK69Tn95GCmY4hzBUsDycQpYIv4rLTOLH5fsYPSsBFbuOABASGAAl7Zz2ry3rqs27yIiIkWhgOXHFLBExFrLnIR9jJ6VwJRVSeT8s31OtNPmvU9LtXkXESnLDqY6l24Jj9DZPd6ic7BERPyYMYYujSLp0iiSzXsPMzY+kS/nb2Fuwj7mJuyjftVy3NI1ims71adiWLDb5YqIiJd9+NpGQE0uSosyfx0sEZGypEFkef59aUtmP9Gbf1/SkgZVy7Nl3xGGT1pF1/9N49mJK0jcc+j0OxIREZFioYAlIlIKRYQFM6R7NH/881w+uDmGro0iOZSexdj4RM575U9uHzef+A170DRwERGRkqUpgiIipVhggKFPy5r0aVmTldsPMCYugR8Wb2fqqiSmrkqiRa0IhsRGc1l7tXkXEREpCRrBEhEpI1rWqchL17Qj7vHePHxBM6qFh7J6ZyqPfbOU2BG/8+pva9h14KjbZYqIiJRp6iLo49RFUESKKi0zi5+W7GB0XAIrtjtt3oMDDZe2rcOQ7tFq8y4iUkosmL0PgI5dq7pcSdmhNu1+TAFLRM6UtZa5CfsYE5fIbyt3kp3T5j2qKkO6R9GnZS21eRcREb+iNu0iIlJkxhg6N4qkc6NItuw7zLj4RL6Yt4W5ifuYm7iPelXKcWs3tXkXEfFV+/emA1AlMsTlSqQgNILl4zSCJSLF4WBaJl/P38KY+EQ27T0MQIWQQK6Jqc8t3aKIrlbB5QpFRCTHqOFrAV0Hy5s0giUiIl4VHhrErbHR3NQ1ij9W72J0XALxG/YyNj6RcbMT6d28BkO6R9OtcSTGaPqgiIhIQSlgiYj4scAAwwUta3JBy5qs2uG0ef9+8Xamrd7FtNW7aF4zgiHdo7i8fV21eRcRESkAtWkXEREAzqpdkRevbkf8470Z2qcZ1SNCWZOUyrBvltFtxO+88tsaktTmXURE5JQUsERE5ATVwkN54PymxA3rzcjr2tG6bkX2HUrnjd/X0/2F33n4i8Us25ridpkiIiI+SU0ufJyaXIiI26y1zN+0n9GzEpi84nib905RVRgcG03fljUJCtTf60REisuyhckAtOlQ2dU6yhJdB8uPKWCJiC/Zsu8wH89O5PN5W0g9mglA3crluKVbQ67r1IBK5dTmXUREfJ8Clh9TwBIRX3QoLZNvFm5lTFwiCXsOAVA+JJCrO9bj1m5RNKoe7nKFIiJlR9J25/zXmnXCXK6k7FDA8mMKWCLiy7KzLX+u3cXoWYnMWr/n2OO9W9RgSGw0sU3U5l1E5EzpOljep+tgiYiITwoIMPRuUZPeLWqyeucBxsYl8u2ibfy+ehe/r95Fs5rhDImN5oqz1eZdRET8g85KFhERr2hRqyIjrmrL7Md788++zagREcrapIM8/u0yuj4/jZcmr2Znitq8i4hI2aaAJSIiXhUZHsp9vZsya1hvRl3Xnrb1KrH/cAZv/bGB7i/8zoOfL2LJlmS3yxQRESkWmiIoIiLFIiQogCvOrsvl7euwYNN+xsQl8svyHfyweDs/LN5Ox4ZVGBIbTb9WavMuIiJlhwKWiIgUK2MMMVFViYmqytb9h/lk9ibGz93Mgk37WbBpP3UqhXFLtygGdmpApfJq8y4iklf/K2q5XYIUgroI+jh1ERSRsuhQWibfetq8b/S0eS8XHMhVHetya7domtRQm3cRESk+atPuxxSwRKQsy862TF+7m9FxCcxcd7zN+7nNqzMkNpoeTaupzbuI+L0tiYcBqB9V3uVKyg61aRcRkTIpIMBwXosanNeiBmuTUhkTl8C3C7fx55rd/LlmN01rhDM4Nporz65LuRC1eRcR//TNp1sBXQertNBZxSIi4hOa1Yzg+QFtmf3E+Tzarzk1K4aybtdBnvxuGV1HTOPFX9XmXUREfJ8CloiI+JSqFUK497wmzBrWm9cGtqddvUokH87g7T+dNu8PTFjEYrV5FxERH6UpgiIi4pOCAwO4vH1dLmtXh4Wbkxkdl8Cvy3cyccl2Ji7ZTocGlRkcG03/1rUIVpt3ERHxEQpYIiLi04wxdGxYhY4Nq7At+Qgfz05kwpzNLNyczMLNi6hdKYybu0Yx6Jz6VC4f4na5IiLi59RF0Mepi6CIyN8dTs/km4XbGBOXwMbdTpv3sOAArupQj8GxUTSpEeFyhSIi3rNx7UEAGjXTJSy8RW3a/ZgClojIyWVnW6av282YuERmrN197PFezaozpHs0PdXmXURE8qGA5ccUsERECmZdUipj4hP5duFWjmZkA9CkRjiDY6MYcHY9tXkXkVJLI1jep4DlxxSwREQKZ/+hdCbM28zH8ZvYecBp616pXDCDzmnAzV0bUqdyOZcrFBEpnFHD1wK6DpY3FWfAUtslEREpU6pUCOGec5swc9h5vD7obNrXr0zKkQzenb6BHi/+wX3jF7Jw8363yxQRkTJKXQRFRKRMCg4M4LJ2dTxt3vczelYCvyzfyU9Ld/DT0h20r1+ZId2juVBt3kVExIsUsEREpMzr0KAKHa6vwvbkI3zy1ybGz9nM4i3JPDBhEbUqhnFzt4YM6tSAKhXU5l1ERM6M/mQnIiJ+o07lcgzr34LZT/TmuStb07h6BXYeOMqLv66h64hpPPndMtYlpbpdpoiIlGJqcuHj1ORCRKT4ZGdbZq7fw+hZCUzP1ea9Z7PqDI6NolfT6gQEqM27iLhrS+JhAOpHlXe5krJDXQT9mAKWiEjJWL8rlTFxiXyTq817o+oVGBwbzVUd6lI+RLPqRUTKCgUsP6aAJSJSspIPp/P5vC2Mi09kR4rT5r1iWBCDOjfg5q5R1FWbdxEpYauXHwCgReuKLldSdihg+TEFLBERd2RkZTN5xU5Gz0pg4eZkAAIDDP1b12JIbDQdGlTGGE0fFJHip+tgeV9xBizNdxAREclHcGAAl7StwyVt67Bo837GxCXy87IdTFrqfLWrX5khsVFc1Ka22ryLiMgx+h9BRETkNM5uUIXXB53NzGHncc+5jalcPpglW5J58PPFdH/hd976Yz37DqW7XaaIiPgABSwREZECql2pHI/1b8Hsx8/nf1e2oUmNcJIOpPHS5DV0fX4aT3y7lLVq8y4i4tc0RVBERKSQyoUEcn3nBgw6pz6zPG3e/1izmwlztzBh7hZ6NK3GkNhoejVTm3cREX+jJhc+Tk0uRERKhw27DzI2LpGvF2zlSEYWAI2qVWBwbBQDOtSjQqj+pikiRZO03eloWrNOmMuVlB3qIujHFLBEREqXlMMZfD5vM+PiE9meq837wHMacHPXhtSroguFioi4TQHLjylgiYiUTplZ2UxekcTouAQWbNoPQIDhWJv3jg2rqM27iBTIsoXJALTpUNnVOsoStWkXEREpZYICA7i4bW0ublubJVuSGROXwE9Ld/Dzsp38vGwnbetVYkhsNBe1qU1IkHpOicjJTft5F6CAVVroX3QREZFi1q5+ZUYNPJtZw3pz33lNqFI+mKVbU3joC6fN+5u/r1ObdxGRMkIBS0REpITUqhTGP/s1Z/YT5zNiQBua1QxnV2oaL/+2lq7PT+Pxb5ayZqfavIuIlGaaIigiIlLCwoIDGXhOA67rVJ+49XsZHZfA76t38fm8LXw+bwuxTSIZEhvNec1rqM27iEgpo4AlIiLiEmMM3ZtWo3vTamzcfZCx8U6b97j1e4lbv5foahW4tVsUV3dUm3cRkdJCXQR9nLoIioj4l5QjGXw5bwtj4xPZlnwEgIiwIAZ2qs/NXaOoX1Vt3kX8zf69zjmaVSJDXK6k7FCbdj+mgCUi4p8ys7KZstJp8z4v8Xib936tajGkezQxavMuIlJkClh+TAFLRESWbk1mTFwiPy3dTkaW8/92m7qVGNI9iovb1FGbd5EybsHsfQB07FrV5UrKDgUsP6aAJSIiOZIOHOXTvzbx2ZzNx9q6V48I5aYuDbm+cwOqhYe6XKGIFIdRw9cC8NDTzVyupOwozoClP3mJiIiUEjUrhvFI3+bEP96bF65qQ/OaEexOTePVKWvpNuJ3Hvt6Cat2HHC7TBERv6aWRCIiIqVMWHAg13VqwLUx9Zm9wWnzPm31Lr6cv5Uv52+lW2OnzXvvFmrzLiJS0hSwRERESiljDN2aVKNbk2ok7DnEuPhEvpy/hfgNe4nfsJeoyPJOm/eY+oSrzbuISInQFEEREZEyILpaBZ69rBWznzifpy8+i7qVy5G49zDP/riSrv+bxvCfVrJl32G3yxQRKfPU5MLHqcmFiIgURWZWNlNXJTF6ViJzE50OZAEG+rSsyZDYaM6Jrqo27yKlxMHUTADCIzQS7S3qIujHFLBERORMLduawpi4BH7M1ea9VZ2KDImN5pJ2tQkNCnS5QhGRkqWA5ccUsERExFt2HTjKp3M289lfm9jrafNeLdxp835DF7V5F/FVs6fvBaBrr0iXKyk7FLD8mAKWiIh429GMLCYu2c7oWQms3pkKQEhgAJe3r8Pg2Gha1qnocoUikpuug+V9xRmwNJFTRETEz4QFB3JtTH2u6ViP2Rv3MnpWItNWJ/HVgq18tWArXRpV5fbujTj/rBo6T0tEpJAUsERERPyUMYZujavRrXE1EvccYmx8Il/N38JfG/fx18Z99G5Rg+eubE3tSuXcLlVEpNRQm3YREREhKqfN+5Pn89RFZxERFsTvq3fR99UZTJi7GZ1SICJSMApYIiIickzFsGDu6NmIqUN7ccFZNUlNy+SJb5dxw4dz2LxX19ESETkdNbnwcWpyISIibrHW8uPSHTw7cQX7DqVTLjiQR/s155ZuUQQG6NwskZKSnpYNQEioxka8pTibXOhVEhERkXwZY7isXR2mPNyTS9vV4UhGFv/9aSXXvjeb9bsOul2eiN8ICQ1QuCpF9EqJiIjIKUWGh/LGoLN5/6aO1IgIZcGm/Vz0+kze/nM9mVnZbpcnUubNmLKbGVN2u12GFJACloiIiBRI31a1mPJwL66NqUd6ZjYv/rqGK96OY+X2A26XJlKmLZyzn4Vz9rtdhhSQApaIiIgUWKXywbx4dTs+HnIOdSuXY/m2A1z25ixe/W0NaZlZbpcnIuI6BSwREREptJ7NqjP54Z7c3LUhmdmW139fz6VvzGLxlmS3SxMRcZUCloiIiBRJeGgQ/728NV/c2YWoyPKsTTrIgLfj+N/PqziSrtEsEfFPClgiIiJyRjo3iuTXh3pyV89GALw/YyMXvjaDORv3ulyZiEjJ03WwfJyugyUiIqXJ4i3JPPb1EtYmOW3cb+rSkGEXtiA8NMjlykREjtN1sERERKRUaF+/Mj/e350Hzm9KUIDhk7820W/kDKavVYtpEfEPClgiIiLiVaFBgQzt04yJ93Wndd2KbEs+wi2j5/LoV0tIOZzhdnkipc7USUlMnZTkdhlSQApYIiIiUixa1qnI9/fE8lj/5oQEBfDVgq1cMHI6k1fsdLs0kVJl+aIUli9KcbsMKSAFLBERESk2QYEB3HNuE35+oAcdG1Zhd2oad32ygPvGL2TvwTS3yxMR8ToFLBERESl2TWqE8+VdXXnm0paUCw7kp6U7uODV6fyweBtquCUiZYkCloiIiJSIwADD4NhoJj/Uk26NI9l/OIMHP1/MHR/PZ2fKUbfLExHxCgUsERERKVENIsvz2e2dGTGgDRGhQUxdtYs+I6fzxbzNGs0SyUdwcADBwfrYXlr4xStljKltjBlnjNltjDlqjFlpjOmVa7kxxjxrjNlujDlijPnTGNMq1/JQY8wnxpgDxpi1xpgL8uz/fmPM+JI8JhERkdLMGMPAcxrw29CenN+iBqlHMxn2zTJu+mguW/Yddrs8EZ9y77Am3DusidtlSAGV+YBljKkMxAEGuBg4C7gf2JVrtceARzyPd/Ism2KMifAsvxPoCHQF3gfGG2OMZ//1Pds+VMyHIiIiUubUrlSOD2+JYdR17alcPphZ6/fQb9QMxsYlkJ2t0SwRKX1MWR+KN8b8D+hlrY09yXIDbAfetNY+53msHE7I+qe19j1jzNvAAWvt455lh4Ea1trdxpgfgW+stWOLo/6YmBg7f/784ti1iIiIT9mdmsazE1cwadkOADpFVeGFq9rSqHq4y5WJuOuX75z3xIVX1na5krLDGLPAWhtTHPsu8yNYwBXAHGPMF8aYXcaYxcaY+3JGoIBooBbwW84G1tojwAygm+ehJUB3T7jqB+wA9hhjrgXKFVe4EhER8SfVI0J564YOvHtjR6qFhzIvcT/9X5vJu9M3kJmV7XZ5Iq5ZsyKVNStS3S5DCsgfAlYj4B5gI044eg0YAdzrWV7Lc5v38thJuZaNxglZK4GngGuBSp79/MMY84zn3KwZxpgWZ1qwMeZOY8x8Y8z83bt3n+nuRERESpX+rWsxdWhPrupQj/TMbEb8spoB78SzeucBt0sTETktfwhYAcBCa+0T1tpF1toxwOscD1inZa3NsNbea62NttZ2stbOAl7COR+rBXAdzjlanwKfnGnB1tr3rbUx1tqY6tWrn+nuRERESp3K5UN45dp2jBnciTqVwli6NYVL35jFyClrSc/UaJaI+C5/CFg7cEaeclsFNPB8v9NzWzPPOjVzLTuBpwNhDPAy0BuYZK1NBT4DYnI1xxAREZEzcF7zGkx+uCc3dmlARpbltWnruOzNWSzdmux2aSIi+fKHgBUHNM/zWDNgk+f7BJwg1SdnoTEmDOgBxOfdmTEmFHgHuNNam4nzMwz2LA7x3AZ6q3gRERF/FxEWzPAr2jDhji40jCzP6p2pXPFWHM//soqjGVlulydS7CqEB1EhPMjtMqSA/KGLYCecoPQs8AVwNvAh8KS19i3POsOAJ4HBwFrgaaAn0NwzMpV7f8OBCtbahz33rwZGApfinJt1mbW2tbfqVxdBERGR446kZ/HKb2sYHZdAtoXoahV48eq2dIqq6nZpIlKKFGcXwTIfsACMMRcD/8MZydoMvAm8YT0H7+ko+AxwF1AFmAPca61dnmc/rYHvgPbW2kOexwJwAtbNwDbgFmvtAm/VroAlIiLydws37+exr5eyftdBjIGbuzTksf4tqBCqv/KLyOkpYPkxBSwREZH8pWVm8ebv63n7zw1kZVvqVSnH8wPa0KOpGkRJ2fLD59sAuHxgXZcrKTt0HSwRERGRPEKDAnmkb3Mm3hdLqzoV2br/CDd9NJfHvl5CypEMt8sT8ZqE9YdIWH/I7TKkgBSwREREpFRrVacS398by6P9mhMSGMCX87fSd+R0pqzMe4lLEZHip4AlIiIipV5wYAD3nteEnx/sztkNKpN0II07Pp7PAxMWsfdgmtvliYgfKfKZoMaYGOAcnKYQ+bUlt9ba/yvq/kVEREQKq0mNCL7+RzfGxify0uTVTFyynVnr9/Cfy1pxSdvaOH2tRESKT6EDljGmIvAtcB5wqn+lLKCAJSIiIiUqMMBwW/doLjirBo9/s4zZG/dy/4RFTFyyneeuaE2NimFulyhSKJWrBp9+JfEZhe4iaIx5D7gDmAmMAbYAmfmta62dfqYF+jt1ERQRESm67GzL5/O28L+fV3EwLZOKYUE8fUlLrulYT6NZIn7Mp9q0G2N2AluBc6y12cVRlByngCUiInLmticf4anvlvHHmt0A9GhajecHtKFelfIuVyYibvC1Nu2VgD8UrkRERKS0qFO5HKNv7cSr17ajUrlgZq7bQ7+RM/hkdiLZ2bomqPi2rz/ZwtefbHG7DCmgogSsdUBNbxciIiIiUpyMMQzoUI8pQ3tyYetaHErP4l8/rGDgB3+RsEfXGBLftXXTEbZuOuJ2GVJARQlYbwGXGmN0KWkREREpdWpEhPHOjR15+4YOVAsPYW7CPvqPmsH7MzaQpdEsETlDRQlYvwC/AXHGmMHGmLbGmAb5fXm5VhERERGvuahNbaY83IsBZ9clLTOb//28mgHvxLM2KdXt0kSkFCvKdbAScVqwG+DDU6xni7h/ERERkRJRpUIIr17Xnkvb1eHJ75axZEsyF78+k/vOa8rd5zYmJKgof4sWEX9WlAD0MU54EhERESkTzmtRg8kP9+T5n1czYe5mRk5dyy/Ld/DS1e1oU6+S2+WJn6tRK9TtEqQQCt2mXUqW2rSLiIiUrPgNe3j8m2Vs3neYwADDnT0b8eD5TQkLDnS7NBHxEl9r0y4iIiJSZnVrXI1fH+rBkNhosq3lnT83cNHrM5mfuM/t0kSkFDijESxjTD3gbKAykAIstNZu9U5pAhrBEhERcdOCTft47OulbNh9CGPglq5RPNa/OeVDdJq5lJzxH24C4PrbG7pcSdnhcyNYxpiGxphfgU3A98BY4DtgkzHmV2NMlLcKFBEREXFLx4ZVmfRAD+49rzEBxjA2PpF+o2YQt36P26WJH9m1M41dO9PcLkMKqNAByxhTC5gF9MUJWJ8AL3puEz2Pz/KsJyIiIlKqhQUH8mi/Fvxwbyxn1a7Iln1HuOHDOTzx7VIOHM1wuzwR8TFFGcH6F1AXGAY0tdbeaq19wlp7K9AMeAyoAzzttSpFREREXNa6biUm3hfLI32aERIYwIS5W+j76gymrUpyuzQR8SFFCVgXA79Za1+y1mblXmCtzbLWvoxzIeJLvFGgiIiIiK8IDgzg/vOb8tMD3WlXvzI7DxzltnHzeejzRew/lO52eSLiA4oSsGoBC06zzgLPeiIiIiJlTrOaEXx7dzeevvgsQoMC+H7xdvqMnM6kpTvQJXDE2+o1LEe9huXcLkMKqCgBKwU4XQuTBp71RERERMqkwADD7T0aMfmhnnSOrsqeg+ncO34h//h0AbtSj7pdnpQhV99Un6tvqu92GVJARQlYs4CrjTHd8ltojOkMXONZT0RERKRMi6pWgQl3dGH4Fa2pEBLI5BVJ9Hl1Bt8s2KrRLBE/VOjrYBljOgDxQCDwOfAHsANnSuC5wCAgG4i11p5uKqGchq6DJSIiUnpsSz7CE98uY8ba3QD0alad/w1oQ93Kmt4lRTf27QQAbr0n2uVKyg6fug6WtXYhcDVwALgB+AD4CfgQuMnz+LUKVyIiIuJv6lYux7jBnXj5mnZUDAti+trd9H11Op/+tYnsbI1mSdEk78sgeZ8uCVBaFOky5Nban4wxDYDLgQ5AJZxzrhYB31trD3mvRBEREZHSwxjD1R3r0bNpNf71w3Imr0ji6e+X8+OS7bxwVVuiqlVwu0QRKUZFClgAnhA13vMlIiIiIrnUqBjGuzd25OdlO/n3D8uZk7CP/q/N4J99mzM4NprAAON2iSJSDIrS5EJERERECsAYw8VtazNlaC+uaF+HoxnZDJ+0iqveiWddUqrb5YlIMTjtCJYx5mbPt99Za1Nz3T8ta+3HRa5MREREpIyoWiGEUQPP5tJ2dXjyu2Us3pLMxa/P4oHzm3BXr8YEB+pv3nJy0U00rbQ0OW0XQWNMNmCBs6y1a3PdP+VmgLXWBnqnTP+lLoIiIiJlS8qRDJ7/eRWfz9sCQMvaFXnx6ra0rlvJ5cpE/EdxdhEsyDlYQ3AC1Q7P/cHFUYiIiIiIP6hULpgRV7XlkrZ1ePzbpazccYDL34rjH70acX/vpoQF6+/TIqVZoa+DJSVLI1giIiJl16G0TF6avIZxsxOxFprUCOfFq9vSoUEVt0sTH/LBqI0A3PFQI5crKTt86jpYIiIiIuIdFUKDePayVnx1V1caVavA+l0HueqdeP7740oOp2e6XZ74iEMHMzl0UL8PpUWhA5YxpooxpqUxJjTP44ONMT8YY8YbYzp7r0QRERGRsi0mqio/P9iDf/RqTIAxjI5LoP+omcRv2ON2aSJSSEUZwfofMCf3tsaY+4EPgUuBgcAfxpiWXqlQRERExA+EBQfy+IUt+P6eWFrUimDzvsNc/8EcnvxuGalHM9wuT0QKqCgBKxaYZq09kuuxfwLbgJ7AtZ7Hhp5hbSIiIiJ+p029Sky8rzsPX9CM4EDD+Dmb6TtyBn+s3uV2aSJSAEUJWHWBhJw7npGq+sAb1tpZ1tqvgR9xwpaIiIiIFFJIUAAPXtCUn+7vQbt6ldiRcpTBY+cx9IvFJB9Od7s8KWHNW0XQvFWE22VIARUlYJUDjua6H4vTxn1qrsc24AQxERERESmi5rUi+Obubjx5UQtCgwL4dtE2Lnh1Br8s23H6jaXMuPDK2lx4ZW23y5ACKkrA2ga0yHW/H3AAWJLrsSpA7imEIiIiIlIEQYEB3NmzMb882INzoqqy52Aad3+2kHs+W8Du1DS3yxORPIoSsP4ALjLG3GeMuR24DPjVWpuda53GwBZvFCgiIiIi0Kh6OJ/f2YX/Xt6K8iGB/LxsJ31GTue7RVvRdU3LtrdeWM9bL6x3uwwpoKIErOeBg8BrwPs40wWfzVlojKkIdAfivVCfiIiIiHgEBBhu7hrF5Id60qNpNZIPZ/DwF0sYMnYeO1I0eaisysjIJiMj+/Qrik8odMCy1iYArYAHgQeA1tbaNblWaQK8B4z1RoEiIiIicqL6Vcvz8ZBzePHqtkSEBfHHmt30fXUG4+ds1miWiMuCirKRtXYn8OZJli0EFp5JUSIiIiJyasYYro2pT69m1Xnqu+VMXZXEk98t46el2xkxoC0NIsu7XaKIXyrKFEERERER8RE1K4bxwc0deX3Q2VStEEL8hr30GzWD0bMSyMrWaJZISTvtCJYx5t84bdjfstbu89wvCGut/b8zqk5ERERETssYw2Xt6hDbOJJnf1zJj0u289+fVvLT0u28eHU7mtQId7tEOQOtz67kdglSCOZ083SNMdk4Aessa+1az/2CsNbawDMt0N/FxMTY+fPnu12GiIiIlCK/rdjJ098vZ1dqmnPR4vObcmfPRgQHavKSCIAxZoG1NqY49l2Qc7DO89xuznNfRERERHxQ31a16BwdyXM/r+TL+Vt5afIafl62gxevbkurOhoNESlOpx3BEndpBEtERETOxIy1u3ni22VsSz5CUIDhnnMbc2/vJoQGaaJRaTFq+FoAHnq6mcuVlB3FOYKlcWIRERGRMqxns+pMfrgnN3dtSGa25fXf13PJ67NYtHm/26WJlEmFDljGmPONMaONMXVOsryOZ/m5Z1qciIiIiJy58NAg/nt5a764swvR1SqwbtdBrnonnucmreRIepbb5YmUKUUZwbof6Gat3Z7fQs/jXT3riYiIiIiP6Nwokl8e7MFdPRsB8MHMBC58bQZ/bdzrcmUiZUdRAlYHIP4068wCimVOo4iIiIgUXVhwIE9cdBbf3RNLs5rhJO49zMD3/+Lp75dxMC3T7fJESr2iBKwaQL6jV7kkedYTERERER/Urn5lfry/Ow+c35SgAMOnf22m38gZTF+72+3SJI8OnavQoXMVt8uQAipKwEoB6p9mnfrAoSLsW0RERERKSGhQIEP7NOPH+7vTpm4ltiUf4ZbRc/nnV0tIOZzhdnni0bNPdXr2qe52GVJARQlYc4ErjDG18lvoaX5xhWc9EREREfFxZ9WuyHf3dGNY/xaEBAXw9YKtXDByOr8u3+l2aQKkp2WTnpbtdhlSQEUJWG8AEcBMY8xlxphQAGNMqDHmcmAGEA687r0yRURERKQ4BQUGcPe5jfnlwR7ENKzC7tQ0/vHpAu4dv5A9B9PcLs+vvf3Set5+ab3bZUgBFTpgWWt/A/4PaAx8BxwyxuzGmRL4LdAIGG6t/dWbhYqIiIhI8WtcPZwv7+rKs5e2pFxwIJOW7qDPq9P5YfE2rLVulyfi84p0oWFr7TNAf+BnYB9QyXM7CejnWS4iIiIipVBAgOHW2Gh+e7gnsU0i2X84gwc/X8zt4+azM+Wo2+WJ+LQiBSxwRrKstZdaa2tYa0M8t5dZa6d4s0ARERERcUf9quX59LbOjBjQhojQIKat3kWfV6fz+dzNGs0SOYkiBywRERERKfuMMQw8pwFThvbi/BY1SE3L5PFvl3HTR3PZsu+w2+WJ+JwiByxjTFtjzAhjzA/GmKm5Ho8yxlxrjFGzfhEREZEyolalMD68JYbXBranSvlgZq3fQ79RMxgbl0B2tkazilPnHpF07hHpdhlSQKYow7vGmP8CT3I8oFlrbaBnWSNgHfCQtfYNbxXqr2JiYuz8+fPdLkNERETkmD0H03hm4gomLd0BQEzDKrxwdVsaVw93uTKRgjHGLLDWxhTHvgs9gmWMGQg8DUwB2gPP515urd0IzAcu80J9IiIiIuJjqoWH8tb1HXj3xo5Ujwhl/qb9XPjaTN75cwOZWbpek7cdTM3kYGqm22VIARVliuADwHrgcmvtUiA9n3VWAU3PpDARERER8W39W9di6sO9uLpjPdIzs3nh19Vc+XY8q3YccLu0MuXD1zby4Wsb3S5DCqgoAasNMNlam1+wyrEdqFm0kkRERESktKhUPpiXr2nH2MGdqFMpjGXbUrj0jVmMnLKW9EyNZon/KUrAMsDp3i01AV0kQURERMRPnNu8BpMf7smNXRqQmW15bdo6Ln1jFku2JLtdmkiJKkrAWgd0O9lCY0wA0B1YUdSiRERERKT0iQgLZvgVbfj8zi40jCzPmqRUrnw7jud/XsXRjCy3yxMpEUUJWF8CHYwxj5xk+ZNAE2B8kasSERERkVKrS6NIfn2wJ3f0iAbgvRkbufC1mcxN2OdyZSLFr9Bt2o0x5YA4oB1Ot0ALdAJGAj2AGOAvoJe1Vu1OzpDatIuIiEhptmjzfh77einrdh0E4JauDXmsfwsqhAa5XFnpsWC2E0w7dq3qciVlR3G2aS/qdbAqAa8BNwCBuRZlA58B91lrU71SoZ9TwBIREZHSLi0zizd/X++0cc+21K1cjhFXtaFH0+pulyZ+yucC1rGNjamKM3oVCaQAc621u71Um6CAJSIiImXHiu0pPPb1UlZsd9q4XxtTj6cubkmlcsEuV+bb9u91mndXiQxxuZKyw9cuNLzRGPMWgLV2n7V2srV2vLV2ksKViIiIiJxMqzqV+P7eWB7t15yQwAC+nL+VPq9OZ8rKJLdL82nj3klk3DuJbpchBVSUJhfVcUarREREREQKJTgwgHvPa8LPD3anQ4PK7EpN446P53P/hEXsPZjmdnkiZ6woAWsF0NjbhYiIiIiI/2hSI4Kv/tGNf13SknLBgfy4ZDt9Rs5g4pLtnMkpLCJuK0rAeh241BjT1tvFiIiIiIj/CAww3NY9mskP9aRro0j2HUrngQmLuPOTBSQdOOp2eSJFUpT+mFuBqUCcMeY9YB6wE6dd+wmstTPOrDwRERERKesaRJZn/B2dmTB3C//7eRVTVibx18a9/OvillwTUw9jjNslihRYUa6DlY0TpnJ+00+6A2tt4MmWScGoi6CIiIj4k+3JR3jqu2X8scbpndajaTWeH9CGelXKu1yZe5YtTAagTYfKrtZRlvhUm3ZjzLOcIlTlZq39TxFqklwUsERERMTfWGv5fvE2/vPjSpIPZ1AhJJBhF7bgxs4NCQjQaJacOZ8KWFKyFLBERETEX+1OTeOZicv5edlOAM6JqsqIq9rQqHq4y5WVrKTtzvloNeuEuVxJ2eEz18EyxjQwxlxljBlgjKlfHAWJiIiIiABUjwjl7Rs68s4NHagWHsrcxH1c+NpM3pu+gcysbLfLKzETRm9mwujNbpchBVTggGWMeRnYCHwJfAUkGGNeKq7CREREREQALmxTm6lDezKgQ13SMrN5/pfVXPVOPGt2prpdmsjfFChgGWMGAUNxGlusBtZ4vh/qWSYiIiIiUmwqlw/h1WvbM+bWTtSuFMaSrSlc8sZMXpu6jvRM/xnNEt9X0BGs24FM4AJrbStrbUugH5AN3FZcxYmIiIiI5HZeixr89nBPru/cgIwsy8ipa7nszVks25ridmkiQMEDVlvgB2vtHzkPWGunAj8A7YuhLhERERGRfEWEBfO/K9sw/o7ONKhantU7U7ni7ThG/LKaoxlZbpcnfq6gAasKztTAvFYDlb1WjYiIiIhIAXVrXI1fH+rBbd2jybaWd6dv4KLXZzI/cZ/bpXlV/ytq0f+KWm6XIQVU0IAVAGTk83gGxy84LCIiIiJSosqHBPGvS1ry9T+60aRGOBt3H+Ka92bz7MQVHErLdLs8r2jRuiItWld0uwwpoMK0adcFs0RERETEJ3VsWIWf7u/Ovec1JsAYxsYn0m/UDOLW73G7tDO2JfEwWxIPu12GFFCBLjRsjMmm8AHLWmuDilSVHKMLDYuIiIgUzvJtKTz69VJW7TgAwMBO9Xny4rOoGBbscmVFM2r4WgAeerqZy5WUHb5yoWFTyK9CXcRYRERERMQbWtetxMT7Yvln32aEBAbw+bwt9Hl1OtNWJbldmviBAoUga21AUb6Ku3gRERERkfwEBwZwX++mTHqgO+3rVybpQBq3jZvPQ58vYt+hdLfLkzJMIUhEREREyqymNSP45u5uPH3xWYQFB/D94u30eXU6Py3dTkFOlREpLL8LWMaYJ4wx1hjzZq7HjDHmWWPMdmPMEWPMn8aYVrmWhxpjPjHGHDDGrDXGXJBnn/cbY8aX5HGIiIiISMEEBhhu79GIXx/sSefoquw9lM594xfxj08XsOvAUbfLkzLGrwKWMaYLcCewNM+ix4BHgPuBTsAuYIoxJsKz/E6gI9AVeB8Yb4wxnn3W92z7UHHXLyIiIiJFF1WtAhPu6MLwK1oTHhrE5BVJXPDqdL5esNWnR7Muu7YOl11bx+0ypID8JmAZYyoBnwFDgP25Hjc44WiEtfYba+1y4BYgArjes9pZwERr7QrgLaA6UM2z7G3gWWvtrpI4DhEREREpuoAAw41dGjL54Z70aladA0cz+edXS7h1zDy2JR9xu7x8NWoWTqNm4W6XIQXkNwELZ+Tpa2vtH3kejwZqAb/lPGCtPQLMALp5HloCdDfGlAP6ATuAPcaYa4Fy1tqxxVy7iIiIiHhR3crlGDu4Ey9f046KYUFMX7ubvq9O55O/NpGd7VujWRvXHmTj2oNulyEF5BcByxhzB9AEeDqfxbU8t3n7diblWjYaJ2StBJ4CrgUqASOAfxhjnvGcmzXDGNPCC/XeaYyZb4yZv3v37jPdnYiIiIjkwxjD1R3rMXVoL/q1qsmh9Cz+9f1yBn3wF4l7Drld3jETv9zOxC+3u12GFFCZD1jGmObA/4DrrbUZRdmHtTbDWnuvtTbaWtvJWjsLeAlnVKwFcB3OOVqfAp+cac3W2vettTHW2pjq1auf6e5ERERE5BRqVAzj3Rs78tb1HYisEMKchH30f20GH8zYSJaPjWaJ7yvzAQunMUU1YIUxJtMYkwn0Au7xfL/Xs17NPNvVBHbmt0NjTC8gBngZ6A1Mstam4pzjFZOrOYaIiIiIlALGGC5uW5spQ3txRfs6HM3I5rmfV3HVO/GsTUp1uzwpRfwhYH0PtAHa5/qaD3zu+X4tTpDqk7OBMSYM6AHE592ZMSYUeAe401qbifMzDPYsDvHcBnr5GERERESkBFStEMKogWfz0S0x1KoYxuItyVzy+izemLaOjKxst8uTUqDMByxrbbK1dnnuL+AQsM9z3wKjgGHGmAHGmNbAWOAgkN+1rf4FTLbWzvPcnwVcZYxpDzwKrLDWJhfrQYmIiIhIsTr/rJr8NrQng86pT3pWNq9MWcvlb8axfFuK26WJjwtyuwAf8SJQDqcFexVgDtDXM+3vGE/4ug5n5CvHtzijXX8A23BavIuIiIhIKVcxLJjnB7TlkrZ1GPbNUlbuOMDlb8VxV89GPHB+U8KCS2bS0lU31iuR5xHvML58UTWBmJgYO3/+fLfLEBEREfFrh9IyeWnyGsbNTsRaaFy9Ai9e3Y6ODau4XZoUgTFmgbU2pjj2XeanCIqIiIiInKkKoUE8e1krvrqrK42qV2DD7kNc/W48//1xJYfTM4v1uVcvP8Dq5QeK9TnEexSwREREREQKKCaqKj8/0IO7z21MgDGMjkug/6iZxK/fU2zP+ev3O/n1+3ybW4sPUsASERERESmEsOBAhvVvwff3xNKiVgSb9x3m+g/n8MS3yzhwtEiXXZUyRAFLRERERKQI2tSrxMT7ujO0TzOCAw0T5m6m38gZ/LF6l9uliYsUsEREREREiigkKIAHzm/KT/f3oF29SuxIOcrgsfMY+sVi9h9Kd7s8cYECloiIiIjIGWpeK4Jv7u7Gkxe1IDQogG8XbaPPyOn8smyH26VJCVObdh+nNu0iIiIipUvCnkMM+3opcxP3AXBh61r85/JW1IgIK9L+krYfBaBmnaJtL3+nNu0iIiIiIqVEdLUKfH5nF/7v8laUDwnkl+U76fPqDL5duJWiDG7UrBOmcFWKKGCJiIiIiHhZQIDhpq5R/PZwT3o0rUbKkQyGfrmEIWPnsT35SKH2tWxhMssWJhdPoeJ1ClgiIiIiIsWkXpXyfDzkHF68ui0Vw4L4Y81u+o6cwWdzNpGdXbDRrGk/72Laz+pMWFooYImIiIiIFCNjDNfG1GfK0F70aVmTg2mZPPXdcm74cA6b9h5yuzzxMgUsEREREZESULNiGO/f1JE3Bp1N1QohzN64l36jZvDRrASyCjiaJb5PAUtEREREpIQYY7i0XR2mPNyTy9rV4WhGNv/300queTee9btS3S5PvEABS0RERESkhEWGh/L6oLP54OYYakSEsnBzMhe9Nou3/lhPRla22+XJGdB1sHycroMlIiIiUralHMnguUkr+XL+VgBa1anIi1e3pVWdSgDs35sOQJXIENdqLGt0HSwRERERkTKqUrlgXry6HZ/cdg51K5djxfYDXP5mHC9PXkNaZhZVIkMUrkoRjWD5OI1giYiIiPiPQ2mZvPjrasbN3gRA0xrh3NWsEdGRFejYtarL1ZUdxTmCFVQcOxURERERkcKrEBrEfy5vzcVt6zDsm6Ws23WQr5dvpXalMFp2rES5kEC3S5TT0BRBEREREREfc050VX55sAd39WoEwI6Uo/R/bQZ/bdzrcmVyOgpYIiIiIiI+KCw4kCcuPIvWdSpRPjiITXsPM/D9v3jqu2WkHs1wuzw5CQUsEREREREfFh4WROt6FXnw/KYEBRg+m7OZfiNn8OeaXW6XJvlQwBIRERER8XEBxvBwn2b8eH932tStxPaUo9w6Zh6PfLmE5MPpbpcnuaiLoI9TF0ERERER/3YwNROA8AinP11mVjYfzkrg1SlrSc/Mplp4KMOvaE3/1rXcLLNU0XWwRERERET8VHhE0LFwBRAUGMA/ejXmlwd7ENOwCnsOpvGPTxdw72cL2XMwzcVKBRSwRERERER82uzpe5k9/e/dAxtXD+fLu7ryn8taUT4kkEnLdtDn1el8v2gbmqXmHgUsEREREREfNmfmXubMzL89e0CA4ZZuUUx+qCexTSLZfziDh75YzO3j5rMz5WgJVyqggCUiIiIiUurVr1qeT2/rzAtXtSEiLIhpq3fR59XpfD53s0azSpgCloiIiIhIGWCM4bpODZjycC8uOKsGqWmZPP7tMm78aA5b9h12uzy/oYAlIiIiIlKG1KoUxgc3x/DawPZUKR9M3Pq99B05gzFxCWRnazSruClgiYiIiIiUMcYYLm9flylDe3FJ29ocycjiPz+u5Nr3ZrNh90G3yyvTdB0sH6frYImIiIj4t/S0bABCQos+NjJ5xU6e/n45u1PTCAkK4KELmnJnj0YEBfrneIuugyUiIiIi4qdCQgPOKFwB9GtVi6kP9+LqjvVIz8zmxV/XcOXb8azaccBLVUoOBSwRERERER82Y8puZkzZfcb7qVQ+mJevace4IedQt3I5lm1L4dI3ZvHqlLWkZ2Z7oVIBBSwREREREZ+2cM5+Fs7Z77X99WpWnckP9+SmLg3JzLa8Pm0dl7wxk8Vbkr32HP5MAUtERERExM+Ehwbxf1e05vM7uxAVWZ61SQcZ8HYc//t5FUczstwur1RTwBIRERER8VNdGkXyy4M9uaNHNADvz9jIha/NZG7CPpcrK70UsERERERE/Fi5kECeurgl394TS7Oa4STsOcS1783m3z8s52BaptvllToKWCIiIiIiQvv6lfnx/u480LsJQQGGj2dvot/IGcxYe+YNNvyJroPl43QdLBEREREpaSu3H+Cxb5awfJvTxv2ajvV4+uKWVCof7HJl3qHrYImIiIiISIlpWaci398Ty2P9mxMSFMBXC7bSZ+R0flux0+3SfJ4CloiIiIiID5s6KYmpk5JK/HmDAgO459wm/PxADzo0qMyu1DTu/GQB941fyN6DaSVeT2mhgCUiIiIi4sOWL0ph+aIU156/SY1wvvpHN/59SUvKBQfy09Id9Bk5g4lLtqPTjf5OAUtERERERE4pMMAwpHs0kx/qSbfGkew7lM4DExZxx8cLSDpw1O3yfIoCloiIiIiIFEiDyPJ8dntnnh/QhvDQIKauSuKCV6fz5bwtGs3yUMASEREREZECM8Yw6JwGTBnak94tapB6NJPHvlnKzaPnsmXfYbfLc50CloiIiIiIDwsODiA42Pc+tteuVI6Pbolh1HXtqVw+mJnr9tBv1AzGxSeSne2/o1m6DpaP03WwRERERMTX7U5N45mJy/l5mdPGvVNUFV64qi2Nqoe7XFn+dB0sERERERHxWdUjQnn7ho68c0MHqoWHMi9xPxe+NpP3pm8gMyvb7fJKlAKWiIiIiIgP++W7Hfzy3Q63yyiQC9vUZurQngzoUJe0zGye/2U1A96JZ/XOA26XVmIUsEREREREfNiaFamsWZHqdhkFVrl8CK9e254xgztRu1IYS7emcOkbsxg1dS3pmWV/NEsBS0REREREvO685jX47eGeXN+5ARlZllFT13HZm7NYujXZ7dKKlQKWiIiIiIgUi4iwYP53ZRvG39GZBlXLs3pnKle8Fcfzv6ziaEaW2+UVCwUsEREREREpVt0aV+PXh3pwW/doLPDe9I1c9NpM5iXuc7s0r1PAEhERERHxYRXCg6gQHuR2GWesfEgQ/7qkJV//oxtNaoSzcc8hrn1vNs9OXMGhtEy3y/MaXQfLx+k6WCIiIiJS1hzNyOLN39fzzvQNZGVb6lUpx4gBbenetFqJPL+ugyUiIiIiImVGWHAg/+zXnB/ujaVl7Yps3X+EGz+aw7Cvl5JyJMPt8s6IApaIiIiIiA/74fNt/PD5NrfLKBat61bih/ti+WffZoQEBvDF/C30HTmdqSuT3C6tyBSwRERERER8WML6QySsP+R2GcUmODCA+3o3ZdID3WlfvzJJB9K4/eP5PPj5IvYdSne7vEJTwBIREREREdc1rRnBN3d34+mLzyIsOIAfFm+nz6vT+WnpdkpT3wgFLBERERER8QmBAYbbezTi1wd70qVRVfYeSue+8Yu465MF7Dpw1O3yCkQBS0REREREfEpUtQqMv70Lw69oTXhoEL+tTOKCV6fz1fwtPj+apYAlIiIiIuLDKlcNpnLVYLfLKHEBAYYbuzTkt4d7cm7z6hw4msmjXy/lljHz2JZ8xO3yTkrXwfJxug6WiIiIiPg7ay3fLtzGf39aScqRDCqEBPL4RWdxwzkNCAgwhd6froMlIiIiIiJ+yxjDVR3rMWVoT/q3qsWh9Cz+9f1yBn7wF4l7fKvDogKWiIiIiIgP+/qTLXz9yRa3y/AJNSLCePemjrx9QweqhYcwN2Ef/V+bwQczNpKV7Rsz8xSwRERERER82NZNR9i6yXfPOXLDRW1qM+XhXlx5dl2OZmTz3M+rGPBOPGuTUt0uTQFLRERERERKnyoVQhh5XXtG3xpDrYphLNmSzMWvz+SNaevIyMp2rS4FLBERERERKbV6t6jJb0N7Muic+mRkWV6ZspbL3oxj+bYUV+pRwBIRERERkVKtYlgwzw9oy2e3d6Z+1XKs2nGAy9+K48VfV3M0I6tEa1HAEhERERHxYTVqhVKjVqjbZZQKsU2qMfmhngyOjSLbWt7+cwMXvz6TBZv2lVgNug6Wj9N1sERERERECm/Bpn08+vVSNu4+hDHw4PlNeeiCZoCugyUiIiIiIlIoHRtW5ecHenD3uY0JMIZG1cNL5HmDSuRZRERERESkSMZ/uAmA629v6HIlpU9YcCDD+rfg2pj6REWWL5HnVMASEREREfFhu3amuV1CqRddrUKJPZemCIqIiIiIiHiJApaIiIiIiIiXKGCJiIiIiIh4ic7BEhERERHxYfUalnO7BCkEBSwRERERER929U313S5BCkFTBEVERERERLxEAUtERERExIeNfTuBsW8nuF2GFJCmCIqIiIiI+LDkfRlulyCFoBEsERERERERL1HAEhERERER8RIFLBERERERES/ROVgiIiIiIj4sukkFt0uQQlDAEhERERHxYZcPrOt2CVIImiIoIiIiIiLiJQpYIiIiIiI+7INRG/lg1Ea3y5AC0hRBEREREREfduhgptslSCFoBEtERERERMRLFLBERERERES8pMwHLGPME8aYecaYA8aY3caYH40xrfOsY4wxzxpjthtjjhhj/jTGtMq1PNQY84lnH2uNMRfk2f5+Y8z4kjomERERERHxTWU+YAHnAm8D3YDeQCYw1RhTNdc6jwGPAPcDnYBdwBRjTIRn+Z1AR6Ar8D4w3hhjAIwx9T3bPlTcByIiIiIi/qd5qwiat4o4/YriE4y11u0aSpQxJhxIAa6w1v7oCUrbgTettc951imHE7L+aa19zxjzNnDAWvu4Z9lhoIa1drcx5kfgG2vt2OKoNyYmxs6fP784di0iIiIi4peMMQustTHFsW9/GMHKKwLnuPd77kcDtYDfclaw1h4BZuCMegEsAbp7wlU/YAewxxhzLVDO2+HKGHOnMWa+MWb+7t27vblrEREREREpRv4YsF4DFgOzPfdreW6T8qyXlGvZaJyQtRJ4CrgWqASMAP5hjHnGc27WDGNMizMt0Fr7vrU2xlobU7169TPdnYiIiIiUYm+9sJ63XljvdhlSQH51HSxjzKtAd6C7tTaroNtZazOAe/Ps6wOc87FaANfhnKM1CPgE5zwuEREREZEzlpGR7XYJUgh+M4JljBmJE4B6W2tzXwp7p+e2Zp5NauZalndfvYAY4GWcxhmTrLWpwGdATK7mGCIiIiIi4kf8ImAZY17jeLhanWdxAk6Q6pNr/TCgBxCfz75CgXeAO621mTg/w2DP4hDPbaBXD0BEREREREqFMh+wjDFvAYOB64H9xphanq9wAOu0URwFDDPGDPBcI2sscBDI79pW/wImW2vnee7PAq4yxrQHHgVWWGuTi++IRERERETEV/nDOVj3eG6n5Xn8P8Cznu9fBMoBbwFVgDlAX8+0v2M84es6oH2uh7/FGe36A9gG3OK90kVERETE37U+u5LbJUgh+N11sEobXQdLRERERMS7dB0sERERERGRUkABS0RERETEh40avpZRw9e6XYYUkAKWiIiIiIiIlyhgiYiIiIiIeIkCloiIiIiIiJcoYImIiIiIiHiJP1wHS0RERESk1OrQuYrbJUghKGCJiIiIiPiwnn2qu12CFIKmCIqIiIiI+LD0tGzS07LdLkMKSAFLRERERMSHvf3Set5+ab3bZUgBKWCJiIiIiIh4iQKWiIiIiIiIlyhgiYiIiIiIeIkCloiIiIiIiJeoTbuIiIiIiA/r3CPS7RKkEBSwRERERER8WNdeCliliaYIioiIiIj4sIOpmRxMzXS7DCkgBSwRERERER/24Wsb+fC1jW6XIQWkgCUiIiIiIuIlClgiIiIiIiJeooAlIiIiIiLiJQpYIiIiIiIiXqI27SIiIiIiPqzH+dXcLkEKQQFLRERERMSHdexa1e0SpBA0RVBERERExIft35vO/r3pbpchBaSAJSIiIiLiw8a9k8i4dxLdLkMKSAFLRERERETESxSwREREREREvEQBS0RERERExEsUsERERERERLxEbdpFRERERHzY+RfVcLsEKQQFLBERERERH9amQ2W3S5BC0BRBEREREREflrT9KEnbj7pdhhSQApaIiIiIiA+bMHozE0ZvdrsMKSAFLBERERERES9RwBIREREREfESBSwREREREREvUcASERERERHxErVpFxERERHxYf2vqOV2CVIIClgiIiIiIj6sReuKbpcghaApgiIiIiIiPmxL4mG2JB52uwwpIAUsEREREREf9s2nW/nm061ulyEFpIAlIiIiIiLiJQpYIiIiIiIiXqKAJSIiIiIi4iUKWCIiIiIiIl6iNu0iIiIiIj7ssmvruF2CFIICloiIiIiID2vULNztEqQQNEVQRERERMSHbVx7kI1rD7pdhhSQApaIiIiIiA+b+OV2Jn653e0ypIAUsERERERERLxEAUtERERERMRLFLBERERERES8RAFLRERERETES9SmXURERETEh111Yz23S5BCUMASEREREfFh9aPKu12CFIKmCIqIiIiI+LDVyw+wevkBt8uQAtIIloiIiIiID/v1+50AtGhd0eVKpCA0giUiIiIiIuIlClgiIiIiIiJeooAlIiIiIiLiJQpYIiIiIiIiXqImFyIiIiIiPmzQkAZulyCFoIAlIiIiIuLDatYJc7sEKQRNERQRERER8WHLFiazbGGy22VIAWkES0RERETEh037eRcAbTpUdrcQKRCNYImIiIiIiHiJApaIiIiIiIiXKGCJiIiIiIh4iQKWiIiIiIiIl6jJhYiIiIiID7vl7ii3S5BCUMASEREREfFhVSJD3C5BCkFTBEVEREREfNiC2ftYMHuf22VIAWkES0RERETEh82ctgeAjl2rulyJFIRGsERERETEVSNGjOCJJ5446X2R0kQjWCIiIiJ+asSIEUyePBmAgIAAqlWrRpcuXbj99tuJiIhwubrCmzZtGhMmTGDr1q2UL1+ejh07cvfdd1O16vGRn2+++YYffviBpKQkKlasSGxsLHfddRflypU76X4XLlzI6NGj2bhxI2FhYfTr14/bb7+dwMBAAHbu3Mnzzz/PmjVraN68OU888QS1atU6tv2///1vzjnnHC655JLiO3jxGRrBEhEREfFjHTt25JtvvuHzzz/n0UcfJT4+nlGjRrldVqEtX76c5557jn79+jFmzBiGDx/Opk2bGD58+LF1pk2bxrvvvsuNN97IuHHjePLJJ5kzZw5vvPHGSfe7YcMGhg0bRseOHfnggw945plniI+P5/333z+2zttvv021atX48MMPqVq1Ku+8886xZbNmzSIlJYWLL764eA5cfI5GsERERET8WHBw8LERnurVq3Peeefx66+/nrDOL7/8whdffMH27dupWbMml112GVdffTXGGAAOHTrE+++/z6xZs0hNTaV27drceuutnHfeeRw4cIDXXnuNpUuXcuDAAWrXrs11113HhRde6NXjWLFiBdWrV+eaa64BoHbt2lx55ZW8/vrrx9ZZvnw5LVu2pG/fvgDUqlWLvn37MmPGjJPu948//iAqKorBgwcDULduXe666y7+85//cMstt1C+fHk2b97MPffcQ7169ejfv/+xgHX48GHefvttRowYcexnJWWfApaIiIiIALBjxw7mzp1LUNDxj4g//fQTY8aM4YEHHqBZs2YkJCTw8ssvExQUxJVXXom1lmHDhnHw4EGGDRtG/fr12bx5M+np6QCkp6fTtGlTBg0aRIUKFViwYAGvvvoqNWvWpEOHDgWq69dff+WFF15gwoQJJ0y9y61169Z8+OGHxMfH07VrVw4cOMDvv/9Oly5djq3Tpk0bfvvtN1auXEnLli3ZtWsX8fHxJ6yTV3p6OiEhJ7ZJDw0NJT09nbVr19K+fXsaN27MggUL6NSpE/Pnz6dx48YAvP/++/Tv358GDRoU6DhP5vYHG53R9lKyFLBERERE/NjcuXO58MILyc7OPhaK7rnnnmPLP/nkE+666y569eoFOCND119/PT/88ANXXnklCxYsYOXKlYwZM4aGDRseWydHtWrVGDhw4LH7l1xyCQsXLmTatGkFDlgVKlSgfv36JwS/vFq1asW///1vnnvuOdLS0sjKyiImJobHH3/82Dq9e/fmwIEDPPjgg1hrycrKom/fvtx5550n3e8555zD119/zZQpU+jduzf79+/n448/BmDv3r0A3H333bzyyisMHDiQRo0a8cgjj7BixQqWLl3KyJEjGT58+LFQN3ToUMqXL1+g484RHqGP7KWJXi0RERERP9auXTseeeQR0tLSmDRpEtu2beOqq64CIDk5mV27dvHqq68ycuTIY9tkZWVhrQVg/fr1VK1a9Vi4yis7O5vx48fzxx9/sHv3bv6/vfuPtqosEzj+fSQERxwqEE0dNUKU1EJFDZWszMQcWjlTOdaAKCb+wvyVZtmSaRRxSvQuNQmQIRACq3EkZ1JzzAhoVHTyt9mMgHfRRUEIfyAF+swfe9/r4QjcSxw4wP1+1tprn73fd+/77nufdc557vvud69evZo1a9bQt2/fNrdxwIABDBgwYIN1Fi5cSENDA4MHD+aII47glVdeYezYsYwZM6ZlRsLHH3+cyZMnc+GFF9KnTx8WLVrEzTffzKRJk1qGAFbr168f55xzDjfeeCOjR4+mY8eODBkyhCeeeIIddiimM+jevTvXXnttyzFr1qzhsssu45JLLmHatGl06NCBKVOmMHr0aCZPnszZZ5/d5msH+M2vikSu/7HdNuo41YcJliRJUjvWqVMn9txzTwBGjBjBRRddxOTJkxk6dGhLEnXxxRdz4IEH/kXnnzFjBnfccQfnn38+PXv2ZKeddmLChAksX768ZtcAMHXqVPr06dPSW9azZ086d+7MBRdcwJlnnsmuu+7KbbfdxnHHHdcy4UTPnj1ZtWoV3/3udxkyZEjLrIDVvvjFL/KFL3yBZcuW0aVLFxYvXsz48ePX6qmrNG3aND7ykY9w4IEH0tDQwBlnnEGHDh047rjjmDhx4kZf20O/NsHalphgSZIkqcVpp53G5ZdfzqBBg+jWrRvdunVj0aJFLRNDVOvVqxfLli1j4cKF6+zFevLJJ+nfv3/L8ZlJY2MjXbp0qWm7V61a1dKj1Kx5uzlRXF+d5vINiQi6dSsSnAceeIAePXrQu3fvd9V78cUXueeee5gwYQJQ9OCtWbMGgNWrV/P2229v5JVpW+M07ZIkSWrRt29f9tlnH6ZMmQLA6aefzvTp0/nxj39MY2Mj8+fP57777mPq1KlAMc17nz59uOqqq3jkkUdoampi3rx5zJ49G4C99tqLxx57jCeffJIXX3yRhoYGmpqaNqpNv/71rxkyZAhLly5db52jjjqKOXPmcNddd9HU1MRTTz3FTTfdxH777UePHj1a6tx999088MADLe2cOHEi/fv3b+m9uvPOOxkyZMha554+fTovvPACCxYsYPLkyUybNo0RI0a8K1nLTK6//nrOO++8lvusDj74YGbOnEljYyMzZ87k4IMP3qhr17bHHixJkiSt5ZRTTmH06NGceuqpnHTSSXTu3JkZM2Ywfvx4OnXqxL777svJJ58MFD071113HWPHjuWaa65h5cqV7LHHHgwdOhSAwYMHs3jxYi6//HI6derEwIEDOf7441mwYEGb2/PGG2/Q2NjY0hO0LgMHDmTlypXceeed3Hrrrey8884ccsghDB8+vKXO4MGDiQgmTpzIkiVL6Nq1K0cddRTDhg1rqbNixQoaGxvXOvfDDz/M7bffzurVq/nQhz7E1VdfzZFHHvmuNtx999107dqVo48+umXf0KFDGTVqFMOHD+eggw5q+b1o+xVt6RJV/fTr1y/nzZtX72ZIkiSpTm68+nkALrzy3UMS9ZeJiEczs9/mOLc9WJIkSdJW7Nyv96p3E7QRTLAkSZKkrdiOnZw2YVviX0uSJEnais36xRJm/WJJvZuhNjLBkiRJkrZijz20nMcequ1zw7T5mGBJkiRJUo2YYFWIiHMjYn5ErIqIRyNiQEXZmIhYFhGNEfGVquMGRcTsiIgt32pJkiRJWwsnuShFxClAA3AuMLtc/zwiPgx8FPgy8BlgP2BiRNybmUsjYhfgBuBz6Zz3kiRJUrtmD9Y7LgYmZeb4zHw2M0cATcA5QB/gwcycl5k/Al4FPlgeNwq4PTOfqUurJUmSJG01fNAwEBE7AiuBUzPzxxX7bwEOokiibgEOB3oCvwT2AfYHJgCHZuafa9ies4Czys2DgKdqdW61S92BpfVuhLZpxpA2lTGkTWUMaVNVx9A+mbnr5vhBDhEsdAc6AC9V7X8J+HRm3hsRtwOPAG8CpwGvA+OAs4HTI+JCiiRtRGbO3ZTGZOa48txExLzN9ZRptQ/GkDaVMaRNZQxpUxlD2lRbMoZMsNooM0cCI5u3I+JbwFxgBfAdoC9wMHBHRPSsZY+WJEmSpG2DCVZhKfAWsFvV/t2AxdWVI6I3MAw4hKI3a1ZmNgFNEdGJYujgk5u1xZIkSZK2Ok5yAZS9TY8Cx1cVHU/RS9WinIp9HHBpZq6g+B12rCjrSDHcsFbG1fBcap+MIW0qY0ibyhjSpjKGtKm2WAw5yUWpnKZ9CsX07HMo7q0aBhyYmQsr6p0JnJSZJ5fb/YAHgM9STOc+Etg7M9/cohcgSZIkqe4cIljKzBkR0Q24EvgAxcx9n61KrnYry4+uOG5eRFwL3Am8Bgw2uZIkSZLaJ3uwJEmSJKlGvAdLkiRJkmrEBEuSJEmSasQES5IkSZJqxARLkiRJkmrEBEuSJEmSasQES5IkSZJqxARLkiRJkmrEBEuSJEmSasQES5IkSZJqxARLkiRJkmrEBEuSJEmSasQES5IkSZJqxARLkiRJkmrEBKvOIuLciJgfEasi4tGIGFBRNiYilkVEY0R8peq4QRExOyJiy7da9RARV0TEIxHxakQsiYifRcRBVXUiIkZGxB8i4s2IeDAiDqwo7xQRU8pzPB8Rn646fkRETNtS16T6KmMqI+Lmin3GkDYoIj4QET8s34dWRcQzEXFsRbkxpPWKiA4R8c8V333mR8TVEfGeijrGkFpExMcjYmZELCo/s4ZWlW8wXso67ytjZkW5TImI91aU7xsRsyLijXK9b9XxP42Is9raZhOsOoqIU4AGYBRwCDAX+HlE7B0Rg4AvA58BLgMmRET38rhdgBuAszIz69J41cMngO8DRwGfAtYA90fE+yvqXAZcAowADgdeBn5RxgzAWcBhQH9gHDCtOUmPiL8pj71wc1+I6i8iPkYRD09UFRlDWq/yC8kcIICTgD4UsfJyRTVjSBtyOXAecAFwAPC1cvuKijrGkCp1AZ6iiJU311HeWrwATAMOBQaWy6HAlIry64FFQF+gCfhec0FEfB7YFRjf5hZnpkudFuAhYHzVvt8D15bBMr1i/0vA4eXrm4CR9W6/S32X8g3nLWBQuR3lm8K3KursBLwGDC+3vw+MrihLYNdy+2fA0Hpfl8sWiZ2uwP8BnwQeBG42hlzaGDujgDkbKDeGXFqLobuBH1bt+yFwtzHk0ob4eb3y79vGeOlTxsjRFXWOKfftX24/AwwsX58IPF2+/uvy8/KAjWmnPVh1EhE7Uvz35b6qovsoeigeB/qVXZqHUQTL/5b/df4kxYec2rddKHqhl5fbHwR2pyKmMvNNYBZFTEERV8dExE7ACRRvSksj4kvATpk5acs0XXU2DvhJZv6yar8xpNZ8HngoImZExMsR8duIOL+59wBjSK2bDXwyIg4AiIgPU4zK+M+y3BjSxmhLvPSnSMzmVhw3B3iDtWPq0xGxA8XosebRHaOBSZn53MY0ygSrfroDHSh6piq9BOyemfcCtwOPAJOA0yiCYxxwNnB6RDwbxX1bR6H2qAH4LfCbcnv3cr3OmCpfT6R4E3kG+BbwJYrejNHA2RFxVTmefVbzh5+2LxHxVaAXcOU6io0htaYncC7wAsUX2waKv/15ZbkxpNZcRzE065mIWA08TdGj9f2y3BjSxmhLvOwOLMmySwqgfP1yRZ1LKYasLgD2Ay4tv18PAG6NiKkR8UJETIuIv26tUe9prYLqJzNHAiObtyPiWxTZ9wrgOxTjRA8G7oiInpn55y3fStVDRIyh6N4+JjPfautxmbmad74INZ9rPEXifgBwCkXP6qkUH4CH16rNqr+I2J+i9/uYMhY2mjHU7u0AzMvM5vtl/ici9qOIiZvXf9g7jKF27xRgCMV95k9TfJdpiIj5mXlbW05gDKnWMnMR8LfN2+VIs3uA4cA3KO57703R6fFt4OsbOp89WPWzlOL+md2q9u8GLK6uHBG9gWEUN4d+EpiVmU2ZeR/QCdh/8zZXW4uIuIHiQ+NTmflCRVFz3LQppspzHQv0o7iZ81PAf2Tma8BUiiGqu6zrOG2z+lP0nj8dEWsiYg1wLHBu+fqVsp4xpPVpoug1qPQssHf52vchtea7wPcyc3pmPpmZU4AxvDPJhTGkjdGWeFkM7FoxlJnydQ/WE1MUSdWszJxLEVN3ZOYa4Efl9gaZYNVJ2dv0KHB8VdHxrD1GtDkIxgGXZuYKir9bx4qyjhTDDbWdi4gG3kmuqscDz6d4ozi+on5niu7tuVV1iYhOwK0Us1GuoSKugB3LtXG1ffl3il7vvhXLPGB6+fp5jCFt2Bze/Q+93sDC8rXvQ2rNX1H8g7nSW7zzndQY0sZoS7z8hmJisP4Vx/UHdmbdMXUAxa05zUl/dUy1Gk8OEayvMcCUiHiY4kPrbGAPYGxVvWHA8sz8t3J7NvCdiDgG+CiwGvjdlmmy6iUibgEGU9xkvjwimscNv56Zr2dmRsSNwDcj4jmKL8tXUty7t67ngXwbuDczHym3ZwM3RMQkivHsT2fmHzfT5agOyr/nHyv3RcQbwLLMfKrcvhFjSOt3AzC3HLI+g+IRIxcA34TivgZjSK34GfCNiJhPMUTwEOBiYDIYQ3q3iOhCce8wFMnO3hHRl+Kz68XW4iUzn42Ie4AfxDvPsvoBxcyVa31/rujUuDgzXy13z6a4t+9Z4Jxye8PqPd1ie18obhZeAPyJokfr41Xlu5Xle1btvwJYQnGj8cB6X4fLFomVXM8ysqJOUNy31wSsAn4FHLSOcx1E8UiAnSv27UBxw/pyiudNHFbva3bZInH1IOU07eW2MeTSWsycRDHBwCqKLzMXAGEMubQxfnYBbqTo9Xyz/B4zCuhsDLmsJ2Y+sZ7vP5PaGi/A+ygmj3u1XG4H3ruOnzUc+GnVvu7Azymmfr8H6N5am6M8UJIkSZK0ibwHS5IkSZJqxARLkiRJkmrEBEuSJEmSasQES5IkSZJqxARLkiRJkmrEBEuSJEmSasQES5IkSZJqxARLkiRJkmrEBEuSJEmSasQES5IkSZJqxARLkiRJkmrEBEuSJEmSasQES5IkSZJqxARLkiRJkmrEBEuSJEmSasQES5IkSZJqxARLkiRJkmrEBEuSJEmSasQES5IkSZJqxARLkiRJkmrEBEuSJEmSasQES5IkSZJqxARLkqStVEQMjYiMiKFV+xdExIL6tEqStCEmWJKk7VaZnFQub0XEsoh4sExeot5tlCRtX95T7wZIkrQF/FO57gj0Ak4GjgX6AefXq1GSpO2PCZYkabuXmSMrtyPiaGAWcG5EXJ+Z8+vSMEnSdschgpKkdicz5wDPAQEcVl0eEUdGxE8iYnFE/DkiGiPiBxGxx7rOFxHvj4hrIuKpiFgZESsi4vGIGB0RO1fUOywiGsqyZRGxKiJ+HxHXR8T7NtsFS5K2GHuwJEnt3erKjYg4AxgH/AmYCTQC+wFnAoMi4mOZ+WJF/Q8CvwT2AR4FbqX4B2Zv4CJgLPBGWf2rFMMTfwXcX9Y7DLgYODEijszM1zbPZUqStgQTLElSuxMRHwcOAP4MPFyxvzdFQrQAODYzF1WUHQfcBzRQJEnNplIkV9/MzGurfk534PWKXdcC52XmW1X1hgETgHOB6zbx8iRJdWSCJUna7kXEyPJl5SQXAVyamU0VVc8p63ytMrkCyMz/ioiZFL1Yu2TmaxFxGNAf+C3rSIwyc2nV9sL1NHEiMAY4YV3nkSRtO0ywJEntwVVV2wkMy8x/rdrfv1wfGxGHr+M8PYAOFMP/HgU+Vu6/NzPfbq0REdERGA78A/BhoCtr3w+9Z2vnkCRt3UywJEnbvcwMgHLCif7AbcDYiFiYmQ9UVO1Wrr/eyim7lOv3lutF66lXbQZF79kLwF3AYop7vQAuBDq18TySpK2UCZYkqd3IzDeA+yNiEPAY8MOI2D8zV5ZVVpTrrpn5ahtO+cdy3WrPU0T0o0iu7gdOzMw1FWU7AJe17SokSVszp2mXJLU7mfkEMB7Yi2Kmv2b/Xa4HtPFUzfVPKJOkDelVrmdWJlelI4Cd2vgzJUlbMRMsSVJ7dTXF8LxLK55BdTPFtO03lDMKriUidoyIluQrMx8F5gJ9gcvXUb9bRHQuNxeU609U1ekB3LIpFyJJ2no4RFCS1C5l5qKIGAt8jWJ43hWZ+Vz5HKyJwNMRcQ/wPMXMgntT9GwtoZjivdk/Ag8CoyLi78vXQfHsrM+UdRcAjwBzgL+LiLnAbGA34ETgd8AfNuPlSpK2EHuwJEnt2bXASuCCiNgNIDNvp3j471TgI8D5FElUL+AnFM+qapGZ84FDgX8BdinrD6NIyK4HXi7rvQV8juJBxHsAFwDHUDz/6gSqHngsSdo2RWbWuw2SJEmStF2wB0uSJEmSasQES5IkSZJqxARLkiRJkmrEBEuSJEmSasQES5IkSZJqxARLkiRJkmrEBEuSJEmSasQES5IkSZJqxARLkiRJkmrk/wFlqDez4/SWlgAAAABJRU5ErkJggg==",
=======
      "image/png": "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\n",
>>>>>>> origin/master
      "text/plain": [
       "<Figure size 864x648 with 1 Axes>"
      ]
     },
     "metadata": {
      "needs_background": "light"
     },
     "output_type": "display_data"
    }
   ],
   "source": [
    "# Plotting precision-recall tradeoff\n",
    "\n",
    "# Set up plotting area\n",
    "fig, ax = plt.subplots(figsize=(12,9))\n",
    "\n",
    "# Plot pairs of precision and recall for differing thresholds\n",
    "ax.plot(recalls, precisions, linewidth=2)\n",
    "\n",
    "# Add x- and y-axis labels\n",
    "ax.set_xlabel(\"Recall\", labelpad=20, fontsize=20)\n",
    "ax.set_ylabel(\"Precision\", labelpad=20, fontsize=20)\n",
    "\n",
    "# Set x- and y-axis limits\n",
    "ax.axis([0, 1.005, 0, 1.005])\n",
    "\n",
    "# Remove gridlines\n",
    "ax.grid(False)\n",
    "\n",
    "# Set font sizes and padding for tick labels\n",
    "ax.tick_params(axis=\"x\", labelsize=14, pad=15)\n",
    "ax.tick_params(axis=\"y\", labelsize=14, pad=15)\n",
    "\n",
    "# Plot on the precision and recall for our SGD model with threshold of zeros\n",
    "plt.plot([0.889, 0.889], [0., 0.832], \"slateblue\", linestyle=\"dashed\")\n",
    "plt.plot([0.0, 0.889], [0.832, 0.832], \"slateblue\", linestyle=\"dashed\")\n",
    "\n",
    "# Add title\n",
    "ax.text(x = 0.5, y = 1.05, s = \"Precision–recall tradeoff\", fontsize = 26, alpha = .75, ha=\"center\")\n",
    "\n",
    "# Format axes to show percentages rather than decimals\n",
    "x_vals = ax.get_xticks()\n",
    "y_vals = ax.get_yticks()\n",
    "ax.set_xticklabels(['{:,.0%}'.format(x) for x in x_vals])\n",
    "ax.set_yticklabels(['{:,.0%}'.format(y) for y in y_vals])\n",
    "\n",
    "# Add labels for the values of precision and recall for our particular SGD model\n",
    "ax.text(x = 0.02, y = 0.785, s = \"Precision: 83.2%\", fontsize = 14, alpha = .75, ha=\"left\")\n",
    "ax.text(x = 0.74, y = 0.02, s = \"Recall: 88.9%\", fontsize = 14, alpha = .75, ha=\"left\")\n",
    "\n",
    "# Set tight layout\n",
    "plt.tight_layout()\n",
    "\n",
    "# Save figure to .png image"
   ]
  },
  {
   "cell_type": "code",
<<<<<<< HEAD
   "execution_count": 14,
=======
   "execution_count": 89,
>>>>>>> origin/master
   "id": "ee528cbe",
   "metadata": {},
   "outputs": [
    {
     "name": "stdout",
     "output_type": "stream",
     "text": [
<<<<<<< HEAD
      "F1 score: 60.6%\n"
=======
      "F1 score: 65.2%\n"
>>>>>>> origin/master
     ]
    }
   ],
   "source": [
    "# Finding F1 score\n",
    "\n",
    "from sklearn.metrics import f1_score\n",
    "\n",
    "# Obtain and print F1 score as a percentage\n",
    "print(\"F1 score: \" + str(round(f1_score(y_train, train_data_predictions)*100,1))+\"%\")"
   ]
  },
  {
   "cell_type": "code",
<<<<<<< HEAD
   "execution_count": 15,
=======
   "execution_count": 90,
>>>>>>> origin/master
   "id": "b4192d3f",
   "metadata": {},
   "outputs": [
    {
     "name": "stderr",
     "output_type": "stream",
     "text": [
<<<<<<< HEAD
      "/var/folders/tn/fw1cv27j6bsf_4j55pn72ls80000gn/T/ipykernel_49417/3160808998.py:41: UserWarning: FixedFormatter should only be used together with FixedLocator\n",
      "  ax.set_xticklabels(['{:,.0%}'.format(x) for x in x_vals])\n",
      "/var/folders/tn/fw1cv27j6bsf_4j55pn72ls80000gn/T/ipykernel_49417/3160808998.py:42: UserWarning: FixedFormatter should only be used together with FixedLocator\n",
=======
      "<ipython-input-90-5eb001b85ff4>:41: UserWarning: FixedFormatter should only be used together with FixedLocator\n",
      "  ax.set_xticklabels(['{:,.0%}'.format(x) for x in x_vals])\n",
      "<ipython-input-90-5eb001b85ff4>:42: UserWarning: FixedFormatter should only be used together with FixedLocator\n",
>>>>>>> origin/master
      "  ax.set_yticklabels(['{:,.0%}'.format(y) for y in y_vals])\n"
     ]
    },
    {
     "data": {
<<<<<<< HEAD
      "image/png": "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",
=======
      "image/png": "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\n",
>>>>>>> origin/master
      "text/plain": [
       "<Figure size 648x648 with 1 Axes>"
      ]
     },
     "metadata": {
      "needs_background": "light"
     },
     "output_type": "display_data"
    }
   ],
   "source": [
    "# Plotting ROC curve\n",
    "\n",
    "from sklearn.metrics import roc_curve\n",
    "\n",
    "# Set up plotting area\n",
    "fig, ax = plt.subplots(figsize=(9,9))\n",
    "\n",
    "# Obtain possible combinations of true/false positive rates and thresholds\n",
    "fpr, tpr, thresholds = roc_curve(y_train, train_data_decision_scores)\n",
    "\n",
    "# Remove gridlines\n",
    "ax.grid(False)\n",
    "\n",
    "# Set font sizes and padding for tick labels\n",
    "ax.tick_params(axis=\"x\", labelsize=14, pad=15)\n",
    "ax.tick_params(axis=\"y\", labelsize=14, pad=15)\n",
    "\n",
    "# Plot random guess, 50/50 classifier\n",
    "ax.plot([0,1], [0,1], \"k--\", alpha=0.5, label=\"Randomly guessing\") \n",
    "\n",
    "# Plot perfect, omniscient classifier\n",
    "ax.plot([0.002,0.002], [0,0.998], \"slateblue\", label=\"Perfect classifier\")\n",
    "ax.plot([0.001,1], [0.998,0.998], \"slateblue\")\n",
    "\n",
    "# Plot our SGD classifier with threshold of zero\n",
    "ax.plot(fpr, tpr, label=\"Our SGD classifier\")\n",
    "\n",
    "# Set x- and y-axis limits\n",
    "ax.axis([-0.001,1.001,-0.001,1.001])\n",
    "\n",
    "# Add legend to identify each of the three models\n",
    "ax.legend(loc=\"center right\", fontsize=16)\n",
    "\n",
    "# Set x- and y-axis labels\n",
    "ax.set_xlabel(\"False Positive rate\", labelpad=20, fontsize=20)\n",
    "ax.set_ylabel(\"True Positive rate\", labelpad=20, fontsize=20)\n",
    "\n",
    "# Format axes to show percentages rather than decimals\n",
    "x_vals = ax.get_xticks()\n",
    "y_vals = ax.get_yticks()\n",
    "ax.set_xticklabels(['{:,.0%}'.format(x) for x in x_vals])\n",
    "ax.set_yticklabels(['{:,.0%}'.format(y) for y in y_vals])\n",
    "\n",
    "# Add title\n",
    "ax.text(x = 0.5, y = 1.05, s = \"ROC curve\", fontsize = 26, alpha = .75, ha=\"center\")\n",
    "\n",
    "# Add annotation\n",
    "ax.text(x = 0.3, y = 0.8, s = \"Closer to upper left\\nindicates a better model\", fontsize = 16, alpha = .75, ha=\"center\")\n",
    "\n",
    "# Set tight layout\n",
    "plt.tight_layout()\n",
    "\n",
    "# Save figure to .png image\n"
   ]
  },
  {
   "cell_type": "code",
<<<<<<< HEAD
   "execution_count": 16,
=======
   "execution_count": 91,
>>>>>>> origin/master
   "id": "a8d7aa61",
   "metadata": {},
   "outputs": [
    {
     "name": "stdout",
     "output_type": "stream",
     "text": [
<<<<<<< HEAD
      "Area Under Curve (AUC): 0.734\n"
=======
      "Area Under Curve (AUC): 0.763\n"
>>>>>>> origin/master
     ]
    }
   ],
   "source": [
    "# Obtaining AUC value\n",
    "\n",
    "from sklearn.metrics import roc_auc_score\n",
    "\n",
    "# Obtain and print AUC\n",
    "print(\"Area Under Curve (AUC): \" + str(round(roc_auc_score(y_train, train_data_predictions),3)))\n",
    "\n"
   ]
  },
  {
   "cell_type": "code",
<<<<<<< HEAD
   "execution_count": 17,
=======
   "execution_count": 92,
   "id": "eae280da",
   "metadata": {},
   "outputs": [
    {
     "name": "stdout",
     "output_type": "stream",
     "text": [
      "0.837935705005943\n"
     ]
    }
   ],
   "source": [
    "print(accuracy_score(y_train, train_data_predictions))"
   ]
  },
  {
   "cell_type": "code",
   "execution_count": 93,
>>>>>>> origin/master
   "id": "75db6325",
   "metadata": {},
   "outputs": [],
   "source": [
    "# With ['Age', 'Education', 'Occupation', 'Race', 'Sex', 'Hours-per-week', 'Native-country']:\n",
    "# Area Under Curve (AUC): 0.687\n",
    "# F1 score: 53.4%\n",
    "# Precision: 61.4%\n",
    "# Recall: 47.2%\n",
    "# Confusion matrix:\n",
    "# array([[24582,  2656],\n",
    "#        [ 4719,  4220]])"
   ]
  },
  {
   "cell_type": "code",
<<<<<<< HEAD
   "execution_count": 18,
   "id": "afc103a5",
=======
   "execution_count": 94,
   "id": "d603a56a",
>>>>>>> origin/master
   "metadata": {},
   "outputs": [],
   "source": [
    "# With new features determined from correlation heatmap (NO FEATURE SCALING)\n",
    "# Area Under Curve (AUC): 0.765\n",
    "# F1 score: 65.6%\n",
    "# Precision: 70.2%\n",
    "# Recall: 61.5%\n",
    "# Confusion matrix:\n",
    "# array([[24849,  2348],\n",
    "#        [ 3454,  5526]])"
   ]
  },
  {
   "cell_type": "code",
<<<<<<< HEAD
   "execution_count": 19,
   "id": "703a19af",
=======
   "execution_count": 55,
   "id": "d4dbb14e",
>>>>>>> origin/master
   "metadata": {},
   "outputs": [],
   "source": [
    "# With new features determined from correlation heatmap (MINMAX SCALING)\n",
    "# Area Under Curve (AUC): 0.762\n",
    "# F1 score: 65.2%\n",
    "# Precision: 69.8%\n",
    "# Recall: 61.1%\n",
    "# Confusion matrix:\n",
    "# array([[24782,  2382],\n",
    "#        [ 3504,  5509]])\n",
    "\n",
    "# Therefore, performed worse than without feature scaling"
   ]
  },
  {
   "cell_type": "code",
<<<<<<< HEAD
   "execution_count": 20,
   "id": "5ca3a185",
=======
   "execution_count": 56,
   "id": "47717b46",
>>>>>>> origin/master
   "metadata": {},
   "outputs": [
    {
     "ename": "SyntaxError",
     "evalue": "invalid syntax (<ipython-input-56-0218e0b106ac>, line 1)",
     "output_type": "error",
     "traceback": [
      "\u001b[0;36m  File \u001b[0;32m\"<ipython-input-56-0218e0b106ac>\"\u001b[0;36m, line \u001b[0;32m1\u001b[0m\n\u001b[0;31m    ----------------------------\u001b[0m\n\u001b[0m                                ^\u001b[0m\n\u001b[0;31mSyntaxError\u001b[0m\u001b[0;31m:\u001b[0m invalid syntax\n"
     ]
    }
   ],
   "source": [
    "----------------------------\n",
    "# With new features determined from correlation heatmap (Standard SCALING)\n",
    "# Area Under Curve (AUC): 0.769\n",
    "# F1 score: 66.2%\n",
    "# Precision: 70.5%\n",
    "# Recall: 62.4%\n",
    "# Confusion matrix:\n",
    "# array([[24864,  2340],\n",
    "#        [ 3377,  5596]])\n",
    "\n",
    "# Therefore, performed better than without feature scaling\n",
    "----------------------------\n",
    "\n",
    "# Then perfomormed better with binning of ages: \n",
    "# Accuracy before: 0.837935705005943\n",
    "# Accuracy after: 0.8487713187937087"
   ]
  },
  {
   "cell_type": "code",
<<<<<<< HEAD
   "execution_count": 21,
   "id": "5d771528",
=======
   "execution_count": 214,
   "id": "cd689558",
>>>>>>> origin/master
   "metadata": {},
   "outputs": [],
   "source": [
    "# With new features determined from correlation heatmap (MaxAbs SCALING)\n",
    "# Area Under Curve (AUC): 0.764\n",
    "# F1 score: 65.5%\n",
    "# Precision: 69.6%\n",
    "# Recall: 61.8%\n",
    "# Confusion matrix:\n",
    "# array([[24731,  2434],\n",
    "#        [ 3444,  5568]])\n",
    "\n",
    "# Therefore, performed worse than Standard scaling"
   ]
  },
  {
   "cell_type": "code",
<<<<<<< HEAD
   "execution_count": 22,
   "id": "8ae30f65",
=======
   "execution_count": 215,
   "id": "c56dee32",
>>>>>>> origin/master
   "metadata": {},
   "outputs": [],
   "source": [
    "# Robust not as well\n",
    "# Quantile transformer not as well\n",
    "# Normalizer not as well\n",
    "\n",
    "\n",
    "\n",
    "\n",
    "# https://www.analyticsvidhya.com/blog/2020/07/types-of-feature-transformation-and-scaling/"
   ]
  },
  {
   "cell_type": "code",
<<<<<<< HEAD
   "execution_count": 23,
   "id": "78b5e1fb",
   "metadata": {},
   "outputs": [],
   "source": [
    "#Logistic regression    \n",
    "#Currently have dataset split into X_train, X_test, y_train, y_test\n",
    "#Going to test different combinations of degree of dimensionality reduction, penalty, solver method, and inverse regularisation strength (C)\n"
=======
   "execution_count": 15,
   "id": "08803f97",
   "metadata": {},
   "outputs": [
    {
     "data": {
      "text/plain": [
       "array([0, 0, 0, ..., 0, 0, 0])"
      ]
     },
     "execution_count": 15,
     "metadata": {},
     "output_type": "execute_result"
    }
   ],
   "source": [
    "# Final model evaluation:\n",
    "test_data_predictions = cross_val_predict(model, X_test, y_test.ravel(), cv=3)\n",
    "test_data_predictions\n"
>>>>>>> origin/master
   ]
  },
  {
   "cell_type": "code",
<<<<<<< HEAD
   "execution_count": 24,
   "id": "d1c2d867",
   "metadata": {},
   "outputs": [
    {
     "name": "stderr",
     "output_type": "stream",
     "text": [
      "/opt/anaconda3/lib/python3.8/site-packages/sklearn/linear_model/_sag.py:352: ConvergenceWarning: The max_iter was reached which means the coef_ did not converge\n",
      "  warnings.warn(\n",
      "/opt/anaconda3/lib/python3.8/site-packages/sklearn/linear_model/_sag.py:352: ConvergenceWarning: The max_iter was reached which means the coef_ did not converge\n",
      "  warnings.warn(\n",
      "/opt/anaconda3/lib/python3.8/site-packages/sklearn/linear_model/_sag.py:352: ConvergenceWarning: The max_iter was reached which means the coef_ did not converge\n",
      "  warnings.warn(\n",
      "/opt/anaconda3/lib/python3.8/site-packages/sklearn/linear_model/_sag.py:352: ConvergenceWarning: The max_iter was reached which means the coef_ did not converge\n",
      "  warnings.warn(\n",
      "/opt/anaconda3/lib/python3.8/site-packages/sklearn/linear_model/_sag.py:352: ConvergenceWarning: The max_iter was reached which means the coef_ did not converge\n",
      "  warnings.warn(\n",
      "/opt/anaconda3/lib/python3.8/site-packages/sklearn/linear_model/_sag.py:352: ConvergenceWarning: The max_iter was reached which means the coef_ did not converge\n",
      "  warnings.warn(\n",
      "/opt/anaconda3/lib/python3.8/site-packages/sklearn/linear_model/_sag.py:352: ConvergenceWarning: The max_iter was reached which means the coef_ did not converge\n",
      "  warnings.warn(\n",
      "/opt/anaconda3/lib/python3.8/site-packages/sklearn/linear_model/_sag.py:352: ConvergenceWarning: The max_iter was reached which means the coef_ did not converge\n",
      "  warnings.warn(\n",
      "/opt/anaconda3/lib/python3.8/site-packages/sklearn/linear_model/_sag.py:352: ConvergenceWarning: The max_iter was reached which means the coef_ did not converge\n",
      "  warnings.warn(\n",
      "/opt/anaconda3/lib/python3.8/site-packages/sklearn/linear_model/_sag.py:352: ConvergenceWarning: The max_iter was reached which means the coef_ did not converge\n",
      "  warnings.warn(\n",
      "/opt/anaconda3/lib/python3.8/site-packages/sklearn/linear_model/_sag.py:352: ConvergenceWarning: The max_iter was reached which means the coef_ did not converge\n",
      "  warnings.warn(\n",
      "/opt/anaconda3/lib/python3.8/site-packages/sklearn/linear_model/_sag.py:352: ConvergenceWarning: The max_iter was reached which means the coef_ did not converge\n",
      "  warnings.warn(\n",
      "/opt/anaconda3/lib/python3.8/site-packages/sklearn/linear_model/_sag.py:352: ConvergenceWarning: The max_iter was reached which means the coef_ did not converge\n",
      "  warnings.warn(\n",
      "/opt/anaconda3/lib/python3.8/site-packages/sklearn/linear_model/_sag.py:352: ConvergenceWarning: The max_iter was reached which means the coef_ did not converge\n",
      "  warnings.warn(\n",
      "/opt/anaconda3/lib/python3.8/site-packages/sklearn/linear_model/_sag.py:352: ConvergenceWarning: The max_iter was reached which means the coef_ did not converge\n",
      "  warnings.warn(\n",
      "/opt/anaconda3/lib/python3.8/site-packages/sklearn/linear_model/_sag.py:352: ConvergenceWarning: The max_iter was reached which means the coef_ did not converge\n",
      "  warnings.warn(\n",
      "/opt/anaconda3/lib/python3.8/site-packages/sklearn/linear_model/_sag.py:352: ConvergenceWarning: The max_iter was reached which means the coef_ did not converge\n",
      "  warnings.warn(\n",
      "/opt/anaconda3/lib/python3.8/site-packages/sklearn/linear_model/_sag.py:352: ConvergenceWarning: The max_iter was reached which means the coef_ did not converge\n",
      "  warnings.warn(\n",
      "/opt/anaconda3/lib/python3.8/site-packages/sklearn/linear_model/_sag.py:352: ConvergenceWarning: The max_iter was reached which means the coef_ did not converge\n",
      "  warnings.warn(\n",
      "/opt/anaconda3/lib/python3.8/site-packages/sklearn/linear_model/_sag.py:352: ConvergenceWarning: The max_iter was reached which means the coef_ did not converge\n",
      "  warnings.warn(\n",
      "/opt/anaconda3/lib/python3.8/site-packages/sklearn/linear_model/_sag.py:352: ConvergenceWarning: The max_iter was reached which means the coef_ did not converge\n",
      "  warnings.warn(\n",
      "/opt/anaconda3/lib/python3.8/site-packages/sklearn/linear_model/_sag.py:352: ConvergenceWarning: The max_iter was reached which means the coef_ did not converge\n",
      "  warnings.warn(\n",
      "/opt/anaconda3/lib/python3.8/site-packages/sklearn/linear_model/_sag.py:352: ConvergenceWarning: The max_iter was reached which means the coef_ did not converge\n",
      "  warnings.warn(\n",
      "/opt/anaconda3/lib/python3.8/site-packages/sklearn/linear_model/_sag.py:352: ConvergenceWarning: The max_iter was reached which means the coef_ did not converge\n",
      "  warnings.warn(\n",
      "/opt/anaconda3/lib/python3.8/site-packages/sklearn/linear_model/_sag.py:352: ConvergenceWarning: The max_iter was reached which means the coef_ did not converge\n",
      "  warnings.warn(\n",
      "/opt/anaconda3/lib/python3.8/site-packages/sklearn/linear_model/_sag.py:352: ConvergenceWarning: The max_iter was reached which means the coef_ did not converge\n",
      "  warnings.warn(\n",
      "/opt/anaconda3/lib/python3.8/site-packages/sklearn/linear_model/_sag.py:352: ConvergenceWarning: The max_iter was reached which means the coef_ did not converge\n",
      "  warnings.warn(\n",
      "/opt/anaconda3/lib/python3.8/site-packages/sklearn/linear_model/_sag.py:352: ConvergenceWarning: The max_iter was reached which means the coef_ did not converge\n",
      "  warnings.warn(\n",
      "/opt/anaconda3/lib/python3.8/site-packages/sklearn/linear_model/_sag.py:352: ConvergenceWarning: The max_iter was reached which means the coef_ did not converge\n",
      "  warnings.warn(\n",
      "/opt/anaconda3/lib/python3.8/site-packages/sklearn/linear_model/_sag.py:352: ConvergenceWarning: The max_iter was reached which means the coef_ did not converge\n",
      "  warnings.warn(\n",
      "/opt/anaconda3/lib/python3.8/site-packages/sklearn/linear_model/_sag.py:352: ConvergenceWarning: The max_iter was reached which means the coef_ did not converge\n",
      "  warnings.warn(\n",
      "/opt/anaconda3/lib/python3.8/site-packages/sklearn/linear_model/_sag.py:352: ConvergenceWarning: The max_iter was reached which means the coef_ did not converge\n",
      "  warnings.warn(\n",
      "/opt/anaconda3/lib/python3.8/site-packages/sklearn/linear_model/_sag.py:352: ConvergenceWarning: The max_iter was reached which means the coef_ did not converge\n",
      "  warnings.warn(\n",
      "/opt/anaconda3/lib/python3.8/site-packages/sklearn/linear_model/_sag.py:352: ConvergenceWarning: The max_iter was reached which means the coef_ did not converge\n",
      "  warnings.warn(\n",
      "/opt/anaconda3/lib/python3.8/site-packages/sklearn/linear_model/_sag.py:352: ConvergenceWarning: The max_iter was reached which means the coef_ did not converge\n",
      "  warnings.warn(\n",
      "/opt/anaconda3/lib/python3.8/site-packages/sklearn/linear_model/_sag.py:352: ConvergenceWarning: The max_iter was reached which means the coef_ did not converge\n",
      "  warnings.warn(\n",
      "/opt/anaconda3/lib/python3.8/site-packages/sklearn/linear_model/_sag.py:352: ConvergenceWarning: The max_iter was reached which means the coef_ did not converge\n",
      "  warnings.warn(\n",
      "/opt/anaconda3/lib/python3.8/site-packages/sklearn/linear_model/_sag.py:352: ConvergenceWarning: The max_iter was reached which means the coef_ did not converge\n",
      "  warnings.warn(\n",
      "/opt/anaconda3/lib/python3.8/site-packages/sklearn/linear_model/_sag.py:352: ConvergenceWarning: The max_iter was reached which means the coef_ did not converge\n",
      "  warnings.warn(\n",
      "/opt/anaconda3/lib/python3.8/site-packages/sklearn/linear_model/_sag.py:352: ConvergenceWarning: The max_iter was reached which means the coef_ did not converge\n",
      "  warnings.warn(\n",
      "/opt/anaconda3/lib/python3.8/site-packages/sklearn/linear_model/_sag.py:352: ConvergenceWarning: The max_iter was reached which means the coef_ did not converge\n",
      "  warnings.warn(\n",
      "/opt/anaconda3/lib/python3.8/site-packages/sklearn/linear_model/_sag.py:352: ConvergenceWarning: The max_iter was reached which means the coef_ did not converge\n",
      "  warnings.warn(\n",
      "/opt/anaconda3/lib/python3.8/site-packages/sklearn/linear_model/_sag.py:352: ConvergenceWarning: The max_iter was reached which means the coef_ did not converge\n",
      "  warnings.warn(\n",
      "/opt/anaconda3/lib/python3.8/site-packages/sklearn/linear_model/_sag.py:352: ConvergenceWarning: The max_iter was reached which means the coef_ did not converge\n",
      "  warnings.warn(\n",
      "/opt/anaconda3/lib/python3.8/site-packages/sklearn/linear_model/_sag.py:352: ConvergenceWarning: The max_iter was reached which means the coef_ did not converge\n",
      "  warnings.warn(\n",
      "/opt/anaconda3/lib/python3.8/site-packages/sklearn/linear_model/_sag.py:352: ConvergenceWarning: The max_iter was reached which means the coef_ did not converge\n",
      "  warnings.warn(\n",
      "/opt/anaconda3/lib/python3.8/site-packages/sklearn/linear_model/_sag.py:352: ConvergenceWarning: The max_iter was reached which means the coef_ did not converge\n",
      "  warnings.warn(\n",
      "/opt/anaconda3/lib/python3.8/site-packages/sklearn/linear_model/_sag.py:352: ConvergenceWarning: The max_iter was reached which means the coef_ did not converge\n",
      "  warnings.warn(\n",
      "/opt/anaconda3/lib/python3.8/site-packages/sklearn/linear_model/_sag.py:352: ConvergenceWarning: The max_iter was reached which means the coef_ did not converge\n",
      "  warnings.warn(\n",
      "/opt/anaconda3/lib/python3.8/site-packages/sklearn/linear_model/_sag.py:352: ConvergenceWarning: The max_iter was reached which means the coef_ did not converge\n",
      "  warnings.warn(\n",
      "/opt/anaconda3/lib/python3.8/site-packages/sklearn/linear_model/_sag.py:352: ConvergenceWarning: The max_iter was reached which means the coef_ did not converge\n",
      "  warnings.warn(\n",
      "/opt/anaconda3/lib/python3.8/site-packages/sklearn/linear_model/_sag.py:352: ConvergenceWarning: The max_iter was reached which means the coef_ did not converge\n",
      "  warnings.warn(\n",
      "/opt/anaconda3/lib/python3.8/site-packages/sklearn/linear_model/_sag.py:352: ConvergenceWarning: The max_iter was reached which means the coef_ did not converge\n",
      "  warnings.warn(\n",
      "/opt/anaconda3/lib/python3.8/site-packages/sklearn/linear_model/_sag.py:352: ConvergenceWarning: The max_iter was reached which means the coef_ did not converge\n",
      "  warnings.warn(\n",
      "/opt/anaconda3/lib/python3.8/site-packages/sklearn/linear_model/_sag.py:352: ConvergenceWarning: The max_iter was reached which means the coef_ did not converge\n",
      "  warnings.warn(\n",
      "/opt/anaconda3/lib/python3.8/site-packages/sklearn/linear_model/_sag.py:352: ConvergenceWarning: The max_iter was reached which means the coef_ did not converge\n",
      "  warnings.warn(\n",
      "/opt/anaconda3/lib/python3.8/site-packages/sklearn/linear_model/_sag.py:352: ConvergenceWarning: The max_iter was reached which means the coef_ did not converge\n",
      "  warnings.warn(\n",
      "/opt/anaconda3/lib/python3.8/site-packages/sklearn/linear_model/_sag.py:352: ConvergenceWarning: The max_iter was reached which means the coef_ did not converge\n",
      "  warnings.warn(\n",
      "/opt/anaconda3/lib/python3.8/site-packages/sklearn/linear_model/_sag.py:352: ConvergenceWarning: The max_iter was reached which means the coef_ did not converge\n",
      "  warnings.warn(\n",
      "/opt/anaconda3/lib/python3.8/site-packages/sklearn/linear_model/_sag.py:352: ConvergenceWarning: The max_iter was reached which means the coef_ did not converge\n",
      "  warnings.warn(\n",
      "/opt/anaconda3/lib/python3.8/site-packages/sklearn/linear_model/_sag.py:352: ConvergenceWarning: The max_iter was reached which means the coef_ did not converge\n",
      "  warnings.warn(\n",
      "/opt/anaconda3/lib/python3.8/site-packages/sklearn/linear_model/_sag.py:352: ConvergenceWarning: The max_iter was reached which means the coef_ did not converge\n",
      "  warnings.warn(\n",
      "/opt/anaconda3/lib/python3.8/site-packages/sklearn/linear_model/_sag.py:352: ConvergenceWarning: The max_iter was reached which means the coef_ did not converge\n",
      "  warnings.warn(\n",
      "/opt/anaconda3/lib/python3.8/site-packages/sklearn/linear_model/_sag.py:352: ConvergenceWarning: The max_iter was reached which means the coef_ did not converge\n",
      "  warnings.warn(\n",
      "/opt/anaconda3/lib/python3.8/site-packages/sklearn/linear_model/_sag.py:352: ConvergenceWarning: The max_iter was reached which means the coef_ did not converge\n",
      "  warnings.warn(\n",
      "/opt/anaconda3/lib/python3.8/site-packages/sklearn/linear_model/_sag.py:352: ConvergenceWarning: The max_iter was reached which means the coef_ did not converge\n",
      "  warnings.warn(\n",
      "/opt/anaconda3/lib/python3.8/site-packages/sklearn/linear_model/_sag.py:352: ConvergenceWarning: The max_iter was reached which means the coef_ did not converge\n",
      "  warnings.warn(\n",
      "/opt/anaconda3/lib/python3.8/site-packages/sklearn/linear_model/_sag.py:352: ConvergenceWarning: The max_iter was reached which means the coef_ did not converge\n",
      "  warnings.warn(\n",
      "/opt/anaconda3/lib/python3.8/site-packages/sklearn/model_selection/_validation.py:372: FitFailedWarning: \n",
      "1980 fits failed out of a total of 3240.\n",
      "The score on these train-test partitions for these parameters will be set to 0.\n",
      "If these failures are not expected, you can try to debug them by setting error_score='raise'.\n",
      "\n",
      "Below are more details about the failures:\n",
      "--------------------------------------------------------------------------------\n",
      "180 fits failed with the following error:\n",
      "Traceback (most recent call last):\n",
      "  File \"/opt/anaconda3/lib/python3.8/site-packages/sklearn/model_selection/_validation.py\", line 681, in _fit_and_score\n",
      "    estimator.fit(X_train, y_train, **fit_params)\n",
      "  File \"/opt/anaconda3/lib/python3.8/site-packages/sklearn/linear_model/_logistic.py\", line 1461, in fit\n",
      "    solver = _check_solver(self.solver, self.penalty, self.dual)\n",
      "  File \"/opt/anaconda3/lib/python3.8/site-packages/sklearn/linear_model/_logistic.py\", line 447, in _check_solver\n",
      "    raise ValueError(\n",
      "ValueError: Solver newton-cg supports only 'l2' or 'none' penalties, got l1 penalty.\n",
      "\n",
      "--------------------------------------------------------------------------------\n",
      "180 fits failed with the following error:\n",
      "Traceback (most recent call last):\n",
      "  File \"/opt/anaconda3/lib/python3.8/site-packages/sklearn/model_selection/_validation.py\", line 681, in _fit_and_score\n",
      "    estimator.fit(X_train, y_train, **fit_params)\n",
      "  File \"/opt/anaconda3/lib/python3.8/site-packages/sklearn/linear_model/_logistic.py\", line 1461, in fit\n",
      "    solver = _check_solver(self.solver, self.penalty, self.dual)\n",
      "  File \"/opt/anaconda3/lib/python3.8/site-packages/sklearn/linear_model/_logistic.py\", line 447, in _check_solver\n",
      "    raise ValueError(\n",
      "ValueError: Solver lbfgs supports only 'l2' or 'none' penalties, got l1 penalty.\n",
      "\n",
      "--------------------------------------------------------------------------------\n",
      "540 fits failed with the following error:\n",
      "Traceback (most recent call last):\n",
      "  File \"/opt/anaconda3/lib/python3.8/site-packages/sklearn/model_selection/_validation.py\", line 681, in _fit_and_score\n",
      "    estimator.fit(X_train, y_train, **fit_params)\n",
      "  File \"/opt/anaconda3/lib/python3.8/site-packages/sklearn/linear_model/_logistic.py\", line 1461, in fit\n",
      "    solver = _check_solver(self.solver, self.penalty, self.dual)\n",
      "  File \"/opt/anaconda3/lib/python3.8/site-packages/sklearn/linear_model/_logistic.py\", line 434, in _check_solver\n",
      "    raise ValueError(\n",
      "ValueError: Logistic Regression supports only solvers in ['liblinear', 'newton-cg', 'lbfgs', 'sag', 'saga'], got newton-cholesky.\n",
      "\n",
      "--------------------------------------------------------------------------------\n",
      "180 fits failed with the following error:\n",
      "Traceback (most recent call last):\n",
      "  File \"/opt/anaconda3/lib/python3.8/site-packages/sklearn/model_selection/_validation.py\", line 681, in _fit_and_score\n",
      "    estimator.fit(X_train, y_train, **fit_params)\n",
      "  File \"/opt/anaconda3/lib/python3.8/site-packages/sklearn/linear_model/_logistic.py\", line 1461, in fit\n",
      "    solver = _check_solver(self.solver, self.penalty, self.dual)\n",
      "  File \"/opt/anaconda3/lib/python3.8/site-packages/sklearn/linear_model/_logistic.py\", line 447, in _check_solver\n",
      "    raise ValueError(\n",
      "ValueError: Solver sag supports only 'l2' or 'none' penalties, got l1 penalty.\n",
      "\n",
      "--------------------------------------------------------------------------------\n",
      "180 fits failed with the following error:\n",
      "Traceback (most recent call last):\n",
      "  File \"/opt/anaconda3/lib/python3.8/site-packages/sklearn/model_selection/_validation.py\", line 681, in _fit_and_score\n",
      "    estimator.fit(X_train, y_train, **fit_params)\n",
      "  File \"/opt/anaconda3/lib/python3.8/site-packages/sklearn/linear_model/_logistic.py\", line 1461, in fit\n",
      "    solver = _check_solver(self.solver, self.penalty, self.dual)\n",
      "  File \"/opt/anaconda3/lib/python3.8/site-packages/sklearn/linear_model/_logistic.py\", line 447, in _check_solver\n",
      "    raise ValueError(\n",
      "ValueError: Solver newton-cg supports only 'l2' or 'none' penalties, got elasticnet penalty.\n",
      "\n",
      "--------------------------------------------------------------------------------\n",
      "180 fits failed with the following error:\n",
      "Traceback (most recent call last):\n",
      "  File \"/opt/anaconda3/lib/python3.8/site-packages/sklearn/model_selection/_validation.py\", line 681, in _fit_and_score\n",
      "    estimator.fit(X_train, y_train, **fit_params)\n",
      "  File \"/opt/anaconda3/lib/python3.8/site-packages/sklearn/linear_model/_logistic.py\", line 1461, in fit\n",
      "    solver = _check_solver(self.solver, self.penalty, self.dual)\n",
      "  File \"/opt/anaconda3/lib/python3.8/site-packages/sklearn/linear_model/_logistic.py\", line 457, in _check_solver\n",
      "    raise ValueError(\n",
      "ValueError: Only 'saga' solver supports elasticnet penalty, got solver=liblinear.\n",
      "\n",
      "--------------------------------------------------------------------------------\n",
      "180 fits failed with the following error:\n",
      "Traceback (most recent call last):\n",
      "  File \"/opt/anaconda3/lib/python3.8/site-packages/sklearn/model_selection/_validation.py\", line 681, in _fit_and_score\n",
      "    estimator.fit(X_train, y_train, **fit_params)\n",
      "  File \"/opt/anaconda3/lib/python3.8/site-packages/sklearn/linear_model/_logistic.py\", line 1461, in fit\n",
      "    solver = _check_solver(self.solver, self.penalty, self.dual)\n",
      "  File \"/opt/anaconda3/lib/python3.8/site-packages/sklearn/linear_model/_logistic.py\", line 447, in _check_solver\n",
      "    raise ValueError(\n",
      "ValueError: Solver lbfgs supports only 'l2' or 'none' penalties, got elasticnet penalty.\n",
      "\n",
      "--------------------------------------------------------------------------------\n",
      "180 fits failed with the following error:\n",
      "Traceback (most recent call last):\n",
      "  File \"/opt/anaconda3/lib/python3.8/site-packages/sklearn/model_selection/_validation.py\", line 681, in _fit_and_score\n",
      "    estimator.fit(X_train, y_train, **fit_params)\n",
      "  File \"/opt/anaconda3/lib/python3.8/site-packages/sklearn/linear_model/_logistic.py\", line 1461, in fit\n",
      "    solver = _check_solver(self.solver, self.penalty, self.dual)\n",
      "  File \"/opt/anaconda3/lib/python3.8/site-packages/sklearn/linear_model/_logistic.py\", line 447, in _check_solver\n",
      "    raise ValueError(\n",
      "ValueError: Solver sag supports only 'l2' or 'none' penalties, got elasticnet penalty.\n",
      "\n",
      "--------------------------------------------------------------------------------\n",
      "180 fits failed with the following error:\n",
      "Traceback (most recent call last):\n",
      "  File \"/opt/anaconda3/lib/python3.8/site-packages/sklearn/model_selection/_validation.py\", line 681, in _fit_and_score\n",
      "    estimator.fit(X_train, y_train, **fit_params)\n",
      "  File \"/opt/anaconda3/lib/python3.8/site-packages/sklearn/linear_model/_logistic.py\", line 1471, in fit\n",
      "    raise ValueError(\n",
      "ValueError: l1_ratio must be between 0 and 1; got (l1_ratio=None)\n",
      "\n",
      "  warnings.warn(some_fits_failed_message, FitFailedWarning)\n"
     ]
    },
    {
     "name": "stdout",
     "output_type": "stream",
     "text": [
      "Best: 0.835162 using {'C': 0.1, 'penalty': 'l1', 'solver': 'saga'}\n",
      "0.000000 (0.000000) with: {'C': 1000, 'penalty': 'l1', 'solver': 'newton-cg'}\n",
      "0.835134 (0.006483) with: {'C': 1000, 'penalty': 'l1', 'solver': 'liblinear'}\n",
      "0.000000 (0.000000) with: {'C': 1000, 'penalty': 'l1', 'solver': 'lbfgs'}\n",
      "0.000000 (0.000000) with: {'C': 1000, 'penalty': 'l1', 'solver': 'newton-cholesky'}\n",
      "0.000000 (0.000000) with: {'C': 1000, 'penalty': 'l1', 'solver': 'sag'}\n",
      "0.835134 (0.006483) with: {'C': 1000, 'penalty': 'l1', 'solver': 'saga'}\n",
      "0.835134 (0.006483) with: {'C': 1000, 'penalty': 'l2', 'solver': 'newton-cg'}\n",
      "0.835134 (0.006483) with: {'C': 1000, 'penalty': 'l2', 'solver': 'liblinear'}\n",
      "0.835134 (0.006483) with: {'C': 1000, 'penalty': 'l2', 'solver': 'lbfgs'}\n",
      "0.000000 (0.000000) with: {'C': 1000, 'penalty': 'l2', 'solver': 'newton-cholesky'}\n",
      "0.835134 (0.006483) with: {'C': 1000, 'penalty': 'l2', 'solver': 'sag'}\n",
      "0.835134 (0.006483) with: {'C': 1000, 'penalty': 'l2', 'solver': 'saga'}\n",
      "0.000000 (0.000000) with: {'C': 1000, 'penalty': 'elasticnet', 'solver': 'newton-cg'}\n",
      "0.000000 (0.000000) with: {'C': 1000, 'penalty': 'elasticnet', 'solver': 'liblinear'}\n",
      "0.000000 (0.000000) with: {'C': 1000, 'penalty': 'elasticnet', 'solver': 'lbfgs'}\n",
      "0.000000 (0.000000) with: {'C': 1000, 'penalty': 'elasticnet', 'solver': 'newton-cholesky'}\n",
      "0.000000 (0.000000) with: {'C': 1000, 'penalty': 'elasticnet', 'solver': 'sag'}\n",
      "0.000000 (0.000000) with: {'C': 1000, 'penalty': 'elasticnet', 'solver': 'saga'}\n",
      "0.000000 (0.000000) with: {'C': 10, 'penalty': 'l1', 'solver': 'newton-cg'}\n",
      "0.835125 (0.006496) with: {'C': 10, 'penalty': 'l1', 'solver': 'liblinear'}\n",
      "0.000000 (0.000000) with: {'C': 10, 'penalty': 'l1', 'solver': 'lbfgs'}\n",
      "0.000000 (0.000000) with: {'C': 10, 'penalty': 'l1', 'solver': 'newton-cholesky'}\n",
      "0.000000 (0.000000) with: {'C': 10, 'penalty': 'l1', 'solver': 'sag'}\n",
      "0.835125 (0.006496) with: {'C': 10, 'penalty': 'l1', 'solver': 'saga'}\n",
      "0.835125 (0.006496) with: {'C': 10, 'penalty': 'l2', 'solver': 'newton-cg'}\n",
      "0.835125 (0.006496) with: {'C': 10, 'penalty': 'l2', 'solver': 'liblinear'}\n",
      "0.835125 (0.006496) with: {'C': 10, 'penalty': 'l2', 'solver': 'lbfgs'}\n",
      "0.000000 (0.000000) with: {'C': 10, 'penalty': 'l2', 'solver': 'newton-cholesky'}\n",
      "0.835125 (0.006496) with: {'C': 10, 'penalty': 'l2', 'solver': 'sag'}\n",
      "0.835125 (0.006496) with: {'C': 10, 'penalty': 'l2', 'solver': 'saga'}\n",
      "0.000000 (0.000000) with: {'C': 10, 'penalty': 'elasticnet', 'solver': 'newton-cg'}\n",
      "0.000000 (0.000000) with: {'C': 10, 'penalty': 'elasticnet', 'solver': 'liblinear'}\n",
      "0.000000 (0.000000) with: {'C': 10, 'penalty': 'elasticnet', 'solver': 'lbfgs'}\n",
      "0.000000 (0.000000) with: {'C': 10, 'penalty': 'elasticnet', 'solver': 'newton-cholesky'}\n",
      "0.000000 (0.000000) with: {'C': 10, 'penalty': 'elasticnet', 'solver': 'sag'}\n",
      "0.000000 (0.000000) with: {'C': 10, 'penalty': 'elasticnet', 'solver': 'saga'}\n",
      "0.000000 (0.000000) with: {'C': 1, 'penalty': 'l1', 'solver': 'newton-cg'}\n",
      "0.835144 (0.006509) with: {'C': 1, 'penalty': 'l1', 'solver': 'liblinear'}\n",
      "0.000000 (0.000000) with: {'C': 1, 'penalty': 'l1', 'solver': 'lbfgs'}\n",
      "0.000000 (0.000000) with: {'C': 1, 'penalty': 'l1', 'solver': 'newton-cholesky'}\n",
      "0.000000 (0.000000) with: {'C': 1, 'penalty': 'l1', 'solver': 'sag'}\n",
      "0.835134 (0.006504) with: {'C': 1, 'penalty': 'l1', 'solver': 'saga'}\n",
      "0.835134 (0.006513) with: {'C': 1, 'penalty': 'l2', 'solver': 'newton-cg'}\n",
      "0.835116 (0.006525) with: {'C': 1, 'penalty': 'l2', 'solver': 'liblinear'}\n",
      "0.835125 (0.006496) with: {'C': 1, 'penalty': 'l2', 'solver': 'lbfgs'}\n",
      "0.000000 (0.000000) with: {'C': 1, 'penalty': 'l2', 'solver': 'newton-cholesky'}\n",
      "0.835134 (0.006513) with: {'C': 1, 'penalty': 'l2', 'solver': 'sag'}\n",
      "0.835134 (0.006513) with: {'C': 1, 'penalty': 'l2', 'solver': 'saga'}\n",
      "0.000000 (0.000000) with: {'C': 1, 'penalty': 'elasticnet', 'solver': 'newton-cg'}\n",
      "0.000000 (0.000000) with: {'C': 1, 'penalty': 'elasticnet', 'solver': 'liblinear'}\n",
      "0.000000 (0.000000) with: {'C': 1, 'penalty': 'elasticnet', 'solver': 'lbfgs'}\n",
      "0.000000 (0.000000) with: {'C': 1, 'penalty': 'elasticnet', 'solver': 'newton-cholesky'}\n",
      "0.000000 (0.000000) with: {'C': 1, 'penalty': 'elasticnet', 'solver': 'sag'}\n",
      "0.000000 (0.000000) with: {'C': 1, 'penalty': 'elasticnet', 'solver': 'saga'}\n",
      "0.000000 (0.000000) with: {'C': 0.1, 'penalty': 'l1', 'solver': 'newton-cg'}\n",
      "0.835134 (0.006521) with: {'C': 0.1, 'penalty': 'l1', 'solver': 'liblinear'}\n",
      "0.000000 (0.000000) with: {'C': 0.1, 'penalty': 'l1', 'solver': 'lbfgs'}\n",
      "0.000000 (0.000000) with: {'C': 0.1, 'penalty': 'l1', 'solver': 'newton-cholesky'}\n",
      "0.000000 (0.000000) with: {'C': 0.1, 'penalty': 'l1', 'solver': 'sag'}\n",
      "0.835162 (0.006451) with: {'C': 0.1, 'penalty': 'l1', 'solver': 'saga'}\n",
      "0.835125 (0.006583) with: {'C': 0.1, 'penalty': 'l2', 'solver': 'newton-cg'}\n",
      "0.835107 (0.006551) with: {'C': 0.1, 'penalty': 'l2', 'solver': 'liblinear'}\n",
      "0.835125 (0.006583) with: {'C': 0.1, 'penalty': 'l2', 'solver': 'lbfgs'}\n",
      "0.000000 (0.000000) with: {'C': 0.1, 'penalty': 'l2', 'solver': 'newton-cholesky'}\n",
      "0.835107 (0.006580) with: {'C': 0.1, 'penalty': 'l2', 'solver': 'sag'}\n",
      "0.835134 (0.006587) with: {'C': 0.1, 'penalty': 'l2', 'solver': 'saga'}\n",
      "0.000000 (0.000000) with: {'C': 0.1, 'penalty': 'elasticnet', 'solver': 'newton-cg'}\n",
      "0.000000 (0.000000) with: {'C': 0.1, 'penalty': 'elasticnet', 'solver': 'liblinear'}\n",
      "0.000000 (0.000000) with: {'C': 0.1, 'penalty': 'elasticnet', 'solver': 'lbfgs'}\n",
      "0.000000 (0.000000) with: {'C': 0.1, 'penalty': 'elasticnet', 'solver': 'newton-cholesky'}\n",
      "0.000000 (0.000000) with: {'C': 0.1, 'penalty': 'elasticnet', 'solver': 'sag'}\n",
      "0.000000 (0.000000) with: {'C': 0.1, 'penalty': 'elasticnet', 'solver': 'saga'}\n",
      "0.000000 (0.000000) with: {'C': 0.001, 'penalty': 'l1', 'solver': 'newton-cg'}\n",
      "0.830085 (0.006286) with: {'C': 0.001, 'penalty': 'l1', 'solver': 'liblinear'}\n",
      "0.000000 (0.000000) with: {'C': 0.001, 'penalty': 'l1', 'solver': 'lbfgs'}\n",
      "0.000000 (0.000000) with: {'C': 0.001, 'penalty': 'l1', 'solver': 'newton-cholesky'}\n",
      "0.000000 (0.000000) with: {'C': 0.001, 'penalty': 'l1', 'solver': 'sag'}\n",
      "0.830067 (0.005862) with: {'C': 0.001, 'penalty': 'l1', 'solver': 'saga'}\n",
      "0.834268 (0.005601) with: {'C': 0.001, 'penalty': 'l2', 'solver': 'newton-cg'}\n",
      "0.834582 (0.007148) with: {'C': 0.001, 'penalty': 'l2', 'solver': 'liblinear'}\n",
      "0.834268 (0.005601) with: {'C': 0.001, 'penalty': 'l2', 'solver': 'lbfgs'}\n",
      "0.000000 (0.000000) with: {'C': 0.001, 'penalty': 'l2', 'solver': 'newton-cholesky'}\n",
      "0.834268 (0.005601) with: {'C': 0.001, 'penalty': 'l2', 'solver': 'sag'}\n",
      "0.834268 (0.005601) with: {'C': 0.001, 'penalty': 'l2', 'solver': 'saga'}\n",
      "0.000000 (0.000000) with: {'C': 0.001, 'penalty': 'elasticnet', 'solver': 'newton-cg'}\n",
      "0.000000 (0.000000) with: {'C': 0.001, 'penalty': 'elasticnet', 'solver': 'liblinear'}\n",
      "0.000000 (0.000000) with: {'C': 0.001, 'penalty': 'elasticnet', 'solver': 'lbfgs'}\n",
      "0.000000 (0.000000) with: {'C': 0.001, 'penalty': 'elasticnet', 'solver': 'newton-cholesky'}\n",
      "0.000000 (0.000000) with: {'C': 0.001, 'penalty': 'elasticnet', 'solver': 'sag'}\n",
      "0.000000 (0.000000) with: {'C': 0.001, 'penalty': 'elasticnet', 'solver': 'saga'}\n",
      "0.000000 (0.000000) with: {'C': 0.001, 'penalty': 'l1', 'solver': 'newton-cg'}\n",
      "0.830085 (0.006286) with: {'C': 0.001, 'penalty': 'l1', 'solver': 'liblinear'}\n",
      "0.000000 (0.000000) with: {'C': 0.001, 'penalty': 'l1', 'solver': 'lbfgs'}\n",
      "0.000000 (0.000000) with: {'C': 0.001, 'penalty': 'l1', 'solver': 'newton-cholesky'}\n",
      "0.000000 (0.000000) with: {'C': 0.001, 'penalty': 'l1', 'solver': 'sag'}\n",
      "0.830094 (0.005871) with: {'C': 0.001, 'penalty': 'l1', 'solver': 'saga'}\n",
      "0.834268 (0.005601) with: {'C': 0.001, 'penalty': 'l2', 'solver': 'newton-cg'}\n",
      "0.834582 (0.007148) with: {'C': 0.001, 'penalty': 'l2', 'solver': 'liblinear'}\n",
      "0.834268 (0.005601) with: {'C': 0.001, 'penalty': 'l2', 'solver': 'lbfgs'}\n",
      "0.000000 (0.000000) with: {'C': 0.001, 'penalty': 'l2', 'solver': 'newton-cholesky'}\n",
      "0.834268 (0.005601) with: {'C': 0.001, 'penalty': 'l2', 'solver': 'sag'}\n",
      "0.834259 (0.005607) with: {'C': 0.001, 'penalty': 'l2', 'solver': 'saga'}\n",
      "0.000000 (0.000000) with: {'C': 0.001, 'penalty': 'elasticnet', 'solver': 'newton-cg'}\n",
      "0.000000 (0.000000) with: {'C': 0.001, 'penalty': 'elasticnet', 'solver': 'liblinear'}\n",
      "0.000000 (0.000000) with: {'C': 0.001, 'penalty': 'elasticnet', 'solver': 'lbfgs'}\n",
      "0.000000 (0.000000) with: {'C': 0.001, 'penalty': 'elasticnet', 'solver': 'newton-cholesky'}\n",
      "0.000000 (0.000000) with: {'C': 0.001, 'penalty': 'elasticnet', 'solver': 'sag'}\n",
      "0.000000 (0.000000) with: {'C': 0.001, 'penalty': 'elasticnet', 'solver': 'saga'}\n"
     ]
    }
   ],
   "source": [
    "#Importing necessary modules\n",
    "from sklearn.model_selection import RepeatedStratifiedKFold\n",
    "from sklearn.model_selection import GridSearchCV\n",
    "from sklearn.linear_model import LogisticRegression\n",
    "from sklearn.preprocessing import StandardScaler\n",
    "#Defining our model \n",
    "model = LogisticRegression()\n",
    "\n",
    "#Initialising scaler\n",
    "scaler = StandardScaler()\n",
    "\n",
    "#For logistic regresion, need to scale our data\n",
    "X_train_scaled = scaler.fit_transform(X_train)\n",
    "X_test_scaled = scaler.fit_transform(X_test)\n",
    "\n",
    "#Need to transform our y data as\n",
    "y_train = y_train.ravel()\n",
    "Y_test = y_test.ravel()\n",
    "\n",
    "#Define all of our hyperparameters \n",
    "solvers = ['newton-cg', 'liblinear', 'lbfgs','newton-cholesky', 'sag', 'saga']\n",
    "penalty = ['l1', 'l2', 'elasticnet']\n",
    "c_values = [1000, 10, 1, 0.1, 0.001, 0.001]\n",
    "\n",
    "#Defining our search space \n",
    "space = dict(solver = solvers, penalty = penalty, C = c_values)\n",
    "\n",
    "#Defining our cross validation\n",
    "cv = RepeatedStratifiedKFold(n_splits = 10, n_repeats = 3, random_state = 1)\n",
    "\n",
    "#Initialising our grid search\n",
    "grid_search = GridSearchCV(estimator = model, param_grid = space, n_jobs = -1,cv=cv, scoring='accuracy',error_score=0)\n",
    "grid_result = grid_search.fit(X_train_scaled, y_train)\n",
    "\n",
    "# summarize results\n",
    "print(\"Best: %f using %s\" % (grid_result.best_score_, grid_result.best_params_))\n",
    "means = grid_result.cv_results_['mean_test_score']\n",
    "stds = grid_result.cv_results_['std_test_score']\n",
    "params = grid_result.cv_results_['params']\n",
    "for mean, stdev, param in zip(means, stds, params):\n",
    "    print(\"%f (%f) with: %r\" % (mean, stdev, param))"
   ]
  },
  {
   "cell_type": "code",
   "execution_count": 27,
   "id": "aef68792",
   "metadata": {},
   "outputs": [
    {
     "name": "stdout",
     "output_type": "stream",
     "text": [
      "Accuracy for scaled date:  0.835199159687094\n",
      "Accuracy for unscaled data:  0.8347568897365729\n"
     ]
    },
    {
     "name": "stderr",
     "output_type": "stream",
     "text": [
      "/opt/anaconda3/lib/python3.8/site-packages/sklearn/linear_model/_sag.py:352: ConvergenceWarning: The max_iter was reached which means the coef_ did not converge\n",
      "  warnings.warn(\n"
=======
   "execution_count": 16,
   "id": "92bf9d44",
   "metadata": {},
   "outputs": [
    {
     "name": "stdout",
     "output_type": "stream",
     "text": [
      "[[6051  695]\n",
      " [ 975 1324]]\n",
      "              precision    recall  f1-score   support\n",
      "\n",
      "           0       0.86      0.90      0.88      6746\n",
      "           1       0.66      0.58      0.61      2299\n",
      "\n",
      "    accuracy                           0.82      9045\n",
      "   macro avg       0.76      0.74      0.75      9045\n",
      "weighted avg       0.81      0.82      0.81      9045\n",
      "\n",
      "0.8153676064123825\n"
>>>>>>> origin/master
     ]
    }
   ],
   "source": [
<<<<<<< HEAD
    "#Testing results for optimal hyperparameter combination, with scaled vs unscaled data \n",
    "\n",
    "model = LogisticRegression(solver = 'saga', penalty='l1', C = 0.1)\n",
    "\n",
    "model.fit(X_train_scaled, y_train)\n",
    "\n",
    "train_acc_scaled = model.score(X_train_scaled, y_train)\n",
    "\n",
    "print('Accuracy for scaled date: ', train_acc_scaled)\n",
    "\n",
    "model.fit(X_train, y_train)\n",
    "\n",
    "train_acc = model.score(X_train, y_train)\n",
    "\n",
    "print('Accuracy for unscaled data: ', train_acc)"
=======
    "from sklearn.metrics import classification_report, confusion_matrix, accuracy_score\n",
    "print(confusion_matrix(y_test, test_data_predictions))\n",
    "print(classification_report(y_test, test_data_predictions))\n",
    "print(accuracy_score(y_test, test_data_predictions))"
>>>>>>> origin/master
   ]
  },
  {
   "cell_type": "code",
   "execution_count": null,
<<<<<<< HEAD
   "id": "c8c78675",
   "metadata": {},
   "outputs": [],
   "source": [
    "#Although not massive difference, model performs better on scaled data"
   ]
  },
  {
   "cell_type": "code",
   "execution_count": 34,
   "id": "c3d36b3a",
   "metadata": {},
   "outputs": [
    {
     "name": "stdout",
     "output_type": "stream",
     "text": [
      "(36177, 20)\n",
      "Original accuracy:  0.835199159687094\n",
      "Accuracy for data reduced to 15 dimensions:  0.8347016059927578\n",
      "Accuracy for data reduced to 10 dimensions:  0.8329601680625812\n",
      "Accuracy for data reduced to 5 dimensions:  0.831191088260497\n"
     ]
    }
   ],
   "source": [
    "#Importing necessary libraries \n",
    "from sklearn.decomposition import PCA\n",
    "\n",
    "#Want to use datasets of different dimensions \n",
    "\n",
    "model = LogisticRegression(solver = 'saga', penalty='l1', C = 0.1)\n",
    "\n",
    "model.fit(X_train_scaled, y_train)\n",
    "\n",
    "original_acc = model.score(X_train_scaled, y_train)\n",
    "\n",
    "print(X_train_scaled.shape)\n",
    "\n",
    "#From above, we get that dimension of X_train_scaled is 36177x20\n",
    "\n",
    "#Want to use PCA to reduce to 15, 10 and 5 and see if that has any effect \n",
    "pca = PCA(n_components=15)\n",
    "X_train_15 = pca.fit_transform(X_train_scaled)\n",
    "model.fit(X_train_15, y_train)\n",
    "acc_15 = model.score(X_train_15, y_train)\n",
    "\n",
    "pca = PCA(n_components=10)\n",
    "X_train_10 = pca.fit_transform(X_train_scaled)\n",
    "model.fit(X_train_10, y_train)\n",
    "acc_10 = model.score(X_train_10, y_train)\n",
    "\n",
    "pca = PCA(n_components=5)\n",
    "X_train_5 = pca.fit_transform(X_train_scaled)\n",
    "model.fit(X_train_5, y_train)\n",
    "acc_5 = model.score(X_train_5, y_train)\n",
    "\n",
    "\n",
    "print('Original accuracy: ', original_acc)\n",
    "print('Accuracy for data reduced to 15 dimensions: ', acc_15)\n",
    "print('Accuracy for data reduced to 10 dimensions: ', acc_10)\n",
    "print('Accuracy for data reduced to 5 dimensions: ', acc_5)"
=======
   "id": "83433019",
   "metadata": {},
   "outputs": [],
   "source": [
    "# Is this correct? Why do I fit train then have to do test??\n",
    "# Why is our precision/accuracy so low?\n",
    "# Do we need tables in our final report?\n",
    "# Best way to write report? In Word?"
>>>>>>> origin/master
   ]
  },
  {
   "cell_type": "code",
   "execution_count": null,
<<<<<<< HEAD
   "id": "84294025",
=======
   "id": "8b352686",
>>>>>>> origin/master
   "metadata": {},
   "outputs": [],
   "source": [
    "#From above, can see that the dimensionality reduction doesn't have much of an effect on overall accuracy"
   ]
  },
  {
   "cell_type": "code",
<<<<<<< HEAD
   "execution_count": 25,
   "id": "3798aa97",
=======
   "execution_count": null,
   "id": "03b4f436",
>>>>>>> origin/master
   "metadata": {},
   "outputs": [],
   "source": [
    "#From results above, can see that errors are generated for many of the cases. This means that for that particular 'solver', convergence isn't acheived\n",
    "#Optimal set of hyperparameters is generated "
   ]
  }
 ],
 "metadata": {
  "kernelspec": {
   "display_name": "Python 3",
   "language": "python",
   "name": "python3"
  },
  "language_info": {
   "codemirror_mode": {
    "name": "ipython",
    "version": 3
   },
   "file_extension": ".py",
   "mimetype": "text/x-python",
   "name": "python",
   "nbconvert_exporter": "python",
   "pygments_lexer": "ipython3",
   "version": "3.8.8"
  },
  "vscode": {
   "interpreter": {
    "hash": "40d3a090f54c6569ab1632332b64b2c03c39dcf918b08424e98f38b5ae0af88f"
   }
  }
 },
 "nbformat": 4,
 "nbformat_minor": 5
}
