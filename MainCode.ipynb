{
 "cells": [
  {
   "cell_type": "code",
   "execution_count": 84,
   "id": "4f5c8d49",
   "metadata": {},
   "outputs": [],
   "source": [
    "# import libraries\n",
    "import numpy as np\n",
    "import matplotlib.pyplot as plt\n",
    "import pandas as pd"
   ]
  },
  {
   "cell_type": "code",
   "execution_count": 85,
   "id": "fbb001a6",
   "metadata": {},
   "outputs": [
    {
     "data": {
      "text/html": [
       "<div>\n",
       "<style scoped>\n",
       "    .dataframe tbody tr th:only-of-type {\n",
       "        vertical-align: middle;\n",
       "    }\n",
       "\n",
       "    .dataframe tbody tr th {\n",
       "        vertical-align: top;\n",
       "    }\n",
       "\n",
       "    .dataframe thead th {\n",
       "        text-align: right;\n",
       "    }\n",
       "</style>\n",
       "<table border=\"1\" class=\"dataframe\">\n",
       "  <thead>\n",
       "    <tr style=\"text-align: right;\">\n",
       "      <th></th>\n",
       "      <th>0</th>\n",
       "      <th>1</th>\n",
       "      <th>2</th>\n",
       "      <th>3</th>\n",
       "      <th>4</th>\n",
       "      <th>5</th>\n",
       "      <th>6</th>\n",
       "      <th>7</th>\n",
       "      <th>8</th>\n",
       "      <th>9</th>\n",
       "      <th>10</th>\n",
       "      <th>11</th>\n",
       "      <th>12</th>\n",
       "      <th>13</th>\n",
       "      <th>14</th>\n",
       "    </tr>\n",
       "  </thead>\n",
       "  <tbody>\n",
       "    <tr>\n",
       "      <th>0</th>\n",
       "      <td>44</td>\n",
       "      <td>Private</td>\n",
       "      <td>438696</td>\n",
       "      <td>Bachelors</td>\n",
       "      <td>13</td>\n",
       "      <td>Never-married</td>\n",
       "      <td>Sales</td>\n",
       "      <td>Not-in-family</td>\n",
       "      <td>White</td>\n",
       "      <td>Male</td>\n",
       "      <td>0</td>\n",
       "      <td>0</td>\n",
       "      <td>45</td>\n",
       "      <td>United-States</td>\n",
       "      <td>&lt;=50K.</td>\n",
       "    </tr>\n",
       "    <tr>\n",
       "      <th>1</th>\n",
       "      <td>39</td>\n",
       "      <td>Private</td>\n",
       "      <td>105803</td>\n",
       "      <td>Some-college</td>\n",
       "      <td>10</td>\n",
       "      <td>Married-civ-spouse</td>\n",
       "      <td>Sales</td>\n",
       "      <td>Husband</td>\n",
       "      <td>White</td>\n",
       "      <td>Male</td>\n",
       "      <td>0</td>\n",
       "      <td>0</td>\n",
       "      <td>40</td>\n",
       "      <td>United-States</td>\n",
       "      <td>&lt;=50K.</td>\n",
       "    </tr>\n",
       "    <tr>\n",
       "      <th>2</th>\n",
       "      <td>42</td>\n",
       "      <td>Private</td>\n",
       "      <td>245565</td>\n",
       "      <td>Bachelors</td>\n",
       "      <td>13</td>\n",
       "      <td>Never-married</td>\n",
       "      <td>Prof-specialty</td>\n",
       "      <td>Own-child</td>\n",
       "      <td>White</td>\n",
       "      <td>Female</td>\n",
       "      <td>0</td>\n",
       "      <td>0</td>\n",
       "      <td>12</td>\n",
       "      <td>England</td>\n",
       "      <td>&lt;=50K</td>\n",
       "    </tr>\n",
       "    <tr>\n",
       "      <th>3</th>\n",
       "      <td>26</td>\n",
       "      <td>Private</td>\n",
       "      <td>311743</td>\n",
       "      <td>HS-grad</td>\n",
       "      <td>9</td>\n",
       "      <td>Separated</td>\n",
       "      <td>Other-service</td>\n",
       "      <td>Unmarried</td>\n",
       "      <td>White</td>\n",
       "      <td>Female</td>\n",
       "      <td>0</td>\n",
       "      <td>0</td>\n",
       "      <td>39</td>\n",
       "      <td>United-States</td>\n",
       "      <td>&lt;=50K.</td>\n",
       "    </tr>\n",
       "    <tr>\n",
       "      <th>4</th>\n",
       "      <td>19</td>\n",
       "      <td>Private</td>\n",
       "      <td>237433</td>\n",
       "      <td>HS-grad</td>\n",
       "      <td>9</td>\n",
       "      <td>Never-married</td>\n",
       "      <td>Prof-specialty</td>\n",
       "      <td>Not-in-family</td>\n",
       "      <td>White</td>\n",
       "      <td>Female</td>\n",
       "      <td>4416</td>\n",
       "      <td>0</td>\n",
       "      <td>40</td>\n",
       "      <td>United-States</td>\n",
       "      <td>&lt;=50K.</td>\n",
       "    </tr>\n",
       "    <tr>\n",
       "      <th>...</th>\n",
       "      <td>...</td>\n",
       "      <td>...</td>\n",
       "      <td>...</td>\n",
       "      <td>...</td>\n",
       "      <td>...</td>\n",
       "      <td>...</td>\n",
       "      <td>...</td>\n",
       "      <td>...</td>\n",
       "      <td>...</td>\n",
       "      <td>...</td>\n",
       "      <td>...</td>\n",
       "      <td>...</td>\n",
       "      <td>...</td>\n",
       "      <td>...</td>\n",
       "      <td>...</td>\n",
       "    </tr>\n",
       "    <tr>\n",
       "      <th>48837</th>\n",
       "      <td>34</td>\n",
       "      <td>State-gov</td>\n",
       "      <td>595000</td>\n",
       "      <td>Masters</td>\n",
       "      <td>14</td>\n",
       "      <td>Married-civ-spouse</td>\n",
       "      <td>Prof-specialty</td>\n",
       "      <td>Wife</td>\n",
       "      <td>Black</td>\n",
       "      <td>Female</td>\n",
       "      <td>0</td>\n",
       "      <td>0</td>\n",
       "      <td>40</td>\n",
       "      <td>United-States</td>\n",
       "      <td>&gt;50K</td>\n",
       "    </tr>\n",
       "    <tr>\n",
       "      <th>48838</th>\n",
       "      <td>17</td>\n",
       "      <td>?</td>\n",
       "      <td>110998</td>\n",
       "      <td>Some-college</td>\n",
       "      <td>10</td>\n",
       "      <td>Never-married</td>\n",
       "      <td>?</td>\n",
       "      <td>Own-child</td>\n",
       "      <td>Asian-Pac-Islander</td>\n",
       "      <td>Female</td>\n",
       "      <td>0</td>\n",
       "      <td>0</td>\n",
       "      <td>40</td>\n",
       "      <td>Philippines</td>\n",
       "      <td>&lt;=50K</td>\n",
       "    </tr>\n",
       "    <tr>\n",
       "      <th>48839</th>\n",
       "      <td>30</td>\n",
       "      <td>Private</td>\n",
       "      <td>302438</td>\n",
       "      <td>HS-grad</td>\n",
       "      <td>9</td>\n",
       "      <td>Never-married</td>\n",
       "      <td>Machine-op-inspct</td>\n",
       "      <td>Not-in-family</td>\n",
       "      <td>White</td>\n",
       "      <td>Male</td>\n",
       "      <td>0</td>\n",
       "      <td>0</td>\n",
       "      <td>40</td>\n",
       "      <td>United-States</td>\n",
       "      <td>&lt;=50K</td>\n",
       "    </tr>\n",
       "    <tr>\n",
       "      <th>48840</th>\n",
       "      <td>45</td>\n",
       "      <td>Private</td>\n",
       "      <td>288437</td>\n",
       "      <td>HS-grad</td>\n",
       "      <td>9</td>\n",
       "      <td>Married-civ-spouse</td>\n",
       "      <td>Transport-moving</td>\n",
       "      <td>Husband</td>\n",
       "      <td>Other</td>\n",
       "      <td>Male</td>\n",
       "      <td>4064</td>\n",
       "      <td>0</td>\n",
       "      <td>40</td>\n",
       "      <td>United-States</td>\n",
       "      <td>&lt;=50K</td>\n",
       "    </tr>\n",
       "    <tr>\n",
       "      <th>48841</th>\n",
       "      <td>30</td>\n",
       "      <td>Private</td>\n",
       "      <td>187203</td>\n",
       "      <td>Bachelors</td>\n",
       "      <td>13</td>\n",
       "      <td>Married-civ-spouse</td>\n",
       "      <td>Handlers-cleaners</td>\n",
       "      <td>Husband</td>\n",
       "      <td>White</td>\n",
       "      <td>Male</td>\n",
       "      <td>0</td>\n",
       "      <td>0</td>\n",
       "      <td>40</td>\n",
       "      <td>United-States</td>\n",
       "      <td>&lt;=50K.</td>\n",
       "    </tr>\n",
       "  </tbody>\n",
       "</table>\n",
       "<p>48842 rows × 15 columns</p>\n",
       "</div>"
      ],
      "text/plain": [
       "       0          1       2             3   4                   5   \\\n",
       "0      44    Private  438696     Bachelors  13       Never-married   \n",
       "1      39    Private  105803  Some-college  10  Married-civ-spouse   \n",
       "2      42    Private  245565     Bachelors  13       Never-married   \n",
       "3      26    Private  311743       HS-grad   9           Separated   \n",
       "4      19    Private  237433       HS-grad   9       Never-married   \n",
       "...    ..        ...     ...           ...  ..                 ...   \n",
       "48837  34  State-gov  595000       Masters  14  Married-civ-spouse   \n",
       "48838  17          ?  110998  Some-college  10       Never-married   \n",
       "48839  30    Private  302438       HS-grad   9       Never-married   \n",
       "48840  45    Private  288437       HS-grad   9  Married-civ-spouse   \n",
       "48841  30    Private  187203     Bachelors  13  Married-civ-spouse   \n",
       "\n",
       "                      6              7                   8       9     10  11  \\\n",
       "0                  Sales  Not-in-family               White    Male     0   0   \n",
       "1                  Sales        Husband               White    Male     0   0   \n",
       "2         Prof-specialty      Own-child               White  Female     0   0   \n",
       "3          Other-service      Unmarried               White  Female     0   0   \n",
       "4         Prof-specialty  Not-in-family               White  Female  4416   0   \n",
       "...                  ...            ...                 ...     ...   ...  ..   \n",
       "48837     Prof-specialty           Wife               Black  Female     0   0   \n",
       "48838                  ?      Own-child  Asian-Pac-Islander  Female     0   0   \n",
       "48839  Machine-op-inspct  Not-in-family               White    Male     0   0   \n",
       "48840   Transport-moving        Husband               Other    Male  4064   0   \n",
       "48841  Handlers-cleaners        Husband               White    Male     0   0   \n",
       "\n",
       "       12             13      14  \n",
       "0      45  United-States  <=50K.  \n",
       "1      40  United-States  <=50K.  \n",
       "2      12        England   <=50K  \n",
       "3      39  United-States  <=50K.  \n",
       "4      40  United-States  <=50K.  \n",
       "...    ..            ...     ...  \n",
       "48837  40  United-States    >50K  \n",
       "48838  40    Philippines   <=50K  \n",
       "48839  40  United-States   <=50K  \n",
       "48840  40  United-States   <=50K  \n",
       "48841  40  United-States  <=50K.  \n",
       "\n",
       "[48842 rows x 15 columns]"
      ]
     },
     "execution_count": 85,
     "metadata": {},
     "output_type": "execute_result"
    }
   ],
   "source": [
    "# reading csv files\n",
    "df =  pd.read_csv('adult.data', sep=\",\", header=None, skipinitialspace=True)\n",
    "df2 = pd.read_csv('adult.test', sep=\",\", header=None, skipinitialspace=True)\n",
    "\n",
    "# Join the data and test files together\n",
    "df = pd.concat([df, df2])\n",
    "\n",
    "# Shuffle the rows\n",
    "df = df.sample(frac=1).reset_index(drop=True)\n",
    "df"
   ]
  },
  {
   "cell_type": "code",
   "execution_count": 86,
   "id": "95295467",
   "metadata": {},
   "outputs": [
    {
     "name": "stdout",
     "output_type": "stream",
     "text": [
      "       Income\n",
      "0      <=50K.\n",
      "1      <=50K.\n",
      "2       <=50K\n",
      "3      <=50K.\n",
      "4      <=50K.\n",
      "...       ...\n",
      "48837    >50K\n",
      "48838   <=50K\n",
      "48839   <=50K\n",
      "48840   <=50K\n",
      "48841  <=50K.\n",
      "\n",
      "[48842 rows x 1 columns]\n"
     ]
    }
   ],
   "source": [
    "# Find X and y values - selecting only important features for X\n",
    "X = df.iloc[:, [0, 4, 6, 8, 9, 12, 13]]\n",
    "y = df.iloc[:, [14]]\n",
    "X.columns = ['Age', 'Education', 'Occupation', 'Race', 'Sex', 'Hours-per-week', 'Native-country']\n",
    "y.columns = ['Income']\n",
    "print(y)\n",
    "\n"
   ]
  },
  {
   "cell_type": "code",
   "execution_count": 87,
   "id": "da380bfc",
   "metadata": {},
   "outputs": [
    {
     "name": "stderr",
     "output_type": "stream",
     "text": [
      "<ipython-input-87-8ad0a91bac10>:3: SettingWithCopyWarning: \n",
      "A value is trying to be set on a copy of a slice from a DataFrame.\n",
      "Try using .loc[row_indexer,col_indexer] = value instead\n",
      "\n",
      "See the caveats in the documentation: https://pandas.pydata.org/pandas-docs/stable/user_guide/indexing.html#returning-a-view-versus-a-copy\n",
      "  X['Sex'] = (X['Sex'].map(mapping_dict))\n",
      "<ipython-input-87-8ad0a91bac10>:5: SettingWithCopyWarning: \n",
      "A value is trying to be set on a copy of a slice from a DataFrame.\n",
      "Try using .loc[row_indexer,col_indexer] = value instead\n",
      "\n",
      "See the caveats in the documentation: https://pandas.pydata.org/pandas-docs/stable/user_guide/indexing.html#returning-a-view-versus-a-copy\n",
      "  X['Race'] = (X['Race'].map(mapping_dict))\n",
      "<ipython-input-87-8ad0a91bac10>:9: SettingWithCopyWarning: \n",
      "A value is trying to be set on a copy of a slice from a DataFrame.\n",
      "Try using .loc[row_indexer,col_indexer] = value instead\n",
      "\n",
      "See the caveats in the documentation: https://pandas.pydata.org/pandas-docs/stable/user_guide/indexing.html#returning-a-view-versus-a-copy\n",
      "  X['Native-country'] = (X['Native-country'].map(mapping_dict))\n",
      "<ipython-input-87-8ad0a91bac10>:12: SettingWithCopyWarning: \n",
      "A value is trying to be set on a copy of a slice from a DataFrame.\n",
      "Try using .loc[row_indexer,col_indexer] = value instead\n",
      "\n",
      "See the caveats in the documentation: https://pandas.pydata.org/pandas-docs/stable/user_guide/indexing.html#returning-a-view-versus-a-copy\n",
      "  y['Income'] = (y['Income'].map(mapping_dict))\n"
     ]
    }
   ],
   "source": [
    "# Convert categorical data to numerical\n",
    "mapping_dict = {'Male' : '0','Female' : '1'}\n",
    "X['Sex'] = (X['Sex'].map(mapping_dict))\n",
    "mapping_dict = {'White' : '0','Asian-Pac-Islander' : '1', 'Amer-Indian-Eskimo' : '2', 'Other' : '3', 'Black' : '4'}\n",
    "X['Race'] = (X['Race'].map(mapping_dict))\n",
    "# Set countries to numerical value, grouped countries into continents.\n",
    "# North America = 0, South America = 1, Asia = 2, Europe = 3, \n",
    "mapping_dict = {'United-States' : '0', 'Cambodia' : '2', 'England' : '3', 'Puerto-Rico' : '0', 'Canada' : '0', 'Germany' : '3', 'Outlying-US(Guam-USVI-etc)' : '0', 'India' : '2', 'Japan' : '2', 'Greece' : '3', 'South' : '??????????', 'China' : '2', 'Cuba' : '0', 'Iran' : '2', 'Honduras' : '0', 'Philippines' : '2', 'Italy' : '3', 'Poland' : '3', 'Jamaica' : '0', 'Vietnam' : '2', 'Mexico' : '0', 'Portugal' : '3', 'Ireland' : '3', 'France' : '3', 'Dominican-Republic' : '0', 'Laos' : '2', 'Ecuador' : '1', 'Taiwan' : '2', 'Haiti' : '0', 'Columbia' : '1', 'Hungary' : '3', 'Guatemala' : '0', 'Nicaragua' : '0', 'Scotland' : '3', 'Thailand' : '2', 'Yugoslavia' : '3', 'El-Salvador' : '0', 'Trinadad&Tobago' : '1', 'Peru' : '1', 'Hong' : '????????', 'Holand-Netherlands' : '3', '?' : '?'}\n",
    "X['Native-country'] = (X['Native-country'].map(mapping_dict))\n",
    "# Convert y into numerical: <50k = 0, >50k = 1\n",
    "mapping_dict = {'<=50K' : '0', '>50K' : '1', '<=50K.' : '0', '>50K.' : '1'}\n",
    "y['Income'] = (y['Income'].map(mapping_dict))\n"
   ]
  },
  {
   "cell_type": "code",
   "execution_count": 88,
   "id": "a239c043",
   "metadata": {},
   "outputs": [
    {
     "data": {
      "text/plain": [
       "Income    0\n",
       "dtype: int64"
      ]
     },
     "execution_count": 88,
     "metadata": {},
     "output_type": "execute_result"
    }
   ],
   "source": [
    "y.isnull().sum()"
   ]
  },
  {
   "cell_type": "code",
   "execution_count": 89,
   "id": "6ec4de59",
   "metadata": {},
   "outputs": [
    {
     "data": {
      "text/html": [
       "<div>\n",
       "<style scoped>\n",
       "    .dataframe tbody tr th:only-of-type {\n",
       "        vertical-align: middle;\n",
       "    }\n",
       "\n",
       "    .dataframe tbody tr th {\n",
       "        vertical-align: top;\n",
       "    }\n",
       "\n",
       "    .dataframe thead th {\n",
       "        text-align: right;\n",
       "    }\n",
       "</style>\n",
       "<table border=\"1\" class=\"dataframe\">\n",
       "  <thead>\n",
       "    <tr style=\"text-align: right;\">\n",
       "      <th></th>\n",
       "      <th>Age</th>\n",
       "      <th>Education</th>\n",
       "      <th>Occupation</th>\n",
       "      <th>Race</th>\n",
       "      <th>Sex</th>\n",
       "      <th>Hours-per-week</th>\n",
       "      <th>Native-country</th>\n",
       "    </tr>\n",
       "  </thead>\n",
       "  <tbody>\n",
       "    <tr>\n",
       "      <th>0</th>\n",
       "      <td>44</td>\n",
       "      <td>13</td>\n",
       "      <td>Sales</td>\n",
       "      <td>0</td>\n",
       "      <td>0</td>\n",
       "      <td>45</td>\n",
       "      <td>0</td>\n",
       "    </tr>\n",
       "    <tr>\n",
       "      <th>1</th>\n",
       "      <td>39</td>\n",
       "      <td>10</td>\n",
       "      <td>Sales</td>\n",
       "      <td>0</td>\n",
       "      <td>0</td>\n",
       "      <td>40</td>\n",
       "      <td>0</td>\n",
       "    </tr>\n",
       "    <tr>\n",
       "      <th>2</th>\n",
       "      <td>42</td>\n",
       "      <td>13</td>\n",
       "      <td>Prof-specialty</td>\n",
       "      <td>0</td>\n",
       "      <td>1</td>\n",
       "      <td>12</td>\n",
       "      <td>3</td>\n",
       "    </tr>\n",
       "    <tr>\n",
       "      <th>3</th>\n",
       "      <td>26</td>\n",
       "      <td>9</td>\n",
       "      <td>Other-service</td>\n",
       "      <td>0</td>\n",
       "      <td>1</td>\n",
       "      <td>39</td>\n",
       "      <td>0</td>\n",
       "    </tr>\n",
       "    <tr>\n",
       "      <th>4</th>\n",
       "      <td>19</td>\n",
       "      <td>9</td>\n",
       "      <td>Prof-specialty</td>\n",
       "      <td>0</td>\n",
       "      <td>1</td>\n",
       "      <td>40</td>\n",
       "      <td>0</td>\n",
       "    </tr>\n",
       "    <tr>\n",
       "      <th>...</th>\n",
       "      <td>...</td>\n",
       "      <td>...</td>\n",
       "      <td>...</td>\n",
       "      <td>...</td>\n",
       "      <td>...</td>\n",
       "      <td>...</td>\n",
       "      <td>...</td>\n",
       "    </tr>\n",
       "    <tr>\n",
       "      <th>48837</th>\n",
       "      <td>34</td>\n",
       "      <td>14</td>\n",
       "      <td>Prof-specialty</td>\n",
       "      <td>4</td>\n",
       "      <td>1</td>\n",
       "      <td>40</td>\n",
       "      <td>0</td>\n",
       "    </tr>\n",
       "    <tr>\n",
       "      <th>48838</th>\n",
       "      <td>17</td>\n",
       "      <td>10</td>\n",
       "      <td>?</td>\n",
       "      <td>1</td>\n",
       "      <td>1</td>\n",
       "      <td>40</td>\n",
       "      <td>2</td>\n",
       "    </tr>\n",
       "    <tr>\n",
       "      <th>48839</th>\n",
       "      <td>30</td>\n",
       "      <td>9</td>\n",
       "      <td>Machine-op-inspct</td>\n",
       "      <td>0</td>\n",
       "      <td>0</td>\n",
       "      <td>40</td>\n",
       "      <td>0</td>\n",
       "    </tr>\n",
       "    <tr>\n",
       "      <th>48840</th>\n",
       "      <td>45</td>\n",
       "      <td>9</td>\n",
       "      <td>Transport-moving</td>\n",
       "      <td>3</td>\n",
       "      <td>0</td>\n",
       "      <td>40</td>\n",
       "      <td>0</td>\n",
       "    </tr>\n",
       "    <tr>\n",
       "      <th>48841</th>\n",
       "      <td>30</td>\n",
       "      <td>13</td>\n",
       "      <td>Handlers-cleaners</td>\n",
       "      <td>0</td>\n",
       "      <td>0</td>\n",
       "      <td>40</td>\n",
       "      <td>0</td>\n",
       "    </tr>\n",
       "  </tbody>\n",
       "</table>\n",
       "<p>48842 rows × 7 columns</p>\n",
       "</div>"
      ],
      "text/plain": [
       "       Age  Education         Occupation Race Sex  Hours-per-week  \\\n",
       "0       44         13              Sales    0   0              45   \n",
       "1       39         10              Sales    0   0              40   \n",
       "2       42         13     Prof-specialty    0   1              12   \n",
       "3       26          9      Other-service    0   1              39   \n",
       "4       19          9     Prof-specialty    0   1              40   \n",
       "...    ...        ...                ...  ...  ..             ...   \n",
       "48837   34         14     Prof-specialty    4   1              40   \n",
       "48838   17         10                  ?    1   1              40   \n",
       "48839   30          9  Machine-op-inspct    0   0              40   \n",
       "48840   45          9   Transport-moving    3   0              40   \n",
       "48841   30         13  Handlers-cleaners    0   0              40   \n",
       "\n",
       "      Native-country  \n",
       "0                  0  \n",
       "1                  0  \n",
       "2                  3  \n",
       "3                  0  \n",
       "4                  0  \n",
       "...              ...  \n",
       "48837              0  \n",
       "48838              2  \n",
       "48839              0  \n",
       "48840              0  \n",
       "48841              0  \n",
       "\n",
       "[48842 rows x 7 columns]"
      ]
     },
     "execution_count": 89,
     "metadata": {},
     "output_type": "execute_result"
    }
   ],
   "source": [
    "X"
   ]
  },
  {
   "cell_type": "code",
   "execution_count": 90,
   "id": "b36a5cdc",
   "metadata": {},
   "outputs": [],
   "source": [
    "# Replace all of ? with None\n",
    "X = X.replace(['?'], [None])\n",
    "# # Drop all rows with None in them\n",
    "# X = X.dropna(axis=0)\n",
    "\n",
    "# # Check no None values remain\n",
    "# X.isnull().sum()"
   ]
  },
  {
   "cell_type": "code",
   "execution_count": 91,
   "id": "03f9a22f",
   "metadata": {},
   "outputs": [
    {
     "data": {
      "text/plain": [
       "Age                  0\n",
       "Education            0\n",
       "Occupation        2809\n",
       "Race                 0\n",
       "Sex                  0\n",
       "Hours-per-week       0\n",
       "Native-country     857\n",
       "dtype: int64"
      ]
     },
     "execution_count": 91,
     "metadata": {},
     "output_type": "execute_result"
    }
   ],
   "source": [
    "# print(X.head(50))\n",
    "X.isnull().sum()"
   ]
  },
  {
   "cell_type": "code",
   "execution_count": 78,
   "id": "51e347c3",
   "metadata": {},
   "outputs": [
    {
     "data": {
      "text/plain": [
       "Text(0, 0.5, 'count')"
      ]
     },
     "execution_count": 78,
     "metadata": {},
     "output_type": "execute_result"
    },
    {
     "data": {
      "image/png": "[encoded data removed]",
      "text/plain": [
       "<Figure size 936x504 with 1 Axes>"
      ]
     },
     "metadata": {
      "needs_background": "light"
     },
     "output_type": "display_data"
    }
   ],
   "source": [
    "# Plot a histogram of 'medv' in y\n",
    "fig = plt.figure(figsize=(13,7))\n",
    "plt.hist(X['Age'], bins=50, range = (0, 100))\n",
    "fig.suptitle('medv Count', fontsize = 20)\n",
    "plt.xlabel('medv', fontsize = 16)\n",
    "plt.ylabel('count', fontsize = 16)"
   ]
  },
  {
   "cell_type": "code",
   "execution_count": null,
   "id": "8c217dc5",
   "metadata": {},
   "outputs": [],
   "source": []
  },
  {
   "cell_type": "code",
   "execution_count": null,
   "id": "f232f94d",
   "metadata": {},
   "outputs": [],
   "source": []
  },
  {
   "cell_type": "code",
   "execution_count": null,
   "id": "ae20cbb6",
   "metadata": {},
   "outputs": [],
   "source": []
  },
  {
   "cell_type": "code",
   "execution_count": 79,
   "id": "803b111c",
   "metadata": {},
   "outputs": [
    {
     "data": {
      "image/png": "[encoded data removed]",
      "text/plain": [
       "<Figure size 432x288 with 1 Axes>"
      ]
     },
     "metadata": {
      "needs_background": "light"
     },
     "output_type": "display_data"
    }
   ],
   "source": [
    "X['Age'].value_counts().values\n",
    "X['Age'].value_counts().index.tolist()\n",
    "\n",
    "# Plotting the number of occurences of each age within the data\n",
    "plt.scatter(X['Age'].value_counts().index.tolist(), X['Age'].value_counts().values, color='black')\n",
    "plt.xlabel(\"Age\")\n",
    "plt.ylabel(\"Number of occurences\")\n",
    "plt.show()"
   ]
  },
  {
   "cell_type": "code",
   "execution_count": 80,
   "id": "126ba956",
   "metadata": {},
   "outputs": [
    {
     "data": {
      "image/png": "[encoded data removed]",
      "text/plain": [
       "<Figure size 432x288 with 1 Axes>"
      ]
     },
     "metadata": {
      "needs_background": "light"
     },
     "output_type": "display_data"
    }
   ],
   "source": [
    "X['Native-country'].value_counts().values\n",
    "X['Native-country'].value_counts().index.tolist()\n",
    "\n",
    "# Plotting the number of occurences of each age within the data\n",
    "plt.bar(X['Native-country'].value_counts().index.tolist(), X['Native-country'].value_counts().values, color='black')\n",
    "plt.xlabel(\"Native-country\")\n",
    "plt.ylabel(\"Number of occurences\")\n",
    "plt.show()\n",
    "\n",
    "# Compare to graph of before you formed the continent categories.\n",
    "\n",
    "# Shows that feature scaling is required?"
   ]
  },
  {
   "cell_type": "code",
   "execution_count": 53,
   "id": "495638ad",
   "metadata": {},
   "outputs": [
    {
     "data": {
      "image/png": "[encoded data removed]",
      "text/plain": [
       "<Figure size 432x288 with 1 Axes>"
      ]
     },
     "metadata": {
      "needs_background": "light"
     },
     "output_type": "display_data"
    }
   ],
   "source": [
    "X['Race'].value_counts().values\n",
    "X['Race'].value_counts().index.tolist()\n",
    "\n",
    "# Plotting the number of occurences of each age within the data\n",
    "plt.bar(X['Race'].value_counts().index.tolist(), X['Race'].value_counts().values, color='black')\n",
    "plt.xlabel(\"Race\")\n",
    "plt.ylabel(\"Number of occurences\")\n",
    "plt.show()\n",
    "\n",
    "# Shows that feature scaling is required?"
   ]
  },
  {
   "cell_type": "code",
   "execution_count": 54,
   "id": "dbd7401b",
   "metadata": {},
   "outputs": [
    {
     "data": {
      "image/png": "[encoded data removed]",
      "text/plain": [
       "<Figure size 432x288 with 1 Axes>"
      ]
     },
     "metadata": {
      "needs_background": "light"
     },
     "output_type": "display_data"
    }
   ],
   "source": [
    "X['Sex'].value_counts().values\n",
    "X['Sex'].value_counts().index.tolist()\n",
    "\n",
    "# Plotting the number of occurences of each age within the data\n",
    "plt.bar(X['Sex'].value_counts().index.tolist(), X['Sex'].value_counts().values, color='black')\n",
    "plt.xlabel(\"Sex\")\n",
    "plt.ylabel(\"Number of occurences\")\n",
    "plt.show()\n",
    "\n",
    "# Shows that feature scaling is required?"
   ]
  },
  {
   "cell_type": "code",
   "execution_count": 55,
   "id": "83a2551a",
   "metadata": {},
   "outputs": [
    {
     "data": {
      "image/png": "[encoded data removed]",
      "text/plain": [
       "<Figure size 432x288 with 1 Axes>"
      ]
     },
     "metadata": {
      "needs_background": "light"
     },
     "output_type": "display_data"
    }
   ],
   "source": [
    "X['Hours-per-week'].value_counts().values\n",
    "X['Hours-per-week'].value_counts().index.tolist()\n",
    "\n",
    "# Plotting the number of occurences of each age within the data\n",
    "plt.bar(X['Hours-per-week'].value_counts().index.tolist(), X['Hours-per-week'].value_counts().values, color='black')\n",
    "plt.xlabel(\"Hours-per-week\")\n",
    "plt.ylabel(\"Number of occurences\")\n",
    "plt.show()\n",
    "\n",
    "# Shows that feature scaling is required??????"
   ]
  },
  {
   "cell_type": "code",
   "execution_count": 56,
   "id": "cb17068e",
   "metadata": {},
   "outputs": [
    {
     "data": {
      "image/png": "[encoded data removed]",
      "text/plain": [
       "<Figure size 432x288 with 1 Axes>"
      ]
     },
     "metadata": {
      "needs_background": "light"
     },
     "output_type": "display_data"
    }
   ],
   "source": [
    "X['Education'].value_counts().values\n",
    "X['Education'].value_counts().index.tolist()\n",
    "\n",
    "# Plotting the number of occurences of each age within the data\n",
    "plt.bar(X['Education'].value_counts().index.tolist(), X['Education'].value_counts().values, color='black')\n",
    "plt.xlabel(\"Education\")\n",
    "plt.ylabel(\"Number of occurences\")\n",
    "plt.show()\n",
    "\n",
    "# Shows that feature scaling is required?"
   ]
  },
  {
   "cell_type": "code",
   "execution_count": null,
   "id": "399c0ec3",
   "metadata": {},
   "outputs": [],
   "source": []
  },
  {
   "cell_type": "code",
   "execution_count": null,
   "id": "2be44d6a",
   "metadata": {},
   "outputs": [],
   "source": []
  }
 ],
 "metadata": {
  "kernelspec": {
   "display_name": "Python 3",
   "language": "python",
   "name": "python3"
  },
  "language_info": {
   "codemirror_mode": {
    "name": "ipython",
    "version": 3
   },
   "file_extension": ".py",
   "mimetype": "text/x-python",
   "name": "python",
   "nbconvert_exporter": "python",
   "pygments_lexer": "ipython3",
   "version": "3.8.8"
  }
 },
 "nbformat": 4,
 "nbformat_minor": 5
}
