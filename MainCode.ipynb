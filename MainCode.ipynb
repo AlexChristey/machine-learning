{
 "cells": [
  {
   "cell_type": "code",
   "execution_count": 5,
   "id": "4f5c8d49",
   "metadata": {},
   "outputs": [],
   "source": [
    "# import libraries\n",
    "import numpy as np\n",
    "import matplotlib.pyplot as plt\n",
    "import pandas as pd"
   ]
  },
  {
   "cell_type": "code",
   "execution_count": 6,
   "id": "fbb001a6",
   "metadata": {},
   "outputs": [
    {
     "data": {
      "text/plain": [
       "0     0\n",
       "1     0\n",
       "2     0\n",
       "3     0\n",
       "4     0\n",
       "5     0\n",
       "6     0\n",
       "7     0\n",
       "8     0\n",
       "9     0\n",
       "10    0\n",
       "11    0\n",
       "12    0\n",
       "13    0\n",
       "14    0\n",
       "dtype: int64"
      ]
     },
     "execution_count": 6,
     "metadata": {},
     "output_type": "execute_result"
    }
   ],
   "source": [
    "# reading csv files\n",
    "df =  pd.read_csv('adult.data', sep=\",\", header=None, skipinitialspace=True)\n",
    "df2 = pd.read_csv('adult.test', sep=\",\", header=None, skipinitialspace=True)\n",
    "\n",
    "# Join the data and test files together\n",
    "df = pd.concat([df, df2])\n",
    "\n",
    "# Shuffle the rows\n",
    "df = df.sample(frac=1).reset_index(drop=True)\n",
    "df\n",
    "\n",
    "# Replace all of ? with None\n",
    "df = df.replace(['?'], [None])\n",
    "# Drop all rows with None in them\n",
    "df = df.dropna(axis=0)\n",
    "\n",
    "# Check no None values remain\n",
    "df.isnull().sum()"
   ]
  },
  {
   "cell_type": "code",
   "execution_count": 7,
   "id": "866fb3d9",
   "metadata": {},
   "outputs": [
    {
     "data": {
      "text/html": [
       "<div>\n",
       "<style scoped>\n",
       "    .dataframe tbody tr th:only-of-type {\n",
       "        vertical-align: middle;\n",
       "    }\n",
       "\n",
       "    .dataframe tbody tr th {\n",
       "        vertical-align: top;\n",
       "    }\n",
       "\n",
       "    .dataframe thead th {\n",
       "        text-align: right;\n",
       "    }\n",
       "</style>\n",
       "<table border=\"1\" class=\"dataframe\">\n",
       "  <thead>\n",
       "    <tr style=\"text-align: right;\">\n",
       "      <th></th>\n",
       "      <th>0</th>\n",
       "      <th>1</th>\n",
       "      <th>2</th>\n",
       "      <th>3</th>\n",
       "      <th>4</th>\n",
       "      <th>5</th>\n",
       "      <th>6</th>\n",
       "      <th>7</th>\n",
       "      <th>8</th>\n",
       "      <th>9</th>\n",
       "      <th>10</th>\n",
       "      <th>11</th>\n",
       "      <th>12</th>\n",
       "      <th>13</th>\n",
       "      <th>14</th>\n",
       "    </tr>\n",
       "  </thead>\n",
       "  <tbody>\n",
       "    <tr>\n",
       "      <th>0</th>\n",
       "      <td>30</td>\n",
       "      <td>Private</td>\n",
       "      <td>53373</td>\n",
       "      <td>Bachelors</td>\n",
       "      <td>13</td>\n",
       "      <td>Married-civ-spouse</td>\n",
       "      <td>Adm-clerical</td>\n",
       "      <td>Husband</td>\n",
       "      <td>White</td>\n",
       "      <td>Male</td>\n",
       "      <td>0</td>\n",
       "      <td>0</td>\n",
       "      <td>40</td>\n",
       "      <td>United-States</td>\n",
       "      <td>&gt;50K.</td>\n",
       "    </tr>\n",
       "    <tr>\n",
       "      <th>1</th>\n",
       "      <td>49</td>\n",
       "      <td>Self-emp-not-inc</td>\n",
       "      <td>155659</td>\n",
       "      <td>5th-6th</td>\n",
       "      <td>3</td>\n",
       "      <td>Married-civ-spouse</td>\n",
       "      <td>Other-service</td>\n",
       "      <td>Husband</td>\n",
       "      <td>White</td>\n",
       "      <td>Male</td>\n",
       "      <td>0</td>\n",
       "      <td>0</td>\n",
       "      <td>40</td>\n",
       "      <td>United-States</td>\n",
       "      <td>&gt;50K.</td>\n",
       "    </tr>\n",
       "    <tr>\n",
       "      <th>3</th>\n",
       "      <td>24</td>\n",
       "      <td>Self-emp-not-inc</td>\n",
       "      <td>186831</td>\n",
       "      <td>Some-college</td>\n",
       "      <td>10</td>\n",
       "      <td>Never-married</td>\n",
       "      <td>Exec-managerial</td>\n",
       "      <td>Not-in-family</td>\n",
       "      <td>Black</td>\n",
       "      <td>Male</td>\n",
       "      <td>0</td>\n",
       "      <td>0</td>\n",
       "      <td>45</td>\n",
       "      <td>United-States</td>\n",
       "      <td>&lt;=50K</td>\n",
       "    </tr>\n",
       "    <tr>\n",
       "      <th>4</th>\n",
       "      <td>32</td>\n",
       "      <td>Self-emp-not-inc</td>\n",
       "      <td>48014</td>\n",
       "      <td>Some-college</td>\n",
       "      <td>10</td>\n",
       "      <td>Divorced</td>\n",
       "      <td>Other-service</td>\n",
       "      <td>Not-in-family</td>\n",
       "      <td>White</td>\n",
       "      <td>Female</td>\n",
       "      <td>0</td>\n",
       "      <td>0</td>\n",
       "      <td>35</td>\n",
       "      <td>United-States</td>\n",
       "      <td>&lt;=50K</td>\n",
       "    </tr>\n",
       "    <tr>\n",
       "      <th>5</th>\n",
       "      <td>35</td>\n",
       "      <td>Private</td>\n",
       "      <td>107125</td>\n",
       "      <td>Bachelors</td>\n",
       "      <td>13</td>\n",
       "      <td>Married-civ-spouse</td>\n",
       "      <td>Prof-specialty</td>\n",
       "      <td>Husband</td>\n",
       "      <td>White</td>\n",
       "      <td>Male</td>\n",
       "      <td>0</td>\n",
       "      <td>0</td>\n",
       "      <td>16</td>\n",
       "      <td>United-States</td>\n",
       "      <td>&gt;50K</td>\n",
       "    </tr>\n",
       "  </tbody>\n",
       "</table>\n",
       "</div>"
      ],
      "text/plain": [
       "   0                 1       2             3   4                   5   \\\n",
       "0  30           Private   53373     Bachelors  13  Married-civ-spouse   \n",
       "1  49  Self-emp-not-inc  155659       5th-6th   3  Married-civ-spouse   \n",
       "3  24  Self-emp-not-inc  186831  Some-college  10       Never-married   \n",
       "4  32  Self-emp-not-inc   48014  Some-college  10            Divorced   \n",
       "5  35           Private  107125     Bachelors  13  Married-civ-spouse   \n",
       "\n",
       "                6              7      8       9   10  11  12             13  \\\n",
       "0     Adm-clerical        Husband  White    Male   0   0  40  United-States   \n",
       "1    Other-service        Husband  White    Male   0   0  40  United-States   \n",
       "3  Exec-managerial  Not-in-family  Black    Male   0   0  45  United-States   \n",
       "4    Other-service  Not-in-family  White  Female   0   0  35  United-States   \n",
       "5   Prof-specialty        Husband  White    Male   0   0  16  United-States   \n",
       "\n",
       "      14  \n",
       "0  >50K.  \n",
       "1  >50K.  \n",
       "3  <=50K  \n",
       "4  <=50K  \n",
       "5   >50K  "
      ]
     },
     "execution_count": 7,
     "metadata": {},
     "output_type": "execute_result"
    }
   ],
   "source": [
    "df.head()"
   ]
  },
  {
   "cell_type": "code",
   "execution_count": 8,
   "id": "e48b105b",
   "metadata": {},
   "outputs": [
    {
     "name": "stdout",
     "output_type": "stream",
     "text": [
      "          0         2         4         10        11        12\n",
      "0   1.000000 -0.075792  0.037623  0.079683  0.059351  0.101992\n",
      "2  -0.075792  1.000000 -0.041993 -0.004110 -0.004349 -0.018679\n",
      "4   0.037623 -0.041993  1.000000  0.126907  0.081711  0.146206\n",
      "10  0.079683 -0.004110  0.126907  1.000000 -0.032102  0.083880\n",
      "11  0.059351 -0.004349  0.081711 -0.032102  1.000000  0.054195\n",
      "12  0.101992 -0.018679  0.146206  0.083880  0.054195  1.000000\n"
     ]
    }
   ],
   "source": [
    "#Creating a copy of our data frame \n",
    "import copy\n",
    "data = copy.deepcopy(df)\n",
    "r = data.corr()\n",
    "print(r)\n",
    "\n",
    "#Adding column headers to our data \n",
    "data.columns = [\"Age\", \"Workclass\", \"Fnlwgt\", \"Education\", \"Education-num\", \"Marital-status\", \"Occupation\", \"Relationship\", \"Race\", \"Sex\", \"Capital-gain\", \"Capital-loss\", \"Hours-per-week\", \"Native-country\", \"Income\"]\n"
   ]
  },
  {
   "cell_type": "code",
   "execution_count": 9,
   "id": "373db3b2",
   "metadata": {},
   "outputs": [
    {
     "data": {
      "image/png": "[encoded data removed]",
      "text/plain": [
       "<Figure size 288x288 with 1 Axes>"
      ]
     },
     "metadata": {
      "needs_background": "light"
     },
     "output_type": "display_data"
    }
   ],
   "source": [
    "import matplotlib.pyplot as plt\n",
    "\n",
    "plt.matshow(r)\n",
    "plt.show()"
   ]
  },
  {
   "cell_type": "code",
   "execution_count": 10,
   "id": "f603da79",
   "metadata": {},
   "outputs": [],
   "source": [
    "#Education-num provides the information in terms of education level, therefore education column can be dropped \n",
    "del data[\"Education\"]"
   ]
  },
  {
   "cell_type": "code",
   "execution_count": 11,
   "id": "f390e690",
   "metadata": {},
   "outputs": [],
   "source": [
    "#For the sake of correlation, the variables can be numerically encoded, however, when training algorithm, one-hot encoding must be used "
   ]
  },
  {
   "cell_type": "code",
   "execution_count": 12,
   "id": "bacdcc6c",
   "metadata": {},
   "outputs": [],
   "source": [
    "#Numerically encoding workclass\n",
    "\n",
    "worklclass_mapping_dict = {\n",
    "    \"Private\" : 0,\n",
    "    \"Self-emp-not-inc\" : 1, \n",
    "    \"Self-emp-inc\" : 2, \n",
    "    \"Federal-gov\" : 3, \n",
    "    \"Local-gov\" : 4,\n",
    "    \"State-gov\" : 5, \n",
    "    \"Without-pay\" : 6, \n",
    "    \"Never-worked\" : 7\n",
    "}\n",
    "\n",
    "data[\"Workclass\"] = data[\"Workclass\"].map(worklclass_mapping_dict)"
   ]
  },
  {
   "cell_type": "code",
   "execution_count": 13,
   "id": "256ccaa6",
   "metadata": {},
   "outputs": [],
   "source": [
    "#Numerically encoding marital status \n",
    "\n",
    "marital_status_mapping_dict = {\n",
    "    \"Married-civ-spouse\" : 0, \n",
    "    \"Divorced\" : 1, \n",
    "    \"Never-married\" : 2, \n",
    "    \"Widowed\" : 3, \n",
    "    \"Separated\" :4, \n",
    "    \"Married-spouse-absent\" : 5, \n",
    "    \"Married-AF-Spouse\" : 6\n",
    "}\n",
    "\n",
    "data[\"Marital-status\"] = data[\"Marital-status\"].map(marital_status_mapping_dict)"
   ]
  },
  {
   "cell_type": "code",
   "execution_count": 14,
   "id": "65744371",
   "metadata": {},
   "outputs": [],
   "source": [
    "#Numerically encoding occupation: Occupaiton is grouped into white collar and blue collar \n",
    "occupation_mapping_dict = {\n",
    "    \"Tech-support\" : 0,\n",
    "    \"Craft-repair\" : 1, \n",
    "    \"Other-service\" : 1, #Wasn't sure about blue or white collar for other services \n",
    "    \"Sales\" : 0, \n",
    "    \"Exec-managerial\" : 0, \n",
    "    \"Prof-specialty\" : 0, \n",
    "    \"Handlers-cleaners\" : 1, \n",
    "    \"Machine-op-inspct\" : 1, \n",
    "    \"Adm-clerical\" : 0, \n",
    "    \"Farming-fishing\" : 1, \n",
    "    \"Transport-moving\" : 1, \n",
    "    \"Priv-house-serv\" : 1, \n",
    "    \"Protective-serv\" : 1, \n",
    "    \"Armed-Forces\" : 1\n",
    "    }\n",
    "\n",
    "data[\"Occupation\"] = data[\"Occupation\"].map(occupation_mapping_dict)"
   ]
  },
  {
   "cell_type": "code",
   "execution_count": 15,
   "id": "9e99d476",
   "metadata": {},
   "outputs": [],
   "source": [
    "#Numerically encoding the relationships \n",
    "\n",
    "relationship_mapping_dict = {\n",
    "    \"Wife\" : 0, \n",
    "    \"Own-child\" : 1, \n",
    "    \"Husband\" : 2, \n",
    "    \"Not-in-family\" : 3, \n",
    "    \"Other-relative\" : 4, \n",
    "    \"Unmarried\" : 5\n",
    "}\n",
    "\n",
    "data[\"Relationship\"] = data[\"Relationship\"].map(relationship_mapping_dict)"
   ]
  },
  {
   "cell_type": "code",
   "execution_count": 16,
   "id": "1a91bf3e",
   "metadata": {},
   "outputs": [],
   "source": [
    "#Numerically encoding the race variable \n",
    "\n",
    "race_mapping_dict = {\n",
    "    \"White\" : 0,\n",
    "    \"Asian-Pac-Islander\" : 1, \n",
    "    \"Amer-Indian-Eskimo\" : 2, \n",
    "    \"Other\" : 4, \n",
    "    \"Black\" : 5\n",
    "    }\n",
    "\n",
    "data[\"Race\"] = data[\"Race\"].map(race_mapping_dict)\n",
    "\n"
   ]
  },
  {
   "cell_type": "code",
   "execution_count": 17,
   "id": "8add6ae0",
   "metadata": {},
   "outputs": [],
   "source": [
    "#Numerically encoding the sex variable \n",
    "\n",
    "sex_mapping_dict = {\n",
    "    \"Male\" : 0,\n",
    "    \"Female\" : 1\n",
    "    }\n",
    "\n",
    "data[\"Sex\"] = data[\"Sex\"].map(sex_mapping_dict)"
   ]
  },
  {
   "cell_type": "code",
   "execution_count": 18,
   "id": "13dfbe88",
   "metadata": {},
   "outputs": [],
   "source": [
    "#Numerically encoding the native country variable \n",
    "country_mapping_dict = {\n",
    "    \"United-States\" : 0,\n",
    "    \"Cambodia\" :2,\n",
    "    \"England\" : 3,\n",
    "    \"Puerto-Rico\" : 0,\n",
    "    \"Canada\" : 0, \n",
    "    \"Germany\" : 3, \n",
    "    \"Outlying-US(Guam-USVI-etc)\" : 0, \n",
    "    \"India\" : 2,\n",
    "    \"Japan\" : 2, \n",
    "    \"Greece\" : 3, \n",
    "    \"South\" : 2, #assumes this was South Korea\n",
    "    \"China\" : 2, \n",
    "    \"Cuba\" : 0, \n",
    "    \"Iran\" : 2,\n",
    "    \"Honduras\" : 0,\n",
    "    'Philippines' : 2, \n",
    "    'Italy' : 3,\n",
    "    'Poland' : 3, \n",
    "    'Jamaica' : 0, \n",
    "    'Vietnam' : 2,\n",
    "    'Mexico' : 0, \n",
    "    'Portugal' : 3, \n",
    "    'Ireland' : 3, \n",
    "    'France' : 3, \n",
    "    'Dominican-Republic' : 0, \n",
    "    'Laos' : 2, \n",
    "    'Ecuador' : 1,\n",
    "    'Taiwan' : 2, \n",
    "    'Haiti' : 0,\n",
    "    'Columbia' : 1, \n",
    "    'Hungary' : 3, \n",
    "    'Guatemala' : 0, \n",
    "    'Nicaragua' : 0, \n",
    "    'Scotland' : 3, \n",
    "    'Thailand' : 2, \n",
    "    'Yugoslavia' : 3, \n",
    "    'El-Salvador' : 0, \n",
    "    'Trinadad&Tobago' : 1, \n",
    "    'Peru' : 1, \n",
    "    'Hong' : 2, #This is assuming that Hong refers to Hong Kong\n",
    "    'Holand-Netherlands' :3\n",
    "}\n",
    "\n",
    "data[\"Native-country\"] = data[\"Native-country\"].map(country_mapping_dict)"
   ]
  },
  {
   "cell_type": "code",
   "execution_count": 19,
   "id": "87838895",
   "metadata": {},
   "outputs": [],
   "source": [
    "#Encoding income variable\n",
    "\n",
    "income_mapping_dict = {\n",
    "    \"<=50K\" : 0,\n",
    "    \">50K\" : 1, \n",
    "    \"<=50K.\" : 0, \n",
    "    \">50K.\" : 1\n",
    "    }\n",
    "\n",
    "data[\"Income\"] = data[\"Income\"].map(income_mapping_dict)"
   ]
  },
  {
   "cell_type": "code",
   "execution_count": 20,
   "id": "c154a144",
   "metadata": {},
   "outputs": [],
   "source": [
    "#pandas data[\"column\"].astype(\"uint8\")"
   ]
  },
  {
   "cell_type": "code",
   "execution_count": 21,
   "id": "2e4eed83",
   "metadata": {},
   "outputs": [],
   "source": [
    "#Every variable should be numerically encoded, and ready to create a correlation matrix \n",
    "#This block will be used to figure out the correlation between variables once I figure out how to \n",
    "r = data.corr()"
   ]
  },
  {
   "cell_type": "code",
   "execution_count": 25,
   "id": "1abf8b4e",
   "metadata": {},
   "outputs": [
    {
     "data": {
      "text/plain": [
       "<AxesSubplot:>"
      ]
     },
     "execution_count": 25,
     "metadata": {},
     "output_type": "execute_result"
    },
    {
     "data": {
      "image/png": "[encoded data removed]",
      "text/plain": [
       "<Figure size 842.4x595.44 with 2 Axes>"
      ]
     },
     "metadata": {},
     "output_type": "display_data"
    }
   ],
   "source": [
    "import seaborn as sns \n",
    "\n",
    "sns.set(rc={'figure.figsize':(11.7,8.27)})\n",
    "sns.heatmap(r, annot=True)"
   ]
  },
  {
   "cell_type": "code",
   "execution_count": null,
   "id": "8faf30a6",
   "metadata": {},
   "outputs": [],
   "source": [
    "#Will now employ one-hot encoding for : Work-class, Marital Status , Relationship, Native-Country\n",
    "from sklearn.feature_extraction import DictVectorizer\n",
    "onehot_encoder = DictVectorizer() "
   ]
  },
  {
   "cell_type": "code",
   "execution_count": null,
   "id": "2a2c10f9",
   "metadata": {},
   "outputs": [
    {
     "data": {
      "text/plain": [
       "array([[1., 0., 0., 0., 0., 0., 0., 0.],\n",
       "       [0., 1., 0., 0., 0., 0., 0., 0.],\n",
       "       [0., 0., 1., 0., 0., 0., 0., 0.],\n",
       "       [0., 0., 0., 1., 0., 0., 0., 0.],\n",
       "       [0., 0., 0., 0., 1., 0., 0., 0.],\n",
       "       [0., 0., 0., 0., 0., 1., 0., 0.],\n",
       "       [0., 0., 0., 0., 0., 0., 1., 0.],\n",
       "       [0., 0., 0., 0., 0., 0., 0., 1.]])"
      ]
     },
     "execution_count": 19,
     "metadata": {},
     "output_type": "execute_result"
    }
   ],
   "source": [
    "#One-hot encoding for Workclas\n",
    "workclass_instances = [\n",
    "    {\"workclass\" : \"0\"}, \n",
    "    {\"workclass\" : \"1\"},\n",
    "    {\"workclass\" : \"2\"}, \n",
    "    {\"workclass\" : \"3\"},\n",
    "    {\"workclass\" : \"4\"}, \n",
    "    {\"workclass\" : \"5\"},\n",
    "    {\"workclass\" : \"6\"}, \n",
    "    {\"workclass\" : \"7\"}\n",
    "]\n",
    "\n",
    "onehot_encoder.fit_transform(workclass_instances).toarray()\n",
    "\n"
   ]
  },
  {
   "cell_type": "code",
   "execution_count": null,
   "id": "95295467",
   "metadata": {},
   "outputs": [
    {
     "name": "stdout",
     "output_type": "stream",
     "text": [
      "       Income\n",
      "0       <=50K\n",
      "1       <=50K\n",
      "2       <=50K\n",
      "3       <=50K\n",
      "4       <=50K\n",
      "...       ...\n",
      "48837   <=50K\n",
      "48838   <=50K\n",
      "48839  <=50K.\n",
      "48840    >50K\n",
      "48841   <=50K\n",
      "\n",
      "[45222 rows x 1 columns]\n"
     ]
    },
    {
     "data": {
      "text/html": [
       "<div>\n",
       "<style scoped>\n",
       "    .dataframe tbody tr th:only-of-type {\n",
       "        vertical-align: middle;\n",
       "    }\n",
       "\n",
       "    .dataframe tbody tr th {\n",
       "        vertical-align: top;\n",
       "    }\n",
       "\n",
       "    .dataframe thead th {\n",
       "        text-align: right;\n",
       "    }\n",
       "</style>\n",
       "<table border=\"1\" class=\"dataframe\">\n",
       "  <thead>\n",
       "    <tr style=\"text-align: right;\">\n",
       "      <th></th>\n",
       "      <th>Age</th>\n",
       "      <th>Education</th>\n",
       "      <th>Occupation</th>\n",
       "      <th>Race</th>\n",
       "      <th>Sex</th>\n",
       "      <th>Hours-per-week</th>\n",
       "      <th>Native-country</th>\n",
       "    </tr>\n",
       "  </thead>\n",
       "  <tbody>\n",
       "    <tr>\n",
       "      <th>0</th>\n",
       "      <td>24</td>\n",
       "      <td>10</td>\n",
       "      <td>Other-service</td>\n",
       "      <td>White</td>\n",
       "      <td>Female</td>\n",
       "      <td>50</td>\n",
       "      <td>United-States</td>\n",
       "    </tr>\n",
       "    <tr>\n",
       "      <th>1</th>\n",
       "      <td>40</td>\n",
       "      <td>10</td>\n",
       "      <td>Adm-clerical</td>\n",
       "      <td>Black</td>\n",
       "      <td>Female</td>\n",
       "      <td>35</td>\n",
       "      <td>United-States</td>\n",
       "    </tr>\n",
       "    <tr>\n",
       "      <th>2</th>\n",
       "      <td>64</td>\n",
       "      <td>4</td>\n",
       "      <td>Other-service</td>\n",
       "      <td>Black</td>\n",
       "      <td>Female</td>\n",
       "      <td>40</td>\n",
       "      <td>United-States</td>\n",
       "    </tr>\n",
       "    <tr>\n",
       "      <th>3</th>\n",
       "      <td>24</td>\n",
       "      <td>13</td>\n",
       "      <td>Prof-specialty</td>\n",
       "      <td>White</td>\n",
       "      <td>Male</td>\n",
       "      <td>50</td>\n",
       "      <td>United-States</td>\n",
       "    </tr>\n",
       "    <tr>\n",
       "      <th>4</th>\n",
       "      <td>59</td>\n",
       "      <td>10</td>\n",
       "      <td>Farming-fishing</td>\n",
       "      <td>White</td>\n",
       "      <td>Female</td>\n",
       "      <td>40</td>\n",
       "      <td>United-States</td>\n",
       "    </tr>\n",
       "    <tr>\n",
       "      <th>...</th>\n",
       "      <td>...</td>\n",
       "      <td>...</td>\n",
       "      <td>...</td>\n",
       "      <td>...</td>\n",
       "      <td>...</td>\n",
       "      <td>...</td>\n",
       "      <td>...</td>\n",
       "    </tr>\n",
       "    <tr>\n",
       "      <th>48837</th>\n",
       "      <td>51</td>\n",
       "      <td>12</td>\n",
       "      <td>Tech-support</td>\n",
       "      <td>Black</td>\n",
       "      <td>Male</td>\n",
       "      <td>40</td>\n",
       "      <td>United-States</td>\n",
       "    </tr>\n",
       "    <tr>\n",
       "      <th>48838</th>\n",
       "      <td>40</td>\n",
       "      <td>9</td>\n",
       "      <td>Other-service</td>\n",
       "      <td>White</td>\n",
       "      <td>Male</td>\n",
       "      <td>45</td>\n",
       "      <td>United-States</td>\n",
       "    </tr>\n",
       "    <tr>\n",
       "      <th>48839</th>\n",
       "      <td>43</td>\n",
       "      <td>2</td>\n",
       "      <td>Farming-fishing</td>\n",
       "      <td>White</td>\n",
       "      <td>Male</td>\n",
       "      <td>28</td>\n",
       "      <td>Mexico</td>\n",
       "    </tr>\n",
       "    <tr>\n",
       "      <th>48840</th>\n",
       "      <td>55</td>\n",
       "      <td>9</td>\n",
       "      <td>Tech-support</td>\n",
       "      <td>White</td>\n",
       "      <td>Male</td>\n",
       "      <td>40</td>\n",
       "      <td>United-States</td>\n",
       "    </tr>\n",
       "    <tr>\n",
       "      <th>48841</th>\n",
       "      <td>30</td>\n",
       "      <td>13</td>\n",
       "      <td>Other-service</td>\n",
       "      <td>White</td>\n",
       "      <td>Male</td>\n",
       "      <td>40</td>\n",
       "      <td>United-States</td>\n",
       "    </tr>\n",
       "  </tbody>\n",
       "</table>\n",
       "<p>45222 rows × 7 columns</p>\n",
       "</div>"
      ],
      "text/plain": [
       "       Age  Education       Occupation   Race     Sex  Hours-per-week  \\\n",
       "0       24         10    Other-service  White  Female              50   \n",
       "1       40         10     Adm-clerical  Black  Female              35   \n",
       "2       64          4    Other-service  Black  Female              40   \n",
       "3       24         13   Prof-specialty  White    Male              50   \n",
       "4       59         10  Farming-fishing  White  Female              40   \n",
       "...    ...        ...              ...    ...     ...             ...   \n",
       "48837   51         12     Tech-support  Black    Male              40   \n",
       "48838   40          9    Other-service  White    Male              45   \n",
       "48839   43          2  Farming-fishing  White    Male              28   \n",
       "48840   55          9     Tech-support  White    Male              40   \n",
       "48841   30         13    Other-service  White    Male              40   \n",
       "\n",
       "      Native-country  \n",
       "0      United-States  \n",
       "1      United-States  \n",
       "2      United-States  \n",
       "3      United-States  \n",
       "4      United-States  \n",
       "...              ...  \n",
       "48837  United-States  \n",
       "48838  United-States  \n",
       "48839         Mexico  \n",
       "48840  United-States  \n",
       "48841  United-States  \n",
       "\n",
       "[45222 rows x 7 columns]"
      ]
     },
     "execution_count": 20,
     "metadata": {},
     "output_type": "execute_result"
    }
   ],
   "source": [
    "# Find X and y values - selecting only important features for X\n",
    "X = df.iloc[:, [0, 4, 6, 8, 9, 12, 13]]\n",
    "y = df.iloc[:, [14]]\n",
    "X.columns = ['Age', 'Education', 'Occupation', 'Race', 'Sex', 'Hours-per-week', 'Native-country']\n",
    "y.columns = ['Income']\n",
    "print(y)\n",
    "X\n"
   ]
  },
  {
   "cell_type": "code",
   "execution_count": null,
   "id": "75a54438",
   "metadata": {},
   "outputs": [],
   "source": []
  },
  {
   "cell_type": "code",
   "execution_count": null,
   "id": "c6d44c2a",
   "metadata": {},
   "outputs": [],
   "source": []
  },
  {
   "cell_type": "code",
   "execution_count": null,
   "id": "da380bfc",
   "metadata": {},
   "outputs": [
    {
     "name": "stderr",
     "output_type": "stream",
     "text": [
      "/var/folders/tn/fw1cv27j6bsf_4j55pn72ls80000gn/T/ipykernel_74593/764430748.py:3: SettingWithCopyWarning: \n",
      "A value is trying to be set on a copy of a slice from a DataFrame.\n",
      "Try using .loc[row_indexer,col_indexer] = value instead\n",
      "\n",
      "See the caveats in the documentation: https://pandas.pydata.org/pandas-docs/stable/user_guide/indexing.html#returning-a-view-versus-a-copy\n",
      "  X['Sex'] = (X['Sex'].map(mapping_dict))\n",
      "/var/folders/tn/fw1cv27j6bsf_4j55pn72ls80000gn/T/ipykernel_74593/764430748.py:6: SettingWithCopyWarning: \n",
      "A value is trying to be set on a copy of a slice from a DataFrame.\n",
      "Try using .loc[row_indexer,col_indexer] = value instead\n",
      "\n",
      "See the caveats in the documentation: https://pandas.pydata.org/pandas-docs/stable/user_guide/indexing.html#returning-a-view-versus-a-copy\n",
      "  X['Race'] = (X['Race'].map(mapping_dict))\n",
      "/var/folders/tn/fw1cv27j6bsf_4j55pn72ls80000gn/T/ipykernel_74593/764430748.py:11: SettingWithCopyWarning: \n",
      "A value is trying to be set on a copy of a slice from a DataFrame.\n",
      "Try using .loc[row_indexer,col_indexer] = value instead\n",
      "\n",
      "See the caveats in the documentation: https://pandas.pydata.org/pandas-docs/stable/user_guide/indexing.html#returning-a-view-versus-a-copy\n",
      "  X['Native-country'] = (X['Native-country'].map(mapping_dict))\n",
      "/var/folders/tn/fw1cv27j6bsf_4j55pn72ls80000gn/T/ipykernel_74593/764430748.py:16: SettingWithCopyWarning: \n",
      "A value is trying to be set on a copy of a slice from a DataFrame.\n",
      "Try using .loc[row_indexer,col_indexer] = value instead\n",
      "\n",
      "See the caveats in the documentation: https://pandas.pydata.org/pandas-docs/stable/user_guide/indexing.html#returning-a-view-versus-a-copy\n",
      "  X['Occupation'] = (X['Occupation'].map(mapping_dict))\n",
      "/var/folders/tn/fw1cv27j6bsf_4j55pn72ls80000gn/T/ipykernel_74593/764430748.py:21: SettingWithCopyWarning: \n",
      "A value is trying to be set on a copy of a slice from a DataFrame.\n",
      "Try using .loc[row_indexer,col_indexer] = value instead\n",
      "\n",
      "See the caveats in the documentation: https://pandas.pydata.org/pandas-docs/stable/user_guide/indexing.html#returning-a-view-versus-a-copy\n",
      "  y['Income'] = (y['Income'].map(mapping_dict))\n"
     ]
    }
   ],
   "source": [
    "# Convert categorical data to numerical\n",
    "mapping_dict = {'Male' : '0','Female' : '1'}\n",
    "X['Sex'] = (X['Sex'].map(mapping_dict))\n",
    "\n",
    "mapping_dict = {'White' : '0','Asian-Pac-Islander' : '1', 'Amer-Indian-Eskimo' : '2', 'Other' : '3', 'Black' : '4'}\n",
    "X['Race'] = (X['Race'].map(mapping_dict))\n",
    "\n",
    "# Convert countries to numerical value, grouped countries into continents.\n",
    "# North America = 0, South America = 1, Asia = 2, Europe = 3, \n",
    "mapping_dict = {'United-States' : '0', 'Cambodia' : '2', 'England' : '3', 'Puerto-Rico' : '0', 'Canada' : '0', 'Germany' : '3', 'Outlying-US(Guam-USVI-etc)' : '0', 'India' : '2', 'Japan' : '2', 'Greece' : '3', 'South' : '??????????', 'China' : '2', 'Cuba' : '0', 'Iran' : '2', 'Honduras' : '0', 'Philippines' : '2', 'Italy' : '3', 'Poland' : '3', 'Jamaica' : '0', 'Vietnam' : '2', 'Mexico' : '0', 'Portugal' : '3', 'Ireland' : '3', 'France' : '3', 'Dominican-Republic' : '0', 'Laos' : '2', 'Ecuador' : '1', 'Taiwan' : '2', 'Haiti' : '0', 'Columbia' : '1', 'Hungary' : '3', 'Guatemala' : '0', 'Nicaragua' : '0', 'Scotland' : '3', 'Thailand' : '2', 'Yugoslavia' : '3', 'El-Salvador' : '0', 'Trinadad&Tobago' : '1', 'Peru' : '1', 'Hong' : '????????', 'Holand-Netherlands' : '3', '?' : '?'}\n",
    "X['Native-country'] = (X['Native-country'].map(mapping_dict))\n",
    "\n",
    "# Convert occupation to white collar or blue collar:\n",
    "# White collar = 0, Blue collar = 1\n",
    "mapping_dict = {'Tech-support' : '0', 'Craft-repair' : '1', 'Other-service' : '??????', 'Sales' : '0', 'Exec-managerial' : '0', 'Prof-specialty' : '0', 'Handlers-cleaners' : '1', 'Machine-op-inspct' : '1', 'Adm-clerical' : '0', 'Farming-fishing' : '1', 'Transport-moving' : '1', 'Priv-house-serv' : '1', 'Protective-serv' : '1', 'Armed-Forces' : '1'}\n",
    "X['Occupation'] = (X['Occupation'].map(mapping_dict))\n",
    "\n",
    "\n",
    "# Convert y into numerical: <50k = 0, >50k = 1\n",
    "mapping_dict = {'<=50K' : '0', '>50K' : '1', '<=50K.' : '0', '>50K.' : '1'}\n",
    "y['Income'] = (y['Income'].map(mapping_dict))\n"
   ]
  },
  {
   "cell_type": "code",
   "execution_count": null,
   "id": "a239c043",
   "metadata": {},
   "outputs": [
    {
     "data": {
      "text/plain": [
       "Income    0\n",
       "dtype: int64"
      ]
     },
     "execution_count": 22,
     "metadata": {},
     "output_type": "execute_result"
    }
   ],
   "source": [
    "y.isnull().sum()"
   ]
  },
  {
   "cell_type": "code",
   "execution_count": null,
   "id": "6ec4de59",
   "metadata": {},
   "outputs": [
    {
     "name": "stderr",
     "output_type": "stream",
     "text": [
      "/var/folders/tn/fw1cv27j6bsf_4j55pn72ls80000gn/T/ipykernel_74593/2485713216.py:3: SettingWithCopyWarning: \n",
      "A value is trying to be set on a copy of a slice from a DataFrame.\n",
      "Try using .loc[row_indexer,col_indexer] = value instead\n",
      "\n",
      "See the caveats in the documentation: https://pandas.pydata.org/pandas-docs/stable/user_guide/indexing.html#returning-a-view-versus-a-copy\n",
      "  X['Age'] = pd.cut(X['Age'], bins)\n"
     ]
    }
   ],
   "source": [
    "# Group ages into discrete bins\n",
    "bins = [10,20,30,40,50,60,70,80,90]\n",
    "X['Age'] = pd.cut(X['Age'], bins)"
   ]
  },
  {
   "cell_type": "code",
   "execution_count": null,
   "id": "b36a5cdc",
   "metadata": {},
   "outputs": [
    {
     "data": {
      "text/plain": [
       "(30, 40]    12291\n",
       "(20, 30]    11292\n",
       "(40, 50]     9990\n",
       "(50, 60]     5833\n",
       "(10, 20]     2968\n",
       "(60, 70]     2212\n",
       "(70, 80]      522\n",
       "(80, 90]      114\n",
       "Name: Age, dtype: int64"
      ]
     },
     "execution_count": 24,
     "metadata": {},
     "output_type": "execute_result"
    }
   ],
   "source": [
    "pd.value_counts(X['Age'])"
   ]
  },
  {
   "cell_type": "code",
   "execution_count": null,
   "id": "d066ca2a",
   "metadata": {},
   "outputs": [
    {
     "data": {
      "text/html": [
       "<div>\n",
       "<style scoped>\n",
       "    .dataframe tbody tr th:only-of-type {\n",
       "        vertical-align: middle;\n",
       "    }\n",
       "\n",
       "    .dataframe tbody tr th {\n",
       "        vertical-align: top;\n",
       "    }\n",
       "\n",
       "    .dataframe thead th {\n",
       "        text-align: right;\n",
       "    }\n",
       "</style>\n",
       "<table border=\"1\" class=\"dataframe\">\n",
       "  <thead>\n",
       "    <tr style=\"text-align: right;\">\n",
       "      <th></th>\n",
       "      <th>Age</th>\n",
       "      <th>Education</th>\n",
       "      <th>Occupation</th>\n",
       "      <th>Race</th>\n",
       "      <th>Sex</th>\n",
       "      <th>Hours-per-week</th>\n",
       "      <th>Native-country</th>\n",
       "    </tr>\n",
       "  </thead>\n",
       "  <tbody>\n",
       "    <tr>\n",
       "      <th>0</th>\n",
       "      <td>(20, 30]</td>\n",
       "      <td>10</td>\n",
       "      <td>??????</td>\n",
       "      <td>0</td>\n",
       "      <td>1</td>\n",
       "      <td>50</td>\n",
       "      <td>0</td>\n",
       "    </tr>\n",
       "    <tr>\n",
       "      <th>1</th>\n",
       "      <td>(30, 40]</td>\n",
       "      <td>10</td>\n",
       "      <td>0</td>\n",
       "      <td>4</td>\n",
       "      <td>1</td>\n",
       "      <td>35</td>\n",
       "      <td>0</td>\n",
       "    </tr>\n",
       "    <tr>\n",
       "      <th>2</th>\n",
       "      <td>(60, 70]</td>\n",
       "      <td>4</td>\n",
       "      <td>??????</td>\n",
       "      <td>4</td>\n",
       "      <td>1</td>\n",
       "      <td>40</td>\n",
       "      <td>0</td>\n",
       "    </tr>\n",
       "    <tr>\n",
       "      <th>3</th>\n",
       "      <td>(20, 30]</td>\n",
       "      <td>13</td>\n",
       "      <td>0</td>\n",
       "      <td>0</td>\n",
       "      <td>0</td>\n",
       "      <td>50</td>\n",
       "      <td>0</td>\n",
       "    </tr>\n",
       "    <tr>\n",
       "      <th>4</th>\n",
       "      <td>(50, 60]</td>\n",
       "      <td>10</td>\n",
       "      <td>1</td>\n",
       "      <td>0</td>\n",
       "      <td>1</td>\n",
       "      <td>40</td>\n",
       "      <td>0</td>\n",
       "    </tr>\n",
       "    <tr>\n",
       "      <th>...</th>\n",
       "      <td>...</td>\n",
       "      <td>...</td>\n",
       "      <td>...</td>\n",
       "      <td>...</td>\n",
       "      <td>...</td>\n",
       "      <td>...</td>\n",
       "      <td>...</td>\n",
       "    </tr>\n",
       "    <tr>\n",
       "      <th>48837</th>\n",
       "      <td>(50, 60]</td>\n",
       "      <td>12</td>\n",
       "      <td>0</td>\n",
       "      <td>4</td>\n",
       "      <td>0</td>\n",
       "      <td>40</td>\n",
       "      <td>0</td>\n",
       "    </tr>\n",
       "    <tr>\n",
       "      <th>48838</th>\n",
       "      <td>(30, 40]</td>\n",
       "      <td>9</td>\n",
       "      <td>??????</td>\n",
       "      <td>0</td>\n",
       "      <td>0</td>\n",
       "      <td>45</td>\n",
       "      <td>0</td>\n",
       "    </tr>\n",
       "    <tr>\n",
       "      <th>48839</th>\n",
       "      <td>(40, 50]</td>\n",
       "      <td>2</td>\n",
       "      <td>1</td>\n",
       "      <td>0</td>\n",
       "      <td>0</td>\n",
       "      <td>28</td>\n",
       "      <td>0</td>\n",
       "    </tr>\n",
       "    <tr>\n",
       "      <th>48840</th>\n",
       "      <td>(50, 60]</td>\n",
       "      <td>9</td>\n",
       "      <td>0</td>\n",
       "      <td>0</td>\n",
       "      <td>0</td>\n",
       "      <td>40</td>\n",
       "      <td>0</td>\n",
       "    </tr>\n",
       "    <tr>\n",
       "      <th>48841</th>\n",
       "      <td>(20, 30]</td>\n",
       "      <td>13</td>\n",
       "      <td>??????</td>\n",
       "      <td>0</td>\n",
       "      <td>0</td>\n",
       "      <td>40</td>\n",
       "      <td>0</td>\n",
       "    </tr>\n",
       "  </tbody>\n",
       "</table>\n",
       "<p>45222 rows × 7 columns</p>\n",
       "</div>"
      ],
      "text/plain": [
       "            Age  Education Occupation Race Sex  Hours-per-week Native-country\n",
       "0      (20, 30]         10     ??????    0   1              50              0\n",
       "1      (30, 40]         10          0    4   1              35              0\n",
       "2      (60, 70]          4     ??????    4   1              40              0\n",
       "3      (20, 30]         13          0    0   0              50              0\n",
       "4      (50, 60]         10          1    0   1              40              0\n",
       "...         ...        ...        ...  ...  ..             ...            ...\n",
       "48837  (50, 60]         12          0    4   0              40              0\n",
       "48838  (30, 40]          9     ??????    0   0              45              0\n",
       "48839  (40, 50]          2          1    0   0              28              0\n",
       "48840  (50, 60]          9          0    0   0              40              0\n",
       "48841  (20, 30]         13     ??????    0   0              40              0\n",
       "\n",
       "[45222 rows x 7 columns]"
      ]
     },
     "execution_count": 25,
     "metadata": {},
     "output_type": "execute_result"
    }
   ],
   "source": [
    "X"
   ]
  },
  {
   "cell_type": "code",
   "execution_count": null,
   "id": "a4ffbb2c",
   "metadata": {},
   "outputs": [
    {
     "data": {
      "text/html": [
       "<div>\n",
       "<style scoped>\n",
       "    .dataframe tbody tr th:only-of-type {\n",
       "        vertical-align: middle;\n",
       "    }\n",
       "\n",
       "    .dataframe tbody tr th {\n",
       "        vertical-align: top;\n",
       "    }\n",
       "\n",
       "    .dataframe thead th {\n",
       "        text-align: right;\n",
       "    }\n",
       "</style>\n",
       "<table border=\"1\" class=\"dataframe\">\n",
       "  <thead>\n",
       "    <tr style=\"text-align: right;\">\n",
       "      <th></th>\n",
       "      <th>Income</th>\n",
       "    </tr>\n",
       "  </thead>\n",
       "  <tbody>\n",
       "    <tr>\n",
       "      <th>0</th>\n",
       "      <td>0</td>\n",
       "    </tr>\n",
       "    <tr>\n",
       "      <th>1</th>\n",
       "      <td>0</td>\n",
       "    </tr>\n",
       "    <tr>\n",
       "      <th>2</th>\n",
       "      <td>0</td>\n",
       "    </tr>\n",
       "    <tr>\n",
       "      <th>3</th>\n",
       "      <td>0</td>\n",
       "    </tr>\n",
       "    <tr>\n",
       "      <th>4</th>\n",
       "      <td>0</td>\n",
       "    </tr>\n",
       "    <tr>\n",
       "      <th>...</th>\n",
       "      <td>...</td>\n",
       "    </tr>\n",
       "    <tr>\n",
       "      <th>48837</th>\n",
       "      <td>0</td>\n",
       "    </tr>\n",
       "    <tr>\n",
       "      <th>48838</th>\n",
       "      <td>0</td>\n",
       "    </tr>\n",
       "    <tr>\n",
       "      <th>48839</th>\n",
       "      <td>0</td>\n",
       "    </tr>\n",
       "    <tr>\n",
       "      <th>48840</th>\n",
       "      <td>1</td>\n",
       "    </tr>\n",
       "    <tr>\n",
       "      <th>48841</th>\n",
       "      <td>0</td>\n",
       "    </tr>\n",
       "  </tbody>\n",
       "</table>\n",
       "<p>45222 rows × 1 columns</p>\n",
       "</div>"
      ],
      "text/plain": [
       "      Income\n",
       "0          0\n",
       "1          0\n",
       "2          0\n",
       "3          0\n",
       "4          0\n",
       "...      ...\n",
       "48837      0\n",
       "48838      0\n",
       "48839      0\n",
       "48840      1\n",
       "48841      0\n",
       "\n",
       "[45222 rows x 1 columns]"
      ]
     },
     "execution_count": 26,
     "metadata": {},
     "output_type": "execute_result"
    }
   ],
   "source": [
    "y"
   ]
  },
  {
   "cell_type": "code",
   "execution_count": null,
   "id": "f9e4c774",
   "metadata": {},
   "outputs": [
    {
     "ename": "SyntaxError",
     "evalue": "closing parenthesis ']' does not match opening parenthesis '(' (883542647.py, line 2)",
     "output_type": "error",
     "traceback": [
      "\u001b[0;36m  File \u001b[0;32m\"/var/folders/tn/fw1cv27j6bsf_4j55pn72ls80000gn/T/ipykernel_74593/883542647.py\"\u001b[0;36m, line \u001b[0;32m2\u001b[0m\n\u001b[0;31m    print(X['Age'].iloc[0]])\u001b[0m\n\u001b[0m                          ^\u001b[0m\n\u001b[0;31mSyntaxError\u001b[0m\u001b[0;31m:\u001b[0m closing parenthesis ']' does not match opening parenthesis '('\n"
     ]
    }
   ],
   "source": [
    "(X['Age'].value_counts().index.tolist())[0]\n",
    "print(X['Age'].iloc[0]])"
   ]
  },
  {
   "cell_type": "code",
   "execution_count": null,
   "id": "7e131f59",
   "metadata": {},
   "outputs": [
    {
     "name": "stderr",
     "output_type": "stream",
     "text": [
      "<ipython-input-125-aab252086001>:2: SettingWithCopyWarning: \n",
      "A value is trying to be set on a copy of a slice from a DataFrame.\n",
      "Try using .loc[row_indexer,col_indexer] = value instead\n",
      "\n",
      "See the caveats in the documentation: https://pandas.pydata.org/pandas-docs/stable/user_guide/indexing.html#returning-a-view-versus-a-copy\n",
      "  XVisual['y'] = y\n"
     ]
    },
    {
     "data": {
      "text/html": [
       "<div>\n",
       "<style scoped>\n",
       "    .dataframe tbody tr th:only-of-type {\n",
       "        vertical-align: middle;\n",
       "    }\n",
       "\n",
       "    .dataframe tbody tr th {\n",
       "        vertical-align: top;\n",
       "    }\n",
       "\n",
       "    .dataframe thead th {\n",
       "        text-align: right;\n",
       "    }\n",
       "</style>\n",
       "<table border=\"1\" class=\"dataframe\">\n",
       "  <thead>\n",
       "    <tr style=\"text-align: right;\">\n",
       "      <th></th>\n",
       "      <th>Age</th>\n",
       "      <th>Education</th>\n",
       "      <th>Occupation</th>\n",
       "      <th>Race</th>\n",
       "      <th>Sex</th>\n",
       "      <th>Hours-per-week</th>\n",
       "      <th>Native-country</th>\n",
       "      <th>y</th>\n",
       "    </tr>\n",
       "  </thead>\n",
       "  <tbody>\n",
       "    <tr>\n",
       "      <th>0</th>\n",
       "      <td>(30, 40]</td>\n",
       "      <td>10</td>\n",
       "      <td>0</td>\n",
       "      <td>0</td>\n",
       "      <td>1</td>\n",
       "      <td>40</td>\n",
       "      <td>0</td>\n",
       "      <td>0</td>\n",
       "    </tr>\n",
       "    <tr>\n",
       "      <th>1</th>\n",
       "      <td>(50, 60]</td>\n",
       "      <td>10</td>\n",
       "      <td>0</td>\n",
       "      <td>0</td>\n",
       "      <td>1</td>\n",
       "      <td>60</td>\n",
       "      <td>0</td>\n",
       "      <td>1</td>\n",
       "    </tr>\n",
       "    <tr>\n",
       "      <th>2</th>\n",
       "      <td>(30, 40]</td>\n",
       "      <td>10</td>\n",
       "      <td>0</td>\n",
       "      <td>0</td>\n",
       "      <td>0</td>\n",
       "      <td>40</td>\n",
       "      <td>0</td>\n",
       "      <td>1</td>\n",
       "    </tr>\n",
       "    <tr>\n",
       "      <th>3</th>\n",
       "      <td>(60, 70]</td>\n",
       "      <td>9</td>\n",
       "      <td>1</td>\n",
       "      <td>0</td>\n",
       "      <td>1</td>\n",
       "      <td>40</td>\n",
       "      <td>0</td>\n",
       "      <td>0</td>\n",
       "    </tr>\n",
       "    <tr>\n",
       "      <th>4</th>\n",
       "      <td>(50, 60]</td>\n",
       "      <td>10</td>\n",
       "      <td>1</td>\n",
       "      <td>0</td>\n",
       "      <td>0</td>\n",
       "      <td>40</td>\n",
       "      <td>0</td>\n",
       "      <td>1</td>\n",
       "    </tr>\n",
       "    <tr>\n",
       "      <th>...</th>\n",
       "      <td>...</td>\n",
       "      <td>...</td>\n",
       "      <td>...</td>\n",
       "      <td>...</td>\n",
       "      <td>...</td>\n",
       "      <td>...</td>\n",
       "      <td>...</td>\n",
       "      <td>...</td>\n",
       "    </tr>\n",
       "    <tr>\n",
       "      <th>48834</th>\n",
       "      <td>(20, 30]</td>\n",
       "      <td>10</td>\n",
       "      <td>1</td>\n",
       "      <td>0</td>\n",
       "      <td>0</td>\n",
       "      <td>40</td>\n",
       "      <td>0</td>\n",
       "      <td>0</td>\n",
       "    </tr>\n",
       "    <tr>\n",
       "      <th>48835</th>\n",
       "      <td>(30, 40]</td>\n",
       "      <td>15</td>\n",
       "      <td>0</td>\n",
       "      <td>0</td>\n",
       "      <td>0</td>\n",
       "      <td>70</td>\n",
       "      <td>0</td>\n",
       "      <td>1</td>\n",
       "    </tr>\n",
       "    <tr>\n",
       "      <th>48838</th>\n",
       "      <td>(20, 30]</td>\n",
       "      <td>7</td>\n",
       "      <td>1</td>\n",
       "      <td>0</td>\n",
       "      <td>0</td>\n",
       "      <td>48</td>\n",
       "      <td>0</td>\n",
       "      <td>0</td>\n",
       "    </tr>\n",
       "    <tr>\n",
       "      <th>48840</th>\n",
       "      <td>(30, 40]</td>\n",
       "      <td>9</td>\n",
       "      <td>0</td>\n",
       "      <td>0</td>\n",
       "      <td>0</td>\n",
       "      <td>40</td>\n",
       "      <td>0</td>\n",
       "      <td>1</td>\n",
       "    </tr>\n",
       "    <tr>\n",
       "      <th>48841</th>\n",
       "      <td>(20, 30]</td>\n",
       "      <td>9</td>\n",
       "      <td>1</td>\n",
       "      <td>0</td>\n",
       "      <td>0</td>\n",
       "      <td>60</td>\n",
       "      <td>0</td>\n",
       "      <td>0</td>\n",
       "    </tr>\n",
       "  </tbody>\n",
       "</table>\n",
       "<p>45222 rows × 8 columns</p>\n",
       "</div>"
      ],
      "text/plain": [
       "            Age  Education Occupation Race Sex  Hours-per-week Native-country  \\\n",
       "0      (30, 40]         10          0    0   1              40              0   \n",
       "1      (50, 60]         10          0    0   1              60              0   \n",
       "2      (30, 40]         10          0    0   0              40              0   \n",
       "3      (60, 70]          9          1    0   1              40              0   \n",
       "4      (50, 60]         10          1    0   0              40              0   \n",
       "...         ...        ...        ...  ...  ..             ...            ...   \n",
       "48834  (20, 30]         10          1    0   0              40              0   \n",
       "48835  (30, 40]         15          0    0   0              70              0   \n",
       "48838  (20, 30]          7          1    0   0              48              0   \n",
       "48840  (30, 40]          9          0    0   0              40              0   \n",
       "48841  (20, 30]          9          1    0   0              60              0   \n",
       "\n",
       "       y  \n",
       "0      0  \n",
       "1      1  \n",
       "2      1  \n",
       "3      0  \n",
       "4      1  \n",
       "...   ..  \n",
       "48834  0  \n",
       "48835  1  \n",
       "48838  0  \n",
       "48840  1  \n",
       "48841  0  \n",
       "\n",
       "[45222 rows x 8 columns]"
      ]
     },
     "execution_count": 125,
     "metadata": {},
     "output_type": "execute_result"
    }
   ],
   "source": []
  },
  {
   "cell_type": "code",
   "execution_count": null,
   "id": "3c6e334d",
   "metadata": {},
   "outputs": [
    {
     "name": "stderr",
     "output_type": "stream",
     "text": [
      "<ipython-input-226-2c97e2081abc>:6: SettingWithCopyWarning: \n",
      "A value is trying to be set on a copy of a slice from a DataFrame.\n",
      "Try using .loc[row_indexer,col_indexer] = value instead\n",
      "\n",
      "See the caveats in the documentation: https://pandas.pydata.org/pandas-docs/stable/user_guide/indexing.html#returning-a-view-versus-a-copy\n",
      "  XVisual['y'] = y\n",
      "<ipython-input-226-2c97e2081abc>:47: UserWarning: FixedFormatter should only be used together with FixedLocator\n",
      "  ax.set_xticklabels(['','(10-20]','(20-30]','(30-40]','(40-50]','(50-60]','(60-70]','(70-80]', '(80-90]'])\n"
     ]
    },
    {
     "data": {
      "image/png": "[encoded data removed]",
      "text/plain": [
       "<Figure size 432x288 with 1 Axes>"
      ]
     },
     "metadata": {
      "needs_background": "light"
     },
     "output_type": "display_data"
    }
   ],
   "source": [
    "import numpy as np\n",
    "import matplotlib.pyplot as plt\n",
    "\n",
    "# Created copy of X table and added y column back to XVisual, to allow us to carry out below calculations\n",
    "XVisual = X\n",
    "XVisual['y'] = y\n",
    "\n",
    "ages = []\n",
    "lowest = 10\n",
    "zero = []\n",
    "one = []\n",
    "       \n",
    "# Goes through \n",
    "while len(ages) < 8:\n",
    "    for i in range(8):\n",
    "        if (XVisual['Age'].value_counts().index.tolist())[i].left == lowest:\n",
    "            df_new = XVisual[XVisual['Age'] == (XVisual['Age'].value_counts().index.tolist())[i]]\n",
    "            ages.append(df_new['Age'].iloc[0])\n",
    "            zero.append(df_new['y'].value_counts()[0])\n",
    "            one.append(df_new['y'].value_counts()[1])\n",
    "            lowest += 10\n",
    "            \n",
    "\n",
    "# # Plots bar chart with zero and one on top of each other\n",
    "# ind = ['(10-20]', '(20-30]', '(30-40]', '(40-50]', '(50-60]', '(60-70]', '(70-80]', '(80-90]']\n",
    "# width = 0.9\n",
    "# fig = plt.figure()\n",
    "# ax = fig.add_axes([0,0,1,1])\n",
    "# ax.bar(ind, zero, width, color='r', edgecolor = \"black\")\n",
    "# ax.bar(ind, one, width, bottom=zero, color='b', edgecolor = \"black\")\n",
    "# ax.set_ylabel('Number of instances')\n",
    "# ax.set_title('Number of instances of income by ages')\n",
    "# ax.legend(labels=['Zero', 'One'])\n",
    "# plt.show()\n",
    "\n",
    "# Plots bar chart with zero and one next to each other\n",
    "ind = np.arange(len(ages))\n",
    "# ind = ['(10-20]', '(20-30]', '(30-40]', '(40-50]', '(50-60]', '(60-70]', '(70-80]', '(80-90]']\n",
    "width = 0.4\n",
    "fig = plt.figure()\n",
    "ax = fig.add_axes([0,0,1,1])\n",
    "ax.bar(ind-0.2, zero, width, color='r', edgecolor = \"black\")\n",
    "ax.bar(ind+0.2, one, width, color='b', edgecolor = \"black\")\n",
    "ax.set_ylabel('Number of instances')\n",
    "ax.set_title('Number of instances of income by ages')\n",
    "ax.legend(labels=['Zero', 'One'])\n",
    "ax.set_xticklabels(['','(10-20]','(20-30]','(30-40]','(40-50]','(50-60]','(60-70]','(70-80]', '(80-90]'])\n",
    "plt.show()"
   ]
  },
  {
   "cell_type": "code",
   "execution_count": null,
   "id": "03f9a22f",
   "metadata": {},
   "outputs": [
    {
     "data": {
      "text/plain": [
       "Age               0\n",
       "Education         0\n",
       "Occupation        0\n",
       "Race              0\n",
       "Sex               0\n",
       "Hours-per-week    0\n",
       "Native-country    0\n",
       "dtype: int64"
      ]
     },
     "execution_count": 42,
     "metadata": {},
     "output_type": "execute_result"
    }
   ],
   "source": [
    "# print(X.head(50))\n",
    "X.isnull().sum()"
   ]
  },
  {
   "cell_type": "code",
   "execution_count": null,
   "id": "bc2840d1",
   "metadata": {},
   "outputs": [
    {
     "data": {
      "text/plain": [
       "Text(0, 0.5, 'count')"
      ]
     },
     "execution_count": 43,
     "metadata": {},
     "output_type": "execute_result"
    },
    {
     "data": {
      "image/png": "[encoded data removed]",
      "text/plain": [
       "<Figure size 936x504 with 1 Axes>"
      ]
     },
     "metadata": {
      "needs_background": "light"
     },
     "output_type": "display_data"
    }
   ],
   "source": [
    "# Plot a histogram of 'medv' in y\n",
    "fig = plt.figure(figsize=(13,7))\n",
    "plt.hist(X['Age'], bins=50, range = (0, 100))\n",
    "fig.suptitle('medv Count', fontsize = 20)\n",
    "plt.xlabel('medv', fontsize = 16)\n",
    "plt.ylabel('count', fontsize = 16)"
   ]
  },
  {
   "cell_type": "code",
   "execution_count": null,
   "id": "8c217dc5",
   "metadata": {},
   "outputs": [
    {
     "data": {
      "text/html": [
       "<div>\n",
       "<style scoped>\n",
       "    .dataframe tbody tr th:only-of-type {\n",
       "        vertical-align: middle;\n",
       "    }\n",
       "\n",
       "    .dataframe tbody tr th {\n",
       "        vertical-align: top;\n",
       "    }\n",
       "\n",
       "    .dataframe thead th {\n",
       "        text-align: right;\n",
       "    }\n",
       "</style>\n",
       "<table border=\"1\" class=\"dataframe\">\n",
       "  <thead>\n",
       "    <tr style=\"text-align: right;\">\n",
       "      <th></th>\n",
       "      <th>Age</th>\n",
       "      <th>Education</th>\n",
       "      <th>Occupation</th>\n",
       "      <th>Race</th>\n",
       "      <th>Sex</th>\n",
       "      <th>Hours-per-week</th>\n",
       "      <th>Native-country</th>\n",
       "    </tr>\n",
       "  </thead>\n",
       "  <tbody>\n",
       "    <tr>\n",
       "      <th>0</th>\n",
       "      <td>33</td>\n",
       "      <td>9</td>\n",
       "      <td>Protective-serv</td>\n",
       "      <td>0</td>\n",
       "      <td>0</td>\n",
       "      <td>37</td>\n",
       "      <td>0</td>\n",
       "    </tr>\n",
       "    <tr>\n",
       "      <th>2</th>\n",
       "      <td>28</td>\n",
       "      <td>6</td>\n",
       "      <td>Other-service</td>\n",
       "      <td>0</td>\n",
       "      <td>1</td>\n",
       "      <td>40</td>\n",
       "      <td>0</td>\n",
       "    </tr>\n",
       "    <tr>\n",
       "      <th>3</th>\n",
       "      <td>36</td>\n",
       "      <td>13</td>\n",
       "      <td>Exec-managerial</td>\n",
       "      <td>0</td>\n",
       "      <td>1</td>\n",
       "      <td>45</td>\n",
       "      <td>0</td>\n",
       "    </tr>\n",
       "    <tr>\n",
       "      <th>4</th>\n",
       "      <td>19</td>\n",
       "      <td>7</td>\n",
       "      <td>Handlers-cleaners</td>\n",
       "      <td>0</td>\n",
       "      <td>0</td>\n",
       "      <td>30</td>\n",
       "      <td>0</td>\n",
       "    </tr>\n",
       "    <tr>\n",
       "      <th>5</th>\n",
       "      <td>22</td>\n",
       "      <td>10</td>\n",
       "      <td>Machine-op-inspct</td>\n",
       "      <td>1</td>\n",
       "      <td>0</td>\n",
       "      <td>35</td>\n",
       "      <td>0</td>\n",
       "    </tr>\n",
       "    <tr>\n",
       "      <th>...</th>\n",
       "      <td>...</td>\n",
       "      <td>...</td>\n",
       "      <td>...</td>\n",
       "      <td>...</td>\n",
       "      <td>...</td>\n",
       "      <td>...</td>\n",
       "      <td>...</td>\n",
       "    </tr>\n",
       "    <tr>\n",
       "      <th>48836</th>\n",
       "      <td>19</td>\n",
       "      <td>9</td>\n",
       "      <td>Adm-clerical</td>\n",
       "      <td>0</td>\n",
       "      <td>1</td>\n",
       "      <td>35</td>\n",
       "      <td>0</td>\n",
       "    </tr>\n",
       "    <tr>\n",
       "      <th>48838</th>\n",
       "      <td>39</td>\n",
       "      <td>10</td>\n",
       "      <td>Machine-op-inspct</td>\n",
       "      <td>0</td>\n",
       "      <td>1</td>\n",
       "      <td>40</td>\n",
       "      <td>0</td>\n",
       "    </tr>\n",
       "    <tr>\n",
       "      <th>48839</th>\n",
       "      <td>41</td>\n",
       "      <td>15</td>\n",
       "      <td>Prof-specialty</td>\n",
       "      <td>0</td>\n",
       "      <td>0</td>\n",
       "      <td>45</td>\n",
       "      <td>0</td>\n",
       "    </tr>\n",
       "    <tr>\n",
       "      <th>48840</th>\n",
       "      <td>33</td>\n",
       "      <td>16</td>\n",
       "      <td>Prof-specialty</td>\n",
       "      <td>0</td>\n",
       "      <td>0</td>\n",
       "      <td>45</td>\n",
       "      <td>0</td>\n",
       "    </tr>\n",
       "    <tr>\n",
       "      <th>48841</th>\n",
       "      <td>19</td>\n",
       "      <td>10</td>\n",
       "      <td>Other-service</td>\n",
       "      <td>0</td>\n",
       "      <td>1</td>\n",
       "      <td>4</td>\n",
       "      <td>0</td>\n",
       "    </tr>\n",
       "  </tbody>\n",
       "</table>\n",
       "<p>45222 rows × 7 columns</p>\n",
       "</div>"
      ],
      "text/plain": [
       "       Age  Education         Occupation Race Sex  Hours-per-week  \\\n",
       "0       33          9    Protective-serv    0   0              37   \n",
       "2       28          6      Other-service    0   1              40   \n",
       "3       36         13    Exec-managerial    0   1              45   \n",
       "4       19          7  Handlers-cleaners    0   0              30   \n",
       "5       22         10  Machine-op-inspct    1   0              35   \n",
       "...    ...        ...                ...  ...  ..             ...   \n",
       "48836   19          9       Adm-clerical    0   1              35   \n",
       "48838   39         10  Machine-op-inspct    0   1              40   \n",
       "48839   41         15     Prof-specialty    0   0              45   \n",
       "48840   33         16     Prof-specialty    0   0              45   \n",
       "48841   19         10      Other-service    0   1               4   \n",
       "\n",
       "      Native-country  \n",
       "0                  0  \n",
       "2                  0  \n",
       "3                  0  \n",
       "4                  0  \n",
       "5                  0  \n",
       "...              ...  \n",
       "48836              0  \n",
       "48838              0  \n",
       "48839              0  \n",
       "48840              0  \n",
       "48841              0  \n",
       "\n",
       "[45222 rows x 7 columns]"
      ]
     },
     "execution_count": 44,
     "metadata": {},
     "output_type": "execute_result"
    }
   ],
   "source": [
    "X"
   ]
  },
  {
   "cell_type": "code",
   "execution_count": null,
   "id": "f232f94d",
   "metadata": {},
   "outputs": [
    {
     "name": "stdout",
     "output_type": "stream",
     "text": [
      "36    1283\n",
      "33    1279\n",
      "31    1274\n",
      "35    1272\n",
      "23    1241\n",
      "      ... \n",
      "85       5\n",
      "88       5\n",
      "89       1\n",
      "86       1\n",
      "87       1\n",
      "Name: Age, Length: 74, dtype: int64\n",
      "[36, 33, 31, 35, 23, 34, 37, 30, 38, 28, 32, 41, 39, 27, 29, 40, 25, 24, 42, 26, 43, 46, 45, 47, 44, 22, 21, 20, 19, 51, 50, 48, 49, 52, 18, 53, 54, 55, 56, 58, 57, 17, 59, 60, 61, 62, 64, 63, 65, 67, 66, 68, 69, 70, 71, 72, 73, 74, 75, 76, 90, 77, 80, 81, 78, 79, 82, 84, 83, 85, 88, 89, 86, 87]\n"
     ]
    },
    {
     "data": {
      "text/plain": [
       "array(['0', '0', '1', ..., '1', '1', '0'], dtype=object)"
      ]
     },
     "execution_count": 53,
     "metadata": {},
     "output_type": "execute_result"
    }
   ],
   "source": [
    "print(X['Age'].value_counts())\n",
    "print(X['Age'].value_counts().index.tolist())\n",
    "y['Income'].values\n",
    "\n",
    "# Data binning of ages into groups first"
   ]
  },
  {
   "cell_type": "code",
   "execution_count": null,
   "id": "ae20cbb6",
   "metadata": {},
   "outputs": [
    {
     "data": {
      "image/png": "[encoded data removed]",
      "text/plain": [
       "<Figure size 432x288 with 1 Axes>"
      ]
     },
     "metadata": {
      "needs_background": "light"
     },
     "output_type": "display_data"
    }
   ],
   "source": [
    "plt.bar(X['Age'].values, y['Income'].values, color='black')\n",
    "plt.xlabel(\"y\")\n",
    "plt.ylabel(\"age\")\n",
    "plt.show()"
   ]
  },
  {
   "cell_type": "code",
   "execution_count": null,
   "id": "803b111c",
   "metadata": {},
   "outputs": [
    {
     "data": {
      "image/png": "[encoded data removed]",
      "text/plain": [
       "<Figure size 432x288 with 1 Axes>"
      ]
     },
     "metadata": {
      "needs_background": "light"
     },
     "output_type": "display_data"
    }
   ],
   "source": [
    "X['Age'].value_counts().values\n",
    "X['Age'].value_counts().index.tolist()\n",
    "\n",
    "# Plotting the number of occurences of each age within the data\n",
    "plt.scatter(X['Age'].value_counts().index.tolist(), X['Age'].value_counts().values, color='black')\n",
    "plt.xlabel(\"Age\")\n",
    "plt.ylabel(\"Number of occurences\")\n",
    "plt.show()"
   ]
  },
  {
   "cell_type": "code",
   "execution_count": null,
   "id": "126ba956",
   "metadata": {},
   "outputs": [
    {
     "data": {
      "image/png": "[encoded data removed]",
      "text/plain": [
       "<Figure size 432x288 with 1 Axes>"
      ]
     },
     "metadata": {
      "needs_background": "light"
     },
     "output_type": "display_data"
    }
   ],
   "source": [
    "X['Native-country'].value_counts().values\n",
    "X['Native-country'].value_counts().index.tolist()\n",
    "\n",
    "# Plotting the number of occurences of each age within the data\n",
    "plt.bar(X['Native-country'].value_counts().index.tolist(), X['Native-country'].value_counts().values, color='black')\n",
    "plt.xlabel(\"Native-country\")\n",
    "plt.ylabel(\"Number of occurences\")\n",
    "plt.show()\n",
    "\n",
    "# Compare to graph of before you formed the continent categories.\n",
    "\n",
    "# Shows that feature scaling is required?"
   ]
  },
  {
   "cell_type": "code",
   "execution_count": null,
   "id": "495638ad",
   "metadata": {},
   "outputs": [
    {
     "data": {
      "image/png": "[encoded data removed]",
      "text/plain": [
       "<Figure size 432x288 with 1 Axes>"
      ]
     },
     "metadata": {
      "needs_background": "light"
     },
     "output_type": "display_data"
    }
   ],
   "source": [
    "X['Race'].value_counts().values\n",
    "X['Race'].value_counts().index.tolist()\n",
    "\n",
    "# Plotting the number of occurences of each age within the data\n",
    "plt.bar(X['Race'].value_counts().index.tolist(), X['Race'].value_counts().values, color='black')\n",
    "plt.xlabel(\"Race\")\n",
    "plt.ylabel(\"Number of occurences\")\n",
    "plt.show()\n",
    "\n",
    "# Shows that feature scaling is required?"
   ]
  },
  {
   "cell_type": "code",
   "execution_count": null,
   "id": "dbd7401b",
   "metadata": {},
   "outputs": [
    {
     "data": {
      "image/png": "[encoded data removed]",
      "text/plain": [
       "<Figure size 432x288 with 1 Axes>"
      ]
     },
     "metadata": {
      "needs_background": "light"
     },
     "output_type": "display_data"
    }
   ],
   "source": [
    "X['Sex'].value_counts().values\n",
    "X['Sex'].value_counts().index.tolist()\n",
    "\n",
    "# Plotting the number of occurences of each age within the data\n",
    "plt.bar(X['Sex'].value_counts().index.tolist(), X['Sex'].value_counts().values, color='black')\n",
    "plt.xlabel(\"Sex\")\n",
    "plt.ylabel(\"Number of occurences\")\n",
    "plt.show()\n",
    "\n",
    "# Shows that feature scaling is required?"
   ]
  },
  {
   "cell_type": "code",
   "execution_count": null,
   "id": "83a2551a",
   "metadata": {},
   "outputs": [
    {
     "data": {
      "image/png": "[encoded data removed]",
      "text/plain": [
       "<Figure size 432x288 with 1 Axes>"
      ]
     },
     "metadata": {
      "needs_background": "light"
     },
     "output_type": "display_data"
    }
   ],
   "source": [
    "X['Hours-per-week'].value_counts().values\n",
    "X['Hours-per-week'].value_counts().index.tolist()\n",
    "\n",
    "# Plotting the number of occurences of each age within the data\n",
    "plt.bar(X['Hours-per-week'].value_counts().index.tolist(), X['Hours-per-week'].value_counts().values, color='black')\n",
    "plt.xlabel(\"Hours-per-week\")\n",
    "plt.ylabel(\"Number of occurences\")\n",
    "plt.show()\n",
    "\n",
    "# Shows that feature scaling is required??????"
   ]
  },
  {
   "cell_type": "code",
   "execution_count": null,
   "id": "cb17068e",
   "metadata": {},
   "outputs": [
    {
     "data": {
      "image/png": "[encoded data removed]",
      "text/plain": [
       "<Figure size 432x288 with 1 Axes>"
      ]
     },
     "metadata": {
      "needs_background": "light"
     },
     "output_type": "display_data"
    }
   ],
   "source": [
    "X['Education'].value_counts().values\n",
    "X['Education'].value_counts().index.tolist()\n",
    "\n",
    "# Plotting the number of occurences of each age within the data\n",
    "plt.bar(X['Education'].value_counts().index.tolist(), X['Education'].value_counts().values, color='black')\n",
    "plt.xlabel(\"Education\")\n",
    "plt.ylabel(\"Number of occurences\")\n",
    "plt.show()\n",
    "\n",
    "# Shows that feature scaling is required?"
   ]
  },
  {
   "cell_type": "code",
   "execution_count": null,
   "id": "399c0ec3",
   "metadata": {},
   "outputs": [],
   "source": []
  },
  {
   "cell_type": "code",
   "execution_count": null,
   "id": "2be44d6a",
   "metadata": {},
   "outputs": [],
   "source": []
  }
 ],
 "metadata": {
  "kernelspec": {
   "display_name": "Python 3.8.8",
   "language": "python",
   "name": "python3"
  },
  "language_info": {
   "codemirror_mode": {
    "name": "ipython",
    "version": 3
   },
   "file_extension": ".py",
   "mimetype": "text/x-python",
   "name": "python",
   "nbconvert_exporter": "python",
   "pygments_lexer": "ipython3",
   "version": "3.8.8"
  },
  "vscode": {
   "interpreter": {
    "hash": "40d3a090f54c6569ab1632332b64b2c03c39dcf918b08424e98f38b5ae0af88f"
   }
  }
 },
 "nbformat": 4,
 "nbformat_minor": 5
}
