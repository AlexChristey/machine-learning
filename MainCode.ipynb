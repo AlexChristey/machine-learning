{
 "cells": [
  {
   "cell_type": "code",
   "execution_count": 121,
   "id": "4f5c8d49",
   "metadata": {},
   "outputs": [],
   "source": [
    "# import libraries\n",
    "import numpy as np\n",
    "import matplotlib.pyplot as plt\n",
    "import pandas as pd"
   ]
  },
  {
   "cell_type": "code",
   "execution_count": 122,
   "id": "fbb001a6",
   "metadata": {},
   "outputs": [
    {
     "name": "stdout",
     "output_type": "stream",
     "text": [
      "       0                 1       2           3   4                   5   \\\n",
      "0      39         State-gov   77516   Bachelors  13       Never-married   \n",
      "1      50  Self-emp-not-inc   83311   Bachelors  13  Married-civ-spouse   \n",
      "2      38           Private  215646     HS-grad   9            Divorced   \n",
      "3      53           Private  234721        11th   7  Married-civ-spouse   \n",
      "4      28           Private  338409   Bachelors  13  Married-civ-spouse   \n",
      "...    ..               ...     ...         ...  ..                 ...   \n",
      "32556  27           Private  257302  Assoc-acdm  12  Married-civ-spouse   \n",
      "32557  40           Private  154374     HS-grad   9  Married-civ-spouse   \n",
      "32558  58           Private  151910     HS-grad   9             Widowed   \n",
      "32559  22           Private  201490     HS-grad   9       Never-married   \n",
      "32560  52      Self-emp-inc  287927     HS-grad   9  Married-civ-spouse   \n",
      "\n",
      "                      6              7      8       9      10  11  12  \\\n",
      "0           Adm-clerical  Not-in-family  White    Male   2174   0  40   \n",
      "1        Exec-managerial        Husband  White    Male      0   0  13   \n",
      "2      Handlers-cleaners  Not-in-family  White    Male      0   0  40   \n",
      "3      Handlers-cleaners        Husband  Black    Male      0   0  40   \n",
      "4         Prof-specialty           Wife  Black  Female      0   0  40   \n",
      "...                  ...            ...    ...     ...    ...  ..  ..   \n",
      "32556       Tech-support           Wife  White  Female      0   0  38   \n",
      "32557  Machine-op-inspct        Husband  White    Male      0   0  40   \n",
      "32558       Adm-clerical      Unmarried  White  Female      0   0  40   \n",
      "32559       Adm-clerical      Own-child  White    Male      0   0  20   \n",
      "32560    Exec-managerial           Wife  White  Female  15024   0  40   \n",
      "\n",
      "                  13     14  \n",
      "0      United-States  <=50K  \n",
      "1      United-States  <=50K  \n",
      "2      United-States  <=50K  \n",
      "3      United-States  <=50K  \n",
      "4               Cuba  <=50K  \n",
      "...              ...    ...  \n",
      "32556  United-States  <=50K  \n",
      "32557  United-States   >50K  \n",
      "32558  United-States  <=50K  \n",
      "32559  United-States  <=50K  \n",
      "32560  United-States   >50K  \n",
      "\n",
      "[32561 rows x 15 columns]\n"
     ]
    }
   ],
   "source": [
    "# reading csv files\n",
    "df =  pd.read_csv('adult.data', sep=\",\", header=None, skipinitialspace=True)\n",
    "print(df)"
   ]
  },
  {
   "cell_type": "code",
   "execution_count": 181,
   "id": "95295467",
   "metadata": {},
   "outputs": [
    {
     "name": "stdout",
     "output_type": "stream",
     "text": [
      "       Age  Education         Occupation   Race     Sex  Hours-per-week  \\\n",
      "0       39         13       Adm-clerical  White    Male              40   \n",
      "1       50         13    Exec-managerial  White    Male              13   \n",
      "2       38          9  Handlers-cleaners  White    Male              40   \n",
      "3       53          7  Handlers-cleaners  Black    Male              40   \n",
      "4       28         13     Prof-specialty  Black  Female              40   \n",
      "...    ...        ...                ...    ...     ...             ...   \n",
      "32556   27         12       Tech-support  White  Female              38   \n",
      "32557   40          9  Machine-op-inspct  White    Male              40   \n",
      "32558   58          9       Adm-clerical  White  Female              40   \n",
      "32559   22          9       Adm-clerical  White    Male              20   \n",
      "32560   52          9    Exec-managerial  White  Female              40   \n",
      "\n",
      "      Native-country  \n",
      "0      United-States  \n",
      "1      United-States  \n",
      "2      United-States  \n",
      "3      United-States  \n",
      "4               Cuba  \n",
      "...              ...  \n",
      "32556  United-States  \n",
      "32557  United-States  \n",
      "32558  United-States  \n",
      "32559  United-States  \n",
      "32560  United-States  \n",
      "\n",
      "[32561 rows x 7 columns]\n"
     ]
    }
   ],
   "source": [
    "# Find X and y values - selecting only important features for X\n",
    "X = df.iloc[:, [0, 4, 6, 8, 9, 12, 13]]\n",
    "y = df.iloc[:, [14]]\n",
    "X.columns = ['Age', 'Education', 'Occupation', 'Race', 'Sex', 'Hours-per-week', 'Native-country']\n",
    "print(X)\n",
    "\n"
   ]
  },
  {
   "cell_type": "code",
   "execution_count": 170,
   "id": "da380bfc",
   "metadata": {},
   "outputs": [
    {
     "name": "stderr",
     "output_type": "stream",
     "text": [
      "<ipython-input-170-227b2641399a>:3: SettingWithCopyWarning: \n",
      "A value is trying to be set on a copy of a slice from a DataFrame.\n",
      "Try using .loc[row_indexer,col_indexer] = value instead\n",
      "\n",
      "See the caveats in the documentation: https://pandas.pydata.org/pandas-docs/stable/user_guide/indexing.html#returning-a-view-versus-a-copy\n",
      "  X['Sex'] = (X['Sex'].map(mapping_dict))\n",
      "<ipython-input-170-227b2641399a>:5: SettingWithCopyWarning: \n",
      "A value is trying to be set on a copy of a slice from a DataFrame.\n",
      "Try using .loc[row_indexer,col_indexer] = value instead\n",
      "\n",
      "See the caveats in the documentation: https://pandas.pydata.org/pandas-docs/stable/user_guide/indexing.html#returning-a-view-versus-a-copy\n",
      "  X['Race'] = (X['Race'].map(mapping_dict))\n",
      "<ipython-input-170-227b2641399a>:9: SettingWithCopyWarning: \n",
      "A value is trying to be set on a copy of a slice from a DataFrame.\n",
      "Try using .loc[row_indexer,col_indexer] = value instead\n",
      "\n",
      "See the caveats in the documentation: https://pandas.pydata.org/pandas-docs/stable/user_guide/indexing.html#returning-a-view-versus-a-copy\n",
      "  X['Native-country'] = (X['Native-country'].map(mapping_dict))\n"
     ]
    }
   ],
   "source": [
    "# Convert categorical data to numerical\n",
    "mapping_dict = {'Male' : '0','Female' : '1'}\n",
    "X['Sex'] = (X['Sex'].map(mapping_dict))\n",
    "mapping_dict = {'White' : '0','Asian-Pac-Islander' : '1', 'Amer-Indian-Eskimo' : '2', 'Other' : '3', 'Black' : '4'}\n",
    "X['Race'] = (X['Race'].map(mapping_dict))\n",
    "# Set countries to numerical value, grouped countries into continents.\n",
    "# North America = 0, South America = 1, Asia = 2, Europe = 3, \n",
    "mapping_dict = {'United-States' : '0', 'Cambodia' : '2', 'England' : '3', 'Puerto-Rico' : '0', 'Canada' : '0', 'Germany' : '3', 'Outlying-US(Guam-USVI-etc)' : '0', 'India' : '2', 'Japan' : '2', 'Greece' : '3', 'South' : '??????????', 'China' : '2', 'Cuba' : '0', 'Iran' : '2', 'Honduras' : '0', 'Philippines' : '2', 'Italy' : '3', 'Poland' : '3', 'Jamaica' : '0', 'Vietnam' : '2', 'Mexico' : '0', 'Portugal' : '3', 'Ireland' : '3', 'France' : '3', 'Dominican-Republic' : '0', 'Laos' : '2', 'Ecuador' : '1', 'Taiwan' : '2', 'Haiti' : '0', 'Columbia' : '1', 'Hungary' : '3', 'Guatemala' : '0', 'Nicaragua' : '0', 'Scotland' : '3', 'Thailand' : '2', 'Yugoslavia' : '3', 'El-Salvador' : '0', 'Trinadad&Tobago' : '1', 'Peru' : '1', 'Hong' : '????????', 'Holand-Netherlands' : '3', '?' : '?'}\n",
    "X['Native-country'] = (X['Native-country'].map(mapping_dict)) \n",
    "\n",
    "# United-States, Cambodia, England, Puerto-Rico, Canada, Germany, \n",
    "# Outlying-US(Guam-USVI-etc), India, Japan, Greece, South, China, Cuba,\n",
    "# Iran, Honduras, Philippines, Italy, Poland, Jamaica, Vietnam, Mexico, Portugal,\n",
    "# Ireland, France, Dominican-Republic, Laos, Ecuador, Taiwan, Haiti, Columbia, Hungary,\n",
    "# Guatemala, Nicaragua, Scotland, Thailand, Yugoslavia, El-Salvador,\n",
    "# Trinadad&Tobago, Peru, Hong, Holand-Netherlands.\n"
   ]
  },
  {
   "cell_type": "code",
   "execution_count": 171,
   "id": "b36a5cdc",
   "metadata": {},
   "outputs": [
    {
     "data": {
      "text/plain": [
       "Age               0\n",
       "Education         0\n",
       "Occupation        0\n",
       "Race              0\n",
       "Sex               0\n",
       "Hours-per-week    0\n",
       "Native-country    0\n",
       "dtype: int64"
      ]
     },
     "execution_count": 171,
     "metadata": {},
     "output_type": "execute_result"
    }
   ],
   "source": [
    "# Replace all of ? with None\n",
    "X = X.replace(['?'], [None])\n",
    "# Drop all rows with None in them\n",
    "X = X.dropna(axis=0)\n",
    "\n",
    "# Check no None values remain\n",
    "X.isnull().sum()"
   ]
  },
  {
   "cell_type": "code",
   "execution_count": 172,
   "id": "03f9a22f",
   "metadata": {},
   "outputs": [
    {
     "data": {
      "text/plain": [
       "array([['<=50K'],\n",
       "       ['<=50K'],\n",
       "       ['<=50K'],\n",
       "       ...,\n",
       "       ['<=50K'],\n",
       "       ['<=50K'],\n",
       "       ['>50K']], dtype=object)"
      ]
     },
     "execution_count": 172,
     "metadata": {},
     "output_type": "execute_result"
    }
   ],
   "source": [
    "# print(X.head(50))\n",
    "y.values"
   ]
  },
  {
   "cell_type": "code",
   "execution_count": null,
   "id": "51e347c3",
   "metadata": {},
   "outputs": [],
   "source": []
  },
  {
   "cell_type": "code",
   "execution_count": null,
   "id": "8c217dc5",
   "metadata": {},
   "outputs": [],
   "source": []
  },
  {
   "cell_type": "code",
   "execution_count": null,
   "id": "f232f94d",
   "metadata": {},
   "outputs": [],
   "source": []
  },
  {
   "cell_type": "code",
   "execution_count": null,
   "id": "ae20cbb6",
   "metadata": {},
   "outputs": [],
   "source": []
  },
  {
   "cell_type": "code",
   "execution_count": 173,
   "id": "803b111c",
   "metadata": {},
   "outputs": [
    {
     "data": {
      "image/png": "[encoded data removed]",
      "text/plain": [
       "<Figure size 432x288 with 1 Axes>"
      ]
     },
     "metadata": {
      "needs_background": "light"
     },
     "output_type": "display_data"
    }
   ],
   "source": [
    "X['Age'].value_counts().values\n",
    "X['Age'].value_counts().index.tolist()\n",
    "\n",
    "# Plotting the number of occurences of each age within the data\n",
    "plt.scatter(X['Age'].value_counts().index.tolist(), X['Age'].value_counts().values, color='black')\n",
    "plt.xlabel(\"Age\")\n",
    "plt.ylabel(\"Number of occurences\")\n",
    "plt.show()"
   ]
  },
  {
   "cell_type": "code",
   "execution_count": 174,
   "id": "126ba956",
   "metadata": {},
   "outputs": [
    {
     "data": {
      "image/png": "[encoded data removed]",
      "text/plain": [
       "<Figure size 432x288 with 1 Axes>"
      ]
     },
     "metadata": {
      "needs_background": "light"
     },
     "output_type": "display_data"
    }
   ],
   "source": [
    "X['Native-country'].value_counts().values\n",
    "X['Native-country'].value_counts().index.tolist()\n",
    "\n",
    "# Plotting the number of occurences of each age within the data\n",
    "plt.bar(X['Native-country'].value_counts().index.tolist(), X['Native-country'].value_counts().values, color='black')\n",
    "plt.xlabel(\"Native-country\")\n",
    "plt.ylabel(\"Number of occurences\")\n",
    "plt.show()\n",
    "\n",
    "# Compare to graph of before you formed the continent categories.\n",
    "\n",
    "# Shows that feature scaling is required?"
   ]
  },
  {
   "cell_type": "code",
   "execution_count": 175,
   "id": "495638ad",
   "metadata": {},
   "outputs": [
    {
     "data": {
      "image/png": "[encoded data removed]",
      "text/plain": [
       "<Figure size 432x288 with 1 Axes>"
      ]
     },
     "metadata": {
      "needs_background": "light"
     },
     "output_type": "display_data"
    }
   ],
   "source": [
    "X['Race'].value_counts().values\n",
    "X['Race'].value_counts().index.tolist()\n",
    "\n",
    "# Plotting the number of occurences of each age within the data\n",
    "plt.bar(X['Race'].value_counts().index.tolist(), X['Race'].value_counts().values, color='black')\n",
    "plt.xlabel(\"Race\")\n",
    "plt.ylabel(\"Number of occurences\")\n",
    "plt.show()\n",
    "\n",
    "# Shows that feature scaling is required?"
   ]
  },
  {
   "cell_type": "code",
   "execution_count": 176,
   "id": "dbd7401b",
   "metadata": {},
   "outputs": [
    {
     "data": {
      "image/png": "[encoded data removed]",
      "text/plain": [
       "<Figure size 432x288 with 1 Axes>"
      ]
     },
     "metadata": {
      "needs_background": "light"
     },
     "output_type": "display_data"
    }
   ],
   "source": [
    "X['Sex'].value_counts().values\n",
    "X['Sex'].value_counts().index.tolist()\n",
    "\n",
    "# Plotting the number of occurences of each age within the data\n",
    "plt.bar(X['Sex'].value_counts().index.tolist(), X['Sex'].value_counts().values, color='black')\n",
    "plt.xlabel(\"Sex\")\n",
    "plt.ylabel(\"Number of occurences\")\n",
    "plt.show()\n",
    "\n",
    "# Shows that feature scaling is required?"
   ]
  },
  {
   "cell_type": "code",
   "execution_count": 177,
   "id": "83a2551a",
   "metadata": {},
   "outputs": [
    {
     "data": {
      "image/png": "[encoded data removed]",
      "text/plain": [
       "<Figure size 432x288 with 1 Axes>"
      ]
     },
     "metadata": {
      "needs_background": "light"
     },
     "output_type": "display_data"
    }
   ],
   "source": [
    "X['Hours-per-week'].value_counts().values\n",
    "X['Hours-per-week'].value_counts().index.tolist()\n",
    "\n",
    "# Plotting the number of occurences of each age within the data\n",
    "plt.bar(X['Hours-per-week'].value_counts().index.tolist(), X['Hours-per-week'].value_counts().values, color='black')\n",
    "plt.xlabel(\"Hours-per-week\")\n",
    "plt.ylabel(\"Number of occurences\")\n",
    "plt.show()\n",
    "\n",
    "# Shows that feature scaling is required??????"
   ]
  },
  {
   "cell_type": "code",
   "execution_count": 179,
   "id": "cb17068e",
   "metadata": {},
   "outputs": [
    {
     "data": {
      "image/png": "[encoded data removed]",
      "text/plain": [
       "<Figure size 432x288 with 1 Axes>"
      ]
     },
     "metadata": {
      "needs_background": "light"
     },
     "output_type": "display_data"
    }
   ],
   "source": [
    "X['Education'].value_counts().values\n",
    "X['Education'].value_counts().index.tolist()\n",
    "\n",
    "# Plotting the number of occurences of each age within the data\n",
    "plt.bar(X['Education'].value_counts().index.tolist(), X['Education'].value_counts().values, color='black')\n",
    "plt.xlabel(\"Education\")\n",
    "plt.ylabel(\"Number of occurences\")\n",
    "plt.show()\n",
    "\n",
    "# Shows that feature scaling is required?"
   ]
  },
  {
   "cell_type": "code",
   "execution_count": null,
   "id": "399c0ec3",
   "metadata": {},
   "outputs": [],
   "source": []
  },
  {
   "cell_type": "code",
   "execution_count": null,
   "id": "2be44d6a",
   "metadata": {},
   "outputs": [],
   "source": []
  }
 ],
 "metadata": {
  "kernelspec": {
   "display_name": "Python 3",
   "language": "python",
   "name": "python3"
  },
  "language_info": {
   "codemirror_mode": {
    "name": "ipython",
    "version": 3
   },
   "file_extension": ".py",
   "mimetype": "text/x-python",
   "name": "python",
   "nbconvert_exporter": "python",
   "pygments_lexer": "ipython3",
   "version": "3.8.8"
  }
 },
 "nbformat": 4,
 "nbformat_minor": 5
}
