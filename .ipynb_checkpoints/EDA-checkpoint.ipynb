{
 "cells": [
  {
   "cell_type": "code",
   "execution_count": 1,
   "metadata": {},
   "outputs": [],
   "source": [
    "# importing libraries\n",
    "import numpy as np\n",
    "import matplotlib.pyplot as plt\n",
    "import pandas as pd"
   ]
  },
  {
   "cell_type": "code",
   "execution_count": 2,
   "metadata": {},
   "outputs": [
    {
     "data": {
      "text/html": [
       "<div>\n",
       "<style scoped>\n",
       "    .dataframe tbody tr th:only-of-type {\n",
       "        vertical-align: middle;\n",
       "    }\n",
       "\n",
       "    .dataframe tbody tr th {\n",
       "        vertical-align: top;\n",
       "    }\n",
       "\n",
       "    .dataframe thead th {\n",
       "        text-align: right;\n",
       "    }\n",
       "</style>\n",
       "<table border=\"1\" class=\"dataframe\">\n",
       "  <thead>\n",
       "    <tr style=\"text-align: right;\">\n",
       "      <th></th>\n",
       "      <th>Age</th>\n",
       "      <th>Workclass</th>\n",
       "      <th>Fnlwgt</th>\n",
       "      <th>Education</th>\n",
       "      <th>Education-num</th>\n",
       "      <th>Marital-status</th>\n",
       "      <th>Occupation</th>\n",
       "      <th>Relationship</th>\n",
       "      <th>Race</th>\n",
       "      <th>Sex</th>\n",
       "      <th>Capital-gain</th>\n",
       "      <th>Capital-loss</th>\n",
       "      <th>Hours-per-week</th>\n",
       "      <th>Native-country</th>\n",
       "      <th>Income</th>\n",
       "    </tr>\n",
       "  </thead>\n",
       "  <tbody>\n",
       "    <tr>\n",
       "      <th>27303</th>\n",
       "      <td>31</td>\n",
       "      <td>Private</td>\n",
       "      <td>58582</td>\n",
       "      <td>Some-college</td>\n",
       "      <td>10</td>\n",
       "      <td>Never-married</td>\n",
       "      <td>Craft-repair</td>\n",
       "      <td>Not-in-family</td>\n",
       "      <td>White</td>\n",
       "      <td>Male</td>\n",
       "      <td>0</td>\n",
       "      <td>0</td>\n",
       "      <td>46</td>\n",
       "      <td>United-States</td>\n",
       "      <td>&lt;=50K</td>\n",
       "    </tr>\n",
       "    <tr>\n",
       "      <th>15504</th>\n",
       "      <td>23</td>\n",
       "      <td>Private</td>\n",
       "      <td>238092</td>\n",
       "      <td>Bachelors</td>\n",
       "      <td>13</td>\n",
       "      <td>Never-married</td>\n",
       "      <td>Prof-specialty</td>\n",
       "      <td>Own-child</td>\n",
       "      <td>White</td>\n",
       "      <td>Male</td>\n",
       "      <td>0</td>\n",
       "      <td>0</td>\n",
       "      <td>40</td>\n",
       "      <td>United-States</td>\n",
       "      <td>&lt;=50K</td>\n",
       "    </tr>\n",
       "    <tr>\n",
       "      <th>4770</th>\n",
       "      <td>33</td>\n",
       "      <td>Private</td>\n",
       "      <td>180574</td>\n",
       "      <td>Assoc-voc</td>\n",
       "      <td>11</td>\n",
       "      <td>Never-married</td>\n",
       "      <td>Prof-specialty</td>\n",
       "      <td>Not-in-family</td>\n",
       "      <td>White</td>\n",
       "      <td>Female</td>\n",
       "      <td>0</td>\n",
       "      <td>0</td>\n",
       "      <td>40</td>\n",
       "      <td>United-States</td>\n",
       "      <td>&lt;=50K.</td>\n",
       "    </tr>\n",
       "  </tbody>\n",
       "</table>\n",
       "</div>"
      ],
      "text/plain": [
       "       Age Workclass  Fnlwgt     Education  Education-num Marital-status  \\\n",
       "27303   31   Private   58582  Some-college             10  Never-married   \n",
       "15504   23   Private  238092     Bachelors             13  Never-married   \n",
       "4770    33   Private  180574     Assoc-voc             11  Never-married   \n",
       "\n",
       "           Occupation   Relationship   Race     Sex  Capital-gain  \\\n",
       "27303    Craft-repair  Not-in-family  White    Male             0   \n",
       "15504  Prof-specialty      Own-child  White    Male             0   \n",
       "4770   Prof-specialty  Not-in-family  White  Female             0   \n",
       "\n",
       "       Capital-loss  Hours-per-week Native-country  Income  \n",
       "27303             0              46  United-States   <=50K  \n",
       "15504             0              40  United-States   <=50K  \n",
       "4770              0              40  United-States  <=50K.  "
      ]
     },
     "execution_count": 2,
     "metadata": {},
     "output_type": "execute_result"
    }
   ],
   "source": [
    "# reading csv files\n",
    "df =  pd.read_csv('adult.data', sep=\",\", header=None, skipinitialspace=True)\n",
    "df2 = pd.read_csv('adult.test', sep=\",\", header=None, skipinitialspace=True)\n",
    "\n",
    "# Join the data and test files together\n",
    "df = pd.concat([df, df2])\n",
    "\n",
    "#Adding column headers to our data \n",
    "df.columns = [\"Age\", \"Workclass\", \"Fnlwgt\", \"Education\", \"Education-num\", \"Marital-status\", \"Occupation\", \"Relationship\", \"Race\", \"Sex\", \"Capital-gain\", \"Capital-loss\", \"Hours-per-week\", \"Native-country\", \"Income\"]\n",
    "\n",
    "# 3 random rows\n",
    "(df.sample(3))\n"
   ]
  },
  {
   "cell_type": "code",
   "execution_count": 3,
   "metadata": {},
   "outputs": [
    {
     "data": {
      "text/plain": [
       "(48842, 15)"
      ]
     },
     "execution_count": 3,
     "metadata": {},
     "output_type": "execute_result"
    }
   ],
   "source": [
    "# shape of dataset\n",
    "\n",
    "df.shape"
   ]
  },
  {
   "cell_type": "code",
   "execution_count": null,
   "metadata": {},
   "outputs": [],
   "source": [
    "import numpy as np\n",
    "import matplotlib.pyplot as plt\n",
    "\n",
    "# Created copy of X table and added y column back to XVisual, to allow us to carry out below calculations\n",
    "XVisual = X\n",
    "XVisual['y'] = y\n",
    "\n",
    "Sex = []\n",
    "lowest = 10\n",
    "zero = []\n",
    "one = []\n",
    "       \n",
    "# Goes through \n",
    "while len(Sex) < 2:\n",
    "    for i in range(2):\n",
    "        df_new = XVisual[XVisual['Sex'] == (XVisual['Sex'].value_counts().index.tolist())[i]]\n",
    "        Sex.append(df_new['Sex'].iloc[0])\n",
    "        zero.append(df_new['y'].value_counts()[0])\n",
    "        one.append(df_new['y'].value_counts()[1])\n",
    "        lowest += 10\n",
    "            \n",
    "\n",
    "# # Plots bar chart with zero and one on top of each other\n",
    "# ind = ['(10-20]', '(20-30]', '(30-40]', '(40-50]', '(50-60]', '(60-70]', '(70-80]', '(80-90]']\n",
    "# width = 0.9\n",
    "# fig = plt.figure()\n",
    "# ax = fig.add_axes([0,0,1,1])\n",
    "# ax.bar(ind, zero, width, color='r', edgecolor = \"black\")\n",
    "# ax.bar(ind, one, width, bottom=zero, color='b', edgecolor = \"black\")\n",
    "# ax.set_ylabel('Number of instances')\n",
    "# ax.set_title('Number of instances of income by ages')\n",
    "# ax.legend(labels=['Zero', 'One'])\n",
    "# plt.show()\n",
    "\n",
    "# Plots bar chart with zero and one next to each other\n",
    "ind = np.arange(len(Sex))\n",
    "# ind = ['(10-20]', '(20-30]', '(30-40]', '(40-50]', '(50-60]', '(60-70]', '(70-80]', '(80-90]']\n",
    "width = 0.4\n",
    "fig = plt.figure()\n",
    "ax = fig.add_axes([0,0,1,1])\n",
    "ax.bar(ind-0.2, zero, width, color='r', edgecolor = \"black\")\n",
    "ax.bar(ind+0.2, one, width, color='b', edgecolor = \"black\")\n",
    "ax.set_ylabel('Number of instances')\n",
    "ax.set_title('Number of instances of income by ages')\n",
    "ax.legend(labels=['<=50k', '>50k'])\n",
    "ax.set_xticklabels(['','','Man','','','','Woman'])\n",
    "# ax.set_xticklabels(['Man','Woman'])\n",
    "plt.show()"
   ]
  }
 ],
 "metadata": {
  "kernelspec": {
   "display_name": "Python 3",
   "language": "python",
   "name": "python3"
  },
  "language_info": {
   "codemirror_mode": {
    "name": "ipython",
    "version": 3
   },
   "file_extension": ".py",
   "mimetype": "text/x-python",
   "name": "python",
   "nbconvert_exporter": "python",
   "pygments_lexer": "ipython3",
   "version": "3.8.8"
  },
  "vscode": {
   "interpreter": {
    "hash": "40d3a090f54c6569ab1632332b64b2c03c39dcf918b08424e98f38b5ae0af88f"
   }
  }
 },
 "nbformat": 4,
 "nbformat_minor": 2
}
