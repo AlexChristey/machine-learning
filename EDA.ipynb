{
 "cells": [
  {
   "cell_type": "code",
   "execution_count": 3,
   "metadata": {},
   "outputs": [],
   "source": [
    "# importing libraries\n",
    "import numpy as np\n",
    "import matplotlib.pyplot as plt\n",
    "import pandas as pd"
   ]
  },
  {
   "cell_type": "code",
   "execution_count": 9,
   "metadata": {},
   "outputs": [
    {
     "data": {
      "text/html": [
       "<div>\n",
       "<style scoped>\n",
       "    .dataframe tbody tr th:only-of-type {\n",
       "        vertical-align: middle;\n",
       "    }\n",
       "\n",
       "    .dataframe tbody tr th {\n",
       "        vertical-align: top;\n",
       "    }\n",
       "\n",
       "    .dataframe thead th {\n",
       "        text-align: right;\n",
       "    }\n",
       "</style>\n",
       "<table border=\"1\" class=\"dataframe\">\n",
       "  <thead>\n",
       "    <tr style=\"text-align: right;\">\n",
       "      <th></th>\n",
       "      <th>0</th>\n",
       "      <th>1</th>\n",
       "      <th>2</th>\n",
       "      <th>3</th>\n",
       "      <th>4</th>\n",
       "      <th>5</th>\n",
       "      <th>6</th>\n",
       "      <th>7</th>\n",
       "      <th>8</th>\n",
       "      <th>9</th>\n",
       "      <th>10</th>\n",
       "      <th>11</th>\n",
       "      <th>12</th>\n",
       "      <th>13</th>\n",
       "      <th>14</th>\n",
       "    </tr>\n",
       "  </thead>\n",
       "  <tbody>\n",
       "    <tr>\n",
       "      <th>11865</th>\n",
       "      <td>60</td>\n",
       "      <td>Private</td>\n",
       "      <td>82388</td>\n",
       "      <td>Some-college</td>\n",
       "      <td>10</td>\n",
       "      <td>Married-civ-spouse</td>\n",
       "      <td>Protective-serv</td>\n",
       "      <td>Husband</td>\n",
       "      <td>White</td>\n",
       "      <td>Male</td>\n",
       "      <td>0</td>\n",
       "      <td>0</td>\n",
       "      <td>38</td>\n",
       "      <td>United-States</td>\n",
       "      <td>&lt;=50K</td>\n",
       "    </tr>\n",
       "    <tr>\n",
       "      <th>11540</th>\n",
       "      <td>42</td>\n",
       "      <td>Private</td>\n",
       "      <td>66460</td>\n",
       "      <td>Some-college</td>\n",
       "      <td>10</td>\n",
       "      <td>Divorced</td>\n",
       "      <td>Exec-managerial</td>\n",
       "      <td>Unmarried</td>\n",
       "      <td>White</td>\n",
       "      <td>Female</td>\n",
       "      <td>0</td>\n",
       "      <td>0</td>\n",
       "      <td>45</td>\n",
       "      <td>United-States</td>\n",
       "      <td>&lt;=50K</td>\n",
       "    </tr>\n",
       "    <tr>\n",
       "      <th>689</th>\n",
       "      <td>22</td>\n",
       "      <td>Local-gov</td>\n",
       "      <td>198478</td>\n",
       "      <td>Some-college</td>\n",
       "      <td>10</td>\n",
       "      <td>Married-civ-spouse</td>\n",
       "      <td>Protective-serv</td>\n",
       "      <td>Husband</td>\n",
       "      <td>White</td>\n",
       "      <td>Male</td>\n",
       "      <td>0</td>\n",
       "      <td>0</td>\n",
       "      <td>40</td>\n",
       "      <td>United-States</td>\n",
       "      <td>&lt;=50K.</td>\n",
       "    </tr>\n",
       "  </tbody>\n",
       "</table>\n",
       "</div>"
      ],
      "text/plain": [
       "       0          1       2             3   4                   5   \\\n",
       "11865  60    Private   82388  Some-college  10  Married-civ-spouse   \n",
       "11540  42    Private   66460  Some-college  10            Divorced   \n",
       "689    22  Local-gov  198478  Some-college  10  Married-civ-spouse   \n",
       "\n",
       "                    6          7      8       9   10  11  12             13  \\\n",
       "11865  Protective-serv    Husband  White    Male   0   0  38  United-States   \n",
       "11540  Exec-managerial  Unmarried  White  Female   0   0  45  United-States   \n",
       "689    Protective-serv    Husband  White    Male   0   0  40  United-States   \n",
       "\n",
       "           14  \n",
       "11865   <=50K  \n",
       "11540   <=50K  \n",
       "689    <=50K.  "
      ]
     },
     "execution_count": 9,
     "metadata": {},
     "output_type": "execute_result"
    }
   ],
   "source": [
    "# reading csv files\n",
    "df =  pd.read_csv('adult.data', sep=\",\", header=None, skipinitialspace=True)\n",
    "df2 = pd.read_csv('adult.test', sep=\",\", header=None, skipinitialspace=True)\n",
    "\n",
    "# Join the data and test files together\n",
    "df = pd.concat([df, df2])\n",
    "\n",
    "#Adding column headers to our data \n",
    "df.columns = [\"Age\", \"Workclass\", \"Fnlwgt\", \"Education\", \"Education-num\", \"Marital-status\", \"Occupation\", \"Relationship\", \"Race\", \"Sex\", \"Capital-gain\", \"Capital-loss\", \"Hours-per-week\", \"Native-country\", \"Income\"]\n",
    "\n",
    "# 3 random rows\n",
    "(df.sample(3))\n"
   ]
  },
  {
   "cell_type": "code",
   "execution_count": 16,
   "metadata": {},
   "outputs": [
    {
     "data": {
      "text/plain": [
       "(48842, 15)"
      ]
     },
     "execution_count": 16,
     "metadata": {},
     "output_type": "execute_result"
    }
   ],
   "source": [
    "# shape of dataset\n",
    "\n",
    "df.shape"
   ]
  },
  {
   "cell_type": "code",
   "execution_count": 17,
   "metadata": {},
   "outputs": [
    {
     "ename": "AttributeError",
     "evalue": "'AxesSubplot' object has no attribute 'is_first_col'",
     "output_type": "error",
     "traceback": [
      "\u001b[1;31m---------------------------------------------------------------------------\u001b[0m",
      "\u001b[1;31mAttributeError\u001b[0m                            Traceback (most recent call last)",
      "Cell \u001b[1;32mIn[17], line 3\u001b[0m\n\u001b[0;32m      1\u001b[0m \u001b[39m# create histograms for numerical features\u001b[39;00m\n\u001b[1;32m----> 3\u001b[0m df\u001b[39m.\u001b[39;49mhist()\n",
      "File \u001b[1;32mc:\\Users\\user\\miniconda3\\lib\\site-packages\\pandas\\plotting\\_core.py:211\u001b[0m, in \u001b[0;36mhist_frame\u001b[1;34m(data, column, by, grid, xlabelsize, xrot, ylabelsize, yrot, ax, sharex, sharey, figsize, layout, bins, backend, legend, **kwargs)\u001b[0m\n\u001b[0;32m    120\u001b[0m \u001b[39m\"\"\"\u001b[39;00m\n\u001b[0;32m    121\u001b[0m \u001b[39mMake a histogram of the DataFrame's.\u001b[39;00m\n\u001b[0;32m    122\u001b[0m \n\u001b[1;32m   (...)\u001b[0m\n\u001b[0;32m    208\u001b[0m \u001b[39m    >>> hist = df.hist(bins=3)\u001b[39;00m\n\u001b[0;32m    209\u001b[0m \u001b[39m\"\"\"\u001b[39;00m\n\u001b[0;32m    210\u001b[0m plot_backend \u001b[39m=\u001b[39m _get_plot_backend(backend)\n\u001b[1;32m--> 211\u001b[0m \u001b[39mreturn\u001b[39;00m plot_backend\u001b[39m.\u001b[39mhist_frame(\n\u001b[0;32m    212\u001b[0m     data,\n\u001b[0;32m    213\u001b[0m     column\u001b[39m=\u001b[39mcolumn,\n\u001b[0;32m    214\u001b[0m     by\u001b[39m=\u001b[39mby,\n\u001b[0;32m    215\u001b[0m     grid\u001b[39m=\u001b[39mgrid,\n\u001b[0;32m    216\u001b[0m     xlabelsize\u001b[39m=\u001b[39mxlabelsize,\n\u001b[0;32m    217\u001b[0m     xrot\u001b[39m=\u001b[39mxrot,\n\u001b[0;32m    218\u001b[0m     ylabelsize\u001b[39m=\u001b[39mylabelsize,\n\u001b[0;32m    219\u001b[0m     yrot\u001b[39m=\u001b[39myrot,\n\u001b[0;32m    220\u001b[0m     ax\u001b[39m=\u001b[39max,\n\u001b[0;32m    221\u001b[0m     sharex\u001b[39m=\u001b[39msharex,\n\u001b[0;32m    222\u001b[0m     sharey\u001b[39m=\u001b[39msharey,\n\u001b[0;32m    223\u001b[0m     figsize\u001b[39m=\u001b[39mfigsize,\n\u001b[0;32m    224\u001b[0m     layout\u001b[39m=\u001b[39mlayout,\n\u001b[0;32m    225\u001b[0m     legend\u001b[39m=\u001b[39mlegend,\n\u001b[0;32m    226\u001b[0m     bins\u001b[39m=\u001b[39mbins,\n\u001b[0;32m    227\u001b[0m     \u001b[39m*\u001b[39m\u001b[39m*\u001b[39mkwargs,\n\u001b[0;32m    228\u001b[0m )\n",
      "File \u001b[1;32mc:\\Users\\user\\miniconda3\\lib\\site-packages\\pandas\\plotting\\_matplotlib\\hist.py:431\u001b[0m, in \u001b[0;36mhist_frame\u001b[1;34m(data, column, by, grid, xlabelsize, xrot, ylabelsize, yrot, ax, sharex, sharey, figsize, layout, bins, legend, **kwds)\u001b[0m\n\u001b[0;32m    426\u001b[0m \u001b[39mif\u001b[39;00m naxes \u001b[39m==\u001b[39m \u001b[39m0\u001b[39m:\n\u001b[0;32m    427\u001b[0m     \u001b[39mraise\u001b[39;00m \u001b[39mValueError\u001b[39;00m(\n\u001b[0;32m    428\u001b[0m         \u001b[39m\"\u001b[39m\u001b[39mhist method requires numerical or datetime columns, nothing to plot.\u001b[39m\u001b[39m\"\u001b[39m\n\u001b[0;32m    429\u001b[0m     )\n\u001b[1;32m--> 431\u001b[0m fig, axes \u001b[39m=\u001b[39m create_subplots(\n\u001b[0;32m    432\u001b[0m     naxes\u001b[39m=\u001b[39;49mnaxes,\n\u001b[0;32m    433\u001b[0m     ax\u001b[39m=\u001b[39;49max,\n\u001b[0;32m    434\u001b[0m     squeeze\u001b[39m=\u001b[39;49m\u001b[39mFalse\u001b[39;49;00m,\n\u001b[0;32m    435\u001b[0m     sharex\u001b[39m=\u001b[39;49msharex,\n\u001b[0;32m    436\u001b[0m     sharey\u001b[39m=\u001b[39;49msharey,\n\u001b[0;32m    437\u001b[0m     figsize\u001b[39m=\u001b[39;49mfigsize,\n\u001b[0;32m    438\u001b[0m     layout\u001b[39m=\u001b[39;49mlayout,\n\u001b[0;32m    439\u001b[0m )\n\u001b[0;32m    440\u001b[0m _axes \u001b[39m=\u001b[39m flatten_axes(axes)\n\u001b[0;32m    442\u001b[0m can_set_label \u001b[39m=\u001b[39m \u001b[39m\"\u001b[39m\u001b[39mlabel\u001b[39m\u001b[39m\"\u001b[39m \u001b[39mnot\u001b[39;00m \u001b[39min\u001b[39;00m kwds\n",
      "File \u001b[1;32mc:\\Users\\user\\miniconda3\\lib\\site-packages\\pandas\\plotting\\_matplotlib\\tools.py:269\u001b[0m, in \u001b[0;36mcreate_subplots\u001b[1;34m(naxes, sharex, sharey, squeeze, subplot_kw, ax, layout, layout_type, **fig_kw)\u001b[0m\n\u001b[0;32m    266\u001b[0m     \u001b[39mfor\u001b[39;00m ax \u001b[39min\u001b[39;00m axarr[naxes:]:\n\u001b[0;32m    267\u001b[0m         ax\u001b[39m.\u001b[39mset_visible(\u001b[39mFalse\u001b[39;00m)\n\u001b[1;32m--> 269\u001b[0m handle_shared_axes(axarr, nplots, naxes, nrows, ncols, sharex, sharey)\n\u001b[0;32m    271\u001b[0m \u001b[39mif\u001b[39;00m squeeze:\n\u001b[0;32m    272\u001b[0m     \u001b[39m# Reshape the array to have the final desired dimension (nrow,ncol),\u001b[39;00m\n\u001b[0;32m    273\u001b[0m     \u001b[39m# though discarding unneeded dimensions that equal 1.  If we only have\u001b[39;00m\n\u001b[0;32m    274\u001b[0m     \u001b[39m# one subplot, just return it instead of a 1-element array.\u001b[39;00m\n\u001b[0;32m    275\u001b[0m     \u001b[39mif\u001b[39;00m nplots \u001b[39m==\u001b[39m \u001b[39m1\u001b[39m:\n",
      "File \u001b[1;32mc:\\Users\\user\\miniconda3\\lib\\site-packages\\pandas\\plotting\\_matplotlib\\tools.py:400\u001b[0m, in \u001b[0;36mhandle_shared_axes\u001b[1;34m(axarr, nplots, naxes, nrows, ncols, sharex, sharey)\u001b[0m\n\u001b[0;32m    395\u001b[0m \u001b[39mif\u001b[39;00m ncols \u001b[39m>\u001b[39m \u001b[39m1\u001b[39m:\n\u001b[0;32m    396\u001b[0m     \u001b[39mfor\u001b[39;00m ax \u001b[39min\u001b[39;00m axarr:\n\u001b[0;32m    397\u001b[0m         \u001b[39m# only the first column should get y labels -> set all other to\u001b[39;00m\n\u001b[0;32m    398\u001b[0m         \u001b[39m# off as we only have labels in the first column and we always\u001b[39;00m\n\u001b[0;32m    399\u001b[0m         \u001b[39m# have a subplot there, we can skip the layout test\u001b[39;00m\n\u001b[1;32m--> 400\u001b[0m         \u001b[39mif\u001b[39;00m ax\u001b[39m.\u001b[39;49mis_first_col():\n\u001b[0;32m    401\u001b[0m             \u001b[39mcontinue\u001b[39;00m\n\u001b[0;32m    402\u001b[0m         \u001b[39mif\u001b[39;00m sharey \u001b[39mor\u001b[39;00m _has_externally_shared_axis(ax, \u001b[39m\"\u001b[39m\u001b[39my\u001b[39m\u001b[39m\"\u001b[39m):\n",
      "\u001b[1;31mAttributeError\u001b[0m: 'AxesSubplot' object has no attribute 'is_first_col'"
     ]
    },
    {
     "data": {
      "image/png": "[encoded data removed]",
      "text/plain": [
       "<Figure size 640x480 with 6 Axes>"
      ]
     },
     "metadata": {},
     "output_type": "display_data"
    }
   ],
   "source": []
  }
 ],
 "metadata": {
  "kernelspec": {
   "display_name": "base",
   "language": "python",
   "name": "python3"
  },
  "language_info": {
   "codemirror_mode": {
    "name": "ipython",
    "version": 3
   },
   "file_extension": ".py",
   "mimetype": "text/x-python",
   "name": "python",
   "nbconvert_exporter": "python",
   "pygments_lexer": "ipython3",
   "version": "3.9.12"
  },
  "orig_nbformat": 4,
  "vscode": {
   "interpreter": {
    "hash": "631926b96873d2007fbe5ba14401cac9ce99e5e76ded0bffc18be58f3fefa61b"
   }
  }
 },
 "nbformat": 4,
 "nbformat_minor": 2
}
