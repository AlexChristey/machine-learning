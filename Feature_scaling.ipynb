{
 "cells": [
  {
   "cell_type": "code",
   "execution_count": null,
   "id": "80344a6b",
   "metadata": {},
   "outputs": [],
   "source": []
  },
  {
   "cell_type": "code",
   "execution_count": 1,
   "id": "1b206550",
   "metadata": {},
   "outputs": [],
   "source": [
    "# import libraries\n",
    "import numpy as np\n",
    "from numpy import mean\n",
    "from numpy import std\n",
    "from numpy import hstack\n",
    "import matplotlib.pyplot as plt\n",
    "import pandas as pd\n",
    "import seaborn as sns\n",
    "from sklearn.model_selection import cross_val_score\n",
    "from sklearn.model_selection import RepeatedStratifiedKFold\n",
    "from sklearn.dummy import DummyClassifier\n",
    "from sklearn.model_selection import train_test_split\n",
    "\n",
    "# reading csv files\n",
    "df =  pd.read_csv('adult.data', sep=\",\", header=None, skipinitialspace=True)\n",
    "df2 = pd.read_csv('adult.test', sep=\",\", header=None, skipinitialspace=True)\n",
    "\n",
    "# Join the data and test files together\n",
    "df = pd.concat([df, df2])\n",
    "\n",
    "# Shuffle the rows\n",
    "df = df.sample(frac=1).reset_index(drop=True)\n",
    "\n",
    "# Replace all of ? with None\n",
    "df = df.replace(['?'], [None])\n",
    "# Drop all rows with None in them\n",
    "df = df.dropna(axis=0)\n",
    "\n",
    "# Check no None values remain\n",
    "df.isnull().sum()\n",
    "\n",
    "#Adding column headers to our data \n",
    "df.columns = [\"Age\", \"Workclass\", \"Fnlwgt\", \"Education\", \"Education-num\", \"Marital-status\", \"Occupation\", \"Relationship\", \"Race\", \"Sex\", \"Capital-gain\", \"Capital-loss\", \"Hours-per-week\", \"Native-country\", \"Income\"]\n",
    "# Workclass, Fnlwgt, Race and Native-country are not worth using.\n",
    "# Education = Education num, so drop Education\n",
    "df = df.drop(columns=['Workclass', 'Race', 'Fnlwgt', 'Native-country', 'Education'])\n"
   ]
  },
  {
   "cell_type": "code",
   "execution_count": 2,
   "id": "d4bd334d",
   "metadata": {},
   "outputs": [
    {
     "data": {
      "text/html": [
       "<div>\n",
       "<style scoped>\n",
       "    .dataframe tbody tr th:only-of-type {\n",
       "        vertical-align: middle;\n",
       "    }\n",
       "\n",
       "    .dataframe tbody tr th {\n",
       "        vertical-align: top;\n",
       "    }\n",
       "\n",
       "    .dataframe thead th {\n",
       "        text-align: right;\n",
       "    }\n",
       "</style>\n",
       "<table border=\"1\" class=\"dataframe\">\n",
       "  <thead>\n",
       "    <tr style=\"text-align: right;\">\n",
       "      <th></th>\n",
       "      <th>Age</th>\n",
       "      <th>Education-num</th>\n",
       "      <th>Marital-status</th>\n",
       "      <th>Occupation</th>\n",
       "      <th>Relationship</th>\n",
       "      <th>Sex</th>\n",
       "      <th>Capital-gain</th>\n",
       "      <th>Capital-loss</th>\n",
       "      <th>Hours-per-week</th>\n",
       "      <th>Income</th>\n",
       "    </tr>\n",
       "  </thead>\n",
       "  <tbody>\n",
       "    <tr>\n",
       "      <th>0</th>\n",
       "      <td>20</td>\n",
       "      <td>5</td>\n",
       "      <td>Never-married</td>\n",
       "      <td>Machine-op-inspct</td>\n",
       "      <td>Own-child</td>\n",
       "      <td>Female</td>\n",
       "      <td>0</td>\n",
       "      <td>0</td>\n",
       "      <td>11</td>\n",
       "      <td>&lt;=50K</td>\n",
       "    </tr>\n",
       "    <tr>\n",
       "      <th>1</th>\n",
       "      <td>52</td>\n",
       "      <td>14</td>\n",
       "      <td>Married-civ-spouse</td>\n",
       "      <td>Farming-fishing</td>\n",
       "      <td>Husband</td>\n",
       "      <td>Male</td>\n",
       "      <td>0</td>\n",
       "      <td>0</td>\n",
       "      <td>45</td>\n",
       "      <td>&lt;=50K.</td>\n",
       "    </tr>\n",
       "    <tr>\n",
       "      <th>2</th>\n",
       "      <td>38</td>\n",
       "      <td>12</td>\n",
       "      <td>Never-married</td>\n",
       "      <td>Exec-managerial</td>\n",
       "      <td>Not-in-family</td>\n",
       "      <td>Male</td>\n",
       "      <td>0</td>\n",
       "      <td>0</td>\n",
       "      <td>60</td>\n",
       "      <td>&lt;=50K</td>\n",
       "    </tr>\n",
       "    <tr>\n",
       "      <th>4</th>\n",
       "      <td>47</td>\n",
       "      <td>9</td>\n",
       "      <td>Married-civ-spouse</td>\n",
       "      <td>Farming-fishing</td>\n",
       "      <td>Husband</td>\n",
       "      <td>Male</td>\n",
       "      <td>2829</td>\n",
       "      <td>0</td>\n",
       "      <td>65</td>\n",
       "      <td>&lt;=50K</td>\n",
       "    </tr>\n",
       "    <tr>\n",
       "      <th>5</th>\n",
       "      <td>50</td>\n",
       "      <td>10</td>\n",
       "      <td>Married-civ-spouse</td>\n",
       "      <td>Adm-clerical</td>\n",
       "      <td>Husband</td>\n",
       "      <td>Male</td>\n",
       "      <td>0</td>\n",
       "      <td>1740</td>\n",
       "      <td>48</td>\n",
       "      <td>&lt;=50K</td>\n",
       "    </tr>\n",
       "    <tr>\n",
       "      <th>...</th>\n",
       "      <td>...</td>\n",
       "      <td>...</td>\n",
       "      <td>...</td>\n",
       "      <td>...</td>\n",
       "      <td>...</td>\n",
       "      <td>...</td>\n",
       "      <td>...</td>\n",
       "      <td>...</td>\n",
       "      <td>...</td>\n",
       "      <td>...</td>\n",
       "    </tr>\n",
       "    <tr>\n",
       "      <th>48837</th>\n",
       "      <td>44</td>\n",
       "      <td>13</td>\n",
       "      <td>Married-civ-spouse</td>\n",
       "      <td>Exec-managerial</td>\n",
       "      <td>Husband</td>\n",
       "      <td>Male</td>\n",
       "      <td>0</td>\n",
       "      <td>0</td>\n",
       "      <td>48</td>\n",
       "      <td>&gt;50K</td>\n",
       "    </tr>\n",
       "    <tr>\n",
       "      <th>48838</th>\n",
       "      <td>51</td>\n",
       "      <td>15</td>\n",
       "      <td>Never-married</td>\n",
       "      <td>Prof-specialty</td>\n",
       "      <td>Not-in-family</td>\n",
       "      <td>Female</td>\n",
       "      <td>0</td>\n",
       "      <td>2559</td>\n",
       "      <td>50</td>\n",
       "      <td>&gt;50K</td>\n",
       "    </tr>\n",
       "    <tr>\n",
       "      <th>48839</th>\n",
       "      <td>33</td>\n",
       "      <td>9</td>\n",
       "      <td>Married-civ-spouse</td>\n",
       "      <td>Protective-serv</td>\n",
       "      <td>Husband</td>\n",
       "      <td>Male</td>\n",
       "      <td>0</td>\n",
       "      <td>0</td>\n",
       "      <td>32</td>\n",
       "      <td>&lt;=50K.</td>\n",
       "    </tr>\n",
       "    <tr>\n",
       "      <th>48840</th>\n",
       "      <td>46</td>\n",
       "      <td>14</td>\n",
       "      <td>Married-civ-spouse</td>\n",
       "      <td>Prof-specialty</td>\n",
       "      <td>Husband</td>\n",
       "      <td>Male</td>\n",
       "      <td>0</td>\n",
       "      <td>0</td>\n",
       "      <td>40</td>\n",
       "      <td>&gt;50K</td>\n",
       "    </tr>\n",
       "    <tr>\n",
       "      <th>48841</th>\n",
       "      <td>34</td>\n",
       "      <td>9</td>\n",
       "      <td>Never-married</td>\n",
       "      <td>Sales</td>\n",
       "      <td>Own-child</td>\n",
       "      <td>Female</td>\n",
       "      <td>0</td>\n",
       "      <td>0</td>\n",
       "      <td>40</td>\n",
       "      <td>&lt;=50K</td>\n",
       "    </tr>\n",
       "  </tbody>\n",
       "</table>\n",
       "<p>45222 rows × 10 columns</p>\n",
       "</div>"
      ],
      "text/plain": [
       "       Age  Education-num      Marital-status         Occupation  \\\n",
       "0       20              5       Never-married  Machine-op-inspct   \n",
       "1       52             14  Married-civ-spouse    Farming-fishing   \n",
       "2       38             12       Never-married    Exec-managerial   \n",
       "4       47              9  Married-civ-spouse    Farming-fishing   \n",
       "5       50             10  Married-civ-spouse       Adm-clerical   \n",
       "...    ...            ...                 ...                ...   \n",
       "48837   44             13  Married-civ-spouse    Exec-managerial   \n",
       "48838   51             15       Never-married     Prof-specialty   \n",
       "48839   33              9  Married-civ-spouse    Protective-serv   \n",
       "48840   46             14  Married-civ-spouse     Prof-specialty   \n",
       "48841   34              9       Never-married              Sales   \n",
       "\n",
       "        Relationship     Sex  Capital-gain  Capital-loss  Hours-per-week  \\\n",
       "0          Own-child  Female             0             0              11   \n",
       "1            Husband    Male             0             0              45   \n",
       "2      Not-in-family    Male             0             0              60   \n",
       "4            Husband    Male          2829             0              65   \n",
       "5            Husband    Male             0          1740              48   \n",
       "...              ...     ...           ...           ...             ...   \n",
       "48837        Husband    Male             0             0              48   \n",
       "48838  Not-in-family  Female             0          2559              50   \n",
       "48839        Husband    Male             0             0              32   \n",
       "48840        Husband    Male             0             0              40   \n",
       "48841      Own-child  Female             0             0              40   \n",
       "\n",
       "       Income  \n",
       "0       <=50K  \n",
       "1      <=50K.  \n",
       "2       <=50K  \n",
       "4       <=50K  \n",
       "5       <=50K  \n",
       "...       ...  \n",
       "48837    >50K  \n",
       "48838    >50K  \n",
       "48839  <=50K.  \n",
       "48840    >50K  \n",
       "48841   <=50K  \n",
       "\n",
       "[45222 rows x 10 columns]"
      ]
     },
     "execution_count": 2,
     "metadata": {},
     "output_type": "execute_result"
    }
   ],
   "source": [
    "df"
   ]
  },
  {
   "cell_type": "code",
   "execution_count": 3,
   "id": "e89e44f3",
   "metadata": {},
   "outputs": [
    {
     "data": {
      "text/html": [
       "<div>\n",
       "<style scoped>\n",
       "    .dataframe tbody tr th:only-of-type {\n",
       "        vertical-align: middle;\n",
       "    }\n",
       "\n",
       "    .dataframe tbody tr th {\n",
       "        vertical-align: top;\n",
       "    }\n",
       "\n",
       "    .dataframe thead th {\n",
       "        text-align: right;\n",
       "    }\n",
       "</style>\n",
       "<table border=\"1\" class=\"dataframe\">\n",
       "  <thead>\n",
       "    <tr style=\"text-align: right;\">\n",
       "      <th></th>\n",
       "      <th>Age</th>\n",
       "      <th>Education-num</th>\n",
       "      <th>Marital-status</th>\n",
       "      <th>Occupation</th>\n",
       "      <th>Relationship</th>\n",
       "      <th>Sex</th>\n",
       "      <th>Capital-gain</th>\n",
       "      <th>Capital-loss</th>\n",
       "      <th>Hours-per-week</th>\n",
       "      <th>Income</th>\n",
       "    </tr>\n",
       "  </thead>\n",
       "  <tbody>\n",
       "    <tr>\n",
       "      <th>0</th>\n",
       "      <td>0</td>\n",
       "      <td>5</td>\n",
       "      <td>Never-married</td>\n",
       "      <td>1</td>\n",
       "      <td>Own-child</td>\n",
       "      <td>1</td>\n",
       "      <td>0</td>\n",
       "      <td>0</td>\n",
       "      <td>11</td>\n",
       "      <td>0</td>\n",
       "    </tr>\n",
       "    <tr>\n",
       "      <th>1</th>\n",
       "      <td>4</td>\n",
       "      <td>14</td>\n",
       "      <td>Married-civ-spouse</td>\n",
       "      <td>1</td>\n",
       "      <td>Husband</td>\n",
       "      <td>0</td>\n",
       "      <td>0</td>\n",
       "      <td>0</td>\n",
       "      <td>45</td>\n",
       "      <td>0</td>\n",
       "    </tr>\n",
       "    <tr>\n",
       "      <th>2</th>\n",
       "      <td>2</td>\n",
       "      <td>12</td>\n",
       "      <td>Never-married</td>\n",
       "      <td>0</td>\n",
       "      <td>Not-in-family</td>\n",
       "      <td>0</td>\n",
       "      <td>0</td>\n",
       "      <td>0</td>\n",
       "      <td>60</td>\n",
       "      <td>0</td>\n",
       "    </tr>\n",
       "    <tr>\n",
       "      <th>4</th>\n",
       "      <td>3</td>\n",
       "      <td>9</td>\n",
       "      <td>Married-civ-spouse</td>\n",
       "      <td>1</td>\n",
       "      <td>Husband</td>\n",
       "      <td>0</td>\n",
       "      <td>2829</td>\n",
       "      <td>0</td>\n",
       "      <td>65</td>\n",
       "      <td>0</td>\n",
       "    </tr>\n",
       "    <tr>\n",
       "      <th>5</th>\n",
       "      <td>3</td>\n",
       "      <td>10</td>\n",
       "      <td>Married-civ-spouse</td>\n",
       "      <td>0</td>\n",
       "      <td>Husband</td>\n",
       "      <td>0</td>\n",
       "      <td>0</td>\n",
       "      <td>1740</td>\n",
       "      <td>48</td>\n",
       "      <td>0</td>\n",
       "    </tr>\n",
       "    <tr>\n",
       "      <th>...</th>\n",
       "      <td>...</td>\n",
       "      <td>...</td>\n",
       "      <td>...</td>\n",
       "      <td>...</td>\n",
       "      <td>...</td>\n",
       "      <td>...</td>\n",
       "      <td>...</td>\n",
       "      <td>...</td>\n",
       "      <td>...</td>\n",
       "      <td>...</td>\n",
       "    </tr>\n",
       "    <tr>\n",
       "      <th>48837</th>\n",
       "      <td>3</td>\n",
       "      <td>13</td>\n",
       "      <td>Married-civ-spouse</td>\n",
       "      <td>0</td>\n",
       "      <td>Husband</td>\n",
       "      <td>0</td>\n",
       "      <td>0</td>\n",
       "      <td>0</td>\n",
       "      <td>48</td>\n",
       "      <td>1</td>\n",
       "    </tr>\n",
       "    <tr>\n",
       "      <th>48838</th>\n",
       "      <td>4</td>\n",
       "      <td>15</td>\n",
       "      <td>Never-married</td>\n",
       "      <td>0</td>\n",
       "      <td>Not-in-family</td>\n",
       "      <td>1</td>\n",
       "      <td>0</td>\n",
       "      <td>2559</td>\n",
       "      <td>50</td>\n",
       "      <td>1</td>\n",
       "    </tr>\n",
       "    <tr>\n",
       "      <th>48839</th>\n",
       "      <td>2</td>\n",
       "      <td>9</td>\n",
       "      <td>Married-civ-spouse</td>\n",
       "      <td>1</td>\n",
       "      <td>Husband</td>\n",
       "      <td>0</td>\n",
       "      <td>0</td>\n",
       "      <td>0</td>\n",
       "      <td>32</td>\n",
       "      <td>0</td>\n",
       "    </tr>\n",
       "    <tr>\n",
       "      <th>48840</th>\n",
       "      <td>3</td>\n",
       "      <td>14</td>\n",
       "      <td>Married-civ-spouse</td>\n",
       "      <td>0</td>\n",
       "      <td>Husband</td>\n",
       "      <td>0</td>\n",
       "      <td>0</td>\n",
       "      <td>0</td>\n",
       "      <td>40</td>\n",
       "      <td>1</td>\n",
       "    </tr>\n",
       "    <tr>\n",
       "      <th>48841</th>\n",
       "      <td>2</td>\n",
       "      <td>9</td>\n",
       "      <td>Never-married</td>\n",
       "      <td>0</td>\n",
       "      <td>Own-child</td>\n",
       "      <td>1</td>\n",
       "      <td>0</td>\n",
       "      <td>0</td>\n",
       "      <td>40</td>\n",
       "      <td>0</td>\n",
       "    </tr>\n",
       "  </tbody>\n",
       "</table>\n",
       "<p>45222 rows × 10 columns</p>\n",
       "</div>"
      ],
      "text/plain": [
       "      Age  Education-num      Marital-status  Occupation   Relationship  Sex  \\\n",
       "0       0              5       Never-married           1      Own-child    1   \n",
       "1       4             14  Married-civ-spouse           1        Husband    0   \n",
       "2       2             12       Never-married           0  Not-in-family    0   \n",
       "4       3              9  Married-civ-spouse           1        Husband    0   \n",
       "5       3             10  Married-civ-spouse           0        Husband    0   \n",
       "...    ..            ...                 ...         ...            ...  ...   \n",
       "48837   3             13  Married-civ-spouse           0        Husband    0   \n",
       "48838   4             15       Never-married           0  Not-in-family    1   \n",
       "48839   2              9  Married-civ-spouse           1        Husband    0   \n",
       "48840   3             14  Married-civ-spouse           0        Husband    0   \n",
       "48841   2              9       Never-married           0      Own-child    1   \n",
       "\n",
       "       Capital-gain  Capital-loss  Hours-per-week  Income  \n",
       "0                 0             0              11       0  \n",
       "1                 0             0              45       0  \n",
       "2                 0             0              60       0  \n",
       "4              2829             0              65       0  \n",
       "5                 0          1740              48       0  \n",
       "...             ...           ...             ...     ...  \n",
       "48837             0             0              48       1  \n",
       "48838             0          2559              50       1  \n",
       "48839             0             0              32       0  \n",
       "48840             0             0              40       1  \n",
       "48841             0             0              40       0  \n",
       "\n",
       "[45222 rows x 10 columns]"
      ]
     },
     "execution_count": 3,
     "metadata": {},
     "output_type": "execute_result"
    }
   ],
   "source": [
    "#Numerically encoding occupation: Occupaiton is grouped into white collar and blue collar \n",
    "occupation_mapping_dict = {\n",
    "    \"Tech-support\" : 0,\n",
    "    \"Craft-repair\" : 1, \n",
    "    \"Other-service\" : 1, #Wasn't sure about blue or white collar for other services \n",
    "    \"Sales\" : 0, \n",
    "    \"Exec-managerial\" : 0, \n",
    "    \"Prof-specialty\" : 0, \n",
    "    \"Handlers-cleaners\" : 1, \n",
    "    \"Machine-op-inspct\" : 1, \n",
    "    \"Adm-clerical\" : 0, \n",
    "    \"Farming-fishing\" : 1, \n",
    "    \"Transport-moving\" : 1, \n",
    "    \"Priv-house-serv\" : 1, \n",
    "    \"Protective-serv\" : 1, \n",
    "    \"Armed-Forces\" : 1\n",
    "    }\n",
    "\n",
    "df[\"Occupation\"] = df[\"Occupation\"].map(occupation_mapping_dict)\n",
    "\n",
    "\n",
    "#Numerically encoding the sex variable \n",
    "sex_mapping_dict = {\n",
    "    \"Male\" : 0,\n",
    "    \"Female\" : 1\n",
    "    }\n",
    "\n",
    "df[\"Sex\"] = df[\"Sex\"].map(sex_mapping_dict)\n",
    "\n",
    "\n",
    "#Encoding income variable\n",
    "income_mapping_dict = {\n",
    "    \"<=50K\" : 0,\n",
    "    \">50K\" : 1, \n",
    "    \"<=50K.\" : 0, \n",
    "    \">50K.\" : 1\n",
    "    }\n",
    "\n",
    "\n",
    "# FOR MODELS\n",
    "# Group ages into discrete bins for models\n",
    "bins = [10,20,30,40,50,60,70,80,90]\n",
    "names = ['0', '1', '2', '3', '4', '5', '6', '7']\n",
    "df['Age'] = pd.cut(df['Age'], bins, labels = names)\n",
    "\n",
    "\n",
    "\n",
    "\n",
    "\n",
    "df[\"Income\"] = df[\"Income\"].map(income_mapping_dict)\n",
    "df\n"
   ]
  },
  {
   "cell_type": "code",
   "execution_count": 4,
   "id": "a3c8a98d",
   "metadata": {},
   "outputs": [],
   "source": [
    "#Will now employ one-hot encoding for :  Marital Status and Relationship ; no order in their values\n",
    "df = pd.get_dummies(df, columns = ['Relationship', 'Marital-status'])"
   ]
  },
  {
   "cell_type": "code",
   "execution_count": null,
   "id": "9c7e4a4b",
   "metadata": {},
   "outputs": [],
   "source": []
  },
  {
   "cell_type": "code",
   "execution_count": 5,
   "id": "0a2f38de",
   "metadata": {},
   "outputs": [
    {
     "data": {
      "image/png": "[encoded data removed]",
      "text/plain": [
       "<Figure size 432x288 with 1 Axes>"
      ]
     },
     "metadata": {
      "needs_background": "light"
     },
     "output_type": "display_data"
    }
   ],
   "source": [
    "# Visualizing before feature scaling\n",
    "df['Capital-loss'].value_counts().values\n",
    "df['Capital-loss'].value_counts().index.tolist()\n",
    "\n",
    "# Plotting the number of occurences of each age within the data\n",
    "plt.scatter(df['Capital-loss'].value_counts().index.tolist(), df['Capital-loss'].value_counts().values, color='black')\n",
    "plt.xlabel(\"Capital-loss\")\n",
    "plt.ylabel(\"Number of occurences\")\n",
    "plt.show()"
   ]
  },
  {
   "cell_type": "code",
   "execution_count": 25,
   "id": "2395724d",
   "metadata": {},
   "outputs": [],
   "source": [
    "# Will now test different feature scaling on Capital-gain and Capital-loss\n",
    "col_names = ['Capital-gain', 'Capital-loss']\n",
    "features = df[col_names]\n",
    "\n",
    "from sklearn.preprocessing import MinMaxScaler\n",
    "from sklearn.preprocessing import StandardScaler\n",
    "from sklearn.preprocessing import MaxAbsScaler\n",
    "from sklearn.preprocessing import RobustScaler\n",
    "from sklearn.preprocessing import QuantileTransformer\n",
    "from sklearn.preprocessing import Normalizer\n",
    "#scaler = Normalizer(norm = 'l2')\n",
    "# scaler = QuantileTransformer()\n",
    "# scaler = RobustScaler()\n",
    "# scaler = MaxAbsScaler()\n",
    "#scaler = StandardScaler()\n",
    "# scaler = MinMaxScaler()\n",
    "df[col_names] = scaler.fit_transform(features.values)\n"
   ]
  },
  {
   "cell_type": "code",
   "execution_count": 28,
   "id": "4c905b5a",
   "metadata": {},
   "outputs": [
    {
     "data": {
      "text/plain": [
       "<AxesSubplot:ylabel='Capital-gain'>"
      ]
     },
     "execution_count": 28,
     "metadata": {},
     "output_type": "execute_result"
    },
    {
     "data": {
      "image/png": "[encoded data removed]",
      "text/plain": [
       "<Figure size 432x288 with 1 Axes>"
      ]
     },
     "metadata": {
      "needs_background": "light"
     },
     "output_type": "display_data"
    }
   ],
   "source": [
    "#Visualisng with violin plot\n",
    "\n",
    "sns.violinplot(y = 'Capital-gain', data = df, color = '#800000')"
   ]
  },
  {
   "cell_type": "code",
   "execution_count": 29,
   "id": "5326b03c",
   "metadata": {},
   "outputs": [
    {
     "data": {
      "text/plain": [
       "<AxesSubplot:ylabel='Capital-loss'>"
      ]
     },
     "execution_count": 29,
     "metadata": {},
     "output_type": "execute_result"
    },
    {
     "data": {
      "image/png": "[encoded data removed]",
      "text/plain": [
       "<Figure size 432x288 with 1 Axes>"
      ]
     },
     "metadata": {
      "needs_background": "light"
     },
     "output_type": "display_data"
    }
   ],
   "source": [
    "sns.violinplot(y = 'Capital-loss', data = df)"
   ]
  },
  {
   "cell_type": "code",
   "execution_count": 24,
   "id": "4c76b39c",
   "metadata": {},
   "outputs": [
    {
     "data": {
      "image/png": "[encoded data removed]",
      "text/plain": [
       "<Figure size 432x288 with 1 Axes>"
      ]
     },
     "metadata": {
      "needs_background": "light"
     },
     "output_type": "display_data"
    }
   ],
   "source": [
    "# Visualizing after feature scaling\n",
    "\n",
    "df['Capital-loss'].value_counts().values\n",
    "df['Capital-loss'].value_counts().index.tolist()\n",
    "\n",
    "# Plotting the number of occurences of each age within the data\n",
    "plt.scatter(df['Capital-loss'].value_counts().index.tolist(), df['Capital-loss'].value_counts().values, color='black')\n",
    "plt.xlabel(\"Capital-loss\")\n",
    "plt.ylabel(\"Number of occurences\")\n",
    "plt.show()"
   ]
  },
  {
   "cell_type": "code",
   "execution_count": 8,
   "id": "28434df9",
   "metadata": {},
   "outputs": [],
   "source": [
    "# Split X and y\n",
    "X = df.iloc[:, [0,1,2, 3, 4, 5, 6,8,9,10,11,12,13,14,15,16,17,18,19,20]]\n",
    "y = df.iloc[:, [7]]\n",
    "\n",
    "# Split into train and test\n",
    "X_train, X_test, y_train, y_test = train_test_split(X, y.values, test_size=0.20)"
   ]
  },
  {
   "cell_type": "code",
   "execution_count": null,
   "id": "c430418b",
   "metadata": {},
   "outputs": [],
   "source": []
  },
  {
   "cell_type": "code",
   "execution_count": 10,
   "id": "ecb1d7c0",
   "metadata": {},
   "outputs": [
    {
     "data": {
      "text/plain": [
       "array([[24701,  2540],\n",
       "       [ 3801,  5135]])"
      ]
     },
     "execution_count": 10,
     "metadata": {},
     "output_type": "execute_result"
    }
   ],
   "source": [
    "#Import Random Forest Model\n",
    "from sklearn.ensemble import RandomForestClassifier\n",
    "#Create a Classifier\n",
    "model=RandomForestClassifier(n_estimators=100)\n",
    "\n",
    "\n",
    "# Use cross-validation\n",
    "from sklearn.model_selection import cross_val_predict\n",
    "# Use 3-fold cross-validation\n",
    "train_data_predictions = cross_val_predict(model, X_train, y_train.ravel(), cv=3)\n",
    "\n",
    "from sklearn.metrics import confusion_matrix\n",
    "# Show confusion matrix for our classifier’s predictions\n",
    "confusion_matrix(y_train, train_data_predictions)\n"
   ]
  },
  {
   "cell_type": "code",
   "execution_count": 11,
   "id": "11957c7b",
   "metadata": {},
   "outputs": [
    {
     "name": "stdout",
     "output_type": "stream",
     "text": [
      "Precision: 66.9%\n",
      "Recall: 57.5%\n"
     ]
    }
   ],
   "source": [
    "from sklearn.metrics import precision_score, recall_score\n",
    "\n",
    "# Calculate and print precision and recall as percentages\n",
    "print(\"Precision: \" + str(round(precision_score(y_train, train_data_predictions)*100,1))+\"%\")\n",
    "print(\"Recall: \" + str(round(recall_score(y_train, train_data_predictions)*100,1))+\"%\")"
   ]
  },
  {
   "cell_type": "code",
   "execution_count": 12,
   "id": "aa71739e",
   "metadata": {},
   "outputs": [],
   "source": [
    "# Use cross_val_predict to get our model's decision scores for each digit it has predicted\n",
    "train_data_decision_scores = cross_val_predict(sgd_clf_7, X_train, y_train.ravel(), cv=3)\n",
    "\n",
    "from sklearn.metrics import precision_recall_curve\n",
    "\n",
    "# Obtain possible combinations of precisions, recalls, and thresholds\n",
    "precisions, recalls, thresholds = precision_recall_curve(y_train, train_data_decision_scores)"
   ]
  },
  {
   "cell_type": "code",
   "execution_count": null,
   "id": "8b624eb1",
   "metadata": {},
   "outputs": [],
   "source": []
  },
  {
   "cell_type": "code",
   "execution_count": null,
   "id": "9488ec77",
   "metadata": {},
   "outputs": [],
   "source": []
  },
  {
   "cell_type": "code",
   "execution_count": 13,
   "id": "ee528cbe",
   "metadata": {},
   "outputs": [
    {
     "name": "stdout",
     "output_type": "stream",
     "text": [
      "F1 score: 61.8%\n"
     ]
    }
   ],
   "source": [
    "# Finding F1 score\n",
    "\n",
    "from sklearn.metrics import f1_score\n",
    "\n",
    "# Obtain and print F1 score as a percentage\n",
    "print(\"F1 score: \" + str(round(f1_score(y_train, train_data_predictions)*100,1))+\"%\")"
   ]
  },
  {
   "cell_type": "code",
   "execution_count": 26,
   "id": "b4192d3f",
   "metadata": {},
   "outputs": [
    {
     "name": "stderr",
     "output_type": "stream",
     "text": [
      "<ipython-input-26-089b9ba89319>:35: UserWarning: FixedFormatter should only be used together with FixedLocator\n",
      "  ax.set_xticklabels(['{:,.0%}'.format(x) for x in x_vals])\n",
      "<ipython-input-26-089b9ba89319>:36: UserWarning: FixedFormatter should only be used together with FixedLocator\n",
      "  ax.set_yticklabels(['{:,.0%}'.format(y) for y in y_vals])\n"
     ]
    },
    {
     "data": {
      "image/png": "[encoded data removed]",
      "text/plain": [
       "<Figure size 648x648 with 1 Axes>"
      ]
     },
     "metadata": {
      "needs_background": "light"
     },
     "output_type": "display_data"
    }
   ],
   "source": [
    "# Plot ROC curve\n",
    "\n",
    "from sklearn.metrics import roc_curve\n",
    "\n",
    "\n",
    "fig, ax = plt.subplots(figsize=(9,9))\n",
    "ax.grid(False)\n",
    "ax.tick_params(axis=\"x\", labelsize=14, pad=15)\n",
    "ax.tick_params(axis=\"y\", labelsize=14, pad=15)\n",
    "# Plot random guess classifier\n",
    "ax.plot([0,1], [0,1], \"k--\", alpha=0.5, label=\"Randomly guessing\") \n",
    "# Plot perfect classifier\n",
    "ax.plot([0.002,0.002], [0,0.998], \"green\", label=\"Perfect classifier\")\n",
    "ax.plot([0.001,1], [0.998,0.998], \"green\")\n",
    "\n",
    "# Obtain possible combinations of true/false positive rates and thresholds\n",
    "fpr, tpr, thresholds = roc_curve(y_train, train_data_decision_scores)\n",
    "\n",
    "# Plot our classifier\n",
    "ax.plot(fpr, tpr, label=\"Our SGD classifier\")\n",
    "\n",
    "# Set x- and y-axis limits\n",
    "ax.axis([-0.001,1.001,-0.001,1.001])\n",
    "\n",
    "# Add legend\n",
    "ax.legend(loc=\"center right\", fontsize=16)\n",
    "\n",
    "# Set labels\n",
    "ax.set_xlabel(\"False Positive rate\", labelpad=20, fontsize=20)\n",
    "ax.set_ylabel(\"True Positive rate\", labelpad=20, fontsize=20)\n",
    "\n",
    "# show percentages rather than decimals\n",
    "x_vals = ax.get_xticks()\n",
    "y_vals = ax.get_yticks()\n",
    "ax.set_xticklabels(['{:,.0%}'.format(x) for x in x_vals])\n",
    "ax.set_yticklabels(['{:,.0%}'.format(y) for y in y_vals])\n",
    "\n",
    "# Add title\n",
    "ax.text(x = 0.5, y = 1.05, s = \"ROC curve\", fontsize = 26, alpha = .75, ha=\"center\")\n",
    "\n",
    "plt.tight_layout()\n"
   ]
  },
  {
   "cell_type": "code",
   "execution_count": 15,
   "id": "a8d7aa61",
   "metadata": {},
   "outputs": [
    {
     "name": "stdout",
     "output_type": "stream",
     "text": [
      "Area Under Curve (AUC): 0.741\n"
     ]
    }
   ],
   "source": [
    "# Obtaining AUC value\n",
    "\n",
    "from sklearn.metrics import roc_auc_score\n",
    "\n",
    "# Obtain and print AUC\n",
    "print(\"Area Under Curve (AUC): \" + str(round(roc_auc_score(y_train, train_data_predictions),3)))\n",
    "\n"
   ]
  },
  {
   "cell_type": "code",
   "execution_count": 17,
   "id": "75db6325",
   "metadata": {},
   "outputs": [],
   "source": [
    "# With ['Age', 'Education', 'Occupation', 'Race', 'Sex', 'Hours-per-week', 'Native-country']:\n",
    "# Area Under Curve (AUC): 0.687\n",
    "# F1 score: 53.4%\n",
    "# Precision: 61.4%\n",
    "# Recall: 47.2%\n",
    "# Confusion matrix:\n",
    "# array([[24582,  2656],\n",
    "#        [ 4719,  4220]])"
   ]
  },
  {
   "cell_type": "code",
   "execution_count": 18,
   "id": "afc103a5",
   "metadata": {},
   "outputs": [],
   "source": [
    "# With new features determined from correlation heatmap (NO FEATURE SCALING)\n",
    "# Area Under Curve (AUC): 0.765\n",
    "# F1 score: 65.6%\n",
    "# Precision: 70.2%\n",
    "# Recall: 61.5%\n",
    "# Confusion matrix:\n",
    "# array([[24849,  2348],\n",
    "#        [ 3454,  5526]])"
   ]
  },
  {
   "cell_type": "code",
   "execution_count": 19,
   "id": "703a19af",
   "metadata": {},
   "outputs": [],
   "source": [
    "# With new features determined from correlation heatmap (MINMAX SCALING)\n",
    "# Area Under Curve (AUC): 0.762\n",
    "# F1 score: 65.2%\n",
    "# Precision: 69.8%\n",
    "# Recall: 61.1%\n",
    "# Confusion matrix:\n",
    "# array([[24782,  2382],\n",
    "#        [ 3504,  5509]])\n",
    "\n",
    "# Therefore, performed worse than without feature scaling"
   ]
  },
  {
   "cell_type": "code",
   "execution_count": 20,
   "id": "5ca3a185",
   "metadata": {},
   "outputs": [],
   "source": [
    "# With new features determined from correlation heatmap (Standard SCALING)\n",
    "# Area Under Curve (AUC): 0.769\n",
    "# F1 score: 66.2%\n",
    "# Precision: 70.5%\n",
    "# Recall: 62.4%\n",
    "# Confusion matrix:\n",
    "# array([[24864,  2340],\n",
    "#        [ 3377,  5596]])\n",
    "\n",
    "# Therefore, performed better than without feature scaling"
   ]
  },
  {
   "cell_type": "code",
   "execution_count": 21,
   "id": "5d771528",
   "metadata": {},
   "outputs": [],
   "source": [
    "# With new features determined from correlation heatmap (MaxAbs SCALING)\n",
    "# Area Under Curve (AUC): 0.764\n",
    "# F1 score: 65.5%\n",
    "# Precision: 69.6%\n",
    "# Recall: 61.8%\n",
    "# Confusion matrix:\n",
    "# array([[24731,  2434],\n",
    "#        [ 3444,  5568]])\n",
    "\n",
    "# Therefore, performed worse than Standard scaling"
   ]
  },
  {
   "cell_type": "code",
   "execution_count": 16,
   "id": "8ae30f65",
   "metadata": {},
   "outputs": [],
   "source": [
    "# Robust not as well\n",
    "# Quantile transformer not as well\n",
    "# Normalizer not as well\n",
    "\n",
    "\n",
    "\n",
    "\n",
    "# https://www.analyticsvidhya.com/blog/2020/07/types-of-feature-transformation-and-scaling/"
   ]
  },
  {
   "cell_type": "code",
   "execution_count": null,
   "id": "78b5e1fb",
   "metadata": {},
   "outputs": [],
   "source": [
    "# Therefore, standard scaling performs best"
   ]
  },
  {
   "cell_type": "code",
   "execution_count": null,
   "id": "d1c2d867",
   "metadata": {},
   "outputs": [],
   "source": []
  },
  {
   "cell_type": "code",
   "execution_count": null,
   "id": "aef68792",
   "metadata": {},
   "outputs": [],
   "source": []
  },
  {
   "cell_type": "code",
   "execution_count": null,
   "id": "c8c78675",
   "metadata": {},
   "outputs": [],
   "source": []
  },
  {
   "cell_type": "code",
   "execution_count": null,
   "id": "c3d36b3a",
   "metadata": {},
   "outputs": [],
   "source": []
  },
  {
   "cell_type": "code",
   "execution_count": null,
   "id": "84294025",
   "metadata": {},
   "outputs": [],
   "source": []
  },
  {
   "cell_type": "code",
   "execution_count": null,
   "id": "0207163d",
   "metadata": {},
   "outputs": [],
   "source": []
  }
 ],
 "metadata": {
  "kernelspec": {
   "display_name": "Python 3.8.8 ('base')",
   "language": "python",
   "name": "python3"
  },
  "language_info": {
   "codemirror_mode": {
    "name": "ipython",
    "version": 3
   },
   "file_extension": ".py",
   "mimetype": "text/x-python",
   "name": "python",
   "nbconvert_exporter": "python",
   "pygments_lexer": "ipython3",
   "version": "3.8.8"
  },
  "vscode": {
   "interpreter": {
    "hash": "739c75dd1f9e7d5b3a5dc24350c362cc887781566ad509fab73a87aa6b79af33"
   }
  }
 },
 "nbformat": 4,
 "nbformat_minor": 5
}
